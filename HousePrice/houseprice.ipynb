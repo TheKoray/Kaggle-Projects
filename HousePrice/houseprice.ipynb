{
 "cells": [
  {
   "cell_type": "code",
   "execution_count": 1,
   "id": "5a98c016",
   "metadata": {
    "_cell_guid": "b1076dfc-b9ad-4769-8c92-a6c4dae69d19",
    "_uuid": "8f2839f25d086af736a60e9eeb907d3b93b6e0e5",
    "execution": {
     "iopub.execute_input": "2021-11-13T13:44:00.579794Z",
     "iopub.status.busy": "2021-11-13T13:44:00.578225Z",
     "iopub.status.idle": "2021-11-13T13:44:00.590815Z",
     "shell.execute_reply": "2021-11-13T13:44:00.591424Z",
     "shell.execute_reply.started": "2021-11-13T13:41:15.194670Z"
    },
    "papermill": {
     "duration": 0.154463,
     "end_time": "2021-11-13T13:44:00.591702",
     "exception": false,
     "start_time": "2021-11-13T13:44:00.437239",
     "status": "completed"
    },
    "tags": []
   },
   "outputs": [
    {
     "name": "stdout",
     "output_type": "stream",
     "text": [
      "/kaggle/input/house-prices-advanced-regression-techniques/sample_submission.csv\n",
      "/kaggle/input/house-prices-advanced-regression-techniques/data_description.txt\n",
      "/kaggle/input/house-prices-advanced-regression-techniques/train.csv\n",
      "/kaggle/input/house-prices-advanced-regression-techniques/test.csv\n"
     ]
    }
   ],
   "source": [
    "# This Python 3 environment comes with many helpful analytics libraries installed\n",
    "# It is defined by the kaggle/python Docker image: https://github.com/kaggle/docker-python\n",
    "# For example, here's several helpful packages to load\n",
    "\n",
    "import numpy as np # linear algebra\n",
    "import pandas as pd # data processing, CSV file I/O (e.g. pd.read_csv)\n",
    "\n",
    "# Input data files are available in the read-only \"../input/\" directory\n",
    "# For example, running this (by clicking run or pressing Shift+Enter) will list all files under the input directory\n",
    "\n",
    "import os\n",
    "for dirname, _, filenames in os.walk('/kaggle/input'):\n",
    "    for filename in filenames:\n",
    "        print(os.path.join(dirname, filename))\n",
    "\n",
    "# You can write up to 20GB to the current directory (/kaggle/working/) that gets preserved as output when you create a version using \"Save & Run All\" \n",
    "# You can also write temporary files to /kaggle/temp/, but they won't be saved outside of the current session"
   ]
  },
  {
   "cell_type": "code",
   "execution_count": 2,
   "id": "f5e5f6a7",
   "metadata": {
    "execution": {
     "iopub.execute_input": "2021-11-13T13:44:00.864896Z",
     "iopub.status.busy": "2021-11-13T13:44:00.864052Z",
     "iopub.status.idle": "2021-11-13T13:44:00.866620Z",
     "shell.execute_reply": "2021-11-13T13:44:00.866176Z",
     "shell.execute_reply.started": "2021-11-13T13:41:15.207008Z"
    },
    "papermill": {
     "duration": 0.14083,
     "end_time": "2021-11-13T13:44:00.866736",
     "exception": false,
     "start_time": "2021-11-13T13:44:00.725906",
     "status": "completed"
    },
    "tags": []
   },
   "outputs": [],
   "source": [
    "import warnings \n",
    "warnings.filterwarnings('ignore')"
   ]
  },
  {
   "cell_type": "code",
   "execution_count": 3,
   "id": "d34231c3",
   "metadata": {
    "execution": {
     "iopub.execute_input": "2021-11-13T13:44:01.169573Z",
     "iopub.status.busy": "2021-11-13T13:44:01.169028Z",
     "iopub.status.idle": "2021-11-13T13:44:01.331897Z",
     "shell.execute_reply": "2021-11-13T13:44:01.332389Z",
     "shell.execute_reply.started": "2021-11-13T13:41:15.214353Z"
    },
    "papermill": {
     "duration": 0.334496,
     "end_time": "2021-11-13T13:44:01.332562",
     "exception": false,
     "start_time": "2021-11-13T13:44:00.998066",
     "status": "completed"
    },
    "tags": []
   },
   "outputs": [],
   "source": [
    "train = pd.read_csv(\"/kaggle/input/house-prices-advanced-regression-techniques/train.csv\")\n",
    "\n",
    "test = pd.read_csv(\"/kaggle/input/house-prices-advanced-regression-techniques/test.csv\")"
   ]
  },
  {
   "cell_type": "code",
   "execution_count": 4,
   "id": "44a2c123",
   "metadata": {
    "execution": {
     "iopub.execute_input": "2021-11-13T13:44:01.666826Z",
     "iopub.status.busy": "2021-11-13T13:44:01.665980Z",
     "iopub.status.idle": "2021-11-13T13:44:01.718089Z",
     "shell.execute_reply": "2021-11-13T13:44:01.718521Z",
     "shell.execute_reply.started": "2021-11-13T13:41:15.270047Z"
    },
    "papermill": {
     "duration": 0.230497,
     "end_time": "2021-11-13T13:44:01.718665",
     "exception": false,
     "start_time": "2021-11-13T13:44:01.488168",
     "status": "completed"
    },
    "tags": []
   },
   "outputs": [
    {
     "data": {
      "text/html": [
       "<div>\n",
       "<style scoped>\n",
       "    .dataframe tbody tr th:only-of-type {\n",
       "        vertical-align: middle;\n",
       "    }\n",
       "\n",
       "    .dataframe tbody tr th {\n",
       "        vertical-align: top;\n",
       "    }\n",
       "\n",
       "    .dataframe thead th {\n",
       "        text-align: right;\n",
       "    }\n",
       "</style>\n",
       "<table border=\"1\" class=\"dataframe\">\n",
       "  <thead>\n",
       "    <tr style=\"text-align: right;\">\n",
       "      <th></th>\n",
       "      <th>Id</th>\n",
       "      <th>MSSubClass</th>\n",
       "      <th>MSZoning</th>\n",
       "      <th>LotFrontage</th>\n",
       "      <th>LotArea</th>\n",
       "      <th>Street</th>\n",
       "      <th>Alley</th>\n",
       "      <th>LotShape</th>\n",
       "      <th>LandContour</th>\n",
       "      <th>Utilities</th>\n",
       "      <th>...</th>\n",
       "      <th>PoolArea</th>\n",
       "      <th>PoolQC</th>\n",
       "      <th>Fence</th>\n",
       "      <th>MiscFeature</th>\n",
       "      <th>MiscVal</th>\n",
       "      <th>MoSold</th>\n",
       "      <th>YrSold</th>\n",
       "      <th>SaleType</th>\n",
       "      <th>SaleCondition</th>\n",
       "      <th>SalePrice</th>\n",
       "    </tr>\n",
       "  </thead>\n",
       "  <tbody>\n",
       "    <tr>\n",
       "      <th>0</th>\n",
       "      <td>1</td>\n",
       "      <td>60</td>\n",
       "      <td>RL</td>\n",
       "      <td>65.0</td>\n",
       "      <td>8450</td>\n",
       "      <td>Pave</td>\n",
       "      <td>NaN</td>\n",
       "      <td>Reg</td>\n",
       "      <td>Lvl</td>\n",
       "      <td>AllPub</td>\n",
       "      <td>...</td>\n",
       "      <td>0</td>\n",
       "      <td>NaN</td>\n",
       "      <td>NaN</td>\n",
       "      <td>NaN</td>\n",
       "      <td>0</td>\n",
       "      <td>2</td>\n",
       "      <td>2008</td>\n",
       "      <td>WD</td>\n",
       "      <td>Normal</td>\n",
       "      <td>208500.0</td>\n",
       "    </tr>\n",
       "    <tr>\n",
       "      <th>1</th>\n",
       "      <td>2</td>\n",
       "      <td>20</td>\n",
       "      <td>RL</td>\n",
       "      <td>80.0</td>\n",
       "      <td>9600</td>\n",
       "      <td>Pave</td>\n",
       "      <td>NaN</td>\n",
       "      <td>Reg</td>\n",
       "      <td>Lvl</td>\n",
       "      <td>AllPub</td>\n",
       "      <td>...</td>\n",
       "      <td>0</td>\n",
       "      <td>NaN</td>\n",
       "      <td>NaN</td>\n",
       "      <td>NaN</td>\n",
       "      <td>0</td>\n",
       "      <td>5</td>\n",
       "      <td>2007</td>\n",
       "      <td>WD</td>\n",
       "      <td>Normal</td>\n",
       "      <td>181500.0</td>\n",
       "    </tr>\n",
       "    <tr>\n",
       "      <th>2</th>\n",
       "      <td>3</td>\n",
       "      <td>60</td>\n",
       "      <td>RL</td>\n",
       "      <td>68.0</td>\n",
       "      <td>11250</td>\n",
       "      <td>Pave</td>\n",
       "      <td>NaN</td>\n",
       "      <td>IR1</td>\n",
       "      <td>Lvl</td>\n",
       "      <td>AllPub</td>\n",
       "      <td>...</td>\n",
       "      <td>0</td>\n",
       "      <td>NaN</td>\n",
       "      <td>NaN</td>\n",
       "      <td>NaN</td>\n",
       "      <td>0</td>\n",
       "      <td>9</td>\n",
       "      <td>2008</td>\n",
       "      <td>WD</td>\n",
       "      <td>Normal</td>\n",
       "      <td>223500.0</td>\n",
       "    </tr>\n",
       "    <tr>\n",
       "      <th>3</th>\n",
       "      <td>4</td>\n",
       "      <td>70</td>\n",
       "      <td>RL</td>\n",
       "      <td>60.0</td>\n",
       "      <td>9550</td>\n",
       "      <td>Pave</td>\n",
       "      <td>NaN</td>\n",
       "      <td>IR1</td>\n",
       "      <td>Lvl</td>\n",
       "      <td>AllPub</td>\n",
       "      <td>...</td>\n",
       "      <td>0</td>\n",
       "      <td>NaN</td>\n",
       "      <td>NaN</td>\n",
       "      <td>NaN</td>\n",
       "      <td>0</td>\n",
       "      <td>2</td>\n",
       "      <td>2006</td>\n",
       "      <td>WD</td>\n",
       "      <td>Abnorml</td>\n",
       "      <td>140000.0</td>\n",
       "    </tr>\n",
       "    <tr>\n",
       "      <th>4</th>\n",
       "      <td>5</td>\n",
       "      <td>60</td>\n",
       "      <td>RL</td>\n",
       "      <td>84.0</td>\n",
       "      <td>14260</td>\n",
       "      <td>Pave</td>\n",
       "      <td>NaN</td>\n",
       "      <td>IR1</td>\n",
       "      <td>Lvl</td>\n",
       "      <td>AllPub</td>\n",
       "      <td>...</td>\n",
       "      <td>0</td>\n",
       "      <td>NaN</td>\n",
       "      <td>NaN</td>\n",
       "      <td>NaN</td>\n",
       "      <td>0</td>\n",
       "      <td>12</td>\n",
       "      <td>2008</td>\n",
       "      <td>WD</td>\n",
       "      <td>Normal</td>\n",
       "      <td>250000.0</td>\n",
       "    </tr>\n",
       "  </tbody>\n",
       "</table>\n",
       "<p>5 rows × 81 columns</p>\n",
       "</div>"
      ],
      "text/plain": [
       "   Id  MSSubClass MSZoning  LotFrontage  LotArea Street Alley LotShape  \\\n",
       "0   1          60       RL         65.0     8450   Pave   NaN      Reg   \n",
       "1   2          20       RL         80.0     9600   Pave   NaN      Reg   \n",
       "2   3          60       RL         68.0    11250   Pave   NaN      IR1   \n",
       "3   4          70       RL         60.0     9550   Pave   NaN      IR1   \n",
       "4   5          60       RL         84.0    14260   Pave   NaN      IR1   \n",
       "\n",
       "  LandContour Utilities  ... PoolArea PoolQC Fence MiscFeature MiscVal MoSold  \\\n",
       "0         Lvl    AllPub  ...        0    NaN   NaN         NaN       0      2   \n",
       "1         Lvl    AllPub  ...        0    NaN   NaN         NaN       0      5   \n",
       "2         Lvl    AllPub  ...        0    NaN   NaN         NaN       0      9   \n",
       "3         Lvl    AllPub  ...        0    NaN   NaN         NaN       0      2   \n",
       "4         Lvl    AllPub  ...        0    NaN   NaN         NaN       0     12   \n",
       "\n",
       "  YrSold  SaleType  SaleCondition  SalePrice  \n",
       "0   2008        WD         Normal   208500.0  \n",
       "1   2007        WD         Normal   181500.0  \n",
       "2   2008        WD         Normal   223500.0  \n",
       "3   2006        WD        Abnorml   140000.0  \n",
       "4   2008        WD         Normal   250000.0  \n",
       "\n",
       "[5 rows x 81 columns]"
      ]
     },
     "execution_count": 4,
     "metadata": {},
     "output_type": "execute_result"
    }
   ],
   "source": [
    "data = train.copy()\n",
    "\n",
    "data = data.append(test)\n",
    "\n",
    "data.head()"
   ]
  },
  {
   "cell_type": "markdown",
   "id": "f977b810",
   "metadata": {
    "papermill": {
     "duration": 0.132793,
     "end_time": "2021-11-13T13:44:01.992467",
     "exception": false,
     "start_time": "2021-11-13T13:44:01.859674",
     "status": "completed"
    },
    "tags": []
   },
   "source": [
    "- **Kategorik değişkenkeri** ve bizim belirlediğimiz sayının altında benzersiz veriye sahip değişkenleri alalım.\n",
    "\n",
    "- **Ordinal Değişkenler** ; Ordinal veriler de yine kategorik veri türündendir. Fakat değerleri arasında sıralı bir ilişki bulunmaktadır.\n",
    "\n",
    "- Bu değişkenleri veren bir fonksiyon yazalım."
   ]
  },
  {
   "cell_type": "code",
   "execution_count": 5,
   "id": "ba2e2711",
   "metadata": {
    "execution": {
     "iopub.execute_input": "2021-11-13T13:44:02.278529Z",
     "iopub.status.busy": "2021-11-13T13:44:02.276557Z",
     "iopub.status.idle": "2021-11-13T13:44:02.321629Z",
     "shell.execute_reply": "2021-11-13T13:44:02.322294Z",
     "shell.execute_reply.started": "2021-11-13T13:41:15.315200Z"
    },
    "papermill": {
     "duration": 0.188706,
     "end_time": "2021-11-13T13:44:02.322514",
     "exception": false,
     "start_time": "2021-11-13T13:44:02.133808",
     "status": "completed"
    },
    "tags": []
   },
   "outputs": [
    {
     "name": "stdout",
     "output_type": "stream",
     "text": [
      "Date Columns : 0\n",
      "Cat Columns : 50\n",
      "Cat But Car : 3\n",
      "Num But Cat : 10\n",
      "Num Cols : 28\n"
     ]
    }
   ],
   "source": [
    "def Feature_Names(df,cat_num, car_num,show = False):\n",
    "    \n",
    "    #Date cols\n",
    "    date_cols = [cols for cols in df.columns if df[cols].dtypes == 'datetime64[ns]']\n",
    "    \n",
    "    #Kategorik Değişkenler\n",
    "    cat_cols = [cols for cols in df.columns if df[cols].dtypes == 'object']\n",
    "       \n",
    "    #Numerik Ama Kategorik Değişkenler    \n",
    "    num_but_cat = [cols for cols in df.columns if df[cols].dtypes != 'object'\n",
    "                  and df[cols].nunique() < int(cat_num) and df[cols].dtypes != 'datetime64[ns]'] \n",
    "        \n",
    "    #Kategorik Ama Kardinal\n",
    "    cat_but_car = [cols for cols in df.columns if df[cols].dtypes == 'object' \n",
    "                  and df[cols].nunique() > int(car_num)]\n",
    "    \n",
    "    cat_cols = cat_cols + num_but_cat \n",
    "    \n",
    "    cat_cols = [cols for cols in cat_cols if cols  not in cat_but_car]\n",
    "        \n",
    "    num_cols = [cols for cols in df.columns if df[cols].dtypes != 'object'\n",
    "               and cols not in num_but_cat]\n",
    "    \n",
    "    print(f\"Date Columns : {len(date_cols)}\")\n",
    "    print(f\"Cat Columns : {len(cat_cols)}\")\n",
    "    print(f\"Cat But Car : {len(cat_but_car)}\")\n",
    "    print(f\"Num But Cat : {len(num_but_cat)}\")\n",
    "    print(f\"Num Cols : {len(num_cols)}\")\n",
    "        \n",
    "    if show:\n",
    "        \n",
    "        return date_cols,cat_cols,cat_but_car,num_cols,num_but_cat\n",
    "    else:\n",
    "        \n",
    "        cat_cols,cat_but_car,num_cols,num_but_cat\n",
    "    \n",
    "Feature_Names(data,cat_num=10, car_num = 10)    "
   ]
  },
  {
   "cell_type": "markdown",
   "id": "bb3c9260",
   "metadata": {
    "papermill": {
     "duration": 0.135689,
     "end_time": "2021-11-13T13:44:02.592492",
     "exception": false,
     "start_time": "2021-11-13T13:44:02.456803",
     "status": "completed"
    },
    "tags": []
   },
   "source": [
    "# Kategorik Değişkenler "
   ]
  },
  {
   "cell_type": "code",
   "execution_count": 6,
   "id": "fe9ba3f9",
   "metadata": {
    "execution": {
     "iopub.execute_input": "2021-11-13T13:44:02.865369Z",
     "iopub.status.busy": "2021-11-13T13:44:02.864531Z",
     "iopub.status.idle": "2021-11-13T13:44:03.733861Z",
     "shell.execute_reply": "2021-11-13T13:44:03.733215Z",
     "shell.execute_reply.started": "2021-11-13T13:41:15.367362Z"
    },
    "papermill": {
     "duration": 1.006783,
     "end_time": "2021-11-13T13:44:03.734020",
     "exception": false,
     "start_time": "2021-11-13T13:44:02.727237",
     "status": "completed"
    },
    "tags": []
   },
   "outputs": [],
   "source": [
    "import seaborn as sns\n",
    "import matplotlib.pyplot as plt"
   ]
  },
  {
   "cell_type": "markdown",
   "id": "fadb530b",
   "metadata": {
    "papermill": {
     "duration": 0.132089,
     "end_time": "2021-11-13T13:44:03.999081",
     "exception": false,
     "start_time": "2021-11-13T13:44:03.866992",
     "status": "completed"
    },
    "tags": []
   },
   "source": [
    "- Kategorik Değişkenlerimizi alalım "
   ]
  },
  {
   "cell_type": "code",
   "execution_count": 7,
   "id": "f3bd823c",
   "metadata": {
    "execution": {
     "iopub.execute_input": "2021-11-13T13:44:04.313113Z",
     "iopub.status.busy": "2021-11-13T13:44:04.312506Z",
     "iopub.status.idle": "2021-11-13T13:44:04.536922Z",
     "shell.execute_reply": "2021-11-13T13:44:04.535726Z",
     "shell.execute_reply.started": "2021-11-13T13:41:15.374154Z"
    },
    "papermill": {
     "duration": 0.367624,
     "end_time": "2021-11-13T13:44:04.537100",
     "exception": false,
     "start_time": "2021-11-13T13:44:04.169476",
     "status": "completed"
    },
    "tags": []
   },
   "outputs": [
    {
     "name": "stdout",
     "output_type": "stream",
     "text": [
      "#######################################################\n",
      "         MSZoning      Oran\n",
      "RL           2265  0.775951\n",
      "RM            460  0.157588\n",
      "FV            139  0.047619\n",
      "RH             26  0.008907\n",
      "C (all)        25  0.008565\n",
      "\n",
      "#######################################################\n",
      "      Street      Oran\n",
      "Pave    2907  0.995889\n",
      "Grvl      12  0.004111\n",
      "\n",
      "#######################################################\n",
      "      Alley      Oran\n",
      "Grvl    120  0.041110\n",
      "Pave     78  0.026721\n",
      "\n",
      "#######################################################\n",
      "     LotShape      Oran\n",
      "Reg      1859  0.636862\n",
      "IR1       968  0.331620\n",
      "IR2        76  0.026036\n",
      "IR3        16  0.005481\n",
      "\n",
      "#######################################################\n",
      "     LandContour      Oran\n",
      "Lvl         2622  0.898253\n",
      "HLS          120  0.041110\n",
      "Bnk          117  0.040082\n",
      "Low           60  0.020555\n",
      "\n",
      "#######################################################\n",
      "        Utilities      Oran\n",
      "AllPub       2916  0.998972\n",
      "NoSeWa          1  0.000343\n",
      "\n",
      "#######################################################\n",
      "         LotConfig      Oran\n",
      "Inside        2133  0.730730\n",
      "Corner         511  0.175060\n",
      "CulDSac        176  0.060295\n",
      "FR2             85  0.029120\n",
      "FR3             14  0.004796\n",
      "\n",
      "#######################################################\n",
      "     LandSlope      Oran\n",
      "Gtl       2778  0.951696\n",
      "Mod        125  0.042823\n",
      "Sev         16  0.005481\n",
      "\n",
      "#######################################################\n",
      "         Neighborhood      Oran\n",
      "NAmes             443  0.151764\n",
      "CollgCr           267  0.091470\n",
      "OldTown           239  0.081877\n",
      "Edwards           194  0.066461\n",
      "Somerst           182  0.062350\n",
      "NridgHt           166  0.056869\n",
      "Gilbert           165  0.056526\n",
      "Sawyer            151  0.051730\n",
      "NWAmes            131  0.044878\n",
      "SawyerW           125  0.042823\n",
      "Mitchel           114  0.039054\n",
      "BrkSide           108  0.036999\n",
      "Crawfor           103  0.035286\n",
      "IDOTRR             93  0.031860\n",
      "Timber             72  0.024666\n",
      "NoRidge            71  0.024323\n",
      "StoneBr            51  0.017472\n",
      "SWISU              48  0.016444\n",
      "ClearCr            44  0.015074\n",
      "MeadowV            37  0.012676\n",
      "BrDale             30  0.010277\n",
      "Blmngtn            28  0.009592\n",
      "Veenker            24  0.008222\n",
      "NPkVill            23  0.007879\n",
      "Blueste            10  0.003426\n",
      "\n",
      "#######################################################\n",
      "        Condition1      Oran\n",
      "Norm          2511  0.860226\n",
      "Feedr          164  0.056184\n",
      "Artery          92  0.031518\n",
      "RRAn            50  0.017129\n",
      "PosN            39  0.013361\n",
      "RRAe            28  0.009592\n",
      "PosA            20  0.006852\n",
      "RRNn             9  0.003083\n",
      "RRNe             6  0.002055\n",
      "\n",
      "#######################################################\n",
      "        Condition2      Oran\n",
      "Norm          2889  0.989723\n",
      "Feedr           13  0.004454\n",
      "Artery           5  0.001713\n",
      "PosA             4  0.001370\n",
      "PosN             4  0.001370\n",
      "RRNn             2  0.000685\n",
      "RRAe             1  0.000343\n",
      "RRAn             1  0.000343\n",
      "\n",
      "#######################################################\n",
      "        BldgType      Oran\n",
      "1Fam        2425  0.830764\n",
      "TwnhsE       227  0.077766\n",
      "Duplex       109  0.037342\n",
      "Twnhs         96  0.032888\n",
      "2fmCon        62  0.021240\n",
      "\n",
      "#######################################################\n",
      "        HouseStyle      Oran\n",
      "1Story        1471  0.503940\n",
      "2Story         872  0.298732\n",
      "1.5Fin         314  0.107571\n",
      "SLvl           128  0.043851\n",
      "SFoyer          83  0.028434\n",
      "2.5Unf          24  0.008222\n",
      "1.5Unf          19  0.006509\n",
      "2.5Fin           8  0.002741\n",
      "\n",
      "#######################################################\n",
      "         RoofStyle      Oran\n",
      "Gable         2310  0.791367\n",
      "Hip            551  0.188763\n",
      "Gambrel         22  0.007537\n",
      "Flat            20  0.006852\n",
      "Mansard         11  0.003768\n",
      "Shed             5  0.001713\n",
      "\n",
      "#######################################################\n",
      "         RoofMatl      Oran\n",
      "CompShg      2876  0.985269\n",
      "Tar&Grv        23  0.007879\n",
      "WdShake         9  0.003083\n",
      "WdShngl         7  0.002398\n",
      "ClyTile         1  0.000343\n",
      "Roll            1  0.000343\n",
      "Membran         1  0.000343\n",
      "Metal           1  0.000343\n",
      "\n",
      "#######################################################\n",
      "         Exterior1st      Oran\n",
      "VinylSd         1025  0.351148\n",
      "MetalSd          450  0.154162\n",
      "HdBoard          442  0.151422\n",
      "Wd Sdng          411  0.140802\n",
      "Plywood          221  0.075711\n",
      "CemntBd          126  0.043165\n",
      "BrkFace           87  0.029805\n",
      "WdShing           56  0.019185\n",
      "AsbShng           44  0.015074\n",
      "Stucco            43  0.014731\n",
      "BrkComm            6  0.002055\n",
      "AsphShn            2  0.000685\n",
      "Stone              2  0.000685\n",
      "CBlock             2  0.000685\n",
      "ImStucc            1  0.000343\n",
      "\n",
      "#######################################################\n",
      "         Exterior2nd      Oran\n",
      "VinylSd         1014  0.347379\n",
      "MetalSd          447  0.153135\n",
      "HdBoard          406  0.139089\n",
      "Wd Sdng          391  0.133950\n",
      "Plywood          270  0.092497\n",
      "CmentBd          126  0.043165\n",
      "Wd Shng           81  0.027749\n",
      "BrkFace           47  0.016101\n",
      "Stucco            47  0.016101\n",
      "AsbShng           38  0.013018\n",
      "Brk Cmn           22  0.007537\n",
      "ImStucc           15  0.005139\n",
      "Stone              6  0.002055\n",
      "AsphShn            4  0.001370\n",
      "CBlock             3  0.001028\n",
      "Other              1  0.000343\n",
      "\n",
      "#######################################################\n",
      "         MasVnrType      Oran\n",
      "None           1742  0.596780\n",
      "BrkFace         879  0.301131\n",
      "Stone           249  0.085303\n",
      "BrkCmn           25  0.008565\n",
      "\n",
      "#######################################################\n",
      "    ExterQual      Oran\n",
      "TA       1798  0.615964\n",
      "Gd        979  0.335389\n",
      "Ex        107  0.036656\n",
      "Fa         35  0.011990\n",
      "\n",
      "#######################################################\n",
      "    ExterCond      Oran\n",
      "TA       2538  0.869476\n",
      "Gd        299  0.102432\n",
      "Fa         67  0.022953\n",
      "Ex         12  0.004111\n",
      "Po          3  0.001028\n",
      "\n",
      "#######################################################\n",
      "        Foundation      Oran\n",
      "PConc         1308  0.448099\n",
      "CBlock        1235  0.423090\n",
      "BrkTil         311  0.106543\n",
      "Slab            49  0.016787\n",
      "Stone           11  0.003768\n",
      "Wood             5  0.001713\n",
      "\n",
      "#######################################################\n",
      "    BsmtQual      Oran\n",
      "TA      1283  0.439534\n",
      "Gd      1209  0.414183\n",
      "Ex       258  0.088386\n",
      "Fa        88  0.030147\n",
      "\n",
      "#######################################################\n",
      "    BsmtCond      Oran\n",
      "TA      2606  0.892771\n",
      "Gd       122  0.041795\n",
      "Fa       104  0.035629\n",
      "Po         5  0.001713\n",
      "\n",
      "#######################################################\n",
      "    BsmtExposure      Oran\n",
      "No          1904  0.652278\n",
      "Av           418  0.143200\n",
      "Gd           276  0.094553\n",
      "Mn           239  0.081877\n",
      "\n",
      "#######################################################\n",
      "     BsmtFinType1      Oran\n",
      "Unf           851  0.291538\n",
      "GLQ           849  0.290853\n",
      "ALQ           429  0.146968\n",
      "Rec           288  0.098664\n",
      "BLQ           269  0.092155\n",
      "LwQ           154  0.052758\n",
      "\n",
      "#######################################################\n",
      "     BsmtFinType2      Oran\n",
      "Unf          2493  0.854060\n",
      "Rec           105  0.035971\n",
      "LwQ            87  0.029805\n",
      "BLQ            68  0.023296\n",
      "ALQ            52  0.017814\n",
      "GLQ            34  0.011648\n",
      "\n",
      "#######################################################\n",
      "       Heating      Oran\n",
      "GasA      2874  0.984584\n",
      "GasW        27  0.009250\n",
      "Grav         9  0.003083\n",
      "Wall         6  0.002055\n",
      "OthW         2  0.000685\n",
      "Floor        1  0.000343\n",
      "\n",
      "#######################################################\n",
      "    HeatingQC      Oran\n",
      "Ex       1493  0.511477\n",
      "TA        857  0.293594\n",
      "Gd        474  0.162384\n",
      "Fa         92  0.031518\n",
      "Po          3  0.001028\n",
      "\n",
      "#######################################################\n",
      "   CentralAir      Oran\n",
      "Y        2723  0.932854\n",
      "N         196  0.067146\n",
      "\n",
      "#######################################################\n",
      "       Electrical      Oran\n",
      "SBrkr        2671  0.915039\n",
      "FuseA         188  0.064406\n",
      "FuseF          50  0.017129\n",
      "FuseP           8  0.002741\n",
      "Mix             1  0.000343\n",
      "\n",
      "#######################################################\n",
      "    KitchenQual      Oran\n",
      "TA         1492  0.511134\n",
      "Gd         1151  0.394313\n",
      "Ex          205  0.070230\n",
      "Fa           70  0.023981\n",
      "\n",
      "#######################################################\n",
      "      Functional      Oran\n",
      "Typ         2717  0.930798\n",
      "Min2          70  0.023981\n",
      "Min1          65  0.022268\n",
      "Mod           35  0.011990\n",
      "Maj1          19  0.006509\n",
      "Maj2           9  0.003083\n",
      "Sev            2  0.000685\n",
      "\n",
      "#######################################################\n",
      "    FireplaceQu      Oran\n",
      "Gd          744  0.254882\n",
      "TA          592  0.202809\n",
      "Fa           74  0.025351\n",
      "Po           46  0.015759\n",
      "Ex           43  0.014731\n",
      "\n",
      "#######################################################\n",
      "         GarageType      Oran\n",
      "Attchd         1723  0.590271\n",
      "Detchd          779  0.266872\n",
      "BuiltIn         186  0.063720\n",
      "Basment          36  0.012333\n",
      "2Types           23  0.007879\n",
      "CarPort          15  0.005139\n",
      "\n",
      "#######################################################\n",
      "     GarageFinish      Oran\n",
      "Unf          1230  0.421377\n",
      "RFn           811  0.277835\n",
      "Fin           719  0.246317\n",
      "\n",
      "#######################################################\n",
      "    GarageQual      Oran\n",
      "TA        2604  0.892086\n",
      "Fa         124  0.042480\n",
      "Gd          24  0.008222\n",
      "Po           5  0.001713\n",
      "Ex           3  0.001028\n",
      "\n",
      "#######################################################\n",
      "    GarageCond      Oran\n",
      "TA        2654  0.909215\n",
      "Fa          74  0.025351\n",
      "Gd          15  0.005139\n",
      "Po          14  0.004796\n",
      "Ex           3  0.001028\n",
      "\n",
      "#######################################################\n",
      "   PavedDrive      Oran\n",
      "Y        2641  0.904762\n",
      "N         216  0.073998\n",
      "P          62  0.021240\n",
      "\n",
      "#######################################################\n",
      "    PoolQC      Oran\n",
      "Gd       4  0.001370\n",
      "Ex       4  0.001370\n",
      "Fa       2  0.000685\n",
      "\n",
      "#######################################################\n",
      "       Fence      Oran\n",
      "MnPrv    329  0.112710\n",
      "GdPrv    118  0.040425\n",
      "GdWo     112  0.038369\n",
      "MnWw      12  0.004111\n",
      "\n",
      "#######################################################\n",
      "      MiscFeature      Oran\n",
      "Shed           95  0.032545\n",
      "Gar2            5  0.001713\n",
      "Othr            4  0.001370\n",
      "TenC            1  0.000343\n",
      "\n",
      "#######################################################\n",
      "       SaleType      Oran\n",
      "WD         2525  0.865022\n",
      "New         239  0.081877\n",
      "COD          87  0.029805\n",
      "ConLD        26  0.008907\n",
      "CWD          12  0.004111\n",
      "ConLI         9  0.003083\n",
      "ConLw         8  0.002741\n",
      "Oth           7  0.002398\n",
      "Con           5  0.001713\n",
      "\n",
      "#######################################################\n",
      "         SaleCondition      Oran\n",
      "Normal            2402  0.822885\n",
      "Partial            245  0.083933\n",
      "Abnorml            190  0.065091\n",
      "Family              46  0.015759\n",
      "Alloca              24  0.008222\n",
      "AdjLand             12  0.004111\n",
      "\n"
     ]
    }
   ],
   "source": [
    "def Cat_Cols(df):\n",
    "    \n",
    "    cat_cols = [cols for cols in df.columns if df[cols].dtype == 'object']\n",
    "    \n",
    "    for cols in cat_cols:\n",
    "        \n",
    "        data_new = pd.DataFrame({cols:df[cols].value_counts(),'Oran':df[cols].value_counts() / len(df)})\n",
    "        \n",
    "        print(f\"#######################################################\")\n",
    "        print(data_new, end = \"\\n\\n\")\n",
    "\n",
    "Cat_Cols(data)    "
   ]
  },
  {
   "cell_type": "markdown",
   "id": "407c53ff",
   "metadata": {
    "papermill": {
     "duration": 0.135426,
     "end_time": "2021-11-13T13:44:04.810027",
     "exception": false,
     "start_time": "2021-11-13T13:44:04.674601",
     "status": "completed"
    },
    "tags": []
   },
   "source": [
    "- Numeric Ama Kategorik olan değişkenlerimizi alacağız.\n",
    "- Benzersiz verileri 10'dan küçük olan Değişkenleri alacağız.\n",
    "- Değişkenlerimizin Benzersiz verilerinin toplam Data sayımıza oranını bulucağız\n",
    "- Değişkenlerimizi görselleştireceğiz.\n",
    "- Bu hepsini bize veren bir fonskiyon yazacağız."
   ]
  },
  {
   "cell_type": "code",
   "execution_count": 8,
   "id": "669eb941",
   "metadata": {
    "execution": {
     "iopub.execute_input": "2021-11-13T13:44:05.082438Z",
     "iopub.status.busy": "2021-11-13T13:44:05.081370Z",
     "iopub.status.idle": "2021-11-13T13:44:05.084251Z",
     "shell.execute_reply": "2021-11-13T13:44:05.083837Z",
     "shell.execute_reply.started": "2021-11-13T13:41:15.583758Z"
    },
    "papermill": {
     "duration": 0.141047,
     "end_time": "2021-11-13T13:44:05.084382",
     "exception": false,
     "start_time": "2021-11-13T13:44:04.943335",
     "status": "completed"
    },
    "tags": []
   },
   "outputs": [],
   "source": [
    "import matplotlib.pyplot as plt"
   ]
  },
  {
   "cell_type": "code",
   "execution_count": 9,
   "id": "70d1d7de",
   "metadata": {
    "execution": {
     "iopub.execute_input": "2021-11-13T13:44:05.362073Z",
     "iopub.status.busy": "2021-11-13T13:44:05.361251Z",
     "iopub.status.idle": "2021-11-13T13:44:06.783718Z",
     "shell.execute_reply": "2021-11-13T13:44:06.784131Z",
     "shell.execute_reply.started": "2021-11-13T13:41:15.589892Z"
    },
    "papermill": {
     "duration": 1.565022,
     "end_time": "2021-11-13T13:44:06.784292",
     "exception": false,
     "start_time": "2021-11-13T13:44:05.219270",
     "status": "completed"
    },
    "tags": []
   },
   "outputs": [
    {
     "name": "stdout",
     "output_type": "stream",
     "text": [
      "######################################################\n",
      "   OverallCond      Oran\n",
      "5         1645  0.563549\n",
      "6          531  0.181912\n",
      "7          390  0.133607\n",
      "8          144  0.049332\n",
      "4          101  0.034601\n",
      "3           50  0.017129\n",
      "9           41  0.014046\n",
      "2           10  0.003426\n",
      "1            7  0.002398\n"
     ]
    },
    {
     "data": {
      "image/png": "[encoded data removed]",
      "text/plain": [
       "<Figure size 432x288 with 1 Axes>"
      ]
     },
     "metadata": {
      "needs_background": "light"
     },
     "output_type": "display_data"
    },
    {
     "name": "stdout",
     "output_type": "stream",
     "text": [
      "######################################################\n",
      "     BsmtFullBath      Oran\n",
      "0.0          1705  0.584104\n",
      "1.0          1172  0.401507\n",
      "2.0            38  0.013018\n",
      "3.0             2  0.000685\n"
     ]
    },
    {
     "data": {
      "image/png": "[encoded data removed]",
      "text/plain": [
       "<Figure size 432x288 with 1 Axes>"
      ]
     },
     "metadata": {
      "needs_background": "light"
     },
     "output_type": "display_data"
    },
    {
     "name": "stdout",
     "output_type": "stream",
     "text": [
      "######################################################\n",
      "     BsmtHalfBath      Oran\n",
      "0.0          2742  0.939363\n",
      "1.0           171  0.058582\n",
      "2.0             4  0.001370\n"
     ]
    },
    {
     "data": {
      "image/png": "[encoded data removed]",
      "text/plain": [
       "<Figure size 432x288 with 1 Axes>"
      ]
     },
     "metadata": {
      "needs_background": "light"
     },
     "output_type": "display_data"
    },
    {
     "name": "stdout",
     "output_type": "stream",
     "text": [
      "######################################################\n",
      "   FullBath      Oran\n",
      "2      1530  0.524152\n",
      "1      1309  0.448441\n",
      "3        64  0.021925\n",
      "0        12  0.004111\n",
      "4         4  0.001370\n"
     ]
    },
    {
     "data": {
      "image/png": "[encoded data removed]",
      "text/plain": [
       "<Figure size 432x288 with 1 Axes>"
      ]
     },
     "metadata": {
      "needs_background": "light"
     },
     "output_type": "display_data"
    },
    {
     "name": "stdout",
     "output_type": "stream",
     "text": [
      "######################################################\n",
      "   HalfBath      Oran\n",
      "0      1834  0.628297\n",
      "1      1060  0.363138\n",
      "2        25  0.008565\n"
     ]
    },
    {
     "data": {
      "image/png": "[encoded data removed]",
      "text/plain": [
       "<Figure size 432x288 with 1 Axes>"
      ]
     },
     "metadata": {
      "needs_background": "light"
     },
     "output_type": "display_data"
    },
    {
     "name": "stdout",
     "output_type": "stream",
     "text": [
      "######################################################\n",
      "   BedroomAbvGr      Oran\n",
      "3          1596  0.546763\n",
      "2           742  0.254197\n",
      "4           400  0.137033\n",
      "1           103  0.035286\n",
      "5            48  0.016444\n",
      "6            21  0.007194\n",
      "0             8  0.002741\n",
      "8             1  0.000343\n"
     ]
    },
    {
     "data": {
      "image/png": "[encoded data removed]",
      "text/plain": [
       "<Figure size 432x288 with 1 Axes>"
      ]
     },
     "metadata": {
      "needs_background": "light"
     },
     "output_type": "display_data"
    },
    {
     "name": "stdout",
     "output_type": "stream",
     "text": [
      "######################################################\n",
      "   KitchenAbvGr      Oran\n",
      "1          2785  0.954094\n",
      "2           129  0.044193\n",
      "0             3  0.001028\n",
      "3             2  0.000685\n"
     ]
    },
    {
     "data": {
      "image/png": "[encoded data removed]",
      "text/plain": [
       "<Figure size 432x288 with 1 Axes>"
      ]
     },
     "metadata": {
      "needs_background": "light"
     },
     "output_type": "display_data"
    },
    {
     "name": "stdout",
     "output_type": "stream",
     "text": [
      "######################################################\n",
      "   Fireplaces      Oran\n",
      "0        1420  0.486468\n",
      "1        1268  0.434395\n",
      "2         219  0.075026\n",
      "3          11  0.003768\n",
      "4           1  0.000343\n"
     ]
    },
    {
     "data": {
      "image/png": "[encoded data removed]",
      "text/plain": [
       "<Figure size 432x288 with 1 Axes>"
      ]
     },
     "metadata": {
      "needs_background": "light"
     },
     "output_type": "display_data"
    },
    {
     "name": "stdout",
     "output_type": "stream",
     "text": [
      "######################################################\n",
      "     GarageCars      Oran\n",
      "2.0        1594  0.546077\n",
      "1.0         776  0.265844\n",
      "3.0         374  0.128126\n",
      "0.0         157  0.053786\n",
      "4.0          16  0.005481\n",
      "5.0           1  0.000343\n"
     ]
    },
    {
     "data": {
      "image/png": "[encoded data removed]",
      "text/plain": [
       "<Figure size 432x288 with 1 Axes>"
      ]
     },
     "metadata": {
      "needs_background": "light"
     },
     "output_type": "display_data"
    },
    {
     "name": "stdout",
     "output_type": "stream",
     "text": [
      "######################################################\n",
      "      YrSold      Oran\n",
      "2007     692  0.237067\n",
      "2009     647  0.221651\n",
      "2008     622  0.213087\n",
      "2006     619  0.212059\n",
      "2010     339  0.116136\n"
     ]
    },
    {
     "data": {
      "image/png": "[encoded data removed]",
      "text/plain": [
       "<Figure size 432x288 with 1 Axes>"
      ]
     },
     "metadata": {
      "needs_background": "light"
     },
     "output_type": "display_data"
    }
   ],
   "source": [
    "def Num_Cat_Cols(df, cat_number, plot = False):\n",
    "        \n",
    "    num_cat = [cols for cols in df.columns if df[cols].nunique() < int(cat_number)\n",
    "              and df[cols].dtype != 'object']\n",
    "        \n",
    "    for cols in num_cat:\n",
    "               \n",
    "        print(f\"######################################################\") \n",
    "        data_new = pd.DataFrame({cols:df[cols].value_counts(),'Oran':df[cols].value_counts() / len(df)})\n",
    "        print(data_new, end = \"\\n\")\n",
    "        \n",
    "        if plot:\n",
    "            \n",
    "            sns.countplot(x=cols, data=df)\n",
    "            plt.show()\n",
    "\n",
    "Num_Cat_Cols(data, cat_number = 10, plot=True)"
   ]
  },
  {
   "cell_type": "markdown",
   "id": "0d13467c",
   "metadata": {
    "papermill": {
     "duration": 0.143713,
     "end_time": "2021-11-13T13:44:07.071923",
     "exception": false,
     "start_time": "2021-11-13T13:44:06.928210",
     "status": "completed"
    },
    "tags": []
   },
   "source": [
    "# Sayısal Değer"
   ]
  },
  {
   "cell_type": "code",
   "execution_count": 10,
   "id": "f5c99aed",
   "metadata": {
    "execution": {
     "iopub.execute_input": "2021-11-13T13:44:07.364015Z",
     "iopub.status.busy": "2021-11-13T13:44:07.363149Z",
     "iopub.status.idle": "2021-11-13T13:44:07.472046Z",
     "shell.execute_reply": "2021-11-13T13:44:07.471495Z",
     "shell.execute_reply.started": "2021-11-13T13:41:16.872534Z"
    },
    "papermill": {
     "duration": 0.257276,
     "end_time": "2021-11-13T13:44:07.472175",
     "exception": false,
     "start_time": "2021-11-13T13:44:07.214899",
     "status": "completed"
    },
    "tags": []
   },
   "outputs": [
    {
     "data": {
      "text/html": [
       "<div>\n",
       "<style scoped>\n",
       "    .dataframe tbody tr th:only-of-type {\n",
       "        vertical-align: middle;\n",
       "    }\n",
       "\n",
       "    .dataframe tbody tr th {\n",
       "        vertical-align: top;\n",
       "    }\n",
       "\n",
       "    .dataframe thead th {\n",
       "        text-align: right;\n",
       "    }\n",
       "</style>\n",
       "<table border=\"1\" class=\"dataframe\">\n",
       "  <thead>\n",
       "    <tr style=\"text-align: right;\">\n",
       "      <th></th>\n",
       "      <th>count</th>\n",
       "      <th>mean</th>\n",
       "      <th>std</th>\n",
       "      <th>min</th>\n",
       "      <th>25%</th>\n",
       "      <th>50%</th>\n",
       "      <th>75%</th>\n",
       "      <th>max</th>\n",
       "    </tr>\n",
       "  </thead>\n",
       "  <tbody>\n",
       "    <tr>\n",
       "      <th>Id</th>\n",
       "      <td>2919.0</td>\n",
       "      <td>1460.000000</td>\n",
       "      <td>842.787043</td>\n",
       "      <td>1.0</td>\n",
       "      <td>730.5</td>\n",
       "      <td>1460.0</td>\n",
       "      <td>2189.5</td>\n",
       "      <td>2919.0</td>\n",
       "    </tr>\n",
       "    <tr>\n",
       "      <th>MSSubClass</th>\n",
       "      <td>2919.0</td>\n",
       "      <td>57.137718</td>\n",
       "      <td>42.517628</td>\n",
       "      <td>20.0</td>\n",
       "      <td>20.0</td>\n",
       "      <td>50.0</td>\n",
       "      <td>70.0</td>\n",
       "      <td>190.0</td>\n",
       "    </tr>\n",
       "    <tr>\n",
       "      <th>LotFrontage</th>\n",
       "      <td>2433.0</td>\n",
       "      <td>69.305795</td>\n",
       "      <td>23.344905</td>\n",
       "      <td>21.0</td>\n",
       "      <td>59.0</td>\n",
       "      <td>68.0</td>\n",
       "      <td>80.0</td>\n",
       "      <td>313.0</td>\n",
       "    </tr>\n",
       "    <tr>\n",
       "      <th>LotArea</th>\n",
       "      <td>2919.0</td>\n",
       "      <td>10168.114080</td>\n",
       "      <td>7886.996359</td>\n",
       "      <td>1300.0</td>\n",
       "      <td>7478.0</td>\n",
       "      <td>9453.0</td>\n",
       "      <td>11570.0</td>\n",
       "      <td>215245.0</td>\n",
       "    </tr>\n",
       "    <tr>\n",
       "      <th>OverallQual</th>\n",
       "      <td>2919.0</td>\n",
       "      <td>6.089072</td>\n",
       "      <td>1.409947</td>\n",
       "      <td>1.0</td>\n",
       "      <td>5.0</td>\n",
       "      <td>6.0</td>\n",
       "      <td>7.0</td>\n",
       "      <td>10.0</td>\n",
       "    </tr>\n",
       "    <tr>\n",
       "      <th>OverallCond</th>\n",
       "      <td>2919.0</td>\n",
       "      <td>5.564577</td>\n",
       "      <td>1.113131</td>\n",
       "      <td>1.0</td>\n",
       "      <td>5.0</td>\n",
       "      <td>5.0</td>\n",
       "      <td>6.0</td>\n",
       "      <td>9.0</td>\n",
       "    </tr>\n",
       "    <tr>\n",
       "      <th>YearBuilt</th>\n",
       "      <td>2919.0</td>\n",
       "      <td>1971.312778</td>\n",
       "      <td>30.291442</td>\n",
       "      <td>1872.0</td>\n",
       "      <td>1953.5</td>\n",
       "      <td>1973.0</td>\n",
       "      <td>2001.0</td>\n",
       "      <td>2010.0</td>\n",
       "    </tr>\n",
       "    <tr>\n",
       "      <th>YearRemodAdd</th>\n",
       "      <td>2919.0</td>\n",
       "      <td>1984.264474</td>\n",
       "      <td>20.894344</td>\n",
       "      <td>1950.0</td>\n",
       "      <td>1965.0</td>\n",
       "      <td>1993.0</td>\n",
       "      <td>2004.0</td>\n",
       "      <td>2010.0</td>\n",
       "    </tr>\n",
       "    <tr>\n",
       "      <th>MasVnrArea</th>\n",
       "      <td>2896.0</td>\n",
       "      <td>102.201312</td>\n",
       "      <td>179.334253</td>\n",
       "      <td>0.0</td>\n",
       "      <td>0.0</td>\n",
       "      <td>0.0</td>\n",
       "      <td>164.0</td>\n",
       "      <td>1600.0</td>\n",
       "    </tr>\n",
       "    <tr>\n",
       "      <th>BsmtFinSF1</th>\n",
       "      <td>2918.0</td>\n",
       "      <td>441.423235</td>\n",
       "      <td>455.610826</td>\n",
       "      <td>0.0</td>\n",
       "      <td>0.0</td>\n",
       "      <td>368.5</td>\n",
       "      <td>733.0</td>\n",
       "      <td>5644.0</td>\n",
       "    </tr>\n",
       "    <tr>\n",
       "      <th>BsmtFinSF2</th>\n",
       "      <td>2918.0</td>\n",
       "      <td>49.582248</td>\n",
       "      <td>169.205611</td>\n",
       "      <td>0.0</td>\n",
       "      <td>0.0</td>\n",
       "      <td>0.0</td>\n",
       "      <td>0.0</td>\n",
       "      <td>1526.0</td>\n",
       "    </tr>\n",
       "    <tr>\n",
       "      <th>BsmtUnfSF</th>\n",
       "      <td>2918.0</td>\n",
       "      <td>560.772104</td>\n",
       "      <td>439.543659</td>\n",
       "      <td>0.0</td>\n",
       "      <td>220.0</td>\n",
       "      <td>467.0</td>\n",
       "      <td>805.5</td>\n",
       "      <td>2336.0</td>\n",
       "    </tr>\n",
       "    <tr>\n",
       "      <th>TotalBsmtSF</th>\n",
       "      <td>2918.0</td>\n",
       "      <td>1051.777587</td>\n",
       "      <td>440.766258</td>\n",
       "      <td>0.0</td>\n",
       "      <td>793.0</td>\n",
       "      <td>989.5</td>\n",
       "      <td>1302.0</td>\n",
       "      <td>6110.0</td>\n",
       "    </tr>\n",
       "    <tr>\n",
       "      <th>1stFlrSF</th>\n",
       "      <td>2919.0</td>\n",
       "      <td>1159.581706</td>\n",
       "      <td>392.362079</td>\n",
       "      <td>334.0</td>\n",
       "      <td>876.0</td>\n",
       "      <td>1082.0</td>\n",
       "      <td>1387.5</td>\n",
       "      <td>5095.0</td>\n",
       "    </tr>\n",
       "    <tr>\n",
       "      <th>2ndFlrSF</th>\n",
       "      <td>2919.0</td>\n",
       "      <td>336.483727</td>\n",
       "      <td>428.701456</td>\n",
       "      <td>0.0</td>\n",
       "      <td>0.0</td>\n",
       "      <td>0.0</td>\n",
       "      <td>704.0</td>\n",
       "      <td>2065.0</td>\n",
       "    </tr>\n",
       "    <tr>\n",
       "      <th>LowQualFinSF</th>\n",
       "      <td>2919.0</td>\n",
       "      <td>4.694416</td>\n",
       "      <td>46.396825</td>\n",
       "      <td>0.0</td>\n",
       "      <td>0.0</td>\n",
       "      <td>0.0</td>\n",
       "      <td>0.0</td>\n",
       "      <td>1064.0</td>\n",
       "    </tr>\n",
       "    <tr>\n",
       "      <th>GrLivArea</th>\n",
       "      <td>2919.0</td>\n",
       "      <td>1500.759849</td>\n",
       "      <td>506.051045</td>\n",
       "      <td>334.0</td>\n",
       "      <td>1126.0</td>\n",
       "      <td>1444.0</td>\n",
       "      <td>1743.5</td>\n",
       "      <td>5642.0</td>\n",
       "    </tr>\n",
       "    <tr>\n",
       "      <th>BsmtFullBath</th>\n",
       "      <td>2917.0</td>\n",
       "      <td>0.429894</td>\n",
       "      <td>0.524736</td>\n",
       "      <td>0.0</td>\n",
       "      <td>0.0</td>\n",
       "      <td>0.0</td>\n",
       "      <td>1.0</td>\n",
       "      <td>3.0</td>\n",
       "    </tr>\n",
       "    <tr>\n",
       "      <th>BsmtHalfBath</th>\n",
       "      <td>2917.0</td>\n",
       "      <td>0.061364</td>\n",
       "      <td>0.245687</td>\n",
       "      <td>0.0</td>\n",
       "      <td>0.0</td>\n",
       "      <td>0.0</td>\n",
       "      <td>0.0</td>\n",
       "      <td>2.0</td>\n",
       "    </tr>\n",
       "    <tr>\n",
       "      <th>FullBath</th>\n",
       "      <td>2919.0</td>\n",
       "      <td>1.568003</td>\n",
       "      <td>0.552969</td>\n",
       "      <td>0.0</td>\n",
       "      <td>1.0</td>\n",
       "      <td>2.0</td>\n",
       "      <td>2.0</td>\n",
       "      <td>4.0</td>\n",
       "    </tr>\n",
       "    <tr>\n",
       "      <th>HalfBath</th>\n",
       "      <td>2919.0</td>\n",
       "      <td>0.380267</td>\n",
       "      <td>0.502872</td>\n",
       "      <td>0.0</td>\n",
       "      <td>0.0</td>\n",
       "      <td>0.0</td>\n",
       "      <td>1.0</td>\n",
       "      <td>2.0</td>\n",
       "    </tr>\n",
       "    <tr>\n",
       "      <th>BedroomAbvGr</th>\n",
       "      <td>2919.0</td>\n",
       "      <td>2.860226</td>\n",
       "      <td>0.822693</td>\n",
       "      <td>0.0</td>\n",
       "      <td>2.0</td>\n",
       "      <td>3.0</td>\n",
       "      <td>3.0</td>\n",
       "      <td>8.0</td>\n",
       "    </tr>\n",
       "    <tr>\n",
       "      <th>KitchenAbvGr</th>\n",
       "      <td>2919.0</td>\n",
       "      <td>1.044536</td>\n",
       "      <td>0.214462</td>\n",
       "      <td>0.0</td>\n",
       "      <td>1.0</td>\n",
       "      <td>1.0</td>\n",
       "      <td>1.0</td>\n",
       "      <td>3.0</td>\n",
       "    </tr>\n",
       "    <tr>\n",
       "      <th>TotRmsAbvGrd</th>\n",
       "      <td>2919.0</td>\n",
       "      <td>6.451524</td>\n",
       "      <td>1.569379</td>\n",
       "      <td>2.0</td>\n",
       "      <td>5.0</td>\n",
       "      <td>6.0</td>\n",
       "      <td>7.0</td>\n",
       "      <td>15.0</td>\n",
       "    </tr>\n",
       "    <tr>\n",
       "      <th>Fireplaces</th>\n",
       "      <td>2919.0</td>\n",
       "      <td>0.597122</td>\n",
       "      <td>0.646129</td>\n",
       "      <td>0.0</td>\n",
       "      <td>0.0</td>\n",
       "      <td>1.0</td>\n",
       "      <td>1.0</td>\n",
       "      <td>4.0</td>\n",
       "    </tr>\n",
       "    <tr>\n",
       "      <th>GarageYrBlt</th>\n",
       "      <td>2760.0</td>\n",
       "      <td>1978.113406</td>\n",
       "      <td>25.574285</td>\n",
       "      <td>1895.0</td>\n",
       "      <td>1960.0</td>\n",
       "      <td>1979.0</td>\n",
       "      <td>2002.0</td>\n",
       "      <td>2207.0</td>\n",
       "    </tr>\n",
       "    <tr>\n",
       "      <th>GarageCars</th>\n",
       "      <td>2918.0</td>\n",
       "      <td>1.766621</td>\n",
       "      <td>0.761624</td>\n",
       "      <td>0.0</td>\n",
       "      <td>1.0</td>\n",
       "      <td>2.0</td>\n",
       "      <td>2.0</td>\n",
       "      <td>5.0</td>\n",
       "    </tr>\n",
       "    <tr>\n",
       "      <th>GarageArea</th>\n",
       "      <td>2918.0</td>\n",
       "      <td>472.874572</td>\n",
       "      <td>215.394815</td>\n",
       "      <td>0.0</td>\n",
       "      <td>320.0</td>\n",
       "      <td>480.0</td>\n",
       "      <td>576.0</td>\n",
       "      <td>1488.0</td>\n",
       "    </tr>\n",
       "    <tr>\n",
       "      <th>WoodDeckSF</th>\n",
       "      <td>2919.0</td>\n",
       "      <td>93.709832</td>\n",
       "      <td>126.526589</td>\n",
       "      <td>0.0</td>\n",
       "      <td>0.0</td>\n",
       "      <td>0.0</td>\n",
       "      <td>168.0</td>\n",
       "      <td>1424.0</td>\n",
       "    </tr>\n",
       "    <tr>\n",
       "      <th>OpenPorchSF</th>\n",
       "      <td>2919.0</td>\n",
       "      <td>47.486811</td>\n",
       "      <td>67.575493</td>\n",
       "      <td>0.0</td>\n",
       "      <td>0.0</td>\n",
       "      <td>26.0</td>\n",
       "      <td>70.0</td>\n",
       "      <td>742.0</td>\n",
       "    </tr>\n",
       "    <tr>\n",
       "      <th>EnclosedPorch</th>\n",
       "      <td>2919.0</td>\n",
       "      <td>23.098321</td>\n",
       "      <td>64.244246</td>\n",
       "      <td>0.0</td>\n",
       "      <td>0.0</td>\n",
       "      <td>0.0</td>\n",
       "      <td>0.0</td>\n",
       "      <td>1012.0</td>\n",
       "    </tr>\n",
       "    <tr>\n",
       "      <th>3SsnPorch</th>\n",
       "      <td>2919.0</td>\n",
       "      <td>2.602261</td>\n",
       "      <td>25.188169</td>\n",
       "      <td>0.0</td>\n",
       "      <td>0.0</td>\n",
       "      <td>0.0</td>\n",
       "      <td>0.0</td>\n",
       "      <td>508.0</td>\n",
       "    </tr>\n",
       "    <tr>\n",
       "      <th>ScreenPorch</th>\n",
       "      <td>2919.0</td>\n",
       "      <td>16.062350</td>\n",
       "      <td>56.184365</td>\n",
       "      <td>0.0</td>\n",
       "      <td>0.0</td>\n",
       "      <td>0.0</td>\n",
       "      <td>0.0</td>\n",
       "      <td>576.0</td>\n",
       "    </tr>\n",
       "    <tr>\n",
       "      <th>PoolArea</th>\n",
       "      <td>2919.0</td>\n",
       "      <td>2.251799</td>\n",
       "      <td>35.663946</td>\n",
       "      <td>0.0</td>\n",
       "      <td>0.0</td>\n",
       "      <td>0.0</td>\n",
       "      <td>0.0</td>\n",
       "      <td>800.0</td>\n",
       "    </tr>\n",
       "    <tr>\n",
       "      <th>MiscVal</th>\n",
       "      <td>2919.0</td>\n",
       "      <td>50.825968</td>\n",
       "      <td>567.402211</td>\n",
       "      <td>0.0</td>\n",
       "      <td>0.0</td>\n",
       "      <td>0.0</td>\n",
       "      <td>0.0</td>\n",
       "      <td>17000.0</td>\n",
       "    </tr>\n",
       "    <tr>\n",
       "      <th>MoSold</th>\n",
       "      <td>2919.0</td>\n",
       "      <td>6.213087</td>\n",
       "      <td>2.714762</td>\n",
       "      <td>1.0</td>\n",
       "      <td>4.0</td>\n",
       "      <td>6.0</td>\n",
       "      <td>8.0</td>\n",
       "      <td>12.0</td>\n",
       "    </tr>\n",
       "    <tr>\n",
       "      <th>YrSold</th>\n",
       "      <td>2919.0</td>\n",
       "      <td>2007.792737</td>\n",
       "      <td>1.314964</td>\n",
       "      <td>2006.0</td>\n",
       "      <td>2007.0</td>\n",
       "      <td>2008.0</td>\n",
       "      <td>2009.0</td>\n",
       "      <td>2010.0</td>\n",
       "    </tr>\n",
       "    <tr>\n",
       "      <th>SalePrice</th>\n",
       "      <td>1460.0</td>\n",
       "      <td>180921.195890</td>\n",
       "      <td>79442.502883</td>\n",
       "      <td>34900.0</td>\n",
       "      <td>129975.0</td>\n",
       "      <td>163000.0</td>\n",
       "      <td>214000.0</td>\n",
       "      <td>755000.0</td>\n",
       "    </tr>\n",
       "  </tbody>\n",
       "</table>\n",
       "</div>"
      ],
      "text/plain": [
       "                count           mean           std      min       25%  \\\n",
       "Id             2919.0    1460.000000    842.787043      1.0     730.5   \n",
       "MSSubClass     2919.0      57.137718     42.517628     20.0      20.0   \n",
       "LotFrontage    2433.0      69.305795     23.344905     21.0      59.0   \n",
       "LotArea        2919.0   10168.114080   7886.996359   1300.0    7478.0   \n",
       "OverallQual    2919.0       6.089072      1.409947      1.0       5.0   \n",
       "OverallCond    2919.0       5.564577      1.113131      1.0       5.0   \n",
       "YearBuilt      2919.0    1971.312778     30.291442   1872.0    1953.5   \n",
       "YearRemodAdd   2919.0    1984.264474     20.894344   1950.0    1965.0   \n",
       "MasVnrArea     2896.0     102.201312    179.334253      0.0       0.0   \n",
       "BsmtFinSF1     2918.0     441.423235    455.610826      0.0       0.0   \n",
       "BsmtFinSF2     2918.0      49.582248    169.205611      0.0       0.0   \n",
       "BsmtUnfSF      2918.0     560.772104    439.543659      0.0     220.0   \n",
       "TotalBsmtSF    2918.0    1051.777587    440.766258      0.0     793.0   \n",
       "1stFlrSF       2919.0    1159.581706    392.362079    334.0     876.0   \n",
       "2ndFlrSF       2919.0     336.483727    428.701456      0.0       0.0   \n",
       "LowQualFinSF   2919.0       4.694416     46.396825      0.0       0.0   \n",
       "GrLivArea      2919.0    1500.759849    506.051045    334.0    1126.0   \n",
       "BsmtFullBath   2917.0       0.429894      0.524736      0.0       0.0   \n",
       "BsmtHalfBath   2917.0       0.061364      0.245687      0.0       0.0   \n",
       "FullBath       2919.0       1.568003      0.552969      0.0       1.0   \n",
       "HalfBath       2919.0       0.380267      0.502872      0.0       0.0   \n",
       "BedroomAbvGr   2919.0       2.860226      0.822693      0.0       2.0   \n",
       "KitchenAbvGr   2919.0       1.044536      0.214462      0.0       1.0   \n",
       "TotRmsAbvGrd   2919.0       6.451524      1.569379      2.0       5.0   \n",
       "Fireplaces     2919.0       0.597122      0.646129      0.0       0.0   \n",
       "GarageYrBlt    2760.0    1978.113406     25.574285   1895.0    1960.0   \n",
       "GarageCars     2918.0       1.766621      0.761624      0.0       1.0   \n",
       "GarageArea     2918.0     472.874572    215.394815      0.0     320.0   \n",
       "WoodDeckSF     2919.0      93.709832    126.526589      0.0       0.0   \n",
       "OpenPorchSF    2919.0      47.486811     67.575493      0.0       0.0   \n",
       "EnclosedPorch  2919.0      23.098321     64.244246      0.0       0.0   \n",
       "3SsnPorch      2919.0       2.602261     25.188169      0.0       0.0   \n",
       "ScreenPorch    2919.0      16.062350     56.184365      0.0       0.0   \n",
       "PoolArea       2919.0       2.251799     35.663946      0.0       0.0   \n",
       "MiscVal        2919.0      50.825968    567.402211      0.0       0.0   \n",
       "MoSold         2919.0       6.213087      2.714762      1.0       4.0   \n",
       "YrSold         2919.0    2007.792737      1.314964   2006.0    2007.0   \n",
       "SalePrice      1460.0  180921.195890  79442.502883  34900.0  129975.0   \n",
       "\n",
       "                    50%       75%       max  \n",
       "Id               1460.0    2189.5    2919.0  \n",
       "MSSubClass         50.0      70.0     190.0  \n",
       "LotFrontage        68.0      80.0     313.0  \n",
       "LotArea          9453.0   11570.0  215245.0  \n",
       "OverallQual         6.0       7.0      10.0  \n",
       "OverallCond         5.0       6.0       9.0  \n",
       "YearBuilt        1973.0    2001.0    2010.0  \n",
       "YearRemodAdd     1993.0    2004.0    2010.0  \n",
       "MasVnrArea          0.0     164.0    1600.0  \n",
       "BsmtFinSF1        368.5     733.0    5644.0  \n",
       "BsmtFinSF2          0.0       0.0    1526.0  \n",
       "BsmtUnfSF         467.0     805.5    2336.0  \n",
       "TotalBsmtSF       989.5    1302.0    6110.0  \n",
       "1stFlrSF         1082.0    1387.5    5095.0  \n",
       "2ndFlrSF            0.0     704.0    2065.0  \n",
       "LowQualFinSF        0.0       0.0    1064.0  \n",
       "GrLivArea        1444.0    1743.5    5642.0  \n",
       "BsmtFullBath        0.0       1.0       3.0  \n",
       "BsmtHalfBath        0.0       0.0       2.0  \n",
       "FullBath            2.0       2.0       4.0  \n",
       "HalfBath            0.0       1.0       2.0  \n",
       "BedroomAbvGr        3.0       3.0       8.0  \n",
       "KitchenAbvGr        1.0       1.0       3.0  \n",
       "TotRmsAbvGrd        6.0       7.0      15.0  \n",
       "Fireplaces          1.0       1.0       4.0  \n",
       "GarageYrBlt      1979.0    2002.0    2207.0  \n",
       "GarageCars          2.0       2.0       5.0  \n",
       "GarageArea        480.0     576.0    1488.0  \n",
       "WoodDeckSF          0.0     168.0    1424.0  \n",
       "OpenPorchSF        26.0      70.0     742.0  \n",
       "EnclosedPorch       0.0       0.0    1012.0  \n",
       "3SsnPorch           0.0       0.0     508.0  \n",
       "ScreenPorch         0.0       0.0     576.0  \n",
       "PoolArea            0.0       0.0     800.0  \n",
       "MiscVal             0.0       0.0   17000.0  \n",
       "MoSold              6.0       8.0      12.0  \n",
       "YrSold           2008.0    2009.0    2010.0  \n",
       "SalePrice      163000.0  214000.0  755000.0  "
      ]
     },
     "execution_count": 10,
     "metadata": {},
     "output_type": "execute_result"
    }
   ],
   "source": [
    "data.describe().T"
   ]
  },
  {
   "cell_type": "markdown",
   "id": "63fb87cb",
   "metadata": {
    "papermill": {
     "duration": 0.143567,
     "end_time": "2021-11-13T13:44:07.765595",
     "exception": false,
     "start_time": "2021-11-13T13:44:07.622028",
     "status": "completed"
    },
    "tags": []
   },
   "source": [
    "- Numeric yani Sayısal Değişkenlerimizi alacağız.\n",
    "- Değişkenlerimizin Histogram görselleştireceğiz."
   ]
  },
  {
   "cell_type": "code",
   "execution_count": 11,
   "id": "bad40401",
   "metadata": {
    "execution": {
     "iopub.execute_input": "2021-11-13T13:44:08.062457Z",
     "iopub.status.busy": "2021-11-13T13:44:08.061715Z",
     "iopub.status.idle": "2021-11-13T13:44:13.742130Z",
     "shell.execute_reply": "2021-11-13T13:44:13.740964Z",
     "shell.execute_reply.started": "2021-11-13T13:41:16.987956Z"
    },
    "papermill": {
     "duration": 5.833448,
     "end_time": "2021-11-13T13:44:13.742264",
     "exception": false,
     "start_time": "2021-11-13T13:44:07.908816",
     "status": "completed"
    },
    "tags": []
   },
   "outputs": [
    {
     "name": "stdout",
     "output_type": "stream",
     "text": [
      "######################## MSSubClass #############################\n"
     ]
    },
    {
     "data": {
      "image/png": "[encoded data removed]",
      "text/plain": [
       "<Figure size 432x288 with 1 Axes>"
      ]
     },
     "metadata": {
      "needs_background": "light"
     },
     "output_type": "display_data"
    },
    {
     "name": "stdout",
     "output_type": "stream",
     "text": [
      "######################## LotFrontage #############################\n"
     ]
    },
    {
     "data": {
      "image/png": "[encoded data removed]",
      "text/plain": [
       "<Figure size 432x288 with 1 Axes>"
      ]
     },
     "metadata": {
      "needs_background": "light"
     },
     "output_type": "display_data"
    },
    {
     "name": "stdout",
     "output_type": "stream",
     "text": [
      "######################## LotArea #############################\n"
     ]
    },
    {
     "data": {
      "image/png": "[encoded data removed]",
      "text/plain": [
       "<Figure size 432x288 with 1 Axes>"
      ]
     },
     "metadata": {
      "needs_background": "light"
     },
     "output_type": "display_data"
    },
    {
     "name": "stdout",
     "output_type": "stream",
     "text": [
      "######################## OverallQual #############################\n"
     ]
    },
    {
     "data": {
      "image/png": "[encoded data removed]",
      "text/plain": [
       "<Figure size 432x288 with 1 Axes>"
      ]
     },
     "metadata": {
      "needs_background": "light"
     },
     "output_type": "display_data"
    },
    {
     "name": "stdout",
     "output_type": "stream",
     "text": [
      "######################## OverallCond #############################\n"
     ]
    },
    {
     "data": {
      "image/png": "[encoded data removed]",
      "text/plain": [
       "<Figure size 432x288 with 1 Axes>"
      ]
     },
     "metadata": {
      "needs_background": "light"
     },
     "output_type": "display_data"
    },
    {
     "name": "stdout",
     "output_type": "stream",
     "text": [
      "######################## YearBuilt #############################\n"
     ]
    },
    {
     "data": {
      "image/png": "[encoded data removed]",
      "text/plain": [
       "<Figure size 432x288 with 1 Axes>"
      ]
     },
     "metadata": {
      "needs_background": "light"
     },
     "output_type": "display_data"
    },
    {
     "name": "stdout",
     "output_type": "stream",
     "text": [
      "######################## YearRemodAdd #############################\n"
     ]
    },
    {
     "data": {
      "image/png": "[encoded data removed]",
      "text/plain": [
       "<Figure size 432x288 with 1 Axes>"
      ]
     },
     "metadata": {
      "needs_background": "light"
     },
     "output_type": "display_data"
    },
    {
     "name": "stdout",
     "output_type": "stream",
     "text": [
      "######################## MasVnrArea #############################\n"
     ]
    },
    {
     "data": {
      "image/png": "[encoded data removed]",
      "text/plain": [
       "<Figure size 432x288 with 1 Axes>"
      ]
     },
     "metadata": {
      "needs_background": "light"
     },
     "output_type": "display_data"
    },
    {
     "name": "stdout",
     "output_type": "stream",
     "text": [
      "######################## BsmtFinSF1 #############################\n"
     ]
    },
    {
     "data": {
      "image/png": "[encoded data removed]",
      "text/plain": [
       "<Figure size 432x288 with 1 Axes>"
      ]
     },
     "metadata": {
      "needs_background": "light"
     },
     "output_type": "display_data"
    },
    {
     "name": "stdout",
     "output_type": "stream",
     "text": [
      "######################## BsmtFinSF2 #############################\n"
     ]
    },
    {
     "data": {
      "image/png": "[encoded data removed]",
      "text/plain": [
       "<Figure size 432x288 with 1 Axes>"
      ]
     },
     "metadata": {
      "needs_background": "light"
     },
     "output_type": "display_data"
    },
    {
     "name": "stdout",
     "output_type": "stream",
     "text": [
      "######################## BsmtUnfSF #############################\n"
     ]
    },
    {
     "data": {
      "image/png": "[encoded data removed]",
      "text/plain": [
       "<Figure size 432x288 with 1 Axes>"
      ]
     },
     "metadata": {
      "needs_background": "light"
     },
     "output_type": "display_data"
    },
    {
     "name": "stdout",
     "output_type": "stream",
     "text": [
      "######################## TotalBsmtSF #############################\n"
     ]
    },
    {
     "data": {
      "image/png": "[encoded data removed]",
      "text/plain": [
       "<Figure size 432x288 with 1 Axes>"
      ]
     },
     "metadata": {
      "needs_background": "light"
     },
     "output_type": "display_data"
    },
    {
     "name": "stdout",
     "output_type": "stream",
     "text": [
      "######################## 1stFlrSF #############################\n"
     ]
    },
    {
     "data": {
      "image/png": "[encoded data removed]",
      "text/plain": [
       "<Figure size 432x288 with 1 Axes>"
      ]
     },
     "metadata": {
      "needs_background": "light"
     },
     "output_type": "display_data"
    },
    {
     "name": "stdout",
     "output_type": "stream",
     "text": [
      "######################## 2ndFlrSF #############################\n"
     ]
    },
    {
     "data": {
      "image/png": "[encoded data removed]",
      "text/plain": [
       "<Figure size 432x288 with 1 Axes>"
      ]
     },
     "metadata": {
      "needs_background": "light"
     },
     "output_type": "display_data"
    },
    {
     "name": "stdout",
     "output_type": "stream",
     "text": [
      "######################## LowQualFinSF #############################\n"
     ]
    },
    {
     "data": {
      "image/png": "[encoded data removed]",
      "text/plain": [
       "<Figure size 432x288 with 1 Axes>"
      ]
     },
     "metadata": {
      "needs_background": "light"
     },
     "output_type": "display_data"
    },
    {
     "name": "stdout",
     "output_type": "stream",
     "text": [
      "######################## GrLivArea #############################\n"
     ]
    },
    {
     "data": {
      "image/png": "[encoded data removed]",
      "text/plain": [
       "<Figure size 432x288 with 1 Axes>"
      ]
     },
     "metadata": {
      "needs_background": "light"
     },
     "output_type": "display_data"
    },
    {
     "name": "stdout",
     "output_type": "stream",
     "text": [
      "######################## BsmtFullBath #############################\n"
     ]
    },
    {
     "data": {
      "image/png": "[encoded data removed]",
      "text/plain": [
       "<Figure size 432x288 with 1 Axes>"
      ]
     },
     "metadata": {
      "needs_background": "light"
     },
     "output_type": "display_data"
    },
    {
     "name": "stdout",
     "output_type": "stream",
     "text": [
      "######################## BsmtHalfBath #############################\n"
     ]
    },
    {
     "data": {
      "image/png": "[encoded data removed]",
      "text/plain": [
       "<Figure size 432x288 with 1 Axes>"
      ]
     },
     "metadata": {
      "needs_background": "light"
     },
     "output_type": "display_data"
    },
    {
     "name": "stdout",
     "output_type": "stream",
     "text": [
      "######################## FullBath #############################\n"
     ]
    },
    {
     "data": {
      "image/png": "[encoded data removed]",
      "text/plain": [
       "<Figure size 432x288 with 1 Axes>"
      ]
     },
     "metadata": {
      "needs_background": "light"
     },
     "output_type": "display_data"
    },
    {
     "name": "stdout",
     "output_type": "stream",
     "text": [
      "######################## HalfBath #############################\n"
     ]
    },
    {
     "data": {
      "image/png": "[encoded data removed]",
      "text/plain": [
       "<Figure size 432x288 with 1 Axes>"
      ]
     },
     "metadata": {
      "needs_background": "light"
     },
     "output_type": "display_data"
    },
    {
     "name": "stdout",
     "output_type": "stream",
     "text": [
      "######################## BedroomAbvGr #############################\n"
     ]
    },
    {
     "data": {
      "image/png": "[encoded data removed]",
      "text/plain": [
       "<Figure size 432x288 with 1 Axes>"
      ]
     },
     "metadata": {
      "needs_background": "light"
     },
     "output_type": "display_data"
    },
    {
     "name": "stdout",
     "output_type": "stream",
     "text": [
      "######################## KitchenAbvGr #############################\n"
     ]
    },
    {
     "data": {
      "image/png": "[encoded data removed]",
      "text/plain": [
       "<Figure size 432x288 with 1 Axes>"
      ]
     },
     "metadata": {
      "needs_background": "light"
     },
     "output_type": "display_data"
    },
    {
     "name": "stdout",
     "output_type": "stream",
     "text": [
      "######################## TotRmsAbvGrd #############################\n"
     ]
    },
    {
     "data": {
      "image/png": "[encoded data removed]",
      "text/plain": [
       "<Figure size 432x288 with 1 Axes>"
      ]
     },
     "metadata": {
      "needs_background": "light"
     },
     "output_type": "display_data"
    },
    {
     "name": "stdout",
     "output_type": "stream",
     "text": [
      "######################## Fireplaces #############################\n"
     ]
    },
    {
     "data": {
      "image/png": "[encoded data removed]",
      "text/plain": [
       "<Figure size 432x288 with 1 Axes>"
      ]
     },
     "metadata": {
      "needs_background": "light"
     },
     "output_type": "display_data"
    },
    {
     "name": "stdout",
     "output_type": "stream",
     "text": [
      "######################## GarageYrBlt #############################\n"
     ]
    },
    {
     "data": {
      "image/png": "[encoded data removed]",
      "text/plain": [
       "<Figure size 432x288 with 1 Axes>"
      ]
     },
     "metadata": {
      "needs_background": "light"
     },
     "output_type": "display_data"
    },
    {
     "name": "stdout",
     "output_type": "stream",
     "text": [
      "######################## GarageCars #############################\n"
     ]
    },
    {
     "data": {
      "image/png": "[encoded data removed]",
      "text/plain": [
       "<Figure size 432x288 with 1 Axes>"
      ]
     },
     "metadata": {
      "needs_background": "light"
     },
     "output_type": "display_data"
    },
    {
     "name": "stdout",
     "output_type": "stream",
     "text": [
      "######################## GarageArea #############################\n"
     ]
    },
    {
     "data": {
      "image/png": "[encoded data removed]",
      "text/plain": [
       "<Figure size 432x288 with 1 Axes>"
      ]
     },
     "metadata": {
      "needs_background": "light"
     },
     "output_type": "display_data"
    },
    {
     "name": "stdout",
     "output_type": "stream",
     "text": [
      "######################## WoodDeckSF #############################\n"
     ]
    },
    {
     "data": {
      "image/png": "[encoded data removed]",
      "text/plain": [
       "<Figure size 432x288 with 1 Axes>"
      ]
     },
     "metadata": {
      "needs_background": "light"
     },
     "output_type": "display_data"
    },
    {
     "name": "stdout",
     "output_type": "stream",
     "text": [
      "######################## OpenPorchSF #############################\n"
     ]
    },
    {
     "data": {
      "image/png": "[encoded data removed]",
      "text/plain": [
       "<Figure size 432x288 with 1 Axes>"
      ]
     },
     "metadata": {
      "needs_background": "light"
     },
     "output_type": "display_data"
    },
    {
     "name": "stdout",
     "output_type": "stream",
     "text": [
      "######################## EnclosedPorch #############################\n"
     ]
    },
    {
     "data": {
      "image/png": "[encoded data removed]",
      "text/plain": [
       "<Figure size 432x288 with 1 Axes>"
      ]
     },
     "metadata": {
      "needs_background": "light"
     },
     "output_type": "display_data"
    },
    {
     "name": "stdout",
     "output_type": "stream",
     "text": [
      "######################## 3SsnPorch #############################\n"
     ]
    },
    {
     "data": {
      "image/png": "[encoded data removed]",
      "text/plain": [
       "<Figure size 432x288 with 1 Axes>"
      ]
     },
     "metadata": {
      "needs_background": "light"
     },
     "output_type": "display_data"
    },
    {
     "name": "stdout",
     "output_type": "stream",
     "text": [
      "######################## ScreenPorch #############################\n"
     ]
    },
    {
     "data": {
      "image/png": "[encoded data removed]",
      "text/plain": [
       "<Figure size 432x288 with 1 Axes>"
      ]
     },
     "metadata": {
      "needs_background": "light"
     },
     "output_type": "display_data"
    },
    {
     "name": "stdout",
     "output_type": "stream",
     "text": [
      "######################## PoolArea #############################\n"
     ]
    },
    {
     "data": {
      "image/png": "[encoded data removed]",
      "text/plain": [
       "<Figure size 432x288 with 1 Axes>"
      ]
     },
     "metadata": {
      "needs_background": "light"
     },
     "output_type": "display_data"
    },
    {
     "name": "stdout",
     "output_type": "stream",
     "text": [
      "######################## MiscVal #############################\n"
     ]
    },
    {
     "data": {
      "image/png": "[encoded data removed]",
      "text/plain": [
       "<Figure size 432x288 with 1 Axes>"
      ]
     },
     "metadata": {
      "needs_background": "light"
     },
     "output_type": "display_data"
    },
    {
     "name": "stdout",
     "output_type": "stream",
     "text": [
      "######################## MoSold #############################\n"
     ]
    },
    {
     "data": {
      "image/png": "[encoded data removed]",
      "text/plain": [
       "<Figure size 432x288 with 1 Axes>"
      ]
     },
     "metadata": {
      "needs_background": "light"
     },
     "output_type": "display_data"
    },
    {
     "name": "stdout",
     "output_type": "stream",
     "text": [
      "######################## YrSold #############################\n"
     ]
    },
    {
     "data": {
      "image/png": "[encoded data removed]",
      "text/plain": [
       "<Figure size 432x288 with 1 Axes>"
      ]
     },
     "metadata": {
      "needs_background": "light"
     },
     "output_type": "display_data"
    },
    {
     "name": "stdout",
     "output_type": "stream",
     "text": [
      "######################## SalePrice #############################\n"
     ]
    },
    {
     "data": {
      "image/png": "[encoded data removed]",
      "text/plain": [
       "<Figure size 432x288 with 1 Axes>"
      ]
     },
     "metadata": {
      "needs_background": "light"
     },
     "output_type": "display_data"
    }
   ],
   "source": [
    "def Numeric(df, plot = False):\n",
    "    \n",
    "    num_cols = [cols for cols in data.columns if df[cols].dtypes != 'object'\n",
    "               and cols not in 'Id']\n",
    "    \n",
    "    for cols in num_cols:\n",
    "        \n",
    "        if plot:\n",
    "            \n",
    "            print(f\"######################## {cols} #############################\")\n",
    "            df[cols].hist()\n",
    "            plt.show()\n",
    "\n",
    "Numeric(data, plot=True)            "
   ]
  },
  {
   "cell_type": "markdown",
   "id": "a85a1440",
   "metadata": {
    "papermill": {
     "duration": 0.183121,
     "end_time": "2021-11-13T13:44:14.103205",
     "exception": false,
     "start_time": "2021-11-13T13:44:13.920084",
     "status": "completed"
    },
    "tags": []
   },
   "source": [
    "# Hedef Değişken Analizi "
   ]
  },
  {
   "cell_type": "markdown",
   "id": "c2302a9f",
   "metadata": {
    "papermill": {
     "duration": 0.283075,
     "end_time": "2021-11-13T13:44:14.693474",
     "exception": false,
     "start_time": "2021-11-13T13:44:14.410399",
     "status": "completed"
    },
    "tags": []
   },
   "source": [
    "- Bizim Hedef Değişkenimiz **SalePrice** değişkenidir.\n",
    "- Hedef Değişkenimiz ile Benzersiz Veri sayısı 10'dan küçük olan değişkenlerimize göre gruplayıp,\n",
    "  **ortalama** alıyoruz."
   ]
  },
  {
   "cell_type": "code",
   "execution_count": 12,
   "id": "5bb3f2c9",
   "metadata": {
    "execution": {
     "iopub.execute_input": "2021-11-13T13:44:15.069843Z",
     "iopub.status.busy": "2021-11-13T13:44:15.067073Z",
     "iopub.status.idle": "2021-11-13T13:44:15.073767Z",
     "shell.execute_reply": "2021-11-13T13:44:15.073295Z",
     "shell.execute_reply.started": "2021-11-13T13:41:23.133710Z"
    },
    "papermill": {
     "duration": 0.194349,
     "end_time": "2021-11-13T13:44:15.073879",
     "exception": false,
     "start_time": "2021-11-13T13:44:14.879530",
     "status": "completed"
    },
    "tags": []
   },
   "outputs": [
    {
     "data": {
      "text/plain": [
       "Street\n",
       "Grvl    130190.500000\n",
       "Pave    181130.538514\n",
       "Name: SalePrice, dtype: float64"
      ]
     },
     "execution_count": 12,
     "metadata": {},
     "output_type": "execute_result"
    }
   ],
   "source": [
    "data.groupby(\"Street\")['SalePrice'].mean()"
   ]
  },
  {
   "cell_type": "code",
   "execution_count": 13,
   "id": "fd72a663",
   "metadata": {
    "execution": {
     "iopub.execute_input": "2021-11-13T13:44:15.443395Z",
     "iopub.status.busy": "2021-11-13T13:44:15.437656Z",
     "iopub.status.idle": "2021-11-13T13:44:15.447162Z",
     "shell.execute_reply": "2021-11-13T13:44:15.446729Z",
     "shell.execute_reply.started": "2021-11-13T13:41:23.145344Z"
    },
    "papermill": {
     "duration": 0.188609,
     "end_time": "2021-11-13T13:44:15.447274",
     "exception": false,
     "start_time": "2021-11-13T13:44:15.258665",
     "status": "completed"
    },
    "tags": []
   },
   "outputs": [
    {
     "data": {
      "text/html": [
       "<div>\n",
       "<style scoped>\n",
       "    .dataframe tbody tr th:only-of-type {\n",
       "        vertical-align: middle;\n",
       "    }\n",
       "\n",
       "    .dataframe tbody tr th {\n",
       "        vertical-align: top;\n",
       "    }\n",
       "\n",
       "    .dataframe thead th {\n",
       "        text-align: right;\n",
       "    }\n",
       "</style>\n",
       "<table border=\"1\" class=\"dataframe\">\n",
       "  <thead>\n",
       "    <tr style=\"text-align: right;\">\n",
       "      <th></th>\n",
       "      <th>SalePrice</th>\n",
       "    </tr>\n",
       "    <tr>\n",
       "      <th>Street</th>\n",
       "      <th></th>\n",
       "    </tr>\n",
       "  </thead>\n",
       "  <tbody>\n",
       "    <tr>\n",
       "      <th>Grvl</th>\n",
       "      <td>130190.500000</td>\n",
       "    </tr>\n",
       "    <tr>\n",
       "      <th>Pave</th>\n",
       "      <td>181130.538514</td>\n",
       "    </tr>\n",
       "  </tbody>\n",
       "</table>\n",
       "</div>"
      ],
      "text/plain": [
       "            SalePrice\n",
       "Street               \n",
       "Grvl    130190.500000\n",
       "Pave    181130.538514"
      ]
     },
     "execution_count": 13,
     "metadata": {},
     "output_type": "execute_result"
    }
   ],
   "source": [
    "data.groupby('Street').agg({'SalePrice':'mean'})"
   ]
  },
  {
   "cell_type": "code",
   "execution_count": 14,
   "id": "cfdff91f",
   "metadata": {
    "execution": {
     "iopub.execute_input": "2021-11-13T13:44:15.816115Z",
     "iopub.status.busy": "2021-11-13T13:44:15.815241Z",
     "iopub.status.idle": "2021-11-13T13:44:16.311183Z",
     "shell.execute_reply": "2021-11-13T13:44:16.310381Z",
     "shell.execute_reply.started": "2021-11-13T13:41:23.161070Z"
    },
    "papermill": {
     "duration": 0.678379,
     "end_time": "2021-11-13T13:44:16.311334",
     "exception": false,
     "start_time": "2021-11-13T13:44:15.632955",
     "status": "completed"
    },
    "tags": []
   },
   "outputs": [
    {
     "name": "stdout",
     "output_type": "stream",
     "text": [
      "###################### MSZoning ########################\n",
      "\n",
      "         Count     Ratio  Hedef Count  Hedef Ortalama     Hedef Std\n",
      "C (all)     25  0.008565           10    74528.000000  33791.092031\n",
      "FV         139  0.047619           65   214014.061538  52369.662067\n",
      "RH          26  0.008907           16   131558.375000  35714.118435\n",
      "RL        2265  0.775951         1151   191004.994787  80766.341319\n",
      "RM         460  0.157588          218   126316.830275  48521.689833\n",
      "\n",
      "###################### Street ########################\n",
      "\n",
      "      Count     Ratio  Hedef Count  Hedef Ortalama     Hedef Std\n",
      "Grvl     12  0.004111            6   130190.500000  65446.253991\n",
      "Pave   2907  0.995889         1454   181130.538514  79446.597317\n",
      "\n",
      "###################### Alley ########################\n",
      "\n",
      "      Count     Ratio  Hedef Count  Hedef Ortalama     Hedef Std\n",
      "Grvl    120  0.041110           50   122219.080000  34780.780734\n",
      "Pave     78  0.026721           41   168000.585366  38370.375243\n",
      "\n",
      "###################### LotShape ########################\n",
      "\n",
      "     Count     Ratio  Hedef Count  Hedef Ortalama     Hedef Std\n",
      "IR1    968  0.331620          484   206101.665289  85858.489559\n",
      "IR2     76  0.026036           41   239833.365854  99669.427362\n",
      "IR3     16  0.005481           10   216036.500000  82540.334855\n",
      "Reg   1859  0.636862          925   164754.818378  69673.427215\n",
      "\n",
      "###################### LandContour ########################\n",
      "\n",
      "     Count     Ratio  Hedef Count  Hedef Ortalama      Hedef Std\n",
      "Bnk    117  0.040082           63   143104.079365   49361.244074\n",
      "HLS    120  0.041110           50   231533.940000  101790.139741\n",
      "Low     60  0.020555           36   203661.111111   83935.353620\n",
      "Lvl   2622  0.898253         1311   180183.746758   78463.567918\n",
      "\n",
      "###################### Utilities ########################\n",
      "\n",
      "        Count     Ratio  Hedef Count  Hedef Ortalama     Hedef Std\n",
      "AllPub   2916  0.998972         1459    180950.95682  79461.599814\n",
      "NoSeWa      1  0.000343            1    137500.00000           NaN\n",
      "\n",
      "###################### LotConfig ########################\n",
      "\n",
      "         Count     Ratio  Hedef Count  Hedef Ortalama     Hedef Std\n",
      "Corner     511  0.175060          263   181623.425856  84466.041222\n",
      "CulDSac    176  0.060295           94   223854.617021  93117.546586\n",
      "FR2         85  0.029120           47   177934.574468  62788.926829\n",
      "FR3         14  0.004796            4   208475.000000  78379.222374\n",
      "Inside    2133  0.730730         1052   176938.047529  76426.805787\n",
      "\n",
      "###################### LandSlope ########################\n",
      "\n",
      "     Count     Ratio  Hedef Count  Hedef Ortalama     Hedef Std\n",
      "Gtl   2778  0.951696         1382   179956.799566  78669.369151\n",
      "Mod    125  0.042823           65   196734.138462  92375.358116\n",
      "Sev     16  0.005481           13   204379.230769  86729.922409\n",
      "\n",
      "###################### Condition1 ########################\n",
      "\n",
      "        Count     Ratio  Hedef Count  Hedef Ortalama     Hedef Std\n",
      "Artery     92  0.031518           48   135091.666667  66226.660548\n",
      "Feedr     164  0.056184           81   142475.481481  42157.290117\n",
      "Norm     2511  0.860226         1260   184495.492063  81256.980125\n",
      "PosA       20  0.006852            8   225875.000000  52348.932313\n",
      "PosN       39  0.013361           19   215184.210526  65256.536609\n",
      "RRAe       28  0.009592           11   138400.000000  24030.813553\n",
      "RRAn       50  0.017129           26   184396.615385  66177.922070\n",
      "RRNe        6  0.002055            2   190750.000000   5303.300859\n",
      "RRNn        9  0.003083            5   212400.000000  93823.238060\n",
      "\n",
      "###################### Condition2 ########################\n",
      "\n",
      "        Count     Ratio  Hedef Count  Hedef Ortalama      Hedef Std\n",
      "Artery      5  0.001713            2   106500.000000   16263.455967\n",
      "Feedr      13  0.004454            6   121166.666667   33544.994659\n",
      "Norm     2889  0.989723         1445   181169.405536   79337.735547\n",
      "PosA        4  0.001370            1   325000.000000            NaN\n",
      "PosN        4  0.001370            2   284875.000000  141598.132933\n",
      "RRAe        1  0.000343            1   190000.000000            NaN\n",
      "RRAn        1  0.000343            1   136905.000000            NaN\n",
      "RRNn        2  0.000685            2    96750.000000   39951.533137\n",
      "\n",
      "###################### BldgType ########################\n",
      "\n",
      "        Count     Ratio  Hedef Count  Hedef Ortalama     Hedef Std\n",
      "1Fam     2425  0.830764         1220   185763.807377  82648.502922\n",
      "2fmCon     62  0.021240           31   128432.258065  35458.545158\n",
      "Duplex    109  0.037342           52   133541.076923  27833.249197\n",
      "Twnhs      96  0.032888           43   135911.627907  41013.222080\n",
      "TwnhsE    227  0.077766          114   181959.342105  60626.108918\n",
      "\n",
      "###################### HouseStyle ########################\n",
      "\n",
      "        Count     Ratio  Hedef Count  Hedef Ortalama      Hedef Std\n",
      "1.5Fin    314  0.107571          154   143116.740260   54277.941119\n",
      "1.5Unf     19  0.006509           14   110150.000000   19036.473090\n",
      "1Story   1471  0.503940          726   175985.477961   77055.715011\n",
      "2.5Fin      8  0.002741            8   220000.000000  118211.976671\n",
      "2.5Unf     24  0.008222           11   157354.545455   63934.128032\n",
      "2Story    872  0.298732          445   210051.764045   87339.213570\n",
      "SFoyer     83  0.028434           37   135074.486486   30480.898192\n",
      "SLvl      128  0.043851           65   166703.384615   38305.161339\n",
      "\n",
      "###################### OverallCond ########################\n",
      "\n",
      "   Count     Ratio  Hedef Count  Hedef Ortalama      Hedef Std\n",
      "1      7  0.002398            1    61000.000000            NaN\n",
      "2     10  0.003426            5   141986.400000  141342.813488\n",
      "3     50  0.017129           25   101929.400000   44852.490403\n",
      "4    101  0.034601           57   120438.438596   38922.525907\n",
      "5   1645  0.563549          821   203146.914738   85117.319416\n",
      "6    531  0.181912          252   153961.591270   60737.969824\n",
      "7    390  0.133607          205   158145.487805   53468.189431\n",
      "8    144  0.049332           72   155651.736111   52375.144681\n",
      "9     41  0.014046           22   216004.545455   96485.974689\n",
      "\n",
      "###################### RoofStyle ########################\n",
      "\n",
      "         Count     Ratio  Hedef Count  Hedef Ortalama      Hedef Std\n",
      "Flat        20  0.006852           13   194690.000000   62522.963515\n",
      "Gable     2310  0.791367         1141   171483.956179   66331.237296\n",
      "Gambrel     22  0.007537           11   148909.090909   67013.527807\n",
      "Hip        551  0.188763          286   218876.933566  111549.603563\n",
      "Mansard     11  0.003768            7   180568.428571   58057.624627\n",
      "Shed         5  0.001713            2   225000.000000   49497.474683\n",
      "\n",
      "###################### RoofMatl ########################\n",
      "\n",
      "         Count     Ratio  Hedef Count  Hedef Ortalama      Hedef Std\n",
      "ClyTile      1  0.000343            1   160000.000000            NaN\n",
      "CompShg   2876  0.985269         1434   179803.679219   77722.388636\n",
      "Membran      1  0.000343            1   241500.000000            NaN\n",
      "Metal        1  0.000343            1   180000.000000            NaN\n",
      "Roll         1  0.000343            1   137000.000000            NaN\n",
      "Tar&Grv     23  0.007879           11   185406.363636   65430.141720\n",
      "WdShake      9  0.003083            5   241400.000000   36218.779659\n",
      "WdShngl      7  0.002398            6   390250.000000  206969.019421\n",
      "\n",
      "###################### MasVnrType ########################\n",
      "\n",
      "         Count     Ratio  Hedef Count  Hedef Ortalama     Hedef Std\n",
      "BrkCmn      25  0.008565           15   146318.066667  46187.583632\n",
      "BrkFace    879  0.301131          445   204691.871910  81214.293554\n",
      "None      1742  0.596780          864   156221.891204  60708.262798\n",
      "Stone      249  0.085303          128   265583.625000  99940.156577\n",
      "\n",
      "###################### ExterQual ########################\n",
      "\n",
      "    Count     Ratio  Hedef Count  Hedef Ortalama      Hedef Std\n",
      "Ex    107  0.036656           52   367360.961538  116401.264200\n",
      "Fa     35  0.011990           14    87985.214286   39826.918794\n",
      "Gd    979  0.335389          488   231633.510246   71188.873899\n",
      "TA   1798  0.615964          906   144341.313466   42471.815703\n",
      "\n",
      "###################### ExterCond ########################\n",
      "\n",
      "    Count     Ratio  Hedef Count  Hedef Ortalama      Hedef Std\n",
      "Ex     12  0.004111            3   201333.333333  109235.220205\n",
      "Fa     67  0.022953           28   102595.142857   40094.383940\n",
      "Gd    299  0.102432          146   168897.568493   72608.303632\n",
      "Po      3  0.001028            1    76500.000000            NaN\n",
      "TA   2538  0.869476         1282   184034.896256   79806.257233\n",
      "\n",
      "###################### Foundation ########################\n",
      "\n",
      "        Count     Ratio  Hedef Count  Hedef Ortalama     Hedef Std\n",
      "BrkTil    311  0.106543          146   132291.075342  54592.393032\n",
      "CBlock   1235  0.423090          634   149805.714511  48295.041759\n",
      "PConc    1308  0.448099          647   225230.442040  86865.977283\n",
      "Slab       49  0.016787           24   107365.625000  34213.980939\n",
      "Stone      11  0.003768            6   165959.166667  78557.704413\n",
      "Wood        5  0.001713            3   185666.666667  56695.090910\n",
      "\n",
      "###################### BsmtQual ########################\n",
      "\n",
      "    Count     Ratio  Hedef Count  Hedef Ortalama      Hedef Std\n",
      "Ex    258  0.088386          121   327041.041322  113563.237392\n",
      "Fa     88  0.030147           35   115692.028571   34469.667278\n",
      "Gd   1209  0.414183          618   202688.478964   58092.364284\n",
      "TA   1283  0.439534          649   140759.818182   43483.265311\n",
      "\n",
      "###################### BsmtCond ########################\n",
      "\n",
      "    Count     Ratio  Hedef Count  Hedef Ortalama     Hedef Std\n",
      "Fa    104  0.035629           45   121809.533333  43467.796975\n",
      "Gd    122  0.041795           65   213599.907692  72663.155026\n",
      "Po      5  0.001713            2    64000.000000   4242.640687\n",
      "TA   2606  0.892771         1311   183632.620900  79515.388449\n",
      "\n",
      "###################### BsmtExposure ########################\n",
      "\n",
      "    Count     Ratio  Hedef Count  Hedef Ortalama      Hedef Std\n",
      "Av    418  0.143200          221   206643.420814   88655.504849\n",
      "Gd    276  0.094553          134   257689.805970  118923.672583\n",
      "Mn    239  0.081877          114   192789.657895   77335.442652\n",
      "No   1904  0.652278          953   165652.295908   60695.724915\n",
      "\n",
      "###################### BsmtFinType1 ########################\n",
      "\n",
      "     Count     Ratio  Hedef Count  Hedef Ortalama     Hedef Std\n",
      "ALQ    429  0.146968          220   161573.068182  50821.277231\n",
      "BLQ    269  0.092155          148   149493.655405  47327.292126\n",
      "GLQ    849  0.290853          418   235413.720096  93215.613258\n",
      "LwQ    154  0.052758           74   151852.702703  50796.987083\n",
      "Rec    288  0.098664          133   146889.248120  45190.118879\n",
      "Unf    851  0.291538          430   170670.576744  72577.080129\n",
      "\n",
      "###################### BsmtFinType2 ########################\n",
      "\n",
      "     Count     Ratio  Hedef Count  Hedef Ortalama      Hedef Std\n",
      "ALQ     52  0.017814           19   209942.105263  104764.743411\n",
      "BLQ     68  0.023296           33   151101.000000   41611.305388\n",
      "GLQ     34  0.011648           14   180982.142857   64573.040359\n",
      "LwQ     87  0.029805           46   164364.130435   43255.035241\n",
      "Rec    105  0.035971           54   164917.129630   59183.277020\n",
      "Unf   2493  0.854060         1256   184694.690287   81275.313909\n",
      "\n",
      "###################### Heating ########################\n",
      "\n",
      "       Count     Ratio  Hedef Count  Hedef Ortalama     Hedef Std\n",
      "Floor      1  0.000343            1    72500.000000           NaN\n",
      "GasA    2874  0.984584         1428   182021.195378  79262.873587\n",
      "GasW      27  0.009250           18   166632.166667  78547.575324\n",
      "Grav       9  0.003083            7    75271.428571  28066.570524\n",
      "OthW       2  0.000685            2   125750.000000   5303.300859\n",
      "Wall       6  0.002055            4    92100.000000   4509.988914\n",
      "\n",
      "###################### HeatingQC ########################\n",
      "\n",
      "    Count     Ratio  Hedef Count  Hedef Ortalama     Hedef Std\n",
      "Ex   1493  0.511477          741   214914.429150  87469.704503\n",
      "Fa     92  0.031518           49   123919.489796  50306.618996\n",
      "Gd    474  0.162384          241   156858.871369  52923.920003\n",
      "Po      3  0.001028            1    87000.000000           NaN\n",
      "TA    857  0.293594          428   142362.876168  47226.485663\n",
      "\n",
      "###################### CentralAir ########################\n",
      "\n",
      "   Count     Ratio  Hedef Count  Hedef Ortalama     Hedef Std\n",
      "N    196  0.067146           95   105264.073684  40671.273961\n",
      "Y   2723  0.932854         1365   186186.709890  78805.206820\n",
      "\n",
      "###################### Electrical ########################\n",
      "\n",
      "       Count     Ratio  Hedef Count  Hedef Ortalama     Hedef Std\n",
      "FuseA    188  0.064406           94   122196.893617  37511.376615\n",
      "FuseF     50  0.017129           27   107675.444444  30636.507376\n",
      "FuseP      8  0.002741            3    97333.333333  34645.827070\n",
      "Mix        1  0.000343            1    67000.000000           NaN\n",
      "SBrkr   2671  0.915039         1334   186825.113193  79856.458326\n",
      "\n",
      "###################### BsmtFullBath ########################\n",
      "\n",
      "     Count     Ratio  Hedef Count  Hedef Ortalama     Hedef Std\n",
      "0.0   1705  0.584104          856   165521.640187  68137.819610\n",
      "1.0   1172  0.401507          588   202522.918367  88895.866415\n",
      "2.0     38  0.013018           15   213063.066667  87308.196346\n",
      "3.0      2  0.000685            1   179000.000000           NaN\n",
      "\n",
      "###################### BsmtHalfBath ########################\n",
      "\n",
      "     Count     Ratio  Hedef Count  Hedef Ortalama     Hedef Std\n",
      "0.0   2742  0.939363         1378   181230.330189  79303.224623\n",
      "1.0    171  0.058582           80   176098.125000  82901.003355\n",
      "2.0      4  0.001370            2   160850.500000  47164.729412\n",
      "\n",
      "###################### FullBath ########################\n",
      "\n",
      "   Count     Ratio  Hedef Count  Hedef Ortalama      Hedef Std\n",
      "0     12  0.004111            9   165200.888889  106083.806001\n",
      "1   1309  0.448441          650   134751.440000   41565.080488\n",
      "2   1530  0.524152          768   213009.825521   72446.809159\n",
      "3     64  0.021925           33   347822.909091  165185.455377\n",
      "4      4  0.001370            0             NaN            NaN\n",
      "\n",
      "###################### HalfBath ########################\n",
      "\n",
      "   Count     Ratio  Hedef Count  Hedef Ortalama     Hedef Std\n",
      "0   1834  0.628297          913   162534.884995  67450.336922\n",
      "1   1060  0.363138          535   212721.960748  88629.242668\n",
      "2     25  0.008565           12   162028.916667  30315.705676\n",
      "\n",
      "###################### BedroomAbvGr ########################\n",
      "\n",
      "   Count     Ratio  Hedef Count  Hedef Ortalama      Hedef Std\n",
      "0      8  0.002741            6   221493.166667  106675.888935\n",
      "1    103  0.035286           50   173162.420000  102975.067584\n",
      "2    742  0.254197          358   158197.659218   78197.106241\n",
      "3   1596  0.546763          804   181056.870647   63793.924903\n",
      "4    400  0.137033          213   220421.253521  109510.516383\n",
      "5     48  0.016444           21   180819.047619   68472.480743\n",
      "6     21  0.007194            7   143779.000000   26455.384839\n",
      "8      1  0.000343            1   200000.000000            NaN\n",
      "\n",
      "###################### KitchenAbvGr ########################\n",
      "\n",
      "   Count     Ratio  Hedef Count  Hedef Ortalama     Hedef Std\n",
      "0      3  0.001028            1   127500.000000           NaN\n",
      "1   2785  0.954094         1392   183388.790230  80265.344315\n",
      "2    129  0.044193           65   131096.153846  31483.474549\n",
      "3      2  0.000685            2   109500.000000   4949.747468\n",
      "\n",
      "###################### KitchenQual ########################\n",
      "\n",
      "    Count     Ratio  Hedef Count  Hedef Ortalama      Hedef Std\n",
      "Ex    205  0.070230          100   328554.670000  120862.942573\n",
      "Fa     70  0.023981           39   105565.205128   36004.254037\n",
      "Gd   1151  0.394313          586   212116.023891   64020.176702\n",
      "TA   1492  0.511134          735   139962.511565   38896.280336\n",
      "\n",
      "###################### Functional ########################\n",
      "\n",
      "      Count     Ratio  Hedef Count  Hedef Ortalama      Hedef Std\n",
      "Maj1     19  0.006509           14   153948.142857   64503.775815\n",
      "Maj2      9  0.003083            5    85800.000000   27086.897201\n",
      "Min1     65  0.022268           31   146385.483871   38089.572487\n",
      "Min2     70  0.023981           34   144240.647059   41215.354652\n",
      "Mod      35  0.011990           15   168393.333333  118938.666467\n",
      "Sev       2  0.000685            1   129000.000000            NaN\n",
      "Typ    2717  0.930798         1360   183429.147059   80017.959658\n",
      "\n",
      "###################### Fireplaces ########################\n",
      "\n",
      "   Count     Ratio  Hedef Count  Hedef Ortalama      Hedef Std\n",
      "0   1420  0.486468          690   141331.482609   44389.786884\n",
      "1   1268  0.434395          650   211843.909231   79531.825318\n",
      "2    219  0.075026          115   240588.539130  117451.800525\n",
      "3     11  0.003768            5   252000.000000   93313.986090\n",
      "4      1  0.000343            0             NaN            NaN\n",
      "\n",
      "###################### FireplaceQu ########################\n",
      "\n",
      "    Count     Ratio  Hedef Count  Hedef Ortalama      Hedef Std\n",
      "Ex     43  0.014731           24   337712.500000  123611.471764\n",
      "Fa     74  0.025351           33   167298.484848   34287.717564\n",
      "Gd    744  0.254882          380   226351.415789   91123.148369\n",
      "Po     46  0.015759           20   129764.150000   31080.842115\n",
      "TA    592  0.202809          313   205723.488818   71367.028772\n",
      "\n",
      "###################### GarageType ########################\n",
      "\n",
      "         Count     Ratio  Hedef Count  Hedef Ortalama      Hedef Std\n",
      "2Types      23  0.007879            6   151283.333333   34917.068415\n",
      "Attchd    1723  0.590271          870   202892.656322   77146.621778\n",
      "Basment     36  0.012333           19   160570.684211   63967.283574\n",
      "BuiltIn    186  0.063720           88   254751.738636  102230.854394\n",
      "CarPort     15  0.005139            9   109962.111111   24638.183681\n",
      "Detchd     779  0.266872          387   134091.162791   41391.549953\n",
      "\n",
      "###################### GarageFinish ########################\n",
      "\n",
      "     Count     Ratio  Hedef Count  Hedef Ortalama     Hedef Std\n",
      "Fin    719  0.246317          352   240052.690341  96960.593232\n",
      "RFn    811  0.277835          422   202068.869668  63536.222518\n",
      "Unf   1230  0.421377          605   142156.423140  46498.528211\n",
      "\n",
      "###################### GarageCars ########################\n",
      "\n",
      "     Count     Ratio  Hedef Count  Hedef Ortalama      Hedef Std\n",
      "0.0    157  0.053786           81   103317.283951   32815.023389\n",
      "1.0    776  0.265844          369   128116.688347   30412.386890\n",
      "2.0   1594  0.546077          824   183851.663835   51617.144258\n",
      "3.0    374  0.128126          181   309636.121547  106832.925939\n",
      "4.0     16  0.005481            5   192655.800000   52621.839745\n",
      "5.0      1  0.000343            0             NaN            NaN\n",
      "\n",
      "###################### GarageQual ########################\n",
      "\n",
      "    Count     Ratio  Hedef Count  Hedef Ortalama      Hedef Std\n",
      "Ex      3  0.001028            3   241000.000000  202680.166765\n",
      "Fa    124  0.042480           48   123573.354167   42971.440985\n",
      "Gd     24  0.008222           14   215860.714286   74126.739021\n",
      "Po      5  0.001713            3   100166.666667   35143.752408\n",
      "TA   2604  0.892086         1311   187489.836003   78774.948567\n",
      "\n",
      "###################### GarageCond ########################\n",
      "\n",
      "    Count     Ratio  Hedef Count  Hedef Ortalama     Hedef Std\n",
      "Ex      3  0.001028            2   124000.000000   4949.747468\n",
      "Fa     74  0.025351           35   114654.028571  36420.903588\n",
      "Gd     15  0.005139            9   179930.000000  64769.318354\n",
      "Po     14  0.004796            7   108500.000000  22662.377045\n",
      "TA   2654  0.909215         1326   187885.735294  79103.322640\n",
      "\n",
      "###################### PavedDrive ########################\n",
      "\n",
      "   Count     Ratio  Hedef Count  Hedef Ortalama     Hedef Std\n",
      "N    216  0.073998           90   115039.122222  44352.523309\n",
      "P     62  0.021240           30   132330.000000  33503.030228\n",
      "Y   2641  0.904762         1340   186433.973881  79665.503047\n",
      "\n",
      "###################### PoolQC ########################\n",
      "\n",
      "    Count     Ratio  Hedef Count  Hedef Ortalama      Hedef Std\n",
      "Ex      4  0.001370            2        490000.0  360624.458405\n",
      "Fa      2  0.000685            2        215500.0   48790.367902\n",
      "Gd      4  0.001370            3        201990.0   63441.392639\n",
      "\n",
      "###################### Fence ########################\n",
      "\n",
      "       Count     Ratio  Hedef Count  Hedef Ortalama     Hedef Std\n",
      "GdPrv    118  0.040425           59   178927.457627  56757.237563\n",
      "GdWo     112  0.038369           54   140379.314815  53592.585059\n",
      "MnPrv    329  0.112710          157   148751.089172  66096.069463\n",
      "MnWw      12  0.004111           11   134286.363636  21781.805376\n",
      "\n",
      "###################### MiscFeature ########################\n",
      "\n",
      "      Count     Ratio  Hedef Count  Hedef Ortalama     Hedef Std\n",
      "Gar2      5  0.001713            2   170750.000000  27223.611076\n",
      "Othr      4  0.001370            2    94000.000000  55154.328933\n",
      "Shed     95  0.032545           49   151187.612245  51642.728056\n",
      "TenC      1  0.000343            1   250000.000000           NaN\n",
      "\n",
      "###################### YrSold ########################\n",
      "\n",
      "      Count     Ratio  Hedef Count  Hedef Ortalama     Hedef Std\n",
      "2006    619  0.212059          314   182549.458599  79426.838855\n",
      "2007    692  0.237067          329   186063.151976  85768.171410\n",
      "2008    622  0.213087          304   177360.838816  69735.610685\n",
      "2009    647  0.221651          338   179432.103550  80879.237311\n",
      "2010    339  0.116136          175   177393.674286  80451.280085\n",
      "\n",
      "###################### SaleType ########################\n",
      "\n",
      "       Count     Ratio  Hedef Count  Hedef Ortalama      Hedef Std\n",
      "COD       87  0.029805           43   143973.255814   47098.294314\n",
      "CWD       12  0.004111            4   210600.000000   86421.486526\n",
      "Con        5  0.001713            2   269600.000000   76933.217793\n",
      "ConLD     26  0.008907            9   138780.888889   53876.560647\n",
      "ConLI      9  0.003083            5   200390.000000  145282.519595\n",
      "ConLw      8  0.002741            5   143700.000000   67291.901444\n",
      "New      239  0.081877          122   274945.418033  103239.582158\n",
      "Oth        7  0.002398            3   119850.000000   28441.035495\n",
      "WD      2525  0.865022         1267   173401.836622   71129.686245\n",
      "\n",
      "###################### SaleCondition ########################\n",
      "\n",
      "         Count     Ratio  Hedef Count  Hedef Ortalama      Hedef Std\n",
      "Abnorml    190  0.065091          101   146526.623762   82796.213395\n",
      "AdjLand     12  0.004111            4   104125.000000   26135.464411\n",
      "Alloca      24  0.008222           12   167377.416667   84460.527502\n",
      "Family      46  0.015759           20   149600.000000   47820.002421\n",
      "Normal    2402  0.822885         1198   175202.219533   69713.636280\n",
      "Partial    245  0.083933          125   272291.752000  103696.404119\n",
      "\n"
     ]
    }
   ],
   "source": [
    "def Target(df, cat_number = 10, target = 'SalePrice'):\n",
    "    \n",
    "    cat_cols = [cols for cols in df.columns if df[cols].nunique() < int(cat_number)]\n",
    "    \n",
    "    for cols in cat_cols:\n",
    "\n",
    "        data_new = pd.DataFrame({'Count':df[cols].value_counts(),\n",
    "                                'Ratio':df[cols].value_counts() / len(df),\n",
    "                                'Hedef Count':df.groupby(cols)[target].count(),\n",
    "                                'Hedef Ortalama':df.groupby(cols)[target].mean(),\n",
    "                                'Hedef Std':df.groupby(cols)[target].std()})\n",
    "        \n",
    "        print(f\"###################### {df[cols].name} ########################\",end = \"\\n\\n\")\n",
    "        print(data_new, end = \"\\n\\n\")\n",
    "        \n",
    "Target(df = data, cat_number = 10, target = \"SalePrice\")"
   ]
  },
  {
   "cell_type": "markdown",
   "id": "8e0e0da8",
   "metadata": {
    "papermill": {
     "duration": 0.177216,
     "end_time": "2021-11-13T13:44:16.680425",
     "exception": false,
     "start_time": "2021-11-13T13:44:16.503209",
     "status": "completed"
    },
    "tags": []
   },
   "source": [
    "# Sayısal Değişken "
   ]
  },
  {
   "cell_type": "code",
   "execution_count": 15,
   "id": "97d3f5c9",
   "metadata": {
    "execution": {
     "iopub.execute_input": "2021-11-13T13:44:17.063479Z",
     "iopub.status.busy": "2021-11-13T13:44:17.055303Z",
     "iopub.status.idle": "2021-11-13T13:44:17.067508Z",
     "shell.execute_reply": "2021-11-13T13:44:17.067895Z",
     "shell.execute_reply.started": "2021-11-13T13:41:23.636071Z"
    },
    "papermill": {
     "duration": 0.205778,
     "end_time": "2021-11-13T13:44:17.068044",
     "exception": false,
     "start_time": "2021-11-13T13:44:16.862266",
     "status": "completed"
    },
    "tags": []
   },
   "outputs": [
    {
     "data": {
      "text/html": [
       "<div>\n",
       "<style scoped>\n",
       "    .dataframe tbody tr th:only-of-type {\n",
       "        vertical-align: middle;\n",
       "    }\n",
       "\n",
       "    .dataframe tbody tr th {\n",
       "        vertical-align: top;\n",
       "    }\n",
       "\n",
       "    .dataframe thead th {\n",
       "        text-align: right;\n",
       "    }\n",
       "</style>\n",
       "<table border=\"1\" class=\"dataframe\">\n",
       "  <thead>\n",
       "    <tr style=\"text-align: right;\">\n",
       "      <th></th>\n",
       "      <th>PoolArea</th>\n",
       "      <th>GarageArea</th>\n",
       "      <th>FullBath</th>\n",
       "    </tr>\n",
       "    <tr>\n",
       "      <th>Street</th>\n",
       "      <th></th>\n",
       "      <th></th>\n",
       "      <th></th>\n",
       "    </tr>\n",
       "  </thead>\n",
       "  <tbody>\n",
       "    <tr>\n",
       "      <th>Grvl</th>\n",
       "      <td>0</td>\n",
       "      <td>461.500000</td>\n",
       "      <td>1</td>\n",
       "    </tr>\n",
       "    <tr>\n",
       "      <th>Pave</th>\n",
       "      <td>800</td>\n",
       "      <td>472.921542</td>\n",
       "      <td>0</td>\n",
       "    </tr>\n",
       "  </tbody>\n",
       "</table>\n",
       "</div>"
      ],
      "text/plain": [
       "        PoolArea  GarageArea  FullBath\n",
       "Street                                \n",
       "Grvl           0  461.500000         1\n",
       "Pave         800  472.921542         0"
      ]
     },
     "execution_count": 15,
     "metadata": {},
     "output_type": "execute_result"
    }
   ],
   "source": [
    "data.groupby('Street').agg({'PoolArea':'max','GarageArea':'mean','FullBath':'min'})"
   ]
  },
  {
   "cell_type": "markdown",
   "id": "7de14d0e",
   "metadata": {
    "papermill": {
     "duration": 0.177849,
     "end_time": "2021-11-13T13:44:17.423005",
     "exception": false,
     "start_time": "2021-11-13T13:44:17.245156",
     "status": "completed"
    },
    "tags": []
   },
   "source": [
    "- Sayısal Değişkenlerimizin, **Korelasyonuna** Bakalım"
   ]
  },
  {
   "cell_type": "code",
   "execution_count": 16,
   "id": "0490a87f",
   "metadata": {
    "execution": {
     "iopub.execute_input": "2021-11-13T13:44:17.793267Z",
     "iopub.status.busy": "2021-11-13T13:44:17.792466Z",
     "iopub.status.idle": "2021-11-13T13:44:17.855378Z",
     "shell.execute_reply": "2021-11-13T13:44:17.855823Z",
     "shell.execute_reply.started": "2021-11-13T13:41:23.654089Z"
    },
    "papermill": {
     "duration": 0.250335,
     "end_time": "2021-11-13T13:44:17.855979",
     "exception": false,
     "start_time": "2021-11-13T13:44:17.605644",
     "status": "completed"
    },
    "tags": []
   },
   "outputs": [
    {
     "data": {
      "text/html": [
       "<div>\n",
       "<style scoped>\n",
       "    .dataframe tbody tr th:only-of-type {\n",
       "        vertical-align: middle;\n",
       "    }\n",
       "\n",
       "    .dataframe tbody tr th {\n",
       "        vertical-align: top;\n",
       "    }\n",
       "\n",
       "    .dataframe thead th {\n",
       "        text-align: right;\n",
       "    }\n",
       "</style>\n",
       "<table border=\"1\" class=\"dataframe\">\n",
       "  <thead>\n",
       "    <tr style=\"text-align: right;\">\n",
       "      <th></th>\n",
       "      <th>Id</th>\n",
       "      <th>MSSubClass</th>\n",
       "      <th>LotFrontage</th>\n",
       "      <th>LotArea</th>\n",
       "      <th>OverallQual</th>\n",
       "      <th>OverallCond</th>\n",
       "      <th>YearBuilt</th>\n",
       "      <th>YearRemodAdd</th>\n",
       "      <th>MasVnrArea</th>\n",
       "      <th>BsmtFinSF1</th>\n",
       "      <th>...</th>\n",
       "      <th>WoodDeckSF</th>\n",
       "      <th>OpenPorchSF</th>\n",
       "      <th>EnclosedPorch</th>\n",
       "      <th>3SsnPorch</th>\n",
       "      <th>ScreenPorch</th>\n",
       "      <th>PoolArea</th>\n",
       "      <th>MiscVal</th>\n",
       "      <th>MoSold</th>\n",
       "      <th>YrSold</th>\n",
       "      <th>SalePrice</th>\n",
       "    </tr>\n",
       "  </thead>\n",
       "  <tbody>\n",
       "    <tr>\n",
       "      <th>Id</th>\n",
       "      <td>1.000000</td>\n",
       "      <td>0.008931</td>\n",
       "      <td>-0.027549</td>\n",
       "      <td>-0.040746</td>\n",
       "      <td>-0.029771</td>\n",
       "      <td>-0.002839</td>\n",
       "      <td>-0.016581</td>\n",
       "      <td>-0.050438</td>\n",
       "      <td>-0.025219</td>\n",
       "      <td>-0.016947</td>\n",
       "      <td>...</td>\n",
       "      <td>-0.007056</td>\n",
       "      <td>0.009960</td>\n",
       "      <td>0.021609</td>\n",
       "      <td>-0.046538</td>\n",
       "      <td>0.022208</td>\n",
       "      <td>0.014332</td>\n",
       "      <td>0.008244</td>\n",
       "      <td>0.006448</td>\n",
       "      <td>-0.256050</td>\n",
       "      <td>-0.021917</td>\n",
       "    </tr>\n",
       "    <tr>\n",
       "      <th>MSSubClass</th>\n",
       "      <td>0.008931</td>\n",
       "      <td>1.000000</td>\n",
       "      <td>-0.417359</td>\n",
       "      <td>-0.201730</td>\n",
       "      <td>0.033638</td>\n",
       "      <td>-0.065625</td>\n",
       "      <td>0.034409</td>\n",
       "      <td>0.043315</td>\n",
       "      <td>0.005433</td>\n",
       "      <td>-0.064311</td>\n",
       "      <td>...</td>\n",
       "      <td>-0.017654</td>\n",
       "      <td>-0.015923</td>\n",
       "      <td>-0.020867</td>\n",
       "      <td>-0.037529</td>\n",
       "      <td>-0.049181</td>\n",
       "      <td>-0.003080</td>\n",
       "      <td>-0.028867</td>\n",
       "      <td>-0.001231</td>\n",
       "      <td>-0.015028</td>\n",
       "      <td>-0.084284</td>\n",
       "    </tr>\n",
       "    <tr>\n",
       "      <th>LotFrontage</th>\n",
       "      <td>-0.027549</td>\n",
       "      <td>-0.417359</td>\n",
       "      <td>1.000000</td>\n",
       "      <td>0.489896</td>\n",
       "      <td>0.217645</td>\n",
       "      <td>-0.075508</td>\n",
       "      <td>0.122811</td>\n",
       "      <td>0.091557</td>\n",
       "      <td>0.221079</td>\n",
       "      <td>0.219408</td>\n",
       "      <td>...</td>\n",
       "      <td>0.122070</td>\n",
       "      <td>0.164896</td>\n",
       "      <td>0.011509</td>\n",
       "      <td>0.028289</td>\n",
       "      <td>0.075858</td>\n",
       "      <td>0.174119</td>\n",
       "      <td>0.044272</td>\n",
       "      <td>0.011254</td>\n",
       "      <td>-0.007917</td>\n",
       "      <td>0.351799</td>\n",
       "    </tr>\n",
       "    <tr>\n",
       "      <th>LotArea</th>\n",
       "      <td>-0.040746</td>\n",
       "      <td>-0.201730</td>\n",
       "      <td>0.489896</td>\n",
       "      <td>1.000000</td>\n",
       "      <td>0.100541</td>\n",
       "      <td>-0.035617</td>\n",
       "      <td>0.024128</td>\n",
       "      <td>0.021612</td>\n",
       "      <td>0.125596</td>\n",
       "      <td>0.194031</td>\n",
       "      <td>...</td>\n",
       "      <td>0.158045</td>\n",
       "      <td>0.104797</td>\n",
       "      <td>0.020974</td>\n",
       "      <td>0.015995</td>\n",
       "      <td>0.054375</td>\n",
       "      <td>0.093708</td>\n",
       "      <td>0.069029</td>\n",
       "      <td>0.004156</td>\n",
       "      <td>-0.024234</td>\n",
       "      <td>0.263843</td>\n",
       "    </tr>\n",
       "    <tr>\n",
       "      <th>OverallQual</th>\n",
       "      <td>-0.029771</td>\n",
       "      <td>0.033638</td>\n",
       "      <td>0.217645</td>\n",
       "      <td>0.100541</td>\n",
       "      <td>1.000000</td>\n",
       "      <td>-0.093847</td>\n",
       "      <td>0.597554</td>\n",
       "      <td>0.571532</td>\n",
       "      <td>0.432947</td>\n",
       "      <td>0.281810</td>\n",
       "      <td>...</td>\n",
       "      <td>0.255317</td>\n",
       "      <td>0.298084</td>\n",
       "      <td>-0.139256</td>\n",
       "      <td>0.018715</td>\n",
       "      <td>0.042910</td>\n",
       "      <td>0.030740</td>\n",
       "      <td>0.005562</td>\n",
       "      <td>0.030405</td>\n",
       "      <td>-0.019614</td>\n",
       "      <td>0.790982</td>\n",
       "    </tr>\n",
       "    <tr>\n",
       "      <th>OverallCond</th>\n",
       "      <td>-0.002839</td>\n",
       "      <td>-0.065625</td>\n",
       "      <td>-0.075508</td>\n",
       "      <td>-0.035617</td>\n",
       "      <td>-0.093847</td>\n",
       "      <td>1.000000</td>\n",
       "      <td>-0.368477</td>\n",
       "      <td>0.047654</td>\n",
       "      <td>-0.136007</td>\n",
       "      <td>-0.050418</td>\n",
       "      <td>...</td>\n",
       "      <td>0.020123</td>\n",
       "      <td>-0.068978</td>\n",
       "      <td>0.071044</td>\n",
       "      <td>0.043739</td>\n",
       "      <td>0.043713</td>\n",
       "      <td>-0.016876</td>\n",
       "      <td>0.033956</td>\n",
       "      <td>-0.006256</td>\n",
       "      <td>0.030102</td>\n",
       "      <td>-0.077856</td>\n",
       "    </tr>\n",
       "    <tr>\n",
       "      <th>YearBuilt</th>\n",
       "      <td>-0.016581</td>\n",
       "      <td>0.034409</td>\n",
       "      <td>0.122811</td>\n",
       "      <td>0.024128</td>\n",
       "      <td>0.597554</td>\n",
       "      <td>-0.368477</td>\n",
       "      <td>1.000000</td>\n",
       "      <td>0.612235</td>\n",
       "      <td>0.314051</td>\n",
       "      <td>0.279581</td>\n",
       "      <td>...</td>\n",
       "      <td>0.229426</td>\n",
       "      <td>0.198554</td>\n",
       "      <td>-0.374073</td>\n",
       "      <td>0.015958</td>\n",
       "      <td>-0.041046</td>\n",
       "      <td>0.002304</td>\n",
       "      <td>-0.010886</td>\n",
       "      <td>0.013938</td>\n",
       "      <td>-0.012344</td>\n",
       "      <td>0.522897</td>\n",
       "    </tr>\n",
       "    <tr>\n",
       "      <th>YearRemodAdd</th>\n",
       "      <td>-0.050438</td>\n",
       "      <td>0.043315</td>\n",
       "      <td>0.091557</td>\n",
       "      <td>0.021612</td>\n",
       "      <td>0.571532</td>\n",
       "      <td>0.047654</td>\n",
       "      <td>0.612235</td>\n",
       "      <td>1.000000</td>\n",
       "      <td>0.196875</td>\n",
       "      <td>0.152126</td>\n",
       "      <td>...</td>\n",
       "      <td>0.218513</td>\n",
       "      <td>0.242182</td>\n",
       "      <td>-0.220456</td>\n",
       "      <td>0.037433</td>\n",
       "      <td>-0.046878</td>\n",
       "      <td>-0.011407</td>\n",
       "      <td>-0.003124</td>\n",
       "      <td>0.017693</td>\n",
       "      <td>0.033203</td>\n",
       "      <td>0.507101</td>\n",
       "    </tr>\n",
       "    <tr>\n",
       "      <th>MasVnrArea</th>\n",
       "      <td>-0.025219</td>\n",
       "      <td>0.005433</td>\n",
       "      <td>0.221079</td>\n",
       "      <td>0.125596</td>\n",
       "      <td>0.432947</td>\n",
       "      <td>-0.136007</td>\n",
       "      <td>0.314051</td>\n",
       "      <td>0.196875</td>\n",
       "      <td>1.000000</td>\n",
       "      <td>0.303490</td>\n",
       "      <td>...</td>\n",
       "      <td>0.166200</td>\n",
       "      <td>0.144650</td>\n",
       "      <td>-0.111499</td>\n",
       "      <td>0.013612</td>\n",
       "      <td>0.065209</td>\n",
       "      <td>0.004512</td>\n",
       "      <td>0.044811</td>\n",
       "      <td>-0.000117</td>\n",
       "      <td>-0.018510</td>\n",
       "      <td>0.477493</td>\n",
       "    </tr>\n",
       "    <tr>\n",
       "      <th>BsmtFinSF1</th>\n",
       "      <td>-0.016947</td>\n",
       "      <td>-0.064311</td>\n",
       "      <td>0.219408</td>\n",
       "      <td>0.194031</td>\n",
       "      <td>0.281810</td>\n",
       "      <td>-0.050418</td>\n",
       "      <td>0.279581</td>\n",
       "      <td>0.152126</td>\n",
       "      <td>0.303490</td>\n",
       "      <td>1.000000</td>\n",
       "      <td>...</td>\n",
       "      <td>0.223492</td>\n",
       "      <td>0.124163</td>\n",
       "      <td>-0.099712</td>\n",
       "      <td>0.050908</td>\n",
       "      <td>0.096823</td>\n",
       "      <td>0.084462</td>\n",
       "      <td>0.093295</td>\n",
       "      <td>-0.000942</td>\n",
       "      <td>0.022556</td>\n",
       "      <td>0.386420</td>\n",
       "    </tr>\n",
       "    <tr>\n",
       "      <th>BsmtFinSF2</th>\n",
       "      <td>0.018251</td>\n",
       "      <td>-0.072530</td>\n",
       "      <td>0.047431</td>\n",
       "      <td>0.084059</td>\n",
       "      <td>-0.042771</td>\n",
       "      <td>0.041501</td>\n",
       "      <td>-0.027595</td>\n",
       "      <td>-0.062153</td>\n",
       "      <td>-0.015645</td>\n",
       "      <td>-0.055045</td>\n",
       "      <td>...</td>\n",
       "      <td>0.098399</td>\n",
       "      <td>-0.005876</td>\n",
       "      <td>0.032740</td>\n",
       "      <td>-0.023279</td>\n",
       "      <td>0.063302</td>\n",
       "      <td>0.044524</td>\n",
       "      <td>-0.005139</td>\n",
       "      <td>-0.009593</td>\n",
       "      <td>0.008883</td>\n",
       "      <td>-0.011378</td>\n",
       "    </tr>\n",
       "    <tr>\n",
       "      <th>BsmtUnfSF</th>\n",
       "      <td>-0.014453</td>\n",
       "      <td>-0.125994</td>\n",
       "      <td>0.113714</td>\n",
       "      <td>0.021362</td>\n",
       "      <td>0.275175</td>\n",
       "      <td>-0.138202</td>\n",
       "      <td>0.130473</td>\n",
       "      <td>0.165175</td>\n",
       "      <td>0.090163</td>\n",
       "      <td>-0.477404</td>\n",
       "      <td>...</td>\n",
       "      <td>-0.039302</td>\n",
       "      <td>0.119764</td>\n",
       "      <td>0.005006</td>\n",
       "      <td>-0.005810</td>\n",
       "      <td>-0.049158</td>\n",
       "      <td>-0.032273</td>\n",
       "      <td>-0.010492</td>\n",
       "      <td>0.022607</td>\n",
       "      <td>-0.038015</td>\n",
       "      <td>0.214479</td>\n",
       "    </tr>\n",
       "    <tr>\n",
       "      <th>TotalBsmtSF</th>\n",
       "      <td>-0.024924</td>\n",
       "      <td>-0.219965</td>\n",
       "      <td>0.354822</td>\n",
       "      <td>0.254138</td>\n",
       "      <td>0.549294</td>\n",
       "      <td>-0.174002</td>\n",
       "      <td>0.408515</td>\n",
       "      <td>0.298107</td>\n",
       "      <td>0.397240</td>\n",
       "      <td>0.536467</td>\n",
       "      <td>...</td>\n",
       "      <td>0.229600</td>\n",
       "      <td>0.245521</td>\n",
       "      <td>-0.085510</td>\n",
       "      <td>0.037892</td>\n",
       "      <td>0.075363</td>\n",
       "      <td>0.072216</td>\n",
       "      <td>0.084002</td>\n",
       "      <td>0.017888</td>\n",
       "      <td>-0.011184</td>\n",
       "      <td>0.613581</td>\n",
       "    </tr>\n",
       "    <tr>\n",
       "      <th>1stFlrSF</th>\n",
       "      <td>-0.008678</td>\n",
       "      <td>-0.248641</td>\n",
       "      <td>0.458247</td>\n",
       "      <td>0.332460</td>\n",
       "      <td>0.479152</td>\n",
       "      <td>-0.157418</td>\n",
       "      <td>0.310814</td>\n",
       "      <td>0.242245</td>\n",
       "      <td>0.395834</td>\n",
       "      <td>0.458092</td>\n",
       "      <td>...</td>\n",
       "      <td>0.227347</td>\n",
       "      <td>0.238502</td>\n",
       "      <td>-0.065796</td>\n",
       "      <td>0.044086</td>\n",
       "      <td>0.098381</td>\n",
       "      <td>0.121900</td>\n",
       "      <td>0.093062</td>\n",
       "      <td>0.040143</td>\n",
       "      <td>-0.013442</td>\n",
       "      <td>0.605852</td>\n",
       "    </tr>\n",
       "    <tr>\n",
       "      <th>2ndFlrSF</th>\n",
       "      <td>-0.022252</td>\n",
       "      <td>0.309309</td>\n",
       "      <td>0.026545</td>\n",
       "      <td>0.031515</td>\n",
       "      <td>0.245596</td>\n",
       "      <td>0.005494</td>\n",
       "      <td>0.017588</td>\n",
       "      <td>0.158985</td>\n",
       "      <td>0.121014</td>\n",
       "      <td>-0.162301</td>\n",
       "      <td>...</td>\n",
       "      <td>0.089922</td>\n",
       "      <td>0.185387</td>\n",
       "      <td>0.054645</td>\n",
       "      <td>-0.032458</td>\n",
       "      <td>0.011070</td>\n",
       "      <td>0.044503</td>\n",
       "      <td>-0.005299</td>\n",
       "      <td>0.014185</td>\n",
       "      <td>-0.019229</td>\n",
       "      <td>0.319334</td>\n",
       "    </tr>\n",
       "    <tr>\n",
       "      <th>LowQualFinSF</th>\n",
       "      <td>-0.037816</td>\n",
       "      <td>0.026482</td>\n",
       "      <td>0.004894</td>\n",
       "      <td>0.000554</td>\n",
       "      <td>-0.048393</td>\n",
       "      <td>0.009048</td>\n",
       "      <td>-0.144191</td>\n",
       "      <td>-0.060371</td>\n",
       "      <td>-0.057912</td>\n",
       "      <td>-0.066028</td>\n",
       "      <td>...</td>\n",
       "      <td>-0.015622</td>\n",
       "      <td>-0.000692</td>\n",
       "      <td>0.087212</td>\n",
       "      <td>-0.004545</td>\n",
       "      <td>0.006835</td>\n",
       "      <td>0.035177</td>\n",
       "      <td>-0.005973</td>\n",
       "      <td>0.011528</td>\n",
       "      <td>-0.002257</td>\n",
       "      <td>-0.025606</td>\n",
       "    </tr>\n",
       "    <tr>\n",
       "      <th>GrLivArea</th>\n",
       "      <td>-0.029046</td>\n",
       "      <td>0.071677</td>\n",
       "      <td>0.382462</td>\n",
       "      <td>0.284519</td>\n",
       "      <td>0.575126</td>\n",
       "      <td>-0.116569</td>\n",
       "      <td>0.242666</td>\n",
       "      <td>0.316972</td>\n",
       "      <td>0.402994</td>\n",
       "      <td>0.211669</td>\n",
       "      <td>...</td>\n",
       "      <td>0.251017</td>\n",
       "      <td>0.341907</td>\n",
       "      <td>0.003274</td>\n",
       "      <td>0.006268</td>\n",
       "      <td>0.086284</td>\n",
       "      <td>0.135441</td>\n",
       "      <td>0.067118</td>\n",
       "      <td>0.044198</td>\n",
       "      <td>-0.026919</td>\n",
       "      <td>0.708624</td>\n",
       "    </tr>\n",
       "    <tr>\n",
       "      <th>BsmtFullBath</th>\n",
       "      <td>0.000145</td>\n",
       "      <td>0.009950</td>\n",
       "      <td>0.113245</td>\n",
       "      <td>0.128349</td>\n",
       "      <td>0.164543</td>\n",
       "      <td>-0.042133</td>\n",
       "      <td>0.211580</td>\n",
       "      <td>0.134947</td>\n",
       "      <td>0.141593</td>\n",
       "      <td>0.638847</td>\n",
       "      <td>...</td>\n",
       "      <td>0.186107</td>\n",
       "      <td>0.081265</td>\n",
       "      <td>-0.068393</td>\n",
       "      <td>0.027378</td>\n",
       "      <td>0.053119</td>\n",
       "      <td>0.043970</td>\n",
       "      <td>-0.004629</td>\n",
       "      <td>-0.003568</td>\n",
       "      <td>0.045255</td>\n",
       "      <td>0.227122</td>\n",
       "    </tr>\n",
       "    <tr>\n",
       "      <th>BsmtHalfBath</th>\n",
       "      <td>0.010387</td>\n",
       "      <td>-0.001878</td>\n",
       "      <td>-0.025629</td>\n",
       "      <td>0.026292</td>\n",
       "      <td>-0.040732</td>\n",
       "      <td>0.084181</td>\n",
       "      <td>-0.030282</td>\n",
       "      <td>-0.046285</td>\n",
       "      <td>0.015006</td>\n",
       "      <td>0.078361</td>\n",
       "      <td>...</td>\n",
       "      <td>0.051549</td>\n",
       "      <td>-0.034917</td>\n",
       "      <td>-0.009675</td>\n",
       "      <td>0.026861</td>\n",
       "      <td>0.042069</td>\n",
       "      <td>0.066851</td>\n",
       "      <td>0.036902</td>\n",
       "      <td>0.023014</td>\n",
       "      <td>-0.020028</td>\n",
       "      <td>-0.016844</td>\n",
       "    </tr>\n",
       "    <tr>\n",
       "      <th>FullBath</th>\n",
       "      <td>-0.009946</td>\n",
       "      <td>0.139140</td>\n",
       "      <td>0.181668</td>\n",
       "      <td>0.125826</td>\n",
       "      <td>0.528483</td>\n",
       "      <td>-0.215504</td>\n",
       "      <td>0.471169</td>\n",
       "      <td>0.457980</td>\n",
       "      <td>0.259777</td>\n",
       "      <td>0.081525</td>\n",
       "      <td>...</td>\n",
       "      <td>0.181266</td>\n",
       "      <td>0.260423</td>\n",
       "      <td>-0.118983</td>\n",
       "      <td>0.015192</td>\n",
       "      <td>-0.015910</td>\n",
       "      <td>0.028091</td>\n",
       "      <td>-0.010024</td>\n",
       "      <td>0.046274</td>\n",
       "      <td>-0.004882</td>\n",
       "      <td>0.560664</td>\n",
       "    </tr>\n",
       "    <tr>\n",
       "      <th>HalfBath</th>\n",
       "      <td>-0.015358</td>\n",
       "      <td>0.178750</td>\n",
       "      <td>0.039452</td>\n",
       "      <td>0.034244</td>\n",
       "      <td>0.272668</td>\n",
       "      <td>-0.088577</td>\n",
       "      <td>0.269743</td>\n",
       "      <td>0.211430</td>\n",
       "      <td>0.191950</td>\n",
       "      <td>-0.007311</td>\n",
       "      <td>...</td>\n",
       "      <td>0.116701</td>\n",
       "      <td>0.182048</td>\n",
       "      <td>-0.081978</td>\n",
       "      <td>-0.023417</td>\n",
       "      <td>0.035622</td>\n",
       "      <td>0.001424</td>\n",
       "      <td>0.026553</td>\n",
       "      <td>-0.001136</td>\n",
       "      <td>0.001587</td>\n",
       "      <td>0.284108</td>\n",
       "    </tr>\n",
       "    <tr>\n",
       "      <th>BedroomAbvGr</th>\n",
       "      <td>0.003074</td>\n",
       "      <td>-0.008796</td>\n",
       "      <td>0.234892</td>\n",
       "      <td>0.132801</td>\n",
       "      <td>0.073075</td>\n",
       "      <td>-0.008477</td>\n",
       "      <td>-0.053101</td>\n",
       "      <td>-0.021912</td>\n",
       "      <td>0.078126</td>\n",
       "      <td>-0.113547</td>\n",
       "      <td>...</td>\n",
       "      <td>0.031644</td>\n",
       "      <td>0.086212</td>\n",
       "      <td>0.049940</td>\n",
       "      <td>-0.048279</td>\n",
       "      <td>0.007254</td>\n",
       "      <td>0.036544</td>\n",
       "      <td>0.000245</td>\n",
       "      <td>0.055997</td>\n",
       "      <td>-0.020453</td>\n",
       "      <td>0.168213</td>\n",
       "    </tr>\n",
       "    <tr>\n",
       "      <th>KitchenAbvGr</th>\n",
       "      <td>-0.011702</td>\n",
       "      <td>0.260155</td>\n",
       "      <td>0.004676</td>\n",
       "      <td>-0.020854</td>\n",
       "      <td>-0.159325</td>\n",
       "      <td>-0.086700</td>\n",
       "      <td>-0.137614</td>\n",
       "      <td>-0.142431</td>\n",
       "      <td>-0.051389</td>\n",
       "      <td>-0.086354</td>\n",
       "      <td>...</td>\n",
       "      <td>-0.087399</td>\n",
       "      <td>-0.068181</td>\n",
       "      <td>0.027639</td>\n",
       "      <td>-0.021462</td>\n",
       "      <td>-0.056573</td>\n",
       "      <td>-0.013116</td>\n",
       "      <td>0.025078</td>\n",
       "      <td>0.035493</td>\n",
       "      <td>0.035173</td>\n",
       "      <td>-0.135907</td>\n",
       "    </tr>\n",
       "    <tr>\n",
       "      <th>TotRmsAbvGrd</th>\n",
       "      <td>-0.029368</td>\n",
       "      <td>0.040509</td>\n",
       "      <td>0.349513</td>\n",
       "      <td>0.213802</td>\n",
       "      <td>0.389761</td>\n",
       "      <td>-0.092027</td>\n",
       "      <td>0.114280</td>\n",
       "      <td>0.198250</td>\n",
       "      <td>0.278228</td>\n",
       "      <td>0.052141</td>\n",
       "      <td>...</td>\n",
       "      <td>0.156543</td>\n",
       "      <td>0.238156</td>\n",
       "      <td>0.015345</td>\n",
       "      <td>-0.025764</td>\n",
       "      <td>0.032324</td>\n",
       "      <td>0.072061</td>\n",
       "      <td>0.060903</td>\n",
       "      <td>0.045137</td>\n",
       "      <td>-0.032354</td>\n",
       "      <td>0.533723</td>\n",
       "    </tr>\n",
       "    <tr>\n",
       "      <th>Fireplaces</th>\n",
       "      <td>-0.035236</td>\n",
       "      <td>-0.055151</td>\n",
       "      <td>0.261970</td>\n",
       "      <td>0.261185</td>\n",
       "      <td>0.390753</td>\n",
       "      <td>-0.030999</td>\n",
       "      <td>0.170680</td>\n",
       "      <td>0.134157</td>\n",
       "      <td>0.275195</td>\n",
       "      <td>0.293089</td>\n",
       "      <td>...</td>\n",
       "      <td>0.227608</td>\n",
       "      <td>0.158621</td>\n",
       "      <td>0.000971</td>\n",
       "      <td>0.018852</td>\n",
       "      <td>0.169784</td>\n",
       "      <td>0.099123</td>\n",
       "      <td>0.008535</td>\n",
       "      <td>0.032352</td>\n",
       "      <td>-0.006752</td>\n",
       "      <td>0.466929</td>\n",
       "    </tr>\n",
       "    <tr>\n",
       "      <th>GarageYrBlt</th>\n",
       "      <td>-0.026666</td>\n",
       "      <td>0.087898</td>\n",
       "      <td>0.076673</td>\n",
       "      <td>-0.008628</td>\n",
       "      <td>0.571803</td>\n",
       "      <td>-0.325849</td>\n",
       "      <td>0.834812</td>\n",
       "      <td>0.652365</td>\n",
       "      <td>0.255112</td>\n",
       "      <td>0.194270</td>\n",
       "      <td>...</td>\n",
       "      <td>0.222584</td>\n",
       "      <td>0.231639</td>\n",
       "      <td>-0.300751</td>\n",
       "      <td>0.020699</td>\n",
       "      <td>-0.062320</td>\n",
       "      <td>-0.014467</td>\n",
       "      <td>-0.009203</td>\n",
       "      <td>0.024017</td>\n",
       "      <td>-0.004543</td>\n",
       "      <td>0.486362</td>\n",
       "    </tr>\n",
       "    <tr>\n",
       "      <th>GarageCars</th>\n",
       "      <td>-0.010208</td>\n",
       "      <td>-0.046597</td>\n",
       "      <td>0.310587</td>\n",
       "      <td>0.180434</td>\n",
       "      <td>0.600744</td>\n",
       "      <td>-0.181787</td>\n",
       "      <td>0.538074</td>\n",
       "      <td>0.426022</td>\n",
       "      <td>0.361190</td>\n",
       "      <td>0.255482</td>\n",
       "      <td>...</td>\n",
       "      <td>0.240715</td>\n",
       "      <td>0.203544</td>\n",
       "      <td>-0.132846</td>\n",
       "      <td>0.023383</td>\n",
       "      <td>0.043112</td>\n",
       "      <td>0.030424</td>\n",
       "      <td>-0.016934</td>\n",
       "      <td>0.050882</td>\n",
       "      <td>-0.022918</td>\n",
       "      <td>0.640409</td>\n",
       "    </tr>\n",
       "    <tr>\n",
       "      <th>GarageArea</th>\n",
       "      <td>-0.008865</td>\n",
       "      <td>-0.103394</td>\n",
       "      <td>0.359786</td>\n",
       "      <td>0.213251</td>\n",
       "      <td>0.565122</td>\n",
       "      <td>-0.154149</td>\n",
       "      <td>0.480735</td>\n",
       "      <td>0.376765</td>\n",
       "      <td>0.374061</td>\n",
       "      <td>0.310449</td>\n",
       "      <td>...</td>\n",
       "      <td>0.238075</td>\n",
       "      <td>0.232559</td>\n",
       "      <td>-0.106417</td>\n",
       "      <td>0.029440</td>\n",
       "      <td>0.062389</td>\n",
       "      <td>0.053049</td>\n",
       "      <td>0.008446</td>\n",
       "      <td>0.040335</td>\n",
       "      <td>-0.013451</td>\n",
       "      <td>0.623431</td>\n",
       "    </tr>\n",
       "    <tr>\n",
       "      <th>WoodDeckSF</th>\n",
       "      <td>-0.007056</td>\n",
       "      <td>-0.017654</td>\n",
       "      <td>0.122070</td>\n",
       "      <td>0.158045</td>\n",
       "      <td>0.255317</td>\n",
       "      <td>0.020123</td>\n",
       "      <td>0.229426</td>\n",
       "      <td>0.218513</td>\n",
       "      <td>0.166200</td>\n",
       "      <td>0.223492</td>\n",
       "      <td>...</td>\n",
       "      <td>1.000000</td>\n",
       "      <td>0.038457</td>\n",
       "      <td>-0.119114</td>\n",
       "      <td>-0.003935</td>\n",
       "      <td>-0.052134</td>\n",
       "      <td>0.094231</td>\n",
       "      <td>0.056883</td>\n",
       "      <td>0.018120</td>\n",
       "      <td>-0.000180</td>\n",
       "      <td>0.324413</td>\n",
       "    </tr>\n",
       "    <tr>\n",
       "      <th>OpenPorchSF</th>\n",
       "      <td>0.009960</td>\n",
       "      <td>-0.015923</td>\n",
       "      <td>0.164896</td>\n",
       "      <td>0.104797</td>\n",
       "      <td>0.298084</td>\n",
       "      <td>-0.068978</td>\n",
       "      <td>0.198554</td>\n",
       "      <td>0.242182</td>\n",
       "      <td>0.144650</td>\n",
       "      <td>0.124163</td>\n",
       "      <td>...</td>\n",
       "      <td>0.038457</td>\n",
       "      <td>1.000000</td>\n",
       "      <td>-0.059672</td>\n",
       "      <td>-0.009392</td>\n",
       "      <td>0.047777</td>\n",
       "      <td>0.064212</td>\n",
       "      <td>0.077357</td>\n",
       "      <td>0.034167</td>\n",
       "      <td>-0.037377</td>\n",
       "      <td>0.315856</td>\n",
       "    </tr>\n",
       "    <tr>\n",
       "      <th>EnclosedPorch</th>\n",
       "      <td>0.021609</td>\n",
       "      <td>-0.020867</td>\n",
       "      <td>0.011509</td>\n",
       "      <td>0.020974</td>\n",
       "      <td>-0.139256</td>\n",
       "      <td>0.071044</td>\n",
       "      <td>-0.374073</td>\n",
       "      <td>-0.220456</td>\n",
       "      <td>-0.111499</td>\n",
       "      <td>-0.099712</td>\n",
       "      <td>...</td>\n",
       "      <td>-0.119114</td>\n",
       "      <td>-0.059672</td>\n",
       "      <td>1.000000</td>\n",
       "      <td>-0.032822</td>\n",
       "      <td>-0.064377</td>\n",
       "      <td>0.092534</td>\n",
       "      <td>0.008654</td>\n",
       "      <td>-0.020976</td>\n",
       "      <td>-0.001134</td>\n",
       "      <td>-0.128578</td>\n",
       "    </tr>\n",
       "    <tr>\n",
       "      <th>3SsnPorch</th>\n",
       "      <td>-0.046538</td>\n",
       "      <td>-0.037529</td>\n",
       "      <td>0.028289</td>\n",
       "      <td>0.015995</td>\n",
       "      <td>0.018715</td>\n",
       "      <td>0.043739</td>\n",
       "      <td>0.015958</td>\n",
       "      <td>0.037433</td>\n",
       "      <td>0.013612</td>\n",
       "      <td>0.050908</td>\n",
       "      <td>...</td>\n",
       "      <td>-0.003935</td>\n",
       "      <td>-0.009392</td>\n",
       "      <td>-0.032822</td>\n",
       "      <td>1.000000</td>\n",
       "      <td>-0.029546</td>\n",
       "      <td>-0.006525</td>\n",
       "      <td>-0.000788</td>\n",
       "      <td>0.027391</td>\n",
       "      <td>0.022560</td>\n",
       "      <td>0.044584</td>\n",
       "    </tr>\n",
       "    <tr>\n",
       "      <th>ScreenPorch</th>\n",
       "      <td>0.022208</td>\n",
       "      <td>-0.049181</td>\n",
       "      <td>0.075858</td>\n",
       "      <td>0.054375</td>\n",
       "      <td>0.042910</td>\n",
       "      <td>0.043713</td>\n",
       "      <td>-0.041046</td>\n",
       "      <td>-0.046878</td>\n",
       "      <td>0.065209</td>\n",
       "      <td>0.096823</td>\n",
       "      <td>...</td>\n",
       "      <td>-0.052134</td>\n",
       "      <td>0.047777</td>\n",
       "      <td>-0.064377</td>\n",
       "      <td>-0.029546</td>\n",
       "      <td>1.000000</td>\n",
       "      <td>0.026319</td>\n",
       "      <td>0.007067</td>\n",
       "      <td>0.028535</td>\n",
       "      <td>-0.006634</td>\n",
       "      <td>0.111447</td>\n",
       "    </tr>\n",
       "    <tr>\n",
       "      <th>PoolArea</th>\n",
       "      <td>0.014332</td>\n",
       "      <td>-0.003080</td>\n",
       "      <td>0.174119</td>\n",
       "      <td>0.093708</td>\n",
       "      <td>0.030740</td>\n",
       "      <td>-0.016876</td>\n",
       "      <td>0.002304</td>\n",
       "      <td>-0.011407</td>\n",
       "      <td>0.004512</td>\n",
       "      <td>0.084462</td>\n",
       "      <td>...</td>\n",
       "      <td>0.094231</td>\n",
       "      <td>0.064212</td>\n",
       "      <td>0.092534</td>\n",
       "      <td>-0.006525</td>\n",
       "      <td>0.026319</td>\n",
       "      <td>1.000000</td>\n",
       "      <td>0.011921</td>\n",
       "      <td>-0.042230</td>\n",
       "      <td>-0.052816</td>\n",
       "      <td>0.092404</td>\n",
       "    </tr>\n",
       "    <tr>\n",
       "      <th>MiscVal</th>\n",
       "      <td>0.008244</td>\n",
       "      <td>-0.028867</td>\n",
       "      <td>0.044272</td>\n",
       "      <td>0.069029</td>\n",
       "      <td>0.005562</td>\n",
       "      <td>0.033956</td>\n",
       "      <td>-0.010886</td>\n",
       "      <td>-0.003124</td>\n",
       "      <td>0.044811</td>\n",
       "      <td>0.093295</td>\n",
       "      <td>...</td>\n",
       "      <td>0.056883</td>\n",
       "      <td>0.077357</td>\n",
       "      <td>0.008654</td>\n",
       "      <td>-0.000788</td>\n",
       "      <td>0.007067</td>\n",
       "      <td>0.011921</td>\n",
       "      <td>1.000000</td>\n",
       "      <td>0.007443</td>\n",
       "      <td>0.008445</td>\n",
       "      <td>-0.021190</td>\n",
       "    </tr>\n",
       "    <tr>\n",
       "      <th>MoSold</th>\n",
       "      <td>0.006448</td>\n",
       "      <td>-0.001231</td>\n",
       "      <td>0.011254</td>\n",
       "      <td>0.004156</td>\n",
       "      <td>0.030405</td>\n",
       "      <td>-0.006256</td>\n",
       "      <td>0.013938</td>\n",
       "      <td>0.017693</td>\n",
       "      <td>-0.000117</td>\n",
       "      <td>-0.000942</td>\n",
       "      <td>...</td>\n",
       "      <td>0.018120</td>\n",
       "      <td>0.034167</td>\n",
       "      <td>-0.020976</td>\n",
       "      <td>0.027391</td>\n",
       "      <td>0.028535</td>\n",
       "      <td>-0.042230</td>\n",
       "      <td>0.007443</td>\n",
       "      <td>1.000000</td>\n",
       "      <td>-0.153895</td>\n",
       "      <td>0.046432</td>\n",
       "    </tr>\n",
       "    <tr>\n",
       "      <th>YrSold</th>\n",
       "      <td>-0.256050</td>\n",
       "      <td>-0.015028</td>\n",
       "      <td>-0.007917</td>\n",
       "      <td>-0.024234</td>\n",
       "      <td>-0.019614</td>\n",
       "      <td>0.030102</td>\n",
       "      <td>-0.012344</td>\n",
       "      <td>0.033203</td>\n",
       "      <td>-0.018510</td>\n",
       "      <td>0.022556</td>\n",
       "      <td>...</td>\n",
       "      <td>-0.000180</td>\n",
       "      <td>-0.037377</td>\n",
       "      <td>-0.001134</td>\n",
       "      <td>0.022560</td>\n",
       "      <td>-0.006634</td>\n",
       "      <td>-0.052816</td>\n",
       "      <td>0.008445</td>\n",
       "      <td>-0.153895</td>\n",
       "      <td>1.000000</td>\n",
       "      <td>-0.028923</td>\n",
       "    </tr>\n",
       "    <tr>\n",
       "      <th>SalePrice</th>\n",
       "      <td>-0.021917</td>\n",
       "      <td>-0.084284</td>\n",
       "      <td>0.351799</td>\n",
       "      <td>0.263843</td>\n",
       "      <td>0.790982</td>\n",
       "      <td>-0.077856</td>\n",
       "      <td>0.522897</td>\n",
       "      <td>0.507101</td>\n",
       "      <td>0.477493</td>\n",
       "      <td>0.386420</td>\n",
       "      <td>...</td>\n",
       "      <td>0.324413</td>\n",
       "      <td>0.315856</td>\n",
       "      <td>-0.128578</td>\n",
       "      <td>0.044584</td>\n",
       "      <td>0.111447</td>\n",
       "      <td>0.092404</td>\n",
       "      <td>-0.021190</td>\n",
       "      <td>0.046432</td>\n",
       "      <td>-0.028923</td>\n",
       "      <td>1.000000</td>\n",
       "    </tr>\n",
       "  </tbody>\n",
       "</table>\n",
       "<p>38 rows × 38 columns</p>\n",
       "</div>"
      ],
      "text/plain": [
       "                     Id  MSSubClass  LotFrontage   LotArea  OverallQual  \\\n",
       "Id             1.000000    0.008931    -0.027549 -0.040746    -0.029771   \n",
       "MSSubClass     0.008931    1.000000    -0.417359 -0.201730     0.033638   \n",
       "LotFrontage   -0.027549   -0.417359     1.000000  0.489896     0.217645   \n",
       "LotArea       -0.040746   -0.201730     0.489896  1.000000     0.100541   \n",
       "OverallQual   -0.029771    0.033638     0.217645  0.100541     1.000000   \n",
       "OverallCond   -0.002839   -0.065625    -0.075508 -0.035617    -0.093847   \n",
       "YearBuilt     -0.016581    0.034409     0.122811  0.024128     0.597554   \n",
       "YearRemodAdd  -0.050438    0.043315     0.091557  0.021612     0.571532   \n",
       "MasVnrArea    -0.025219    0.005433     0.221079  0.125596     0.432947   \n",
       "BsmtFinSF1    -0.016947   -0.064311     0.219408  0.194031     0.281810   \n",
       "BsmtFinSF2     0.018251   -0.072530     0.047431  0.084059    -0.042771   \n",
       "BsmtUnfSF     -0.014453   -0.125994     0.113714  0.021362     0.275175   \n",
       "TotalBsmtSF   -0.024924   -0.219965     0.354822  0.254138     0.549294   \n",
       "1stFlrSF      -0.008678   -0.248641     0.458247  0.332460     0.479152   \n",
       "2ndFlrSF      -0.022252    0.309309     0.026545  0.031515     0.245596   \n",
       "LowQualFinSF  -0.037816    0.026482     0.004894  0.000554    -0.048393   \n",
       "GrLivArea     -0.029046    0.071677     0.382462  0.284519     0.575126   \n",
       "BsmtFullBath   0.000145    0.009950     0.113245  0.128349     0.164543   \n",
       "BsmtHalfBath   0.010387   -0.001878    -0.025629  0.026292    -0.040732   \n",
       "FullBath      -0.009946    0.139140     0.181668  0.125826     0.528483   \n",
       "HalfBath      -0.015358    0.178750     0.039452  0.034244     0.272668   \n",
       "BedroomAbvGr   0.003074   -0.008796     0.234892  0.132801     0.073075   \n",
       "KitchenAbvGr  -0.011702    0.260155     0.004676 -0.020854    -0.159325   \n",
       "TotRmsAbvGrd  -0.029368    0.040509     0.349513  0.213802     0.389761   \n",
       "Fireplaces    -0.035236   -0.055151     0.261970  0.261185     0.390753   \n",
       "GarageYrBlt   -0.026666    0.087898     0.076673 -0.008628     0.571803   \n",
       "GarageCars    -0.010208   -0.046597     0.310587  0.180434     0.600744   \n",
       "GarageArea    -0.008865   -0.103394     0.359786  0.213251     0.565122   \n",
       "WoodDeckSF    -0.007056   -0.017654     0.122070  0.158045     0.255317   \n",
       "OpenPorchSF    0.009960   -0.015923     0.164896  0.104797     0.298084   \n",
       "EnclosedPorch  0.021609   -0.020867     0.011509  0.020974    -0.139256   \n",
       "3SsnPorch     -0.046538   -0.037529     0.028289  0.015995     0.018715   \n",
       "ScreenPorch    0.022208   -0.049181     0.075858  0.054375     0.042910   \n",
       "PoolArea       0.014332   -0.003080     0.174119  0.093708     0.030740   \n",
       "MiscVal        0.008244   -0.028867     0.044272  0.069029     0.005562   \n",
       "MoSold         0.006448   -0.001231     0.011254  0.004156     0.030405   \n",
       "YrSold        -0.256050   -0.015028    -0.007917 -0.024234    -0.019614   \n",
       "SalePrice     -0.021917   -0.084284     0.351799  0.263843     0.790982   \n",
       "\n",
       "               OverallCond  YearBuilt  YearRemodAdd  MasVnrArea  BsmtFinSF1  \\\n",
       "Id               -0.002839  -0.016581     -0.050438   -0.025219   -0.016947   \n",
       "MSSubClass       -0.065625   0.034409      0.043315    0.005433   -0.064311   \n",
       "LotFrontage      -0.075508   0.122811      0.091557    0.221079    0.219408   \n",
       "LotArea          -0.035617   0.024128      0.021612    0.125596    0.194031   \n",
       "OverallQual      -0.093847   0.597554      0.571532    0.432947    0.281810   \n",
       "OverallCond       1.000000  -0.368477      0.047654   -0.136007   -0.050418   \n",
       "YearBuilt        -0.368477   1.000000      0.612235    0.314051    0.279581   \n",
       "YearRemodAdd      0.047654   0.612235      1.000000    0.196875    0.152126   \n",
       "MasVnrArea       -0.136007   0.314051      0.196875    1.000000    0.303490   \n",
       "BsmtFinSF1       -0.050418   0.279581      0.152126    0.303490    1.000000   \n",
       "BsmtFinSF2        0.041501  -0.027595     -0.062153   -0.015645   -0.055045   \n",
       "BsmtUnfSF        -0.138202   0.130473      0.165175    0.090163   -0.477404   \n",
       "TotalBsmtSF      -0.174002   0.408515      0.298107    0.397240    0.536467   \n",
       "1stFlrSF         -0.157418   0.310814      0.242245    0.395834    0.458092   \n",
       "2ndFlrSF          0.005494   0.017588      0.158985    0.121014   -0.162301   \n",
       "LowQualFinSF      0.009048  -0.144191     -0.060371   -0.057912   -0.066028   \n",
       "GrLivArea        -0.116569   0.242666      0.316972    0.402994    0.211669   \n",
       "BsmtFullBath     -0.042133   0.211580      0.134947    0.141593    0.638847   \n",
       "BsmtHalfBath      0.084181  -0.030282     -0.046285    0.015006    0.078361   \n",
       "FullBath         -0.215504   0.471169      0.457980    0.259777    0.081525   \n",
       "HalfBath         -0.088577   0.269743      0.211430    0.191950   -0.007311   \n",
       "BedroomAbvGr     -0.008477  -0.053101     -0.021912    0.078126   -0.113547   \n",
       "KitchenAbvGr     -0.086700  -0.137614     -0.142431   -0.051389   -0.086354   \n",
       "TotRmsAbvGrd     -0.092027   0.114280      0.198250    0.278228    0.052141   \n",
       "Fireplaces       -0.030999   0.170680      0.134157    0.275195    0.293089   \n",
       "GarageYrBlt      -0.325849   0.834812      0.652365    0.255112    0.194270   \n",
       "GarageCars       -0.181787   0.538074      0.426022    0.361190    0.255482   \n",
       "GarageArea       -0.154149   0.480735      0.376765    0.374061    0.310449   \n",
       "WoodDeckSF        0.020123   0.229426      0.218513    0.166200    0.223492   \n",
       "OpenPorchSF      -0.068978   0.198554      0.242182    0.144650    0.124163   \n",
       "EnclosedPorch     0.071044  -0.374073     -0.220456   -0.111499   -0.099712   \n",
       "3SsnPorch         0.043739   0.015958      0.037433    0.013612    0.050908   \n",
       "ScreenPorch       0.043713  -0.041046     -0.046878    0.065209    0.096823   \n",
       "PoolArea         -0.016876   0.002304     -0.011407    0.004512    0.084462   \n",
       "MiscVal           0.033956  -0.010886     -0.003124    0.044811    0.093295   \n",
       "MoSold           -0.006256   0.013938      0.017693   -0.000117   -0.000942   \n",
       "YrSold            0.030102  -0.012344      0.033203   -0.018510    0.022556   \n",
       "SalePrice        -0.077856   0.522897      0.507101    0.477493    0.386420   \n",
       "\n",
       "               ...  WoodDeckSF  OpenPorchSF  EnclosedPorch  3SsnPorch  \\\n",
       "Id             ...   -0.007056     0.009960       0.021609  -0.046538   \n",
       "MSSubClass     ...   -0.017654    -0.015923      -0.020867  -0.037529   \n",
       "LotFrontage    ...    0.122070     0.164896       0.011509   0.028289   \n",
       "LotArea        ...    0.158045     0.104797       0.020974   0.015995   \n",
       "OverallQual    ...    0.255317     0.298084      -0.139256   0.018715   \n",
       "OverallCond    ...    0.020123    -0.068978       0.071044   0.043739   \n",
       "YearBuilt      ...    0.229426     0.198554      -0.374073   0.015958   \n",
       "YearRemodAdd   ...    0.218513     0.242182      -0.220456   0.037433   \n",
       "MasVnrArea     ...    0.166200     0.144650      -0.111499   0.013612   \n",
       "BsmtFinSF1     ...    0.223492     0.124163      -0.099712   0.050908   \n",
       "BsmtFinSF2     ...    0.098399    -0.005876       0.032740  -0.023279   \n",
       "BsmtUnfSF      ...   -0.039302     0.119764       0.005006  -0.005810   \n",
       "TotalBsmtSF    ...    0.229600     0.245521      -0.085510   0.037892   \n",
       "1stFlrSF       ...    0.227347     0.238502      -0.065796   0.044086   \n",
       "2ndFlrSF       ...    0.089922     0.185387       0.054645  -0.032458   \n",
       "LowQualFinSF   ...   -0.015622    -0.000692       0.087212  -0.004545   \n",
       "GrLivArea      ...    0.251017     0.341907       0.003274   0.006268   \n",
       "BsmtFullBath   ...    0.186107     0.081265      -0.068393   0.027378   \n",
       "BsmtHalfBath   ...    0.051549    -0.034917      -0.009675   0.026861   \n",
       "FullBath       ...    0.181266     0.260423      -0.118983   0.015192   \n",
       "HalfBath       ...    0.116701     0.182048      -0.081978  -0.023417   \n",
       "BedroomAbvGr   ...    0.031644     0.086212       0.049940  -0.048279   \n",
       "KitchenAbvGr   ...   -0.087399    -0.068181       0.027639  -0.021462   \n",
       "TotRmsAbvGrd   ...    0.156543     0.238156       0.015345  -0.025764   \n",
       "Fireplaces     ...    0.227608     0.158621       0.000971   0.018852   \n",
       "GarageYrBlt    ...    0.222584     0.231639      -0.300751   0.020699   \n",
       "GarageCars     ...    0.240715     0.203544      -0.132846   0.023383   \n",
       "GarageArea     ...    0.238075     0.232559      -0.106417   0.029440   \n",
       "WoodDeckSF     ...    1.000000     0.038457      -0.119114  -0.003935   \n",
       "OpenPorchSF    ...    0.038457     1.000000      -0.059672  -0.009392   \n",
       "EnclosedPorch  ...   -0.119114    -0.059672       1.000000  -0.032822   \n",
       "3SsnPorch      ...   -0.003935    -0.009392      -0.032822   1.000000   \n",
       "ScreenPorch    ...   -0.052134     0.047777      -0.064377  -0.029546   \n",
       "PoolArea       ...    0.094231     0.064212       0.092534  -0.006525   \n",
       "MiscVal        ...    0.056883     0.077357       0.008654  -0.000788   \n",
       "MoSold         ...    0.018120     0.034167      -0.020976   0.027391   \n",
       "YrSold         ...   -0.000180    -0.037377      -0.001134   0.022560   \n",
       "SalePrice      ...    0.324413     0.315856      -0.128578   0.044584   \n",
       "\n",
       "               ScreenPorch  PoolArea   MiscVal    MoSold    YrSold  SalePrice  \n",
       "Id                0.022208  0.014332  0.008244  0.006448 -0.256050  -0.021917  \n",
       "MSSubClass       -0.049181 -0.003080 -0.028867 -0.001231 -0.015028  -0.084284  \n",
       "LotFrontage       0.075858  0.174119  0.044272  0.011254 -0.007917   0.351799  \n",
       "LotArea           0.054375  0.093708  0.069029  0.004156 -0.024234   0.263843  \n",
       "OverallQual       0.042910  0.030740  0.005562  0.030405 -0.019614   0.790982  \n",
       "OverallCond       0.043713 -0.016876  0.033956 -0.006256  0.030102  -0.077856  \n",
       "YearBuilt        -0.041046  0.002304 -0.010886  0.013938 -0.012344   0.522897  \n",
       "YearRemodAdd     -0.046878 -0.011407 -0.003124  0.017693  0.033203   0.507101  \n",
       "MasVnrArea        0.065209  0.004512  0.044811 -0.000117 -0.018510   0.477493  \n",
       "BsmtFinSF1        0.096823  0.084462  0.093295 -0.000942  0.022556   0.386420  \n",
       "BsmtFinSF2        0.063302  0.044524 -0.005139 -0.009593  0.008883  -0.011378  \n",
       "BsmtUnfSF        -0.049158 -0.032273 -0.010492  0.022607 -0.038015   0.214479  \n",
       "TotalBsmtSF       0.075363  0.072216  0.084002  0.017888 -0.011184   0.613581  \n",
       "1stFlrSF          0.098381  0.121900  0.093062  0.040143 -0.013442   0.605852  \n",
       "2ndFlrSF          0.011070  0.044503 -0.005299  0.014185 -0.019229   0.319334  \n",
       "LowQualFinSF      0.006835  0.035177 -0.005973  0.011528 -0.002257  -0.025606  \n",
       "GrLivArea         0.086284  0.135441  0.067118  0.044198 -0.026919   0.708624  \n",
       "BsmtFullBath      0.053119  0.043970 -0.004629 -0.003568  0.045255   0.227122  \n",
       "BsmtHalfBath      0.042069  0.066851  0.036902  0.023014 -0.020028  -0.016844  \n",
       "FullBath         -0.015910  0.028091 -0.010024  0.046274 -0.004882   0.560664  \n",
       "HalfBath          0.035622  0.001424  0.026553 -0.001136  0.001587   0.284108  \n",
       "BedroomAbvGr      0.007254  0.036544  0.000245  0.055997 -0.020453   0.168213  \n",
       "KitchenAbvGr     -0.056573 -0.013116  0.025078  0.035493  0.035173  -0.135907  \n",
       "TotRmsAbvGrd      0.032324  0.072061  0.060903  0.045137 -0.032354   0.533723  \n",
       "Fireplaces        0.169784  0.099123  0.008535  0.032352 -0.006752   0.466929  \n",
       "GarageYrBlt      -0.062320 -0.014467 -0.009203  0.024017 -0.004543   0.486362  \n",
       "GarageCars        0.043112  0.030424 -0.016934  0.050882 -0.022918   0.640409  \n",
       "GarageArea        0.062389  0.053049  0.008446  0.040335 -0.013451   0.623431  \n",
       "WoodDeckSF       -0.052134  0.094231  0.056883  0.018120 -0.000180   0.324413  \n",
       "OpenPorchSF       0.047777  0.064212  0.077357  0.034167 -0.037377   0.315856  \n",
       "EnclosedPorch    -0.064377  0.092534  0.008654 -0.020976 -0.001134  -0.128578  \n",
       "3SsnPorch        -0.029546 -0.006525 -0.000788  0.027391  0.022560   0.044584  \n",
       "ScreenPorch       1.000000  0.026319  0.007067  0.028535 -0.006634   0.111447  \n",
       "PoolArea          0.026319  1.000000  0.011921 -0.042230 -0.052816   0.092404  \n",
       "MiscVal           0.007067  0.011921  1.000000  0.007443  0.008445  -0.021190  \n",
       "MoSold            0.028535 -0.042230  0.007443  1.000000 -0.153895   0.046432  \n",
       "YrSold           -0.006634 -0.052816  0.008445 -0.153895  1.000000  -0.028923  \n",
       "SalePrice         0.111447  0.092404 -0.021190  0.046432 -0.028923   1.000000  \n",
       "\n",
       "[38 rows x 38 columns]"
      ]
     },
     "execution_count": 16,
     "metadata": {},
     "output_type": "execute_result"
    }
   ],
   "source": [
    "data.corr()"
   ]
  },
  {
   "cell_type": "code",
   "execution_count": 17,
   "id": "c74e7211",
   "metadata": {
    "execution": {
     "iopub.execute_input": "2021-11-13T13:44:18.402507Z",
     "iopub.status.busy": "2021-11-13T13:44:18.401656Z",
     "iopub.status.idle": "2021-11-13T13:44:18.466231Z",
     "shell.execute_reply": "2021-11-13T13:44:18.467240Z",
     "shell.execute_reply.started": "2021-11-13T13:41:23.717610Z"
    },
    "papermill": {
     "duration": 0.370532,
     "end_time": "2021-11-13T13:44:18.467531",
     "exception": false,
     "start_time": "2021-11-13T13:44:18.096999",
     "status": "completed"
    },
    "tags": []
   },
   "outputs": [
    {
     "data": {
      "text/plain": [
       "{'Low Correlations Features': ['Id:-0.021916719443430967',\n",
       "  'MSSubClass:-0.08428413512659509',\n",
       "  'LotFrontage:0.35179909657067737',\n",
       "  'LotArea:0.2638433538714051',\n",
       "  'OverallCond:-0.07785589404867797',\n",
       "  'MasVnrArea:0.47749304709571444',\n",
       "  'BsmtFinSF1:0.3864198062421535',\n",
       "  'BsmtFinSF2:-0.011378121450215146',\n",
       "  'BsmtUnfSF:0.21447910554696928',\n",
       "  '2ndFlrSF:0.31933380283206736',\n",
       "  'LowQualFinSF:-0.02560613000067955',\n",
       "  'BsmtFullBath:0.22712223313149427',\n",
       "  'BsmtHalfBath:-0.01684415429735895',\n",
       "  'HalfBath:0.28410767559478256',\n",
       "  'BedroomAbvGr:0.16821315430073963',\n",
       "  'KitchenAbvGr:-0.13590737084214105',\n",
       "  'Fireplaces:0.46692883675152763',\n",
       "  'GarageYrBlt:0.4863616774878596',\n",
       "  'WoodDeckSF:0.32441344456812926',\n",
       "  'OpenPorchSF:0.31585622711605504',\n",
       "  'EnclosedPorch:-0.1285779579259566',\n",
       "  '3SsnPorch:0.04458366533574838',\n",
       "  'ScreenPorch:0.11144657114291112',\n",
       "  'PoolArea:0.09240354949187318',\n",
       "  'MiscVal:-0.021189579640303213',\n",
       "  'MoSold:0.046432245223819446',\n",
       "  'YrSold:-0.028922585168736813'],\n",
       " 'High Correlations Features': ['OverallQual:0.7909816005838053',\n",
       "  'YearBuilt:0.5228973328794967',\n",
       "  'YearRemodAdd:0.5071009671113866',\n",
       "  'TotalBsmtSF:0.6135805515591943',\n",
       "  '1stFlrSF:0.6058521846919153',\n",
       "  'GrLivArea:0.7086244776126515',\n",
       "  'FullBath:0.5606637627484453',\n",
       "  'TotRmsAbvGrd:0.5337231555820284',\n",
       "  'GarageCars:0.6404091972583519',\n",
       "  'GarageArea:0.6234314389183622']}"
      ]
     },
     "execution_count": 17,
     "metadata": {},
     "output_type": "execute_result"
    }
   ],
   "source": [
    "def correlation(df,num_cols, target='SalePrice',corr_limit=0.50):\n",
    "    \n",
    "    high = []\n",
    "    \n",
    "    low = []\n",
    "    \n",
    "    for cols in num_cols:\n",
    "        \n",
    "        if cols == 'SalePrice':\n",
    "            pass\n",
    "        else:\n",
    "            \n",
    "            corr = df[[cols,target]].corr().loc[cols, target]\n",
    "            \n",
    "            if abs(corr) > corr_limit: #abs() fonksiyonu mutlak değer alır.\n",
    "                \n",
    "                high.append(cols  + \":\" + str(corr))\n",
    "            else:\n",
    "                low.append(cols + \":\" + str(corr))\n",
    "                \n",
    "    cache = {'Low Correlations Features':low,'High Correlations Features':high}    \n",
    "                      \n",
    "    return cache\n",
    "\n",
    "num_cols = [cols for cols in data.columns if data[cols].dtype != 'object']\n",
    "\n",
    "correlation(data,num_cols,target='SalePrice',corr_limit=0.50)"
   ]
  },
  {
   "cell_type": "markdown",
   "id": "d41385a8",
   "metadata": {
    "papermill": {
     "duration": 0.300334,
     "end_time": "2021-11-13T13:44:19.072425",
     "exception": false,
     "start_time": "2021-11-13T13:44:18.772091",
     "status": "completed"
    },
    "tags": []
   },
   "source": [
    "# Missing Values"
   ]
  },
  {
   "cell_type": "code",
   "execution_count": 18,
   "id": "efccc8ae",
   "metadata": {
    "execution": {
     "iopub.execute_input": "2021-11-13T13:44:19.468637Z",
     "iopub.status.busy": "2021-11-13T13:44:19.468079Z",
     "iopub.status.idle": "2021-11-13T13:44:19.475180Z",
     "shell.execute_reply": "2021-11-13T13:44:19.474740Z",
     "shell.execute_reply.started": "2021-11-13T13:41:23.768279Z"
    },
    "papermill": {
     "duration": 0.199452,
     "end_time": "2021-11-13T13:44:19.475294",
     "exception": false,
     "start_time": "2021-11-13T13:44:19.275842",
     "status": "completed"
    },
    "tags": []
   },
   "outputs": [
    {
     "data": {
      "text/plain": [
       "True"
      ]
     },
     "execution_count": 18,
     "metadata": {},
     "output_type": "execute_result"
    }
   ],
   "source": [
    "data.isnull().values.any()"
   ]
  },
  {
   "cell_type": "code",
   "execution_count": 19,
   "id": "dc19dfab",
   "metadata": {
    "execution": {
     "iopub.execute_input": "2021-11-13T13:44:19.848650Z",
     "iopub.status.busy": "2021-11-13T13:44:19.838255Z",
     "iopub.status.idle": "2021-11-13T13:44:19.854486Z",
     "shell.execute_reply": "2021-11-13T13:44:19.854909Z",
     "shell.execute_reply.started": "2021-11-13T13:41:23.786870Z"
    },
    "papermill": {
     "duration": 0.20149,
     "end_time": "2021-11-13T13:44:19.855053",
     "exception": false,
     "start_time": "2021-11-13T13:44:19.653563",
     "status": "completed"
    },
    "tags": []
   },
   "outputs": [
    {
     "data": {
      "text/plain": [
       "15424"
      ]
     },
     "execution_count": 19,
     "metadata": {},
     "output_type": "execute_result"
    }
   ],
   "source": [
    "data.isnull().sum().sum()"
   ]
  },
  {
   "cell_type": "code",
   "execution_count": 20,
   "id": "fb1ef86d",
   "metadata": {
    "execution": {
     "iopub.execute_input": "2021-11-13T13:44:20.233709Z",
     "iopub.status.busy": "2021-11-13T13:44:20.230503Z",
     "iopub.status.idle": "2021-11-13T13:44:20.236791Z",
     "shell.execute_reply": "2021-11-13T13:44:20.236362Z",
     "shell.execute_reply.started": "2021-11-13T13:41:23.808048Z"
    },
    "papermill": {
     "duration": 0.202901,
     "end_time": "2021-11-13T13:44:20.236904",
     "exception": false,
     "start_time": "2021-11-13T13:44:20.034003",
     "status": "completed"
    },
    "tags": []
   },
   "outputs": [
    {
     "data": {
      "text/plain": [
       "['MSZoning',\n",
       " 'LotFrontage',\n",
       " 'Alley',\n",
       " 'Utilities',\n",
       " 'Exterior1st',\n",
       " 'Exterior2nd',\n",
       " 'MasVnrType',\n",
       " 'MasVnrArea',\n",
       " 'BsmtQual',\n",
       " 'BsmtCond',\n",
       " 'BsmtExposure',\n",
       " 'BsmtFinType1',\n",
       " 'BsmtFinSF1',\n",
       " 'BsmtFinType2',\n",
       " 'BsmtFinSF2',\n",
       " 'BsmtUnfSF',\n",
       " 'TotalBsmtSF',\n",
       " 'Electrical',\n",
       " 'BsmtFullBath',\n",
       " 'BsmtHalfBath',\n",
       " 'KitchenQual',\n",
       " 'Functional',\n",
       " 'FireplaceQu',\n",
       " 'GarageType',\n",
       " 'GarageYrBlt',\n",
       " 'GarageFinish',\n",
       " 'GarageCars',\n",
       " 'GarageArea',\n",
       " 'GarageQual',\n",
       " 'GarageCond',\n",
       " 'PoolQC',\n",
       " 'Fence',\n",
       " 'MiscFeature',\n",
       " 'SaleType',\n",
       " 'SalePrice']"
      ]
     },
     "execution_count": 20,
     "metadata": {},
     "output_type": "execute_result"
    }
   ],
   "source": [
    "data.columns[data.isnull().any()].tolist()"
   ]
  },
  {
   "cell_type": "markdown",
   "id": "b202d3de",
   "metadata": {
    "papermill": {
     "duration": 0.184324,
     "end_time": "2021-11-13T13:44:20.602774",
     "exception": false,
     "start_time": "2021-11-13T13:44:20.418450",
     "status": "completed"
    },
    "tags": []
   },
   "source": [
    "- **Eksik veriye sahip değişkenleri** verir"
   ]
  },
  {
   "cell_type": "code",
   "execution_count": 21,
   "id": "f19a72e8",
   "metadata": {
    "execution": {
     "iopub.execute_input": "2021-11-13T13:44:20.975786Z",
     "iopub.status.busy": "2021-11-13T13:44:20.974669Z",
     "iopub.status.idle": "2021-11-13T13:44:21.012374Z",
     "shell.execute_reply": "2021-11-13T13:44:21.012845Z",
     "shell.execute_reply.started": "2021-11-13T13:41:23.830004Z"
    },
    "papermill": {
     "duration": 0.232051,
     "end_time": "2021-11-13T13:44:21.013003",
     "exception": false,
     "start_time": "2021-11-13T13:44:20.780952",
     "status": "completed"
    },
    "tags": []
   },
   "outputs": [
    {
     "data": {
      "text/html": [
       "<div>\n",
       "<style scoped>\n",
       "    .dataframe tbody tr th:only-of-type {\n",
       "        vertical-align: middle;\n",
       "    }\n",
       "\n",
       "    .dataframe tbody tr th {\n",
       "        vertical-align: top;\n",
       "    }\n",
       "\n",
       "    .dataframe thead th {\n",
       "        text-align: right;\n",
       "    }\n",
       "</style>\n",
       "<table border=\"1\" class=\"dataframe\">\n",
       "  <thead>\n",
       "    <tr style=\"text-align: right;\">\n",
       "      <th></th>\n",
       "      <th>Id</th>\n",
       "      <th>MSSubClass</th>\n",
       "      <th>MSZoning</th>\n",
       "      <th>LotFrontage</th>\n",
       "      <th>LotArea</th>\n",
       "      <th>Street</th>\n",
       "      <th>Alley</th>\n",
       "      <th>LotShape</th>\n",
       "      <th>LandContour</th>\n",
       "      <th>Utilities</th>\n",
       "      <th>...</th>\n",
       "      <th>PoolArea</th>\n",
       "      <th>PoolQC</th>\n",
       "      <th>Fence</th>\n",
       "      <th>MiscFeature</th>\n",
       "      <th>MiscVal</th>\n",
       "      <th>MoSold</th>\n",
       "      <th>YrSold</th>\n",
       "      <th>SaleType</th>\n",
       "      <th>SaleCondition</th>\n",
       "      <th>SalePrice</th>\n",
       "    </tr>\n",
       "  </thead>\n",
       "  <tbody>\n",
       "    <tr>\n",
       "      <th>0</th>\n",
       "      <td>1</td>\n",
       "      <td>60</td>\n",
       "      <td>RL</td>\n",
       "      <td>65.0</td>\n",
       "      <td>8450</td>\n",
       "      <td>Pave</td>\n",
       "      <td>NaN</td>\n",
       "      <td>Reg</td>\n",
       "      <td>Lvl</td>\n",
       "      <td>AllPub</td>\n",
       "      <td>...</td>\n",
       "      <td>0</td>\n",
       "      <td>NaN</td>\n",
       "      <td>NaN</td>\n",
       "      <td>NaN</td>\n",
       "      <td>0</td>\n",
       "      <td>2</td>\n",
       "      <td>2008</td>\n",
       "      <td>WD</td>\n",
       "      <td>Normal</td>\n",
       "      <td>208500.0</td>\n",
       "    </tr>\n",
       "    <tr>\n",
       "      <th>1</th>\n",
       "      <td>2</td>\n",
       "      <td>20</td>\n",
       "      <td>RL</td>\n",
       "      <td>80.0</td>\n",
       "      <td>9600</td>\n",
       "      <td>Pave</td>\n",
       "      <td>NaN</td>\n",
       "      <td>Reg</td>\n",
       "      <td>Lvl</td>\n",
       "      <td>AllPub</td>\n",
       "      <td>...</td>\n",
       "      <td>0</td>\n",
       "      <td>NaN</td>\n",
       "      <td>NaN</td>\n",
       "      <td>NaN</td>\n",
       "      <td>0</td>\n",
       "      <td>5</td>\n",
       "      <td>2007</td>\n",
       "      <td>WD</td>\n",
       "      <td>Normal</td>\n",
       "      <td>181500.0</td>\n",
       "    </tr>\n",
       "    <tr>\n",
       "      <th>2</th>\n",
       "      <td>3</td>\n",
       "      <td>60</td>\n",
       "      <td>RL</td>\n",
       "      <td>68.0</td>\n",
       "      <td>11250</td>\n",
       "      <td>Pave</td>\n",
       "      <td>NaN</td>\n",
       "      <td>IR1</td>\n",
       "      <td>Lvl</td>\n",
       "      <td>AllPub</td>\n",
       "      <td>...</td>\n",
       "      <td>0</td>\n",
       "      <td>NaN</td>\n",
       "      <td>NaN</td>\n",
       "      <td>NaN</td>\n",
       "      <td>0</td>\n",
       "      <td>9</td>\n",
       "      <td>2008</td>\n",
       "      <td>WD</td>\n",
       "      <td>Normal</td>\n",
       "      <td>223500.0</td>\n",
       "    </tr>\n",
       "    <tr>\n",
       "      <th>3</th>\n",
       "      <td>4</td>\n",
       "      <td>70</td>\n",
       "      <td>RL</td>\n",
       "      <td>60.0</td>\n",
       "      <td>9550</td>\n",
       "      <td>Pave</td>\n",
       "      <td>NaN</td>\n",
       "      <td>IR1</td>\n",
       "      <td>Lvl</td>\n",
       "      <td>AllPub</td>\n",
       "      <td>...</td>\n",
       "      <td>0</td>\n",
       "      <td>NaN</td>\n",
       "      <td>NaN</td>\n",
       "      <td>NaN</td>\n",
       "      <td>0</td>\n",
       "      <td>2</td>\n",
       "      <td>2006</td>\n",
       "      <td>WD</td>\n",
       "      <td>Abnorml</td>\n",
       "      <td>140000.0</td>\n",
       "    </tr>\n",
       "    <tr>\n",
       "      <th>4</th>\n",
       "      <td>5</td>\n",
       "      <td>60</td>\n",
       "      <td>RL</td>\n",
       "      <td>84.0</td>\n",
       "      <td>14260</td>\n",
       "      <td>Pave</td>\n",
       "      <td>NaN</td>\n",
       "      <td>IR1</td>\n",
       "      <td>Lvl</td>\n",
       "      <td>AllPub</td>\n",
       "      <td>...</td>\n",
       "      <td>0</td>\n",
       "      <td>NaN</td>\n",
       "      <td>NaN</td>\n",
       "      <td>NaN</td>\n",
       "      <td>0</td>\n",
       "      <td>12</td>\n",
       "      <td>2008</td>\n",
       "      <td>WD</td>\n",
       "      <td>Normal</td>\n",
       "      <td>250000.0</td>\n",
       "    </tr>\n",
       "    <tr>\n",
       "      <th>...</th>\n",
       "      <td>...</td>\n",
       "      <td>...</td>\n",
       "      <td>...</td>\n",
       "      <td>...</td>\n",
       "      <td>...</td>\n",
       "      <td>...</td>\n",
       "      <td>...</td>\n",
       "      <td>...</td>\n",
       "      <td>...</td>\n",
       "      <td>...</td>\n",
       "      <td>...</td>\n",
       "      <td>...</td>\n",
       "      <td>...</td>\n",
       "      <td>...</td>\n",
       "      <td>...</td>\n",
       "      <td>...</td>\n",
       "      <td>...</td>\n",
       "      <td>...</td>\n",
       "      <td>...</td>\n",
       "      <td>...</td>\n",
       "      <td>...</td>\n",
       "    </tr>\n",
       "    <tr>\n",
       "      <th>1454</th>\n",
       "      <td>2915</td>\n",
       "      <td>160</td>\n",
       "      <td>RM</td>\n",
       "      <td>21.0</td>\n",
       "      <td>1936</td>\n",
       "      <td>Pave</td>\n",
       "      <td>NaN</td>\n",
       "      <td>Reg</td>\n",
       "      <td>Lvl</td>\n",
       "      <td>AllPub</td>\n",
       "      <td>...</td>\n",
       "      <td>0</td>\n",
       "      <td>NaN</td>\n",
       "      <td>NaN</td>\n",
       "      <td>NaN</td>\n",
       "      <td>0</td>\n",
       "      <td>6</td>\n",
       "      <td>2006</td>\n",
       "      <td>WD</td>\n",
       "      <td>Normal</td>\n",
       "      <td>NaN</td>\n",
       "    </tr>\n",
       "    <tr>\n",
       "      <th>1455</th>\n",
       "      <td>2916</td>\n",
       "      <td>160</td>\n",
       "      <td>RM</td>\n",
       "      <td>21.0</td>\n",
       "      <td>1894</td>\n",
       "      <td>Pave</td>\n",
       "      <td>NaN</td>\n",
       "      <td>Reg</td>\n",
       "      <td>Lvl</td>\n",
       "      <td>AllPub</td>\n",
       "      <td>...</td>\n",
       "      <td>0</td>\n",
       "      <td>NaN</td>\n",
       "      <td>NaN</td>\n",
       "      <td>NaN</td>\n",
       "      <td>0</td>\n",
       "      <td>4</td>\n",
       "      <td>2006</td>\n",
       "      <td>WD</td>\n",
       "      <td>Abnorml</td>\n",
       "      <td>NaN</td>\n",
       "    </tr>\n",
       "    <tr>\n",
       "      <th>1456</th>\n",
       "      <td>2917</td>\n",
       "      <td>20</td>\n",
       "      <td>RL</td>\n",
       "      <td>160.0</td>\n",
       "      <td>20000</td>\n",
       "      <td>Pave</td>\n",
       "      <td>NaN</td>\n",
       "      <td>Reg</td>\n",
       "      <td>Lvl</td>\n",
       "      <td>AllPub</td>\n",
       "      <td>...</td>\n",
       "      <td>0</td>\n",
       "      <td>NaN</td>\n",
       "      <td>NaN</td>\n",
       "      <td>NaN</td>\n",
       "      <td>0</td>\n",
       "      <td>9</td>\n",
       "      <td>2006</td>\n",
       "      <td>WD</td>\n",
       "      <td>Abnorml</td>\n",
       "      <td>NaN</td>\n",
       "    </tr>\n",
       "    <tr>\n",
       "      <th>1457</th>\n",
       "      <td>2918</td>\n",
       "      <td>85</td>\n",
       "      <td>RL</td>\n",
       "      <td>62.0</td>\n",
       "      <td>10441</td>\n",
       "      <td>Pave</td>\n",
       "      <td>NaN</td>\n",
       "      <td>Reg</td>\n",
       "      <td>Lvl</td>\n",
       "      <td>AllPub</td>\n",
       "      <td>...</td>\n",
       "      <td>0</td>\n",
       "      <td>NaN</td>\n",
       "      <td>MnPrv</td>\n",
       "      <td>Shed</td>\n",
       "      <td>700</td>\n",
       "      <td>7</td>\n",
       "      <td>2006</td>\n",
       "      <td>WD</td>\n",
       "      <td>Normal</td>\n",
       "      <td>NaN</td>\n",
       "    </tr>\n",
       "    <tr>\n",
       "      <th>1458</th>\n",
       "      <td>2919</td>\n",
       "      <td>60</td>\n",
       "      <td>RL</td>\n",
       "      <td>74.0</td>\n",
       "      <td>9627</td>\n",
       "      <td>Pave</td>\n",
       "      <td>NaN</td>\n",
       "      <td>Reg</td>\n",
       "      <td>Lvl</td>\n",
       "      <td>AllPub</td>\n",
       "      <td>...</td>\n",
       "      <td>0</td>\n",
       "      <td>NaN</td>\n",
       "      <td>NaN</td>\n",
       "      <td>NaN</td>\n",
       "      <td>0</td>\n",
       "      <td>11</td>\n",
       "      <td>2006</td>\n",
       "      <td>WD</td>\n",
       "      <td>Normal</td>\n",
       "      <td>NaN</td>\n",
       "    </tr>\n",
       "  </tbody>\n",
       "</table>\n",
       "<p>2919 rows × 81 columns</p>\n",
       "</div>"
      ],
      "text/plain": [
       "        Id  MSSubClass MSZoning  LotFrontage  LotArea Street Alley LotShape  \\\n",
       "0        1          60       RL         65.0     8450   Pave   NaN      Reg   \n",
       "1        2          20       RL         80.0     9600   Pave   NaN      Reg   \n",
       "2        3          60       RL         68.0    11250   Pave   NaN      IR1   \n",
       "3        4          70       RL         60.0     9550   Pave   NaN      IR1   \n",
       "4        5          60       RL         84.0    14260   Pave   NaN      IR1   \n",
       "...    ...         ...      ...          ...      ...    ...   ...      ...   \n",
       "1454  2915         160       RM         21.0     1936   Pave   NaN      Reg   \n",
       "1455  2916         160       RM         21.0     1894   Pave   NaN      Reg   \n",
       "1456  2917          20       RL        160.0    20000   Pave   NaN      Reg   \n",
       "1457  2918          85       RL         62.0    10441   Pave   NaN      Reg   \n",
       "1458  2919          60       RL         74.0     9627   Pave   NaN      Reg   \n",
       "\n",
       "     LandContour Utilities  ... PoolArea PoolQC  Fence MiscFeature MiscVal  \\\n",
       "0            Lvl    AllPub  ...        0    NaN    NaN         NaN       0   \n",
       "1            Lvl    AllPub  ...        0    NaN    NaN         NaN       0   \n",
       "2            Lvl    AllPub  ...        0    NaN    NaN         NaN       0   \n",
       "3            Lvl    AllPub  ...        0    NaN    NaN         NaN       0   \n",
       "4            Lvl    AllPub  ...        0    NaN    NaN         NaN       0   \n",
       "...          ...       ...  ...      ...    ...    ...         ...     ...   \n",
       "1454         Lvl    AllPub  ...        0    NaN    NaN         NaN       0   \n",
       "1455         Lvl    AllPub  ...        0    NaN    NaN         NaN       0   \n",
       "1456         Lvl    AllPub  ...        0    NaN    NaN         NaN       0   \n",
       "1457         Lvl    AllPub  ...        0    NaN  MnPrv        Shed     700   \n",
       "1458         Lvl    AllPub  ...        0    NaN    NaN         NaN       0   \n",
       "\n",
       "     MoSold YrSold  SaleType  SaleCondition  SalePrice  \n",
       "0         2   2008        WD         Normal   208500.0  \n",
       "1         5   2007        WD         Normal   181500.0  \n",
       "2         9   2008        WD         Normal   223500.0  \n",
       "3         2   2006        WD        Abnorml   140000.0  \n",
       "4        12   2008        WD         Normal   250000.0  \n",
       "...     ...    ...       ...            ...        ...  \n",
       "1454      6   2006        WD         Normal        NaN  \n",
       "1455      4   2006        WD        Abnorml        NaN  \n",
       "1456      9   2006        WD        Abnorml        NaN  \n",
       "1457      7   2006        WD         Normal        NaN  \n",
       "1458     11   2006        WD         Normal        NaN  \n",
       "\n",
       "[2919 rows x 81 columns]"
      ]
     },
     "execution_count": 21,
     "metadata": {},
     "output_type": "execute_result"
    }
   ],
   "source": [
    "data[data.isnull().any(axis=1)]"
   ]
  },
  {
   "cell_type": "markdown",
   "id": "aa0bd485",
   "metadata": {
    "papermill": {
     "duration": 0.18351,
     "end_time": "2021-11-13T13:44:21.395498",
     "exception": false,
     "start_time": "2021-11-13T13:44:21.211988",
     "status": "completed"
    },
    "tags": []
   },
   "source": [
    "- Tam olan gözlerm birimlerini verir."
   ]
  },
  {
   "cell_type": "code",
   "execution_count": 22,
   "id": "3c0f5611",
   "metadata": {
    "execution": {
     "iopub.execute_input": "2021-11-13T13:44:21.770664Z",
     "iopub.status.busy": "2021-11-13T13:44:21.769709Z",
     "iopub.status.idle": "2021-11-13T13:44:21.786905Z",
     "shell.execute_reply": "2021-11-13T13:44:21.786437Z",
     "shell.execute_reply.started": "2021-11-13T13:41:23.882920Z"
    },
    "papermill": {
     "duration": 0.210787,
     "end_time": "2021-11-13T13:44:21.787025",
     "exception": false,
     "start_time": "2021-11-13T13:44:21.576238",
     "status": "completed"
    },
    "tags": []
   },
   "outputs": [
    {
     "data": {
      "text/html": [
       "<div>\n",
       "<style scoped>\n",
       "    .dataframe tbody tr th:only-of-type {\n",
       "        vertical-align: middle;\n",
       "    }\n",
       "\n",
       "    .dataframe tbody tr th {\n",
       "        vertical-align: top;\n",
       "    }\n",
       "\n",
       "    .dataframe thead th {\n",
       "        text-align: right;\n",
       "    }\n",
       "</style>\n",
       "<table border=\"1\" class=\"dataframe\">\n",
       "  <thead>\n",
       "    <tr style=\"text-align: right;\">\n",
       "      <th></th>\n",
       "      <th>Id</th>\n",
       "      <th>MSSubClass</th>\n",
       "      <th>MSZoning</th>\n",
       "      <th>LotFrontage</th>\n",
       "      <th>LotArea</th>\n",
       "      <th>Street</th>\n",
       "      <th>Alley</th>\n",
       "      <th>LotShape</th>\n",
       "      <th>LandContour</th>\n",
       "      <th>Utilities</th>\n",
       "      <th>...</th>\n",
       "      <th>PoolArea</th>\n",
       "      <th>PoolQC</th>\n",
       "      <th>Fence</th>\n",
       "      <th>MiscFeature</th>\n",
       "      <th>MiscVal</th>\n",
       "      <th>MoSold</th>\n",
       "      <th>YrSold</th>\n",
       "      <th>SaleType</th>\n",
       "      <th>SaleCondition</th>\n",
       "      <th>SalePrice</th>\n",
       "    </tr>\n",
       "  </thead>\n",
       "  <tbody>\n",
       "  </tbody>\n",
       "</table>\n",
       "<p>0 rows × 81 columns</p>\n",
       "</div>"
      ],
      "text/plain": [
       "Empty DataFrame\n",
       "Columns: [Id, MSSubClass, MSZoning, LotFrontage, LotArea, Street, Alley, LotShape, LandContour, Utilities, LotConfig, LandSlope, Neighborhood, Condition1, Condition2, BldgType, HouseStyle, OverallQual, OverallCond, YearBuilt, YearRemodAdd, RoofStyle, RoofMatl, Exterior1st, Exterior2nd, MasVnrType, MasVnrArea, ExterQual, ExterCond, Foundation, BsmtQual, BsmtCond, BsmtExposure, BsmtFinType1, BsmtFinSF1, BsmtFinType2, BsmtFinSF2, BsmtUnfSF, TotalBsmtSF, Heating, HeatingQC, CentralAir, Electrical, 1stFlrSF, 2ndFlrSF, LowQualFinSF, GrLivArea, BsmtFullBath, BsmtHalfBath, FullBath, HalfBath, BedroomAbvGr, KitchenAbvGr, KitchenQual, TotRmsAbvGrd, Functional, Fireplaces, FireplaceQu, GarageType, GarageYrBlt, GarageFinish, GarageCars, GarageArea, GarageQual, GarageCond, PavedDrive, WoodDeckSF, OpenPorchSF, EnclosedPorch, 3SsnPorch, ScreenPorch, PoolArea, PoolQC, Fence, MiscFeature, MiscVal, MoSold, YrSold, SaleType, SaleCondition, SalePrice]\n",
       "Index: []\n",
       "\n",
       "[0 rows x 81 columns]"
      ]
     },
     "execution_count": 22,
     "metadata": {},
     "output_type": "execute_result"
    }
   ],
   "source": [
    "data[data.notnull().all(axis=1)]"
   ]
  },
  {
   "cell_type": "code",
   "execution_count": 23,
   "id": "a1bfdb1c",
   "metadata": {
    "execution": {
     "iopub.execute_input": "2021-11-13T13:44:22.182986Z",
     "iopub.status.busy": "2021-11-13T13:44:22.179581Z",
     "iopub.status.idle": "2021-11-13T13:44:22.195600Z",
     "shell.execute_reply": "2021-11-13T13:44:22.195975Z",
     "shell.execute_reply.started": "2021-11-13T13:41:23.914108Z"
    },
    "papermill": {
     "duration": 0.218229,
     "end_time": "2021-11-13T13:44:22.196113",
     "exception": false,
     "start_time": "2021-11-13T13:44:21.977884",
     "status": "completed"
    },
    "tags": []
   },
   "outputs": [
    {
     "data": {
      "text/plain": [
       "['MSZoning',\n",
       " 'LotFrontage',\n",
       " 'Alley',\n",
       " 'Utilities',\n",
       " 'Exterior1st',\n",
       " 'Exterior2nd',\n",
       " 'MasVnrType',\n",
       " 'MasVnrArea',\n",
       " 'BsmtQual',\n",
       " 'BsmtCond',\n",
       " 'BsmtExposure',\n",
       " 'BsmtFinType1',\n",
       " 'BsmtFinSF1',\n",
       " 'BsmtFinType2',\n",
       " 'BsmtFinSF2',\n",
       " 'BsmtUnfSF',\n",
       " 'TotalBsmtSF',\n",
       " 'Electrical',\n",
       " 'BsmtFullBath',\n",
       " 'BsmtHalfBath',\n",
       " 'KitchenQual',\n",
       " 'Functional',\n",
       " 'FireplaceQu',\n",
       " 'GarageType',\n",
       " 'GarageYrBlt',\n",
       " 'GarageFinish',\n",
       " 'GarageCars',\n",
       " 'GarageArea',\n",
       " 'GarageQual',\n",
       " 'GarageCond',\n",
       " 'PoolQC',\n",
       " 'Fence',\n",
       " 'MiscFeature',\n",
       " 'SaleType',\n",
       " 'SalePrice']"
      ]
     },
     "execution_count": 23,
     "metadata": {},
     "output_type": "execute_result"
    }
   ],
   "source": [
    "[cols for cols in data.columns if data[cols].isnull().any()]"
   ]
  },
  {
   "cell_type": "code",
   "execution_count": 24,
   "id": "2730ab52",
   "metadata": {
    "execution": {
     "iopub.execute_input": "2021-11-13T13:44:22.578265Z",
     "iopub.status.busy": "2021-11-13T13:44:22.577456Z",
     "iopub.status.idle": "2021-11-13T13:44:22.990797Z",
     "shell.execute_reply": "2021-11-13T13:44:22.991314Z",
     "shell.execute_reply.started": "2021-11-13T13:41:23.950795Z"
    },
    "papermill": {
     "duration": 0.613707,
     "end_time": "2021-11-13T13:44:22.991482",
     "exception": false,
     "start_time": "2021-11-13T13:44:22.377775",
     "status": "completed"
    },
    "tags": []
   },
   "outputs": [
    {
     "data": {
      "image/png": "[encoded data removed]",
      "text/plain": [
       "<Figure size 864x360 with 1 Axes>"
      ]
     },
     "metadata": {
      "needs_background": "light"
     },
     "output_type": "display_data"
    },
    {
     "name": "stdout",
     "output_type": "stream",
     "text": [
      "%90'ı Eksik Veri Olan Değişkenler : ['PoolQC', 'MiscFeature', 'Alley']\n"
     ]
    },
    {
     "data": {
      "text/html": [
       "<div>\n",
       "<style scoped>\n",
       "    .dataframe tbody tr th:only-of-type {\n",
       "        vertical-align: middle;\n",
       "    }\n",
       "\n",
       "    .dataframe tbody tr th {\n",
       "        vertical-align: top;\n",
       "    }\n",
       "\n",
       "    .dataframe thead th {\n",
       "        text-align: right;\n",
       "    }\n",
       "</style>\n",
       "<table border=\"1\" class=\"dataframe\">\n",
       "  <thead>\n",
       "    <tr style=\"text-align: right;\">\n",
       "      <th></th>\n",
       "      <th>Feature</th>\n",
       "      <th>num_missing</th>\n",
       "      <th>Ratio</th>\n",
       "      <th>Datatypes</th>\n",
       "    </tr>\n",
       "  </thead>\n",
       "  <tbody>\n",
       "    <tr>\n",
       "      <th>0</th>\n",
       "      <td>PoolQC</td>\n",
       "      <td>2909</td>\n",
       "      <td>0.996574</td>\n",
       "      <td>object</td>\n",
       "    </tr>\n",
       "    <tr>\n",
       "      <th>1</th>\n",
       "      <td>MiscFeature</td>\n",
       "      <td>2814</td>\n",
       "      <td>0.964029</td>\n",
       "      <td>object</td>\n",
       "    </tr>\n",
       "    <tr>\n",
       "      <th>2</th>\n",
       "      <td>Alley</td>\n",
       "      <td>2721</td>\n",
       "      <td>0.932169</td>\n",
       "      <td>object</td>\n",
       "    </tr>\n",
       "    <tr>\n",
       "      <th>3</th>\n",
       "      <td>Fence</td>\n",
       "      <td>2348</td>\n",
       "      <td>0.804385</td>\n",
       "      <td>object</td>\n",
       "    </tr>\n",
       "    <tr>\n",
       "      <th>4</th>\n",
       "      <td>SalePrice</td>\n",
       "      <td>1459</td>\n",
       "      <td>0.499829</td>\n",
       "      <td>float64</td>\n",
       "    </tr>\n",
       "    <tr>\n",
       "      <th>5</th>\n",
       "      <td>FireplaceQu</td>\n",
       "      <td>1420</td>\n",
       "      <td>0.486468</td>\n",
       "      <td>object</td>\n",
       "    </tr>\n",
       "    <tr>\n",
       "      <th>6</th>\n",
       "      <td>LotFrontage</td>\n",
       "      <td>486</td>\n",
       "      <td>0.166495</td>\n",
       "      <td>float64</td>\n",
       "    </tr>\n",
       "    <tr>\n",
       "      <th>7</th>\n",
       "      <td>GarageFinish</td>\n",
       "      <td>159</td>\n",
       "      <td>0.054471</td>\n",
       "      <td>object</td>\n",
       "    </tr>\n",
       "    <tr>\n",
       "      <th>8</th>\n",
       "      <td>GarageQual</td>\n",
       "      <td>159</td>\n",
       "      <td>0.054471</td>\n",
       "      <td>object</td>\n",
       "    </tr>\n",
       "    <tr>\n",
       "      <th>9</th>\n",
       "      <td>GarageCond</td>\n",
       "      <td>159</td>\n",
       "      <td>0.054471</td>\n",
       "      <td>object</td>\n",
       "    </tr>\n",
       "    <tr>\n",
       "      <th>10</th>\n",
       "      <td>GarageYrBlt</td>\n",
       "      <td>159</td>\n",
       "      <td>0.054471</td>\n",
       "      <td>float64</td>\n",
       "    </tr>\n",
       "    <tr>\n",
       "      <th>11</th>\n",
       "      <td>GarageType</td>\n",
       "      <td>157</td>\n",
       "      <td>0.053786</td>\n",
       "      <td>object</td>\n",
       "    </tr>\n",
       "    <tr>\n",
       "      <th>12</th>\n",
       "      <td>BsmtExposure</td>\n",
       "      <td>82</td>\n",
       "      <td>0.028092</td>\n",
       "      <td>object</td>\n",
       "    </tr>\n",
       "    <tr>\n",
       "      <th>13</th>\n",
       "      <td>BsmtCond</td>\n",
       "      <td>82</td>\n",
       "      <td>0.028092</td>\n",
       "      <td>object</td>\n",
       "    </tr>\n",
       "    <tr>\n",
       "      <th>14</th>\n",
       "      <td>BsmtQual</td>\n",
       "      <td>81</td>\n",
       "      <td>0.027749</td>\n",
       "      <td>object</td>\n",
       "    </tr>\n",
       "    <tr>\n",
       "      <th>15</th>\n",
       "      <td>BsmtFinType2</td>\n",
       "      <td>80</td>\n",
       "      <td>0.027407</td>\n",
       "      <td>object</td>\n",
       "    </tr>\n",
       "    <tr>\n",
       "      <th>16</th>\n",
       "      <td>BsmtFinType1</td>\n",
       "      <td>79</td>\n",
       "      <td>0.027064</td>\n",
       "      <td>object</td>\n",
       "    </tr>\n",
       "    <tr>\n",
       "      <th>17</th>\n",
       "      <td>MasVnrType</td>\n",
       "      <td>24</td>\n",
       "      <td>0.008222</td>\n",
       "      <td>object</td>\n",
       "    </tr>\n",
       "    <tr>\n",
       "      <th>18</th>\n",
       "      <td>MasVnrArea</td>\n",
       "      <td>23</td>\n",
       "      <td>0.007879</td>\n",
       "      <td>float64</td>\n",
       "    </tr>\n",
       "    <tr>\n",
       "      <th>19</th>\n",
       "      <td>MSZoning</td>\n",
       "      <td>4</td>\n",
       "      <td>0.001370</td>\n",
       "      <td>object</td>\n",
       "    </tr>\n",
       "    <tr>\n",
       "      <th>20</th>\n",
       "      <td>Functional</td>\n",
       "      <td>2</td>\n",
       "      <td>0.000685</td>\n",
       "      <td>object</td>\n",
       "    </tr>\n",
       "    <tr>\n",
       "      <th>21</th>\n",
       "      <td>BsmtHalfBath</td>\n",
       "      <td>2</td>\n",
       "      <td>0.000685</td>\n",
       "      <td>float64</td>\n",
       "    </tr>\n",
       "    <tr>\n",
       "      <th>22</th>\n",
       "      <td>BsmtFullBath</td>\n",
       "      <td>2</td>\n",
       "      <td>0.000685</td>\n",
       "      <td>float64</td>\n",
       "    </tr>\n",
       "    <tr>\n",
       "      <th>23</th>\n",
       "      <td>Utilities</td>\n",
       "      <td>2</td>\n",
       "      <td>0.000685</td>\n",
       "      <td>object</td>\n",
       "    </tr>\n",
       "    <tr>\n",
       "      <th>24</th>\n",
       "      <td>BsmtFinSF1</td>\n",
       "      <td>1</td>\n",
       "      <td>0.000343</td>\n",
       "      <td>float64</td>\n",
       "    </tr>\n",
       "    <tr>\n",
       "      <th>25</th>\n",
       "      <td>BsmtFinSF2</td>\n",
       "      <td>1</td>\n",
       "      <td>0.000343</td>\n",
       "      <td>float64</td>\n",
       "    </tr>\n",
       "    <tr>\n",
       "      <th>26</th>\n",
       "      <td>SaleType</td>\n",
       "      <td>1</td>\n",
       "      <td>0.000343</td>\n",
       "      <td>object</td>\n",
       "    </tr>\n",
       "    <tr>\n",
       "      <th>27</th>\n",
       "      <td>Electrical</td>\n",
       "      <td>1</td>\n",
       "      <td>0.000343</td>\n",
       "      <td>object</td>\n",
       "    </tr>\n",
       "    <tr>\n",
       "      <th>28</th>\n",
       "      <td>GarageCars</td>\n",
       "      <td>1</td>\n",
       "      <td>0.000343</td>\n",
       "      <td>float64</td>\n",
       "    </tr>\n",
       "    <tr>\n",
       "      <th>29</th>\n",
       "      <td>TotalBsmtSF</td>\n",
       "      <td>1</td>\n",
       "      <td>0.000343</td>\n",
       "      <td>float64</td>\n",
       "    </tr>\n",
       "    <tr>\n",
       "      <th>30</th>\n",
       "      <td>GarageArea</td>\n",
       "      <td>1</td>\n",
       "      <td>0.000343</td>\n",
       "      <td>float64</td>\n",
       "    </tr>\n",
       "    <tr>\n",
       "      <th>31</th>\n",
       "      <td>Exterior2nd</td>\n",
       "      <td>1</td>\n",
       "      <td>0.000343</td>\n",
       "      <td>object</td>\n",
       "    </tr>\n",
       "    <tr>\n",
       "      <th>32</th>\n",
       "      <td>Exterior1st</td>\n",
       "      <td>1</td>\n",
       "      <td>0.000343</td>\n",
       "      <td>object</td>\n",
       "    </tr>\n",
       "    <tr>\n",
       "      <th>33</th>\n",
       "      <td>KitchenQual</td>\n",
       "      <td>1</td>\n",
       "      <td>0.000343</td>\n",
       "      <td>object</td>\n",
       "    </tr>\n",
       "    <tr>\n",
       "      <th>34</th>\n",
       "      <td>BsmtUnfSF</td>\n",
       "      <td>1</td>\n",
       "      <td>0.000343</td>\n",
       "      <td>float64</td>\n",
       "    </tr>\n",
       "  </tbody>\n",
       "</table>\n",
       "</div>"
      ],
      "text/plain": [
       "         Feature  num_missing     Ratio Datatypes\n",
       "0         PoolQC         2909  0.996574    object\n",
       "1    MiscFeature         2814  0.964029    object\n",
       "2          Alley         2721  0.932169    object\n",
       "3          Fence         2348  0.804385    object\n",
       "4      SalePrice         1459  0.499829   float64\n",
       "5    FireplaceQu         1420  0.486468    object\n",
       "6    LotFrontage          486  0.166495   float64\n",
       "7   GarageFinish          159  0.054471    object\n",
       "8     GarageQual          159  0.054471    object\n",
       "9     GarageCond          159  0.054471    object\n",
       "10   GarageYrBlt          159  0.054471   float64\n",
       "11    GarageType          157  0.053786    object\n",
       "12  BsmtExposure           82  0.028092    object\n",
       "13      BsmtCond           82  0.028092    object\n",
       "14      BsmtQual           81  0.027749    object\n",
       "15  BsmtFinType2           80  0.027407    object\n",
       "16  BsmtFinType1           79  0.027064    object\n",
       "17    MasVnrType           24  0.008222    object\n",
       "18    MasVnrArea           23  0.007879   float64\n",
       "19      MSZoning            4  0.001370    object\n",
       "20    Functional            2  0.000685    object\n",
       "21  BsmtHalfBath            2  0.000685   float64\n",
       "22  BsmtFullBath            2  0.000685   float64\n",
       "23     Utilities            2  0.000685    object\n",
       "24    BsmtFinSF1            1  0.000343   float64\n",
       "25    BsmtFinSF2            1  0.000343   float64\n",
       "26      SaleType            1  0.000343    object\n",
       "27    Electrical            1  0.000343    object\n",
       "28    GarageCars            1  0.000343   float64\n",
       "29   TotalBsmtSF            1  0.000343   float64\n",
       "30    GarageArea            1  0.000343   float64\n",
       "31   Exterior2nd            1  0.000343    object\n",
       "32   Exterior1st            1  0.000343    object\n",
       "33   KitchenQual            1  0.000343    object\n",
       "34     BsmtUnfSF            1  0.000343   float64"
      ]
     },
     "execution_count": 24,
     "metadata": {},
     "output_type": "execute_result"
    }
   ],
   "source": [
    "def miss_value(df, plot= False):\n",
    "    \n",
    "    miss_data = pd.DataFrame({'num_missing':df.isnull().sum(),\n",
    "                            'Ratio':df.isnull().sum() / len(df)})\n",
    "    \n",
    "    miss_data['Datatypes'] = data[miss_data.index].dtypes.values\n",
    "    \n",
    "    miss_data = miss_data.sort_values('num_missing', ascending = False)\n",
    "    \n",
    "    miss_data = miss_data[miss_data['num_missing'] > 0].reset_index().rename({'index':'Feature'}, axis=1)    \n",
    "          \n",
    "    if plot:\n",
    "        \n",
    "        plt.figure(figsize=(12,5))\n",
    "        p = sns.barplot(x = miss_data['Feature'], y = miss_data['num_missing']);   \n",
    "    \n",
    "        for rotate in p.get_xticklabels(): #x ekseninde ki her değişken ismini 90 olarak ayarladık. yatay şekilde.\n",
    "            \n",
    "            rotate.set_rotation(90)\n",
    "        plt.show()\n",
    "        \n",
    "        miss_90 = miss_data[miss_data['Ratio'] > 0.90]['Feature'].tolist() \n",
    "        \n",
    "        print(f\"%90'ı Eksik Veri Olan Değişkenler : {miss_90}\")\n",
    "        \n",
    "    return miss_data\n",
    "        \n",
    "miss_data = miss_value(data, plot=True)\n",
    "\n",
    "miss_data"
   ]
  },
  {
   "cell_type": "code",
   "execution_count": 25,
   "id": "c6ba1031",
   "metadata": {
    "execution": {
     "iopub.execute_input": "2021-11-13T13:44:23.373241Z",
     "iopub.status.busy": "2021-11-13T13:44:23.372162Z",
     "iopub.status.idle": "2021-11-13T13:44:23.377220Z",
     "shell.execute_reply": "2021-11-13T13:44:23.376720Z",
     "shell.execute_reply.started": "2021-11-13T13:41:24.386167Z"
    },
    "papermill": {
     "duration": 0.200357,
     "end_time": "2021-11-13T13:44:23.377372",
     "exception": false,
     "start_time": "2021-11-13T13:44:23.177015",
     "status": "completed"
    },
    "tags": []
   },
   "outputs": [
    {
     "data": {
      "text/plain": [
       "(['PoolQC', 'MiscFeature', 'Alley', 'Fence'], (2919, 81))"
      ]
     },
     "execution_count": 25,
     "metadata": {},
     "output_type": "execute_result"
    }
   ],
   "source": [
    "miss_data[miss_data['Ratio'] > 0.80].Feature.tolist(), data.shape"
   ]
  },
  {
   "cell_type": "markdown",
   "id": "fd4f4a59",
   "metadata": {
    "papermill": {
     "duration": 0.182214,
     "end_time": "2021-11-13T13:44:23.749695",
     "exception": false,
     "start_time": "2021-11-13T13:44:23.567481",
     "status": "completed"
    },
    "tags": []
   },
   "source": [
    "- Değerlerinin %90'ı eksik veri olan değişkenleri datamızdan siliyoruz"
   ]
  },
  {
   "cell_type": "code",
   "execution_count": 26,
   "id": "bae00367",
   "metadata": {
    "execution": {
     "iopub.execute_input": "2021-11-13T13:44:24.125967Z",
     "iopub.status.busy": "2021-11-13T13:44:24.125022Z",
     "iopub.status.idle": "2021-11-13T13:44:24.130680Z",
     "shell.execute_reply": "2021-11-13T13:44:24.131156Z",
     "shell.execute_reply.started": "2021-11-13T13:41:24.397154Z"
    },
    "papermill": {
     "duration": 0.198747,
     "end_time": "2021-11-13T13:44:24.131319",
     "exception": false,
     "start_time": "2021-11-13T13:44:23.932572",
     "status": "completed"
    },
    "tags": []
   },
   "outputs": [
    {
     "data": {
      "text/plain": [
       "(2919, 77)"
      ]
     },
     "execution_count": 26,
     "metadata": {},
     "output_type": "execute_result"
    }
   ],
   "source": [
    "data = data.drop(miss_data[miss_data['Ratio'] > 0.80]['Feature'].tolist(), axis=1)\n",
    "\n",
    "data.shape"
   ]
  },
  {
   "cell_type": "markdown",
   "id": "69655f20",
   "metadata": {
    "papermill": {
     "duration": 0.185233,
     "end_time": "2021-11-13T13:44:24.502886",
     "exception": false,
     "start_time": "2021-11-13T13:44:24.317653",
     "status": "completed"
    },
    "tags": []
   },
   "source": [
    "- Bu **Object data tipine sahip** olan eksik değerleri olan değişkenler arasından;\n",
    "   \n",
    "   - Eksik Değer toplamı 100'den fazla olanı ve az olanı bıze veren fonksiyon yazalım."
   ]
  },
  {
   "cell_type": "code",
   "execution_count": 27,
   "id": "19718629",
   "metadata": {
    "execution": {
     "iopub.execute_input": "2021-11-13T13:44:24.915935Z",
     "iopub.status.busy": "2021-11-13T13:44:24.915044Z",
     "iopub.status.idle": "2021-11-13T13:44:24.920807Z",
     "shell.execute_reply": "2021-11-13T13:44:24.920387Z",
     "shell.execute_reply.started": "2021-11-13T13:41:24.410367Z"
    },
    "papermill": {
     "duration": 0.234358,
     "end_time": "2021-11-13T13:44:24.920937",
     "exception": false,
     "start_time": "2021-11-13T13:44:24.686579",
     "status": "completed"
    },
    "tags": []
   },
   "outputs": [
    {
     "name": "stdout",
     "output_type": "stream",
     "text": [
      "100'den az eksik değeri olan değişkenler\n",
      "\n",
      "MSZoning == 4\n",
      "Utilities == 2\n",
      "Exterior1st == 1\n",
      "Exterior2nd == 1\n",
      "MasVnrType == 24\n",
      "BsmtQual == 81\n",
      "BsmtCond == 82\n",
      "BsmtExposure == 82\n",
      "BsmtFinType1 == 79\n",
      "BsmtFinType2 == 80\n",
      "Electrical == 1\n",
      "KitchenQual == 1\n",
      "Functional == 2\n",
      "SaleType == 1\n",
      "100'den fazla eksik değeri olan değişkenler\n",
      "\n",
      "FireplaceQu == 1420\n",
      "GarageType == 157\n",
      "GarageFinish == 159\n",
      "GarageQual == 159\n",
      "GarageCond == 159\n"
     ]
    }
   ],
   "source": [
    "def miss_count(df):\n",
    "    \n",
    "    up_count = []\n",
    "    \n",
    "    low_count = []\n",
    "    \n",
    "    data_x = [cols for cols in df.columns if df[cols].isnull().any()\n",
    "             and df[cols].dtypes == 'object']\n",
    "    \n",
    "    for cols in data_x:\n",
    "        \n",
    "        count = df[cols].isnull().sum()\n",
    "        \n",
    "        if count > 100:\n",
    "            \n",
    "            up_count.append((cols,count))\n",
    "        else:\n",
    "            low_count.append((cols,count))\n",
    "    \n",
    "    print(\"100'den az eksik değeri olan değişkenler\", end = \"\\n\\n\")\n",
    "    \n",
    "    for i,j in low_count:\n",
    "        \n",
    "        print(f\"{i} == {j}\", end = \"\\n\")\n",
    "    \n",
    "    print(\"100'den fazla eksik değeri olan değişkenler\", end = \"\\n\\n\")\n",
    "    \n",
    "    for i,j in up_count:\n",
    "        \n",
    "        print(f\"{i} == {j}\")\n",
    "    \n",
    "    \n",
    "miss_count(data)       "
   ]
  },
  {
   "cell_type": "markdown",
   "id": "ebf0bd63",
   "metadata": {
    "papermill": {
     "duration": 0.321658,
     "end_time": "2021-11-13T13:44:25.444717",
     "exception": false,
     "start_time": "2021-11-13T13:44:25.123059",
     "status": "completed"
    },
    "tags": []
   },
   "source": [
    "- **Object** değişkene sahip olmayan **Eksik Değere** sahip değişkenlerimizi alalım"
   ]
  },
  {
   "cell_type": "code",
   "execution_count": 28,
   "id": "411e5733",
   "metadata": {
    "execution": {
     "iopub.execute_input": "2021-11-13T13:44:25.936546Z",
     "iopub.status.busy": "2021-11-13T13:44:25.932137Z",
     "iopub.status.idle": "2021-11-13T13:44:25.944820Z",
     "shell.execute_reply": "2021-11-13T13:44:25.945235Z",
     "shell.execute_reply.started": "2021-11-13T13:41:24.462699Z"
    },
    "papermill": {
     "duration": 0.218772,
     "end_time": "2021-11-13T13:44:25.945404",
     "exception": false,
     "start_time": "2021-11-13T13:44:25.726632",
     "status": "completed"
    },
    "tags": []
   },
   "outputs": [
    {
     "data": {
      "text/plain": [
       "['LotFrontage',\n",
       " 'MasVnrArea',\n",
       " 'BsmtFinSF1',\n",
       " 'BsmtFinSF2',\n",
       " 'BsmtUnfSF',\n",
       " 'TotalBsmtSF',\n",
       " 'BsmtFullBath',\n",
       " 'BsmtHalfBath',\n",
       " 'GarageYrBlt',\n",
       " 'GarageCars',\n",
       " 'GarageArea',\n",
       " 'SalePrice']"
      ]
     },
     "execution_count": 28,
     "metadata": {},
     "output_type": "execute_result"
    }
   ],
   "source": [
    "[cols for cols in data.columns if data[cols].isnull().any()\n",
    "and data[cols].dtypes != 'object']"
   ]
  },
  {
   "cell_type": "markdown",
   "id": "f081eeae",
   "metadata": {
    "papermill": {
     "duration": 0.18462,
     "end_time": "2021-11-13T13:44:26.318832",
     "exception": false,
     "start_time": "2021-11-13T13:44:26.134212",
     "status": "completed"
    },
    "tags": []
   },
   "source": [
    "- **Object** data tipine sahip olmayan **Eksik Değere** Sahip değişkenlerimizin, *Eksik Değerlerini* **Mode**'u ile dolduracağız "
   ]
  },
  {
   "cell_type": "code",
   "execution_count": 29,
   "id": "2c084e9c",
   "metadata": {
    "execution": {
     "iopub.execute_input": "2021-11-13T13:44:26.718721Z",
     "iopub.status.busy": "2021-11-13T13:44:26.710387Z",
     "iopub.status.idle": "2021-11-13T13:44:26.734077Z",
     "shell.execute_reply": "2021-11-13T13:44:26.733663Z",
     "shell.execute_reply.started": "2021-11-13T13:41:24.495423Z"
    },
    "papermill": {
     "duration": 0.231509,
     "end_time": "2021-11-13T13:44:26.734226",
     "exception": false,
     "start_time": "2021-11-13T13:44:26.502717",
     "status": "completed"
    },
    "tags": []
   },
   "outputs": [
    {
     "name": "stdout",
     "output_type": "stream",
     "text": [
      "LotFrontage = False\n",
      "MasVnrArea = False\n",
      "BsmtFinSF1 = False\n",
      "BsmtFinSF2 = False\n",
      "BsmtUnfSF = False\n",
      "TotalBsmtSF = False\n",
      "BsmtFullBath = False\n",
      "BsmtHalfBath = False\n",
      "GarageYrBlt = False\n",
      "GarageCars = False\n",
      "GarageArea = False\n",
      "SalePrice = False\n"
     ]
    }
   ],
   "source": [
    "def miss_flo(df):\n",
    "    \n",
    "    miss_cols = [cols for cols in df.columns if df[cols].isnull().any()\n",
    "                and df[cols].dtypes != 'object']\n",
    "    \n",
    "    for cols in miss_cols:\n",
    "        \n",
    "        df[cols] = df[cols].fillna(df[cols].mode()[0])\n",
    "        \n",
    "        print(f\"{df[cols].name} = {df[cols].isnull().any()}\")\n",
    "        \n",
    "miss_flo(data)"
   ]
  },
  {
   "cell_type": "code",
   "execution_count": 30,
   "id": "3c8b57bd",
   "metadata": {
    "execution": {
     "iopub.execute_input": "2021-11-13T13:44:27.145923Z",
     "iopub.status.busy": "2021-11-13T13:44:27.145070Z",
     "iopub.status.idle": "2021-11-13T13:44:27.149852Z",
     "shell.execute_reply": "2021-11-13T13:44:27.150441Z",
     "shell.execute_reply.started": "2021-11-13T13:41:24.539008Z"
    },
    "papermill": {
     "duration": 0.230692,
     "end_time": "2021-11-13T13:44:27.150634",
     "exception": false,
     "start_time": "2021-11-13T13:44:26.919942",
     "status": "completed"
    },
    "tags": []
   },
   "outputs": [
    {
     "name": "stdout",
     "output_type": "stream",
     "text": [
      "MSZoning ===== 4\n",
      "Utilities ===== 2\n",
      "Exterior1st ===== 1\n",
      "Exterior2nd ===== 1\n",
      "MasVnrType ===== 24\n",
      "BsmtQual ===== 81\n",
      "BsmtCond ===== 82\n",
      "BsmtExposure ===== 82\n",
      "BsmtFinType1 ===== 79\n",
      "BsmtFinType2 ===== 80\n",
      "Electrical ===== 1\n",
      "KitchenQual ===== 1\n",
      "Functional ===== 2\n",
      "FireplaceQu ===== 1420\n",
      "GarageType ===== 157\n",
      "GarageFinish ===== 159\n",
      "GarageQual ===== 159\n",
      "GarageCond ===== 159\n",
      "SaleType ===== 1\n"
     ]
    }
   ],
   "source": [
    "miss_cols = [cols for cols in data.columns if data[cols].isnull().any()\n",
    "and data[cols].dtypes == 'object']\n",
    "\n",
    "for cols in miss_cols:\n",
    "    \n",
    "    print(f\"{cols} ===== {data[cols].isnull().sum()}\")"
   ]
  },
  {
   "cell_type": "code",
   "execution_count": 31,
   "id": "b7cc7a43",
   "metadata": {
    "execution": {
     "iopub.execute_input": "2021-11-13T13:44:27.576966Z",
     "iopub.status.busy": "2021-11-13T13:44:27.576143Z",
     "iopub.status.idle": "2021-11-13T13:44:27.620565Z",
     "shell.execute_reply": "2021-11-13T13:44:27.621428Z",
     "shell.execute_reply.started": "2021-11-13T13:41:24.584344Z"
    },
    "papermill": {
     "duration": 0.254984,
     "end_time": "2021-11-13T13:44:27.621572",
     "exception": false,
     "start_time": "2021-11-13T13:44:27.366588",
     "status": "completed"
    },
    "tags": []
   },
   "outputs": [
    {
     "name": "stdout",
     "output_type": "stream",
     "text": [
      "MSZoning == 0\n",
      "Utilities == 0\n",
      "Exterior1st == 0\n",
      "Exterior2nd == 0\n",
      "MasVnrType == 0\n",
      "BsmtQual == 0\n",
      "BsmtCond == 0\n",
      "BsmtExposure == 0\n",
      "BsmtFinType1 == 0\n",
      "BsmtFinType2 == 0\n",
      "Electrical == 0\n",
      "KitchenQual == 0\n",
      "Functional == 0\n",
      "FireplaceQu == 0\n",
      "GarageType == 0\n",
      "GarageFinish == 0\n",
      "GarageQual == 0\n",
      "GarageCond == 0\n",
      "SaleType == 0\n"
     ]
    }
   ],
   "source": [
    "def fill_cat(df):\n",
    "    \n",
    "    miss_cat = [cols for cols in df.columns if df[cols].isnull().any()\n",
    "               and df[cols].dtypes == 'object']\n",
    "    \n",
    "    for cols in miss_cat:\n",
    "        \n",
    "        df[cols] = df[cols].fillna(df[cols].mode()[0])\n",
    "        \n",
    "        print(f\"{cols} == {df[cols].isnull().sum()}\")\n",
    "\n",
    "fill_cat(data)"
   ]
  },
  {
   "cell_type": "markdown",
   "id": "05f50f6a",
   "metadata": {
    "papermill": {
     "duration": 0.188161,
     "end_time": "2021-11-13T13:44:27.995946",
     "exception": false,
     "start_time": "2021-11-13T13:44:27.807785",
     "status": "completed"
    },
    "tags": []
   },
   "source": [
    "# Outliers"
   ]
  },
  {
   "cell_type": "code",
   "execution_count": 32,
   "id": "887dffe2",
   "metadata": {
    "execution": {
     "iopub.execute_input": "2021-11-13T13:44:28.377298Z",
     "iopub.status.busy": "2021-11-13T13:44:28.376597Z",
     "iopub.status.idle": "2021-11-13T13:44:28.379698Z",
     "shell.execute_reply": "2021-11-13T13:44:28.380093Z",
     "shell.execute_reply.started": "2021-11-13T13:41:24.656562Z"
    },
    "papermill": {
     "duration": 0.199695,
     "end_time": "2021-11-13T13:44:28.380232",
     "exception": false,
     "start_time": "2021-11-13T13:44:28.180537",
     "status": "completed"
    },
    "tags": []
   },
   "outputs": [
    {
     "data": {
      "text/plain": [
       "(['MSSubClass',\n",
       "  'LotFrontage',\n",
       "  'LotArea',\n",
       "  'OverallQual',\n",
       "  'OverallCond',\n",
       "  'YearBuilt',\n",
       "  'YearRemodAdd',\n",
       "  'MasVnrArea',\n",
       "  'BsmtFinSF1',\n",
       "  'BsmtFinSF2',\n",
       "  'BsmtUnfSF',\n",
       "  'TotalBsmtSF',\n",
       "  '1stFlrSF',\n",
       "  '2ndFlrSF',\n",
       "  'LowQualFinSF',\n",
       "  'GrLivArea',\n",
       "  'BsmtFullBath',\n",
       "  'BsmtHalfBath',\n",
       "  'FullBath',\n",
       "  'HalfBath',\n",
       "  'BedroomAbvGr',\n",
       "  'KitchenAbvGr',\n",
       "  'TotRmsAbvGrd',\n",
       "  'Fireplaces',\n",
       "  'GarageYrBlt',\n",
       "  'GarageCars',\n",
       "  'GarageArea',\n",
       "  'WoodDeckSF',\n",
       "  'OpenPorchSF',\n",
       "  'EnclosedPorch',\n",
       "  '3SsnPorch',\n",
       "  'ScreenPorch',\n",
       "  'PoolArea',\n",
       "  'MiscVal',\n",
       "  'MoSold',\n",
       "  'YrSold'],\n",
       " 36)"
      ]
     },
     "execution_count": 32,
     "metadata": {},
     "output_type": "execute_result"
    }
   ],
   "source": [
    "num_cols = [cols for cols in data.columns if data[cols].dtypes != 'object'\n",
    "           and cols not in 'Id' and cols not in 'SalePrice']\n",
    "num_cols, len(num_cols)"
   ]
  },
  {
   "cell_type": "markdown",
   "id": "f8de61a9",
   "metadata": {
    "papermill": {
     "duration": 0.184632,
     "end_time": "2021-11-13T13:44:28.748808",
     "exception": false,
     "start_time": "2021-11-13T13:44:28.564176",
     "status": "completed"
    },
    "tags": []
   },
   "source": [
    "- Değişkenlerimizin, **Alt Eşik** ve **Üst Eşik** Değerlerinin bize veren fonksiyon yazalım\n"
   ]
  },
  {
   "cell_type": "code",
   "execution_count": 33,
   "id": "65c1abed",
   "metadata": {
    "execution": {
     "iopub.execute_input": "2021-11-13T13:44:29.135259Z",
     "iopub.status.busy": "2021-11-13T13:44:29.134298Z",
     "iopub.status.idle": "2021-11-13T13:44:29.141716Z",
     "shell.execute_reply": "2021-11-13T13:44:29.142230Z",
     "shell.execute_reply.started": "2021-11-13T13:41:24.673109Z"
    },
    "papermill": {
     "duration": 0.205833,
     "end_time": "2021-11-13T13:44:29.142423",
     "exception": false,
     "start_time": "2021-11-13T13:44:28.936590",
     "status": "completed"
    },
    "tags": []
   },
   "outputs": [
    {
     "data": {
      "text/plain": [
       "(55.0, 145.0)"
      ]
     },
     "execution_count": 33,
     "metadata": {},
     "output_type": "execute_result"
    }
   ],
   "source": [
    "def alt_üst_eşik(df,feature):\n",
    "    \n",
    "    Q1 = df[feature].quantile(0.25)\n",
    "    Q3 = df[feature].quantile(0.75)\n",
    "    IQR = np.multiply(1.5, np.subtract(Q3,Q1))\n",
    "        \n",
    "    alt_eşik = IQR - Q1\n",
    "    üst_eşik = IQR + Q3\n",
    "        \n",
    "    return alt_eşik, üst_eşik\n",
    "        \n",
    "        \n",
    "alt,üst = alt_üst_eşik(data,feature = \"MSSubClass\")\n",
    "\n",
    "alt, üst"
   ]
  },
  {
   "cell_type": "markdown",
   "id": "f6c97710",
   "metadata": {
    "papermill": {
     "duration": 0.18596,
     "end_time": "2021-11-13T13:44:29.520374",
     "exception": false,
     "start_time": "2021-11-13T13:44:29.334414",
     "status": "completed"
    },
    "tags": []
   },
   "source": [
    "- Bir Değişkende **Aykırı Değer Olup Olmadığını** kontrol eden fonksiyon yazalım"
   ]
  },
  {
   "cell_type": "code",
   "execution_count": 34,
   "id": "9d29f1b9",
   "metadata": {
    "execution": {
     "iopub.execute_input": "2021-11-13T13:44:29.907595Z",
     "iopub.status.busy": "2021-11-13T13:44:29.906682Z",
     "iopub.status.idle": "2021-11-13T13:44:29.914586Z",
     "shell.execute_reply": "2021-11-13T13:44:29.914024Z",
     "shell.execute_reply.started": "2021-11-13T13:41:24.687141Z"
    },
    "papermill": {
     "duration": 0.206909,
     "end_time": "2021-11-13T13:44:29.914710",
     "exception": false,
     "start_time": "2021-11-13T13:44:29.707801",
     "status": "completed"
    },
    "tags": []
   },
   "outputs": [
    {
     "data": {
      "text/plain": [
       "['Yes']"
      ]
     },
     "execution_count": 34,
     "metadata": {},
     "output_type": "execute_result"
    }
   ],
   "source": [
    "def variable_Out(df,feature):\n",
    "    \n",
    "    result = []\n",
    "    \n",
    "    alt, üst = alt_üst_eşik(df, feature) # alt, üst eşik değerlerinin veren fonksiyonu kullandık\n",
    "    \n",
    "    #out_num = df[feature][(df[feature] < alt) | (df[feature] > üst)].count()\n",
    "    \n",
    "    if df[feature][(df[feature] <alt) | (df[feature] > üst)].any(axis=None): \n",
    "    \n",
    "    #if out_num > 0:    \n",
    "        \n",
    "        result.append(\"Yes\")\n",
    "    else:\n",
    "        result.append(\"No\")\n",
    "        \n",
    "    return result\n",
    "        \n",
    "    \n",
    "variable_Out(data,feature = 'LotFrontage')  "
   ]
  },
  {
   "cell_type": "code",
   "execution_count": 35,
   "id": "7dbcfbd1",
   "metadata": {
    "execution": {
     "iopub.execute_input": "2021-11-13T13:44:30.291415Z",
     "iopub.status.busy": "2021-11-13T13:44:30.290562Z",
     "iopub.status.idle": "2021-11-13T13:44:30.296628Z",
     "shell.execute_reply": "2021-11-13T13:44:30.296173Z",
     "shell.execute_reply.started": "2021-11-13T13:41:24.701711Z"
    },
    "papermill": {
     "duration": 0.196296,
     "end_time": "2021-11-13T13:44:30.296745",
     "exception": false,
     "start_time": "2021-11-13T13:44:30.100449",
     "status": "completed"
    },
    "tags": []
   },
   "outputs": [
    {
     "data": {
      "text/plain": [
       "['Yes']"
      ]
     },
     "execution_count": 35,
     "metadata": {},
     "output_type": "execute_result"
    }
   ],
   "source": [
    "variable_Out(data, feature = 'SalePrice')"
   ]
  },
  {
   "cell_type": "code",
   "execution_count": 36,
   "id": "5e846966",
   "metadata": {
    "execution": {
     "iopub.execute_input": "2021-11-13T13:44:30.682268Z",
     "iopub.status.busy": "2021-11-13T13:44:30.681484Z",
     "iopub.status.idle": "2021-11-13T13:44:30.686832Z",
     "shell.execute_reply": "2021-11-13T13:44:30.686389Z",
     "shell.execute_reply.started": "2021-11-13T13:41:24.712937Z"
    },
    "papermill": {
     "duration": 0.197417,
     "end_time": "2021-11-13T13:44:30.686944",
     "exception": false,
     "start_time": "2021-11-13T13:44:30.489527",
     "status": "completed"
    },
    "tags": []
   },
   "outputs": [
    {
     "data": {
      "text/plain": [
       "1736"
      ]
     },
     "execution_count": 36,
     "metadata": {},
     "output_type": "execute_result"
    }
   ],
   "source": [
    "data['MSSubClass'][(data['MSSubClass'] < alt) | (data['MSSubClass'] > üst)].count()"
   ]
  },
  {
   "cell_type": "code",
   "execution_count": 37,
   "id": "60d73d26",
   "metadata": {
    "execution": {
     "iopub.execute_input": "2021-11-13T13:44:31.068834Z",
     "iopub.status.busy": "2021-11-13T13:44:31.068128Z",
     "iopub.status.idle": "2021-11-13T13:44:31.071085Z",
     "shell.execute_reply": "2021-11-13T13:44:31.071525Z",
     "shell.execute_reply.started": "2021-11-13T13:41:24.724568Z"
    },
    "papermill": {
     "duration": 0.197219,
     "end_time": "2021-11-13T13:44:31.071663",
     "exception": false,
     "start_time": "2021-11-13T13:44:30.874444",
     "status": "completed"
    },
    "tags": []
   },
   "outputs": [
    {
     "data": {
      "text/plain": [
       "1529"
      ]
     },
     "execution_count": 37,
     "metadata": {},
     "output_type": "execute_result"
    }
   ],
   "source": [
    "data['MSSubClass'][(data['MSSubClass'] < alt)].count()"
   ]
  },
  {
   "cell_type": "code",
   "execution_count": 38,
   "id": "223cf983",
   "metadata": {
    "execution": {
     "iopub.execute_input": "2021-11-13T13:44:31.469152Z",
     "iopub.status.busy": "2021-11-13T13:44:31.468476Z",
     "iopub.status.idle": "2021-11-13T13:44:31.471585Z",
     "shell.execute_reply": "2021-11-13T13:44:31.472007Z",
     "shell.execute_reply.started": "2021-11-13T13:41:24.733650Z"
    },
    "papermill": {
     "duration": 0.197608,
     "end_time": "2021-11-13T13:44:31.472155",
     "exception": false,
     "start_time": "2021-11-13T13:44:31.274547",
     "status": "completed"
    },
    "tags": []
   },
   "outputs": [
    {
     "data": {
      "text/plain": [
       "207"
      ]
     },
     "execution_count": 38,
     "metadata": {},
     "output_type": "execute_result"
    }
   ],
   "source": [
    " data['MSSubClass'][(data['MSSubClass'] > üst)].count()"
   ]
  },
  {
   "cell_type": "markdown",
   "id": "f242962e",
   "metadata": {
    "papermill": {
     "duration": 0.188162,
     "end_time": "2021-11-13T13:44:31.848515",
     "exception": false,
     "start_time": "2021-11-13T13:44:31.660353",
     "status": "completed"
    },
    "tags": []
   },
   "source": [
    "- **Aykırı Değeri olan** değişkenleri bize veren, **alt ve üst eşik değerlerini** bize veren fonksiyon yazalım."
   ]
  },
  {
   "cell_type": "code",
   "execution_count": 39,
   "id": "b5d0b59c",
   "metadata": {
    "execution": {
     "iopub.execute_input": "2021-11-13T13:44:32.236152Z",
     "iopub.status.busy": "2021-11-13T13:44:32.235236Z",
     "iopub.status.idle": "2021-11-13T13:44:32.328178Z",
     "shell.execute_reply": "2021-11-13T13:44:32.328800Z",
     "shell.execute_reply.started": "2021-11-13T13:41:24.742628Z"
    },
    "papermill": {
     "duration": 0.290244,
     "end_time": "2021-11-13T13:44:32.328993",
     "exception": false,
     "start_time": "2021-11-13T13:44:32.038749",
     "status": "completed"
    },
    "tags": []
   },
   "outputs": [
    {
     "name": "stdout",
     "output_type": "stream",
     "text": [
      "############# MSSubClass ###############\n",
      "\n",
      "{'Alt_Sınır': 55.0, 'Üst Sınır': 145.0, 'Toplam Aykırı Değer': 1736}\n",
      "\n",
      "############# LotFrontage ###############\n",
      "\n",
      "{'Alt_Sınır': -33.0, 'Üst Sınır': 105.0, 'Toplam Aykırı Değer': 135}\n",
      "\n",
      "############# LotArea ###############\n",
      "\n",
      "{'Alt_Sınır': -1340.0, 'Üst Sınır': 17708.0, 'Toplam Aykırı Değer': 127}\n",
      "\n",
      "############# OverallCond ###############\n",
      "\n",
      "{'Alt_Sınır': -3.5, 'Üst Sınır': 7.5, 'Toplam Aykırı Değer': 185}\n",
      "\n",
      "############# MasVnrArea ###############\n",
      "\n",
      "{'Alt_Sınır': 245.25, 'Üst Sınır': 408.75, 'Toplam Aykırı Değer': 2655}\n",
      "\n",
      "############# BsmtFinSF1 ###############\n",
      "\n",
      "{'Alt_Sınır': 1099.5, 'Üst Sınır': 1832.5, 'Toplam Aykırı Değer': 2675}\n",
      "\n",
      "############# BsmtFinSF2 ###############\n",
      "\n",
      "{'Alt_Sınır': 0.0, 'Üst Sınır': 0.0, 'Toplam Aykırı Değer': 347}\n",
      "\n",
      "############# BsmtUnfSF ###############\n",
      "\n",
      "{'Alt_Sınır': 657.5, 'Üst Sınır': 1682.5, 'Toplam Aykırı Değer': 1937}\n",
      "\n",
      "############# TotalBsmtSF ###############\n",
      "\n",
      "{'Alt_Sınır': -29.5, 'Üst Sınır': 2065.5, 'Toplam Aykırı Değer': 44}\n",
      "\n",
      "############# 1stFlrSF ###############\n",
      "\n",
      "{'Alt_Sınır': -108.75, 'Üst Sınır': 2154.75, 'Toplam Aykırı Değer': 42}\n",
      "\n",
      "############# 2ndFlrSF ###############\n",
      "\n",
      "{'Alt_Sınır': 1056.0, 'Üst Sınır': 1760.0, 'Toplam Aykırı Değer': 2733}\n",
      "\n",
      "############# LowQualFinSF ###############\n",
      "\n",
      "{'Alt_Sınır': 0.0, 'Üst Sınır': 0.0, 'Toplam Aykırı Değer': 40}\n",
      "\n",
      "############# GrLivArea ###############\n",
      "\n",
      "{'Alt_Sınır': -199.75, 'Üst Sınır': 2669.75, 'Toplam Aykırı Değer': 74}\n",
      "\n",
      "############# BsmtFullBath ###############\n",
      "\n",
      "{'Alt_Sınır': 1.5, 'Üst Sınır': 2.5, 'Toplam Aykırı Değer': 2881}\n",
      "\n",
      "############# BsmtHalfBath ###############\n",
      "\n",
      "{'Alt_Sınır': 0.0, 'Üst Sınır': 0.0, 'Toplam Aykırı Değer': 175}\n",
      "\n",
      "############# FullBath ###############\n",
      "\n",
      "{'Alt_Sınır': 0.5, 'Üst Sınır': 3.5, 'Toplam Aykırı Değer': 16}\n",
      "\n",
      "############# HalfBath ###############\n",
      "\n",
      "{'Alt_Sınır': 1.5, 'Üst Sınır': 2.5, 'Toplam Aykırı Değer': 2894}\n",
      "\n",
      "############# BedroomAbvGr ###############\n",
      "\n",
      "{'Alt_Sınır': -0.5, 'Üst Sınır': 4.5, 'Toplam Aykırı Değer': 70}\n",
      "\n",
      "############# KitchenAbvGr ###############\n",
      "\n",
      "{'Alt_Sınır': -1.0, 'Üst Sınır': 1.0, 'Toplam Aykırı Değer': 131}\n",
      "\n",
      "############# TotRmsAbvGrd ###############\n",
      "\n",
      "{'Alt_Sınır': -2.0, 'Üst Sınır': 10.0, 'Toplam Aykırı Değer': 51}\n",
      "\n",
      "############# Fireplaces ###############\n",
      "\n",
      "{'Alt_Sınır': 1.5, 'Üst Sınır': 2.5, 'Toplam Aykırı Değer': 2700}\n",
      "\n",
      "############# GarageYrBlt ###############\n",
      "\n",
      "{'Alt_Sınır': -1899.25, 'Üst Sınır': 2065.25, 'Toplam Aykırı Değer': 1}\n",
      "\n",
      "############# GarageCars ###############\n",
      "\n",
      "{'Alt_Sınır': 0.5, 'Üst Sınır': 3.5, 'Toplam Aykırı Değer': 174}\n",
      "\n",
      "############# GarageArea ###############\n",
      "\n",
      "{'Alt_Sınır': 64.0, 'Üst Sınır': 960.0, 'Toplam Aykırı Değer': 200}\n",
      "\n",
      "############# WoodDeckSF ###############\n",
      "\n",
      "{'Alt_Sınır': 252.0, 'Üst Sınır': 420.0, 'Toplam Aykırı Değer': 2674}\n",
      "\n",
      "############# OpenPorchSF ###############\n",
      "\n",
      "{'Alt_Sınır': 105.0, 'Üst Sınır': 175.0, 'Toplam Aykırı Değer': 2642}\n",
      "\n",
      "############# EnclosedPorch ###############\n",
      "\n",
      "{'Alt_Sınır': 0.0, 'Üst Sınır': 0.0, 'Toplam Aykırı Değer': 459}\n",
      "\n",
      "############# 3SsnPorch ###############\n",
      "\n",
      "{'Alt_Sınır': 0.0, 'Üst Sınır': 0.0, 'Toplam Aykırı Değer': 37}\n",
      "\n",
      "############# ScreenPorch ###############\n",
      "\n",
      "{'Alt_Sınır': 0.0, 'Üst Sınır': 0.0, 'Toplam Aykırı Değer': 256}\n",
      "\n",
      "############# PoolArea ###############\n",
      "\n",
      "{'Alt_Sınır': 0.0, 'Üst Sınır': 0.0, 'Toplam Aykırı Değer': 13}\n",
      "\n",
      "############# MiscVal ###############\n",
      "\n",
      "{'Alt_Sınır': 0.0, 'Üst Sınır': 0.0, 'Toplam Aykırı Değer': 103}\n",
      "\n",
      "############# MoSold ###############\n",
      "\n",
      "{'Alt_Sınır': 2.0, 'Üst Sınır': 14.0, 'Toplam Aykırı Değer': 122}\n",
      "\n",
      "Aykırı Değer Olan Değişken Sayısı = 32\n",
      "Aykırı Değer Olmayan Değişkenler = ['OverallQual', 'YearBuilt', 'YearRemodAdd', 'YrSold']\n"
     ]
    }
   ],
   "source": [
    "def Outliers(df):\n",
    "    \n",
    "    aykırı = []\n",
    "    \n",
    "    aykırı_yok = []\n",
    "    \n",
    "    num_cols = [cols for cols in df.columns if df[cols].dtypes != 'object'\n",
    "               and cols not in 'SalePrice'\n",
    "               and cols not in 'Id']\n",
    "    \n",
    "    for cols in num_cols:\n",
    "        \n",
    "        Q1 = df[cols].quantile(0.25)\n",
    "        Q3 = df[cols].quantile(0.75)\n",
    "        \n",
    "        IQR = np.multiply(1.5 , np.subtract(Q3, Q1))\n",
    "        \n",
    "        alt_sınır = IQR - Q1\n",
    "        üst_sınır = IQR + Q3\n",
    "        \n",
    "        \n",
    "        number = df[cols][(df[cols] < alt_sınır) | (df[cols] > üst_sınır)].count()\n",
    "        \n",
    "        if number > 0:\n",
    "            \n",
    "            aykırı.append(cols)\n",
    "            \n",
    "            cache = {'Alt_Sınır':alt_sınır,\n",
    "                     'Üst Sınır':üst_sınır,\n",
    "                    'Toplam Aykırı Değer':number}\n",
    "                \n",
    "            print(f\"############# {df[cols].name} ###############\",end = \"\\n\\n\")\n",
    "        \n",
    "            print(cache, end = \"\\n\\n\")\n",
    "        \n",
    "        else:\n",
    "            \n",
    "            aykırı_yok.append(cols)\n",
    "            \n",
    "    print(f\"Aykırı Değer Olan Değişken Sayısı = {len(aykırı)}\\nAykırı Değer Olmayan Değişkenler = {aykırı_yok}\")\n",
    "    \n",
    "    return \n",
    "    \n",
    "Outliers(data)"
   ]
  },
  {
   "cell_type": "markdown",
   "id": "0e0866b1",
   "metadata": {
    "papermill": {
     "duration": 0.189345,
     "end_time": "2021-11-13T13:44:32.708118",
     "exception": false,
     "start_time": "2021-11-13T13:44:32.518773",
     "status": "completed"
    },
    "tags": []
   },
   "source": [
    "- Aykırı Değer Olan Değişkenlerin **100 'den fazla Aykırı Değeri olan** değişkenleri alalım.\n",
    "- Aynı zamanda bu değişkenlerin Boxplot'unu çizdirelim"
   ]
  },
  {
   "cell_type": "code",
   "execution_count": 40,
   "id": "1f1f8b15",
   "metadata": {
    "execution": {
     "iopub.execute_input": "2021-11-13T13:44:33.094037Z",
     "iopub.status.busy": "2021-11-13T13:44:33.093147Z",
     "iopub.status.idle": "2021-11-13T13:44:34.570248Z",
     "shell.execute_reply": "2021-11-13T13:44:34.570849Z",
     "shell.execute_reply.started": "2021-11-13T13:41:24.848472Z"
    },
    "papermill": {
     "duration": 1.67674,
     "end_time": "2021-11-13T13:44:34.571072",
     "exception": false,
     "start_time": "2021-11-13T13:44:32.894332",
     "status": "completed"
    },
    "tags": []
   },
   "outputs": [
    {
     "name": "stdout",
     "output_type": "stream",
     "text": [
      "-----MSSubClass-----\n",
      "Toplam Aykırı Değer Sayısı :207\n"
     ]
    },
    {
     "data": {
      "image/png": "[encoded data removed]",
      "text/plain": [
       "<Figure size 432x288 with 1 Axes>"
      ]
     },
     "metadata": {
      "needs_background": "light"
     },
     "output_type": "display_data"
    },
    {
     "name": "stdout",
     "output_type": "stream",
     "text": [
      "-----LotFrontage-----\n",
      "Toplam Aykırı Değer Sayısı :260\n"
     ]
    },
    {
     "data": {
      "image/png": "[encoded data removed]",
      "text/plain": [
       "<Figure size 432x288 with 1 Axes>"
      ]
     },
     "metadata": {
      "needs_background": "light"
     },
     "output_type": "display_data"
    },
    {
     "name": "stdout",
     "output_type": "stream",
     "text": [
      "-----LotArea-----\n",
      "Toplam Aykırı Değer Sayısı :128\n"
     ]
    },
    {
     "data": {
      "image/png": "[encoded data removed]",
      "text/plain": [
       "<Figure size 432x288 with 1 Axes>"
      ]
     },
     "metadata": {
      "needs_background": "light"
     },
     "output_type": "display_data"
    },
    {
     "name": "stdout",
     "output_type": "stream",
     "text": [
      "-----OverallCond-----\n",
      "Toplam Aykırı Değer Sayısı :252\n"
     ]
    },
    {
     "data": {
      "image/png": "[encoded data removed]",
      "text/plain": [
       "<Figure size 432x288 with 1 Axes>"
      ]
     },
     "metadata": {
      "needs_background": "light"
     },
     "output_type": "display_data"
    },
    {
     "name": "stdout",
     "output_type": "stream",
     "text": [
      "-----MasVnrArea-----\n",
      "Toplam Aykırı Değer Sayısı :202\n"
     ]
    },
    {
     "data": {
      "image/png": "[encoded data removed]",
      "text/plain": [
       "<Figure size 432x288 with 1 Axes>"
      ]
     },
     "metadata": {
      "needs_background": "light"
     },
     "output_type": "display_data"
    },
    {
     "name": "stdout",
     "output_type": "stream",
     "text": [
      "-----BsmtFinSF2-----\n",
      "Toplam Aykırı Değer Sayısı :347\n"
     ]
    },
    {
     "data": {
      "image/png": "[encoded data removed]",
      "text/plain": [
       "<Figure size 432x288 with 1 Axes>"
      ]
     },
     "metadata": {
      "needs_background": "light"
     },
     "output_type": "display_data"
    },
    {
     "name": "stdout",
     "output_type": "stream",
     "text": [
      "-----TotalBsmtSF-----\n",
      "Toplam Aykırı Değer Sayısı :123\n"
     ]
    },
    {
     "data": {
      "image/png": "[encoded data removed]",
      "text/plain": [
       "<Figure size 432x288 with 1 Axes>"
      ]
     },
     "metadata": {
      "needs_background": "light"
     },
     "output_type": "display_data"
    },
    {
     "name": "stdout",
     "output_type": "stream",
     "text": [
      "-----BsmtHalfBath-----\n",
      "Toplam Aykırı Değer Sayısı :175\n"
     ]
    },
    {
     "data": {
      "image/png": "[encoded data removed]",
      "text/plain": [
       "<Figure size 432x288 with 1 Axes>"
      ]
     },
     "metadata": {
      "needs_background": "light"
     },
     "output_type": "display_data"
    },
    {
     "name": "stdout",
     "output_type": "stream",
     "text": [
      "-----KitchenAbvGr-----\n",
      "Toplam Aykırı Değer Sayısı :134\n"
     ]
    },
    {
     "data": {
      "image/png": "[encoded data removed]",
      "text/plain": [
       "<Figure size 432x288 with 1 Axes>"
      ]
     },
     "metadata": {
      "needs_background": "light"
     },
     "output_type": "display_data"
    },
    {
     "name": "stdout",
     "output_type": "stream",
     "text": [
      "-----OpenPorchSF-----\n",
      "Toplam Aykırı Değer Sayısı :159\n"
     ]
    },
    {
     "data": {
      "image/png": "[encoded data removed]",
      "text/plain": [
       "<Figure size 432x288 with 1 Axes>"
      ]
     },
     "metadata": {
      "needs_background": "light"
     },
     "output_type": "display_data"
    },
    {
     "name": "stdout",
     "output_type": "stream",
     "text": [
      "-----EnclosedPorch-----\n",
      "Toplam Aykırı Değer Sayısı :459\n"
     ]
    },
    {
     "data": {
      "image/png": "[encoded data removed]",
      "text/plain": [
       "<Figure size 432x288 with 1 Axes>"
      ]
     },
     "metadata": {
      "needs_background": "light"
     },
     "output_type": "display_data"
    },
    {
     "name": "stdout",
     "output_type": "stream",
     "text": [
      "-----ScreenPorch-----\n",
      "Toplam Aykırı Değer Sayısı :256\n"
     ]
    },
    {
     "data": {
      "image/png": "[encoded data removed]",
      "text/plain": [
       "<Figure size 432x288 with 1 Axes>"
      ]
     },
     "metadata": {
      "needs_background": "light"
     },
     "output_type": "display_data"
    },
    {
     "name": "stdout",
     "output_type": "stream",
     "text": [
      "-----MiscVal-----\n",
      "Toplam Aykırı Değer Sayısı :103\n"
     ]
    },
    {
     "data": {
      "image/png": "[encoded data removed]",
      "text/plain": [
       "<Figure size 432x288 with 1 Axes>"
      ]
     },
     "metadata": {
      "needs_background": "light"
     },
     "output_type": "display_data"
    },
    {
     "name": "stdout",
     "output_type": "stream",
     "text": [
      "Toplam Değişken Sayısı : 13\n"
     ]
    }
   ],
   "source": [
    "def up_number_outliers(df, number,plot = False):\n",
    "    \n",
    "    out_features = []\n",
    "    \n",
    "    num_cols = [cols for cols in df.columns if df[cols].dtypes != 'object'\n",
    "               and cols not in 'SalePrice'\n",
    "               and cols not in 'Id']\n",
    "    \n",
    "    for cols in num_cols:\n",
    "        \n",
    "        Q1 = df[cols].quantile(0.25)\n",
    "        Q3 = df[cols].quantile(0.75)\n",
    "        IQR = np.multiply(1.5, np.subtract(Q3,Q1))\n",
    "        \n",
    "        alt_eşik = Q1 - IQR\n",
    "        üst_eşik = IQR + Q3\n",
    "        \n",
    "        out_cols = df[cols][(df[cols] < alt_eşik) | (df[cols] > üst_eşik)].count()\n",
    "        \n",
    "        if out_cols > int(number):\n",
    "            \n",
    "            out_features.append(cols)\n",
    "            \n",
    "            print(f\"-----{cols}-----\\nToplam Aykırı Değer Sayısı :{out_cols}\")\n",
    "            \n",
    "            if plot:\n",
    "                \n",
    "                sns.boxplot(df[cols]);\n",
    "                plt.show()\n",
    "                \n",
    "    print(f\"Toplam Değişken Sayısı : {len(out_features)}\")\n",
    "         \n",
    "            \n",
    "up_number_outliers(data, number=100, plot=True)"
   ]
  },
  {
   "cell_type": "markdown",
   "id": "8e7ae6cf",
   "metadata": {
    "papermill": {
     "duration": 0.206269,
     "end_time": "2021-11-13T13:44:34.978694",
     "exception": false,
     "start_time": "2021-11-13T13:44:34.772425",
     "status": "completed"
    },
    "tags": []
   },
   "source": [
    "- Aykırı Değeri olan Değişkenlerimizin , **alt_eşik** ve **üst_eşik** değerleri,**0 olmayan** değişkenleri bize veren fonskiyon yazalım\n",
    "- Aynı Zaman da **Alt Aykırı Değerlerin ve Üst Aykırı Değerlerin Toplam Sayısını** yazdıralım."
   ]
  },
  {
   "cell_type": "code",
   "execution_count": 41,
   "id": "5dc1f517",
   "metadata": {
    "execution": {
     "iopub.execute_input": "2021-11-13T13:44:35.385495Z",
     "iopub.status.busy": "2021-11-13T13:44:35.384605Z",
     "iopub.status.idle": "2021-11-13T13:44:35.456357Z",
     "shell.execute_reply": "2021-11-13T13:44:35.456787Z",
     "shell.execute_reply.started": "2021-11-13T13:41:26.157976Z"
    },
    "papermill": {
     "duration": 0.279011,
     "end_time": "2021-11-13T13:44:35.456952",
     "exception": false,
     "start_time": "2021-11-13T13:44:35.177941",
     "status": "completed"
    },
    "tags": []
   },
   "outputs": [
    {
     "name": "stdout",
     "output_type": "stream",
     "text": [
      "Değişken : MSSubClass\n",
      "Alt Eşik : 55.0\n",
      "Üst Eşik :145.0\n",
      "Toplam Alt Aykırı Değer : 1529\n",
      "Toplam Üst Aykırı Değer :207\n",
      "\n",
      "\n",
      "Değişken : LotFrontage\n",
      "Alt Eşik : -33.0\n",
      "Üst Eşik :105.0\n",
      "Toplam Alt Aykırı Değer : 0\n",
      "Toplam Üst Aykırı Değer :135\n",
      "\n",
      "\n",
      "Değişken : LotArea\n",
      "Alt Eşik : -1340.0\n",
      "Üst Eşik :17708.0\n",
      "Toplam Alt Aykırı Değer : 0\n",
      "Toplam Üst Aykırı Değer :127\n",
      "\n",
      "\n",
      "Değişken : OverallQual\n",
      "Alt Eşik : -2.0\n",
      "Üst Eşik :10.0\n",
      "Toplam Alt Aykırı Değer : 0\n",
      "Toplam Üst Aykırı Değer :0\n",
      "\n",
      "\n",
      "Değişken : OverallCond\n",
      "Alt Eşik : -3.5\n",
      "Üst Eşik :7.5\n",
      "Toplam Alt Aykırı Değer : 0\n",
      "Toplam Üst Aykırı Değer :185\n",
      "\n",
      "\n",
      "Değişken : YearBuilt\n",
      "Alt Eşik : -1882.25\n",
      "Üst Eşik :2072.25\n",
      "Toplam Alt Aykırı Değer : 0\n",
      "Toplam Üst Aykırı Değer :0\n",
      "\n",
      "\n",
      "Değişken : YearRemodAdd\n",
      "Alt Eşik : -1906.5\n",
      "Üst Eşik :2062.5\n",
      "Toplam Alt Aykırı Değer : 0\n",
      "Toplam Üst Aykırı Değer :0\n",
      "\n",
      "\n",
      "Değişken : MasVnrArea\n",
      "Alt Eşik : 245.25\n",
      "Üst Eşik :408.75\n",
      "Toplam Alt Aykırı Değer : 2453\n",
      "Toplam Üst Aykırı Değer :202\n",
      "\n",
      "\n",
      "Değişken : BsmtFinSF1\n",
      "Alt Eşik : 1099.5\n",
      "Üst Eşik :1832.5\n",
      "Toplam Alt Aykırı Değer : 2660\n",
      "Toplam Üst Aykırı Değer :15\n",
      "\n",
      "\n",
      "Değişken : BsmtUnfSF\n",
      "Alt Eşik : 657.5\n",
      "Üst Eşik :1682.5\n",
      "Toplam Alt Aykırı Değer : 1884\n",
      "Toplam Üst Aykırı Değer :53\n",
      "\n",
      "\n",
      "Değişken : TotalBsmtSF\n",
      "Alt Eşik : -29.5\n",
      "Üst Eşik :2065.5\n",
      "Toplam Alt Aykırı Değer : 0\n",
      "Toplam Üst Aykırı Değer :44\n",
      "\n",
      "\n",
      "Değişken : 1stFlrSF\n",
      "Alt Eşik : -108.75\n",
      "Üst Eşik :2154.75\n",
      "Toplam Alt Aykırı Değer : 0\n",
      "Toplam Üst Aykırı Değer :42\n",
      "\n",
      "\n",
      "Değişken : 2ndFlrSF\n",
      "Alt Eşik : 1056.0\n",
      "Üst Eşik :1760.0\n",
      "Toplam Alt Aykırı Değer : 2725\n",
      "Toplam Üst Aykırı Değer :8\n",
      "\n",
      "\n",
      "Değişken : GrLivArea\n",
      "Alt Eşik : -199.75\n",
      "Üst Eşik :2669.75\n",
      "Toplam Alt Aykırı Değer : 0\n",
      "Toplam Üst Aykırı Değer :74\n",
      "\n",
      "\n",
      "Değişken : BsmtFullBath\n",
      "Alt Eşik : 1.5\n",
      "Üst Eşik :2.5\n",
      "Toplam Alt Aykırı Değer : 2879\n",
      "Toplam Üst Aykırı Değer :2\n",
      "\n",
      "\n",
      "Değişken : FullBath\n",
      "Alt Eşik : 0.5\n",
      "Üst Eşik :3.5\n",
      "Toplam Alt Aykırı Değer : 12\n",
      "Toplam Üst Aykırı Değer :4\n",
      "\n",
      "\n",
      "Değişken : HalfBath\n",
      "Alt Eşik : 1.5\n",
      "Üst Eşik :2.5\n",
      "Toplam Alt Aykırı Değer : 2894\n",
      "Toplam Üst Aykırı Değer :0\n",
      "\n",
      "\n",
      "Değişken : BedroomAbvGr\n",
      "Alt Eşik : -0.5\n",
      "Üst Eşik :4.5\n",
      "Toplam Alt Aykırı Değer : 0\n",
      "Toplam Üst Aykırı Değer :70\n",
      "\n",
      "\n",
      "Değişken : KitchenAbvGr\n",
      "Alt Eşik : -1.0\n",
      "Üst Eşik :1.0\n",
      "Toplam Alt Aykırı Değer : 0\n",
      "Toplam Üst Aykırı Değer :131\n",
      "\n",
      "\n",
      "Değişken : TotRmsAbvGrd\n",
      "Alt Eşik : -2.0\n",
      "Üst Eşik :10.0\n",
      "Toplam Alt Aykırı Değer : 0\n",
      "Toplam Üst Aykırı Değer :51\n",
      "\n",
      "\n",
      "Değişken : Fireplaces\n",
      "Alt Eşik : 1.5\n",
      "Üst Eşik :2.5\n",
      "Toplam Alt Aykırı Değer : 2688\n",
      "Toplam Üst Aykırı Değer :12\n",
      "\n",
      "\n",
      "Değişken : GarageYrBlt\n",
      "Alt Eşik : -1899.25\n",
      "Üst Eşik :2065.25\n",
      "Toplam Alt Aykırı Değer : 0\n",
      "Toplam Üst Aykırı Değer :1\n",
      "\n",
      "\n",
      "Değişken : GarageCars\n",
      "Alt Eşik : 0.5\n",
      "Üst Eşik :3.5\n",
      "Toplam Alt Aykırı Değer : 157\n",
      "Toplam Üst Aykırı Değer :17\n",
      "\n",
      "\n",
      "Değişken : GarageArea\n",
      "Alt Eşik : 64.0\n",
      "Üst Eşik :960.0\n",
      "Toplam Alt Aykırı Değer : 158\n",
      "Toplam Üst Aykırı Değer :42\n",
      "\n",
      "\n",
      "Değişken : WoodDeckSF\n",
      "Alt Eşik : 252.0\n",
      "Üst Eşik :420.0\n",
      "Toplam Alt Aykırı Değer : 2607\n",
      "Toplam Üst Aykırı Değer :67\n",
      "\n",
      "\n",
      "Değişken : OpenPorchSF\n",
      "Alt Eşik : 105.0\n",
      "Üst Eşik :175.0\n",
      "Toplam Alt Aykırı Değer : 2483\n",
      "Toplam Üst Aykırı Değer :159\n",
      "\n",
      "\n",
      "Değişken : MoSold\n",
      "Alt Eşik : 2.0\n",
      "Üst Eşik :14.0\n",
      "Toplam Alt Aykırı Değer : 122\n",
      "Toplam Üst Aykırı Değer :0\n",
      "\n",
      "\n",
      "Değişken : YrSold\n",
      "Alt Eşik : -2004.0\n",
      "Üst Eşik :2012.0\n",
      "Toplam Alt Aykırı Değer : 0\n",
      "Toplam Üst Aykırı Değer :0\n",
      "\n",
      "\n",
      "Alt Ve Üst Aykırı Değerleri Olmayan Değişkenler : ['OverallQual', 'YearBuilt', 'YearRemodAdd', 'YrSold']\n"
     ]
    }
   ],
   "source": [
    "def analiz_eşik(df):\n",
    "    \n",
    "    out_value = []\n",
    "    zero_alt_üst = []\n",
    "    \n",
    "    num_cols = [cols for cols in df.columns if df[cols].dtypes != 'object'\n",
    "               and cols not in 'SalePrice'\n",
    "               and cols not in  'Id']\n",
    "    \n",
    "    for cols in num_cols:\n",
    "        \n",
    "        alt,üst = alt_üst_eşik(df,feature = cols)\n",
    "        \n",
    "        if alt !=0 and üst!=0:\n",
    "            \n",
    "            alt_değer = df[cols][df[cols] < alt].count()\n",
    "            üst_değer = df[cols][df[cols] > üst].count()\n",
    "            out_value.append((cols,alt,üst,alt_değer,üst_değer))\n",
    "            \n",
    "            if alt_değer == 0 and üst_değer == 0:\n",
    "                \n",
    "                zero_alt_üst.append(cols)\n",
    "            \n",
    "            \n",
    "    for i,j,k,f,y in out_value:\n",
    "        \n",
    "        print(f\"Değişken : {i}\\nAlt Eşik : {j}\\nÜst Eşik :{k}\\n\"\n",
    "              f\"Toplam Alt Aykırı Değer : {f}\\nToplam Üst Aykırı Değer :{y}\",end = \"\\n\\n\\n\")\n",
    "        #print(i,j,k) #Bu şekilde de yazabiliriz.\n",
    "        \n",
    "    print(f\"Alt Ve Üst Aykırı Değerleri Olmayan Değişkenler : {zero_alt_üst}\")\n",
    "                \n",
    "analiz_eşik(data)"
   ]
  },
  {
   "cell_type": "markdown",
   "id": "7cba6138",
   "metadata": {
    "papermill": {
     "duration": 0.197068,
     "end_time": "2021-11-13T13:44:35.853293",
     "exception": false,
     "start_time": "2021-11-13T13:44:35.656225",
     "status": "completed"
    },
    "tags": []
   },
   "source": [
    "- **Aykırı Değere sahip** değişkenlerimizin Aykırı Değerlerini, **alt_eşik** ve **üst_eşik** değerlerine baskılayacağız.\n",
    "\n",
    "- Baskılama İşlemi Yaparken, **Toplam Alt ve Üst Değerlerin Sayısı 0 olan Değişkenleri** **almayacağız**.\n",
    "\n",
    "- Bu Değişkenleri bize veren fonskiyon yazalım"
   ]
  },
  {
   "cell_type": "code",
   "execution_count": 42,
   "id": "ebbfdaa9",
   "metadata": {
    "execution": {
     "iopub.execute_input": "2021-11-13T13:44:36.406524Z",
     "iopub.status.busy": "2021-11-13T13:44:36.405651Z",
     "iopub.status.idle": "2021-11-13T13:44:36.505217Z",
     "shell.execute_reply": "2021-11-13T13:44:36.505939Z",
     "shell.execute_reply.started": "2021-11-13T13:41:26.242702Z"
    },
    "papermill": {
     "duration": 0.453362,
     "end_time": "2021-11-13T13:44:36.506087",
     "exception": false,
     "start_time": "2021-11-13T13:44:36.052725",
     "status": "completed"
    },
    "tags": []
   },
   "outputs": [
    {
     "data": {
      "text/plain": [
       "['OverallQual', 'YearBuilt', 'YearRemodAdd', 'YrSold']"
      ]
     },
     "execution_count": 42,
     "metadata": {},
     "output_type": "execute_result"
    }
   ],
   "source": [
    "def Zero_features(df):\n",
    "    \n",
    "    zero= []\n",
    "    \n",
    "    num_cols = [cols for cols in df.columns if df[cols].dtypes != 'object'\n",
    "               and cols not in 'SalePrice'\n",
    "               and cols not in 'Id']\n",
    "    \n",
    "    for cols in num_cols:\n",
    "        \n",
    "        alt,üst = alt_üst_eşik(df,feature=cols)\n",
    "        \n",
    "        if alt != 0 and üst != 0:\n",
    "            \n",
    "            alt_değer = df[cols][df[cols] < alt].count()\n",
    "            üst_değer = df[cols][df[cols] > üst].count()\n",
    "            \n",
    "            if alt_değer == 0 and üst_değer == 0:\n",
    "                \n",
    "                zero.append(cols)\n",
    "                \n",
    "    return zero\n",
    "\n",
    "değişkenler = Zero_features(data)\n",
    "\n",
    "değişkenler"
   ]
  },
  {
   "cell_type": "markdown",
   "id": "a59fc03a",
   "metadata": {
    "papermill": {
     "duration": 0.201264,
     "end_time": "2021-11-13T13:44:36.981127",
     "exception": false,
     "start_time": "2021-11-13T13:44:36.779863",
     "status": "completed"
    },
    "tags": []
   },
   "source": [
    "- Aykırı Değere Sahip Değişkenlerimizi Alt ve Üst Eşik Değerlerine baskılayacağız."
   ]
  },
  {
   "cell_type": "code",
   "execution_count": 43,
   "id": "71e218a6",
   "metadata": {
    "execution": {
     "iopub.execute_input": "2021-11-13T13:44:37.392832Z",
     "iopub.status.busy": "2021-11-13T13:44:37.391832Z",
     "iopub.status.idle": "2021-11-13T13:44:37.610505Z",
     "shell.execute_reply": "2021-11-13T13:44:37.609816Z",
     "shell.execute_reply.started": "2021-11-13T13:41:26.319566Z"
    },
    "papermill": {
     "duration": 0.429432,
     "end_time": "2021-11-13T13:44:37.610703",
     "exception": false,
     "start_time": "2021-11-13T13:44:37.181271",
     "status": "completed"
    },
    "tags": []
   },
   "outputs": [
    {
     "name": "stdout",
     "output_type": "stream",
     "text": [
      "MSSubClass = 0\n",
      "LotFrontage = 0\n",
      "LotArea = 0\n",
      "OverallCond = 0\n",
      "MasVnrArea = 0\n",
      "BsmtFinSF1 = 0\n",
      "BsmtUnfSF = 0\n",
      "TotalBsmtSF = 0\n",
      "1stFlrSF = 0\n",
      "2ndFlrSF = 0\n",
      "GrLivArea = 0\n",
      "BsmtFullBath = 0\n",
      "FullBath = 0\n",
      "HalfBath = 0\n",
      "BedroomAbvGr = 0\n",
      "KitchenAbvGr = 0\n",
      "TotRmsAbvGrd = 0\n",
      "Fireplaces = 0\n",
      "GarageYrBlt = 0\n",
      "GarageCars = 0\n",
      "GarageArea = 0\n",
      "WoodDeckSF = 0\n",
      "OpenPorchSF = 0\n",
      "MoSold = 0\n"
     ]
    }
   ],
   "source": [
    "def press_outliers(df):\n",
    "    \n",
    "    features = Zero_features(df) #Toplam alt ve üst aykırı değerleri 0 olan değişkenler\n",
    "    \n",
    "    num_cols = [cols for cols in df.columns if df[cols].dtypes != 'object'\n",
    "               and cols not in 'SalePrice'\n",
    "               and cols not in 'Id'\n",
    "               and cols not in features]\n",
    "    \n",
    "    for cols in num_cols:\n",
    "        \n",
    "        alt_eşik, üst_eşik = alt_üst_eşik(df, feature = cols)\n",
    "        \n",
    "        if alt_eşik != 0 and üst_eşik !=0:\n",
    "            \n",
    "            alt = df[cols][df[cols] < alt_eşik].count()\n",
    "            üst = df[cols][df[cols] > üst_eşik].count()\n",
    "            \n",
    "            if alt == 0 :  #alt aykırı değeri olmayanların üst aykırı değerleri vardı.Onları üst eşik değere baskıladık\n",
    "                \n",
    "                df[cols][(df[cols] > üst_eşik)] = üst_eşik\n",
    "                \n",
    "            elif üst == 0: #üst aykırı değeri olmayanların alt aykırı değerleri vardı.Onları alt eşik değere baskıladık\n",
    "                \n",
    "                df[cols][(df[cols] < alt_eşik)] = alt_eşik\n",
    "                \n",
    "            elif alt != 0 and üst != 0:\n",
    "                \n",
    "                df[cols][(df[cols] < alt_eşik)] = alt_eşik\n",
    "                df[cols][(df[cols] > üst_eşik)] = üst_eşik \n",
    "            \n",
    "            print(f\"{cols} = {df[cols][(df[cols] < alt_eşik) | (df[cols] > üst_eşik)].count()}\") #Değişkenlerimiz için Aykırı Değer kontrolü yapacak\n",
    "    \n",
    "    \n",
    "press_outliers(data)    "
   ]
  },
  {
   "cell_type": "markdown",
   "id": "502069b5",
   "metadata": {
    "papermill": {
     "duration": 0.201279,
     "end_time": "2021-11-13T13:44:38.018257",
     "exception": false,
     "start_time": "2021-11-13T13:44:37.816978",
     "status": "completed"
    },
    "tags": []
   },
   "source": [
    "- Hedef Değişkenimizin **alt eşik ve üst eşik** değerlerine bakalım"
   ]
  },
  {
   "cell_type": "code",
   "execution_count": 44,
   "id": "93a0689b",
   "metadata": {
    "execution": {
     "iopub.execute_input": "2021-11-13T13:44:38.429009Z",
     "iopub.status.busy": "2021-11-13T13:44:38.428100Z",
     "iopub.status.idle": "2021-11-13T13:44:38.434040Z",
     "shell.execute_reply": "2021-11-13T13:44:38.434751Z",
     "shell.execute_reply.started": "2021-11-13T13:41:26.544656Z"
    },
    "papermill": {
     "duration": 0.2153,
     "end_time": "2021-11-13T13:44:38.434912",
     "exception": false,
     "start_time": "2021-11-13T13:44:38.219612",
     "status": "completed"
    },
    "tags": []
   },
   "outputs": [
    {
     "data": {
      "text/plain": [
       "(-105500.0, 197500.0)"
      ]
     },
     "execution_count": 44,
     "metadata": {},
     "output_type": "execute_result"
    }
   ],
   "source": [
    "alt_üst_eşik(data, feature='SalePrice')"
   ]
  },
  {
   "cell_type": "markdown",
   "id": "e78b6651",
   "metadata": {
    "papermill": {
     "duration": 0.202704,
     "end_time": "2021-11-13T13:44:38.840578",
     "exception": false,
     "start_time": "2021-11-13T13:44:38.637874",
     "status": "completed"
    },
    "tags": []
   },
   "source": [
    "- Hedef Değişkenimizin **Toplam Aykırı Değerlerini** bize veren fonksiyon yazalım."
   ]
  },
  {
   "cell_type": "code",
   "execution_count": 45,
   "id": "780a863c",
   "metadata": {
    "execution": {
     "iopub.execute_input": "2021-11-13T13:44:39.256412Z",
     "iopub.status.busy": "2021-11-13T13:44:39.255426Z",
     "iopub.status.idle": "2021-11-13T13:44:39.263641Z",
     "shell.execute_reply": "2021-11-13T13:44:39.263137Z",
     "shell.execute_reply.started": "2021-11-13T13:41:26.554993Z"
    },
    "papermill": {
     "duration": 0.219545,
     "end_time": "2021-11-13T13:44:39.263767",
     "exception": false,
     "start_time": "2021-11-13T13:44:39.044222",
     "status": "completed"
    },
    "tags": []
   },
   "outputs": [
    {
     "data": {
      "text/plain": [
       "(0, 442)"
      ]
     },
     "execution_count": 45,
     "metadata": {},
     "output_type": "execute_result"
    }
   ],
   "source": [
    "def Target_Out(df,feature = 'SalePrice'):\n",
    "    \n",
    "    Q1 = df[feature].quantile(0.25)\n",
    "    Q3 = df[feature].quantile(0.75)\n",
    "    \n",
    "    IQR = np.multiply(1.5, np.subtract(Q3, Q1))\n",
    "    \n",
    "    alt_eşik = IQR - Q1\n",
    "    üst_eşik = IQR + Q3\n",
    "    \n",
    "    alt = df[feature][df[feature] < alt_eşik].count()\n",
    "    üst = df[feature][df[feature] > üst_eşik].count()\n",
    "    \n",
    "    return alt, üst\n",
    "    \n",
    "Target_Out(data,'SalePrice')"
   ]
  },
  {
   "cell_type": "markdown",
   "id": "8b35169a",
   "metadata": {
    "papermill": {
     "duration": 0.203239,
     "end_time": "2021-11-13T13:44:39.673155",
     "exception": false,
     "start_time": "2021-11-13T13:44:39.469916",
     "status": "completed"
    },
    "tags": []
   },
   "source": [
    "- Hedef Değişkenimizin  **Alt Aykırı Değeri** yoktur.\n",
    "- 61 tane **Üst Aykırı Değeri** vardır.\n",
    "- Biz bu değerleri **Üst Eşik değerine baskılayacağız**"
   ]
  },
  {
   "cell_type": "code",
   "execution_count": 46,
   "id": "5e33d5d7",
   "metadata": {
    "execution": {
     "iopub.execute_input": "2021-11-13T13:44:40.098367Z",
     "iopub.status.busy": "2021-11-13T13:44:40.097291Z",
     "iopub.status.idle": "2021-11-13T13:44:40.105691Z",
     "shell.execute_reply": "2021-11-13T13:44:40.106302Z",
     "shell.execute_reply.started": "2021-11-13T13:41:26.569402Z"
    },
    "papermill": {
     "duration": 0.230394,
     "end_time": "2021-11-13T13:44:40.106513",
     "exception": false,
     "start_time": "2021-11-13T13:44:39.876119",
     "status": "completed"
    },
    "tags": []
   },
   "outputs": [
    {
     "name": "stdout",
     "output_type": "stream",
     "text": [
      "Aykırı Değer Sayısı : 0\n"
     ]
    }
   ],
   "source": [
    "def Target_Press(df, target = 'SalePrice'):\n",
    "    \n",
    "    alt_eşik, üst_eşik = alt_üst_eşik(df, feature = target)\n",
    "    \n",
    "    df[target][df[target] > üst_eşik] = üst_eşik\n",
    "    \n",
    "    print(f\"Aykırı Değer Sayısı : {df[target][df[target] > üst_eşik].count()}\")\n",
    "\n",
    "Target_Press(data, target='SalePrice')"
   ]
  },
  {
   "cell_type": "markdown",
   "id": "5f31ab7b",
   "metadata": {
    "papermill": {
     "duration": 0.202631,
     "end_time": "2021-11-13T13:44:40.510513",
     "exception": false,
     "start_time": "2021-11-13T13:44:40.307882",
     "status": "completed"
    },
    "tags": []
   },
   "source": [
    "# Feature Engineering"
   ]
  },
  {
   "cell_type": "markdown",
   "id": "f5876da9",
   "metadata": {
    "papermill": {
     "duration": 0.202374,
     "end_time": "2021-11-13T13:44:40.919140",
     "exception": false,
     "start_time": "2021-11-13T13:44:40.716766",
     "status": "completed"
    },
    "tags": []
   },
   "source": [
    "- İlk olarak **agg** fonksiyonumuzu kullanarak,**Kategorik Değişkenlerimizin**,**Hedef Değişkenimize** etkisine bakacağız "
   ]
  },
  {
   "cell_type": "markdown",
   "id": "db0f22e7",
   "metadata": {
    "papermill": {
     "duration": 0.200799,
     "end_time": "2021-11-13T13:44:41.334432",
     "exception": false,
     "start_time": "2021-11-13T13:44:41.133633",
     "status": "completed"
    },
    "tags": []
   },
   "source": [
    "- İlk Olarak **Neighborhood** değişkenimiz ile başlayacağız"
   ]
  },
  {
   "cell_type": "code",
   "execution_count": 47,
   "id": "565a6e4f",
   "metadata": {
    "execution": {
     "iopub.execute_input": "2021-11-13T13:44:41.756169Z",
     "iopub.status.busy": "2021-11-13T13:44:41.748002Z",
     "iopub.status.idle": "2021-11-13T13:44:41.760055Z",
     "shell.execute_reply": "2021-11-13T13:44:41.759637Z",
     "shell.execute_reply.started": "2021-11-13T13:41:26.583124Z"
    },
    "papermill": {
     "duration": 0.223619,
     "end_time": "2021-11-13T13:44:41.760166",
     "exception": false,
     "start_time": "2021-11-13T13:44:41.536547",
     "status": "completed"
    },
    "tags": []
   },
   "outputs": [
    {
     "data": {
      "text/html": [
       "<div>\n",
       "<style scoped>\n",
       "    .dataframe tbody tr th:only-of-type {\n",
       "        vertical-align: middle;\n",
       "    }\n",
       "\n",
       "    .dataframe tbody tr th {\n",
       "        vertical-align: top;\n",
       "    }\n",
       "\n",
       "    .dataframe thead th {\n",
       "        text-align: right;\n",
       "    }\n",
       "</style>\n",
       "<table border=\"1\" class=\"dataframe\">\n",
       "  <thead>\n",
       "    <tr style=\"text-align: right;\">\n",
       "      <th></th>\n",
       "      <th>SalePrice</th>\n",
       "    </tr>\n",
       "    <tr>\n",
       "      <th>Neighborhood</th>\n",
       "      <th></th>\n",
       "    </tr>\n",
       "  </thead>\n",
       "  <tbody>\n",
       "    <tr>\n",
       "      <th>NoRidge</th>\n",
       "      <td>173098.591549</td>\n",
       "    </tr>\n",
       "    <tr>\n",
       "      <th>ClearCr</th>\n",
       "      <td>168498.454545</td>\n",
       "    </tr>\n",
       "    <tr>\n",
       "      <th>StoneBr</th>\n",
       "      <td>166941.176471</td>\n",
       "    </tr>\n",
       "    <tr>\n",
       "      <th>Blmngtn</th>\n",
       "      <td>166667.000000</td>\n",
       "    </tr>\n",
       "    <tr>\n",
       "      <th>Timber</th>\n",
       "      <td>166412.500000</td>\n",
       "    </tr>\n",
       "    <tr>\n",
       "      <th>NridgHt</th>\n",
       "      <td>165878.313253</td>\n",
       "    </tr>\n",
       "    <tr>\n",
       "      <th>Somerst</th>\n",
       "      <td>162465.576923</td>\n",
       "    </tr>\n",
       "    <tr>\n",
       "      <th>Veenker</th>\n",
       "      <td>162291.666667</td>\n",
       "    </tr>\n",
       "    <tr>\n",
       "      <th>CollgCr</th>\n",
       "      <td>161545.041199</td>\n",
       "    </tr>\n",
       "    <tr>\n",
       "      <th>NWAmes</th>\n",
       "      <td>161445.076336</td>\n",
       "    </tr>\n",
       "    <tr>\n",
       "      <th>Gilbert</th>\n",
       "      <td>160089.521212</td>\n",
       "    </tr>\n",
       "    <tr>\n",
       "      <th>Crawfor</th>\n",
       "      <td>158369.291262</td>\n",
       "    </tr>\n",
       "    <tr>\n",
       "      <th>SawyerW</th>\n",
       "      <td>153732.096000</td>\n",
       "    </tr>\n",
       "    <tr>\n",
       "      <th>Mitchel</th>\n",
       "      <td>145344.298246</td>\n",
       "    </tr>\n",
       "    <tr>\n",
       "      <th>NAmes</th>\n",
       "      <td>141711.948081</td>\n",
       "    </tr>\n",
       "    <tr>\n",
       "      <th>SWISU</th>\n",
       "      <td>141297.583333</td>\n",
       "    </tr>\n",
       "    <tr>\n",
       "      <th>NPkVill</th>\n",
       "      <td>141054.347826</td>\n",
       "    </tr>\n",
       "    <tr>\n",
       "      <th>Blueste</th>\n",
       "      <td>139500.000000</td>\n",
       "    </tr>\n",
       "    <tr>\n",
       "      <th>Sawyer</th>\n",
       "      <td>138428.423841</td>\n",
       "    </tr>\n",
       "    <tr>\n",
       "      <th>Edwards</th>\n",
       "      <td>132322.164948</td>\n",
       "    </tr>\n",
       "    <tr>\n",
       "      <th>OldTown</th>\n",
       "      <td>131788.619247</td>\n",
       "    </tr>\n",
       "    <tr>\n",
       "      <th>BrkSide</th>\n",
       "      <td>131184.027778</td>\n",
       "    </tr>\n",
       "    <tr>\n",
       "      <th>IDOTRR</th>\n",
       "      <td>124135.268817</td>\n",
       "    </tr>\n",
       "    <tr>\n",
       "      <th>BrDale</th>\n",
       "      <td>121063.333333</td>\n",
       "    </tr>\n",
       "    <tr>\n",
       "      <th>MeadowV</th>\n",
       "      <td>120967.567568</td>\n",
       "    </tr>\n",
       "  </tbody>\n",
       "</table>\n",
       "</div>"
      ],
      "text/plain": [
       "                  SalePrice\n",
       "Neighborhood               \n",
       "NoRidge       173098.591549\n",
       "ClearCr       168498.454545\n",
       "StoneBr       166941.176471\n",
       "Blmngtn       166667.000000\n",
       "Timber        166412.500000\n",
       "NridgHt       165878.313253\n",
       "Somerst       162465.576923\n",
       "Veenker       162291.666667\n",
       "CollgCr       161545.041199\n",
       "NWAmes        161445.076336\n",
       "Gilbert       160089.521212\n",
       "Crawfor       158369.291262\n",
       "SawyerW       153732.096000\n",
       "Mitchel       145344.298246\n",
       "NAmes         141711.948081\n",
       "SWISU         141297.583333\n",
       "NPkVill       141054.347826\n",
       "Blueste       139500.000000\n",
       "Sawyer        138428.423841\n",
       "Edwards       132322.164948\n",
       "OldTown       131788.619247\n",
       "BrkSide       131184.027778\n",
       "IDOTRR        124135.268817\n",
       "BrDale        121063.333333\n",
       "MeadowV       120967.567568"
      ]
     },
     "execution_count": 47,
     "metadata": {},
     "output_type": "execute_result"
    }
   ],
   "source": [
    "data.groupby('Neighborhood').agg({'SalePrice':'mean'}).sort_values('SalePrice',ascending = False)"
   ]
  },
  {
   "cell_type": "markdown",
   "id": "776f9e7e",
   "metadata": {
    "papermill": {
     "duration": 0.205154,
     "end_time": "2021-11-13T13:44:42.179656",
     "exception": false,
     "start_time": "2021-11-13T13:44:41.974502",
     "status": "completed"
    },
    "tags": []
   },
   "source": [
    "- **Mahallelerin fiyata olan etkisini** görmüş olduk. \n",
    "- Şimdi ise bu **Mahalleleri SalePrice değişkenine etkisine göre numaralandıracağız.**. Şu şekide;\n",
    "\n",
    "   - **MeadowW**  --> **1**\n",
    "   - **NoRidge**  --> **10** şeklinde dönüştüreceğiz."
   ]
  },
  {
   "cell_type": "code",
   "execution_count": 48,
   "id": "e1d6a0b1",
   "metadata": {
    "execution": {
     "iopub.execute_input": "2021-11-13T13:44:42.596136Z",
     "iopub.status.busy": "2021-11-13T13:44:42.595293Z",
     "iopub.status.idle": "2021-11-13T13:44:42.599101Z",
     "shell.execute_reply": "2021-11-13T13:44:42.598682Z",
     "shell.execute_reply.started": "2021-11-13T13:41:26.601001Z"
    },
    "papermill": {
     "duration": 0.215909,
     "end_time": "2021-11-13T13:44:42.599216",
     "exception": false,
     "start_time": "2021-11-13T13:44:42.383307",
     "status": "completed"
    },
    "tags": []
   },
   "outputs": [],
   "source": [
    "neih = {'MeadowV': 1, 'IDOTRR': 1, 'BrDale': 1,\n",
    "                 'BrkSide': 2, 'Edwards': 2, 'OldTown': 2,\n",
    "                 'Sawyer': 3, 'Blueste': 3,\n",
    "                 'SWISU': 4, 'NPkVill': 4, 'NAmes': 4, 'Mitchel': 4,\n",
    "                 'SawyerW': 5, 'NWAmes': 5,\n",
    "                 'Gilbert': 6, 'Blmngtn': 6, 'CollgCr': 6,\n",
    "                 'Crawfor': 7, 'ClearCr': 7,\n",
    "                 'Somerst': 8, 'Veenker': 8, 'Timber': 8,\n",
    "                 'StoneBr': 9, 'NridgHt': 9,\n",
    "                 'NoRidge': 10}\n",
    "\n",
    "data['Neighborhood'] = data['Neighborhood'].map(neih).astype('int')    "
   ]
  },
  {
   "cell_type": "code",
   "execution_count": 49,
   "id": "8ba5ffe6",
   "metadata": {
    "execution": {
     "iopub.execute_input": "2021-11-13T13:44:43.046741Z",
     "iopub.status.busy": "2021-11-13T13:44:43.046038Z",
     "iopub.status.idle": "2021-11-13T13:44:43.049042Z",
     "shell.execute_reply": "2021-11-13T13:44:43.049473Z",
     "shell.execute_reply.started": "2021-11-13T13:41:26.611931Z"
    },
    "papermill": {
     "duration": 0.246605,
     "end_time": "2021-11-13T13:44:43.049605",
     "exception": false,
     "start_time": "2021-11-13T13:44:42.803000",
     "status": "completed"
    },
    "tags": []
   },
   "outputs": [
    {
     "data": {
      "text/plain": [
       "0     6\n",
       "1     8\n",
       "2     6\n",
       "3     7\n",
       "4    10\n",
       "Name: Neighborhood, dtype: int64"
      ]
     },
     "execution_count": 49,
     "metadata": {},
     "output_type": "execute_result"
    }
   ],
   "source": [
    "data['Neighborhood'].head()"
   ]
  },
  {
   "cell_type": "markdown",
   "id": "9ae6f25e",
   "metadata": {
    "papermill": {
     "duration": 0.2012,
     "end_time": "2021-11-13T13:44:43.451738",
     "exception": false,
     "start_time": "2021-11-13T13:44:43.250538",
     "status": "completed"
    },
    "tags": []
   },
   "source": [
    "- **MoSold** değişkeninde aylara göre satış değerleri vardır.Bunları da Ay isimleri ile değiştireceğiz.\n",
    "\n",
    "- Şu şekilde;\n",
    "\n",
    "   - **1** --> **January**\n",
    "   - **6** --> **June**\n"
   ]
  },
  {
   "cell_type": "code",
   "execution_count": 50,
   "id": "27cdf7e6",
   "metadata": {
    "execution": {
     "iopub.execute_input": "2021-11-13T13:44:43.864249Z",
     "iopub.status.busy": "2021-11-13T13:44:43.863553Z",
     "iopub.status.idle": "2021-11-13T13:44:43.866866Z",
     "shell.execute_reply": "2021-11-13T13:44:43.867239Z",
     "shell.execute_reply.started": "2021-11-13T13:41:26.622813Z"
    },
    "papermill": {
     "duration": 0.214157,
     "end_time": "2021-11-13T13:44:43.867401",
     "exception": false,
     "start_time": "2021-11-13T13:44:43.653244",
     "status": "completed"
    },
    "tags": []
   },
   "outputs": [
    {
     "data": {
      "text/plain": [
       "6     503\n",
       "7     446\n",
       "5     394\n",
       "4     279\n",
       "2     255\n",
       "8     233\n",
       "3     232\n",
       "10    173\n",
       "9     158\n",
       "11    142\n",
       "12    104\n",
       "Name: MoSold, dtype: int64"
      ]
     },
     "execution_count": 50,
     "metadata": {},
     "output_type": "execute_result"
    }
   ],
   "source": [
    "data['MoSold'].value_counts()"
   ]
  },
  {
   "cell_type": "code",
   "execution_count": 51,
   "id": "e82dce62",
   "metadata": {
    "execution": {
     "iopub.execute_input": "2021-11-13T13:44:44.289706Z",
     "iopub.status.busy": "2021-11-13T13:44:44.288430Z",
     "iopub.status.idle": "2021-11-13T13:44:44.293949Z",
     "shell.execute_reply": "2021-11-13T13:44:44.293470Z",
     "shell.execute_reply.started": "2021-11-13T13:41:26.635022Z"
    },
    "papermill": {
     "duration": 0.221623,
     "end_time": "2021-11-13T13:44:44.294080",
     "exception": false,
     "start_time": "2021-11-13T13:44:44.072457",
     "status": "completed"
    },
    "tags": []
   },
   "outputs": [
    {
     "data": {
      "text/html": [
       "<div>\n",
       "<style scoped>\n",
       "    .dataframe tbody tr th:only-of-type {\n",
       "        vertical-align: middle;\n",
       "    }\n",
       "\n",
       "    .dataframe tbody tr th {\n",
       "        vertical-align: top;\n",
       "    }\n",
       "\n",
       "    .dataframe thead th {\n",
       "        text-align: right;\n",
       "    }\n",
       "</style>\n",
       "<table border=\"1\" class=\"dataframe\">\n",
       "  <thead>\n",
       "    <tr style=\"text-align: right;\">\n",
       "      <th></th>\n",
       "      <th>SalePrice</th>\n",
       "    </tr>\n",
       "    <tr>\n",
       "      <th>MoSold</th>\n",
       "      <th></th>\n",
       "    </tr>\n",
       "  </thead>\n",
       "  <tbody>\n",
       "    <tr>\n",
       "      <th>12</th>\n",
       "      <td>152376.182692</td>\n",
       "    </tr>\n",
       "    <tr>\n",
       "      <th>11</th>\n",
       "      <td>151835.563380</td>\n",
       "    </tr>\n",
       "    <tr>\n",
       "      <th>8</th>\n",
       "      <td>150402.012876</td>\n",
       "    </tr>\n",
       "    <tr>\n",
       "      <th>7</th>\n",
       "      <td>150072.500000</td>\n",
       "    </tr>\n",
       "    <tr>\n",
       "      <th>9</th>\n",
       "      <td>149672.879747</td>\n",
       "    </tr>\n",
       "    <tr>\n",
       "      <th>6</th>\n",
       "      <td>149656.844930</td>\n",
       "    </tr>\n",
       "    <tr>\n",
       "      <th>10</th>\n",
       "      <td>149174.306358</td>\n",
       "    </tr>\n",
       "    <tr>\n",
       "      <th>3</th>\n",
       "      <td>148356.767241</td>\n",
       "    </tr>\n",
       "    <tr>\n",
       "      <th>5</th>\n",
       "      <td>147440.926396</td>\n",
       "    </tr>\n",
       "    <tr>\n",
       "      <th>2</th>\n",
       "      <td>146855.043137</td>\n",
       "    </tr>\n",
       "    <tr>\n",
       "      <th>4</th>\n",
       "      <td>145791.494624</td>\n",
       "    </tr>\n",
       "  </tbody>\n",
       "</table>\n",
       "</div>"
      ],
      "text/plain": [
       "            SalePrice\n",
       "MoSold               \n",
       "12      152376.182692\n",
       "11      151835.563380\n",
       "8       150402.012876\n",
       "7       150072.500000\n",
       "9       149672.879747\n",
       "6       149656.844930\n",
       "10      149174.306358\n",
       "3       148356.767241\n",
       "5       147440.926396\n",
       "2       146855.043137\n",
       "4       145791.494624"
      ]
     },
     "execution_count": 51,
     "metadata": {},
     "output_type": "execute_result"
    }
   ],
   "source": [
    "data.groupby('MoSold').agg({'SalePrice':'mean'}).sort_values('SalePrice',ascending = False)"
   ]
  },
  {
   "cell_type": "code",
   "execution_count": 52,
   "id": "7557d3f9",
   "metadata": {
    "execution": {
     "iopub.execute_input": "2021-11-13T13:44:44.725075Z",
     "iopub.status.busy": "2021-11-13T13:44:44.724165Z",
     "iopub.status.idle": "2021-11-13T13:44:44.735448Z",
     "shell.execute_reply": "2021-11-13T13:44:44.734991Z",
     "shell.execute_reply.started": "2021-11-13T13:41:26.649867Z"
    },
    "papermill": {
     "duration": 0.220035,
     "end_time": "2021-11-13T13:44:44.735575",
     "exception": false,
     "start_time": "2021-11-13T13:44:44.515540",
     "status": "completed"
    },
    "tags": []
   },
   "outputs": [
    {
     "data": {
      "text/plain": [
       "Jun    503\n",
       "Jul    446\n",
       "May    394\n",
       "Apr    279\n",
       "Feb    255\n",
       "Aug    233\n",
       "Mar    232\n",
       "Oct    173\n",
       "Sep    158\n",
       "Nov    142\n",
       "Dec    104\n",
       "Name: MoSold, dtype: int64"
      ]
     },
     "execution_count": 52,
     "metadata": {},
     "output_type": "execute_result"
    }
   ],
   "source": [
    "data = data.replace({\"MoSold\": {1: \"Jan\", 2: \"Feb\", 3: \"Mar\", 4: \"Apr\", 5: \"May\", 6: \"Jun\",\n",
    "                                7: \"Jul\", 8: \"Aug\", 9: \"Sep\", 10: \"Oct\", 11: \"Nov\", 12: \"Dec\"}})\n",
    "\n",
    "data['MoSold'].value_counts()"
   ]
  },
  {
   "cell_type": "markdown",
   "id": "56b11906",
   "metadata": {
    "papermill": {
     "duration": 0.214564,
     "end_time": "2021-11-13T13:44:45.157644",
     "exception": false,
     "start_time": "2021-11-13T13:44:44.943080",
     "status": "completed"
    },
    "tags": []
   },
   "source": [
    "- **Functional** değişkeni ; **Evin işlevsellik derecesinin** olduğu değişkendir.\n",
    "- Bu değişkenin, **Hedef Değişken** üzerinde ki etkisine bakalım."
   ]
  },
  {
   "cell_type": "code",
   "execution_count": 53,
   "id": "0ecd063f",
   "metadata": {
    "execution": {
     "iopub.execute_input": "2021-11-13T13:44:45.574288Z",
     "iopub.status.busy": "2021-11-13T13:44:45.567880Z",
     "iopub.status.idle": "2021-11-13T13:44:45.578203Z",
     "shell.execute_reply": "2021-11-13T13:44:45.577643Z",
     "shell.execute_reply.started": "2021-11-13T13:41:26.667652Z"
    },
    "papermill": {
     "duration": 0.219871,
     "end_time": "2021-11-13T13:44:45.578340",
     "exception": false,
     "start_time": "2021-11-13T13:44:45.358469",
     "status": "completed"
    },
    "tags": []
   },
   "outputs": [
    {
     "data": {
      "text/html": [
       "<div>\n",
       "<style scoped>\n",
       "    .dataframe tbody tr th:only-of-type {\n",
       "        vertical-align: middle;\n",
       "    }\n",
       "\n",
       "    .dataframe tbody tr th {\n",
       "        vertical-align: top;\n",
       "    }\n",
       "\n",
       "    .dataframe thead th {\n",
       "        text-align: right;\n",
       "    }\n",
       "</style>\n",
       "<table border=\"1\" class=\"dataframe\">\n",
       "  <thead>\n",
       "    <tr style=\"text-align: right;\">\n",
       "      <th></th>\n",
       "      <th>SalePrice</th>\n",
       "    </tr>\n",
       "    <tr>\n",
       "      <th>Functional</th>\n",
       "      <th></th>\n",
       "    </tr>\n",
       "  </thead>\n",
       "  <tbody>\n",
       "    <tr>\n",
       "      <th>Typ</th>\n",
       "      <td>149633.933799</td>\n",
       "    </tr>\n",
       "    <tr>\n",
       "      <th>Maj1</th>\n",
       "      <td>142942.105263</td>\n",
       "    </tr>\n",
       "    <tr>\n",
       "      <th>Min1</th>\n",
       "      <td>141799.230769</td>\n",
       "    </tr>\n",
       "    <tr>\n",
       "      <th>Min2</th>\n",
       "      <td>140358.314286</td>\n",
       "    </tr>\n",
       "    <tr>\n",
       "      <th>Mod</th>\n",
       "      <td>139440.000000</td>\n",
       "    </tr>\n",
       "    <tr>\n",
       "      <th>Sev</th>\n",
       "      <td>134500.000000</td>\n",
       "    </tr>\n",
       "    <tr>\n",
       "      <th>Maj2</th>\n",
       "      <td>109888.888889</td>\n",
       "    </tr>\n",
       "  </tbody>\n",
       "</table>\n",
       "</div>"
      ],
      "text/plain": [
       "                SalePrice\n",
       "Functional               \n",
       "Typ         149633.933799\n",
       "Maj1        142942.105263\n",
       "Min1        141799.230769\n",
       "Min2        140358.314286\n",
       "Mod         139440.000000\n",
       "Sev         134500.000000\n",
       "Maj2        109888.888889"
      ]
     },
     "execution_count": 53,
     "metadata": {},
     "output_type": "execute_result"
    }
   ],
   "source": [
    "data.groupby('Functional').agg({'SalePrice':'mean'}).sort_values('SalePrice', ascending=False)"
   ]
  },
  {
   "cell_type": "code",
   "execution_count": 54,
   "id": "a7159f14",
   "metadata": {
    "execution": {
     "iopub.execute_input": "2021-11-13T13:44:46.004354Z",
     "iopub.status.busy": "2021-11-13T13:44:46.003607Z",
     "iopub.status.idle": "2021-11-13T13:44:46.006646Z",
     "shell.execute_reply": "2021-11-13T13:44:46.007130Z",
     "shell.execute_reply.started": "2021-11-13T13:41:26.681441Z"
    },
    "papermill": {
     "duration": 0.212928,
     "end_time": "2021-11-13T13:44:46.007262",
     "exception": false,
     "start_time": "2021-11-13T13:44:45.794334",
     "status": "completed"
    },
    "tags": []
   },
   "outputs": [
    {
     "data": {
      "text/plain": [
       "Typ     2719\n",
       "Min2      70\n",
       "Min1      65\n",
       "Mod       35\n",
       "Maj1      19\n",
       "Maj2       9\n",
       "Sev        2\n",
       "Name: Functional, dtype: int64"
      ]
     },
     "execution_count": 54,
     "metadata": {},
     "output_type": "execute_result"
    }
   ],
   "source": [
    "data['Functional'].value_counts()"
   ]
  },
  {
   "cell_type": "markdown",
   "id": "e83f1487",
   "metadata": {
    "papermill": {
     "duration": 0.202459,
     "end_time": "2021-11-13T13:44:46.413295",
     "exception": false,
     "start_time": "2021-11-13T13:44:46.210836",
     "status": "completed"
    },
    "tags": []
   },
   "source": [
    "- Evin işlevsellik değerlerinden SalePrice değişkenimize etkisi en çoktan en aza yukarıda gördüğümüz gibidir.\n",
    "- Biz bu değerleri **Yüksekten Düşüğe** doğru numaralandıracağız.Şu Şekilde;\n",
    "\n",
    "   - En Yüksek Değer -> **6** 'dan başlayarak **En Düşük** dereceye sahip sınıfa kadar numaralandıracağız.\n",
    "   "
   ]
  },
  {
   "cell_type": "code",
   "execution_count": 55,
   "id": "6dc9d22c",
   "metadata": {
    "execution": {
     "iopub.execute_input": "2021-11-13T13:44:46.841522Z",
     "iopub.status.busy": "2021-11-13T13:44:46.840650Z",
     "iopub.status.idle": "2021-11-13T13:44:46.848130Z",
     "shell.execute_reply": "2021-11-13T13:44:46.847604Z",
     "shell.execute_reply.started": "2021-11-13T13:41:26.691660Z"
    },
    "papermill": {
     "duration": 0.232982,
     "end_time": "2021-11-13T13:44:46.848248",
     "exception": false,
     "start_time": "2021-11-13T13:44:46.615266",
     "status": "completed"
    },
    "tags": []
   },
   "outputs": [
    {
     "data": {
      "text/plain": [
       "6    2719\n",
       "2      70\n",
       "3      65\n",
       "5      35\n",
       "4      19\n",
       "0       9\n",
       "1       2\n",
       "Name: Functional, dtype: int64"
      ]
     },
     "execution_count": 55,
     "metadata": {},
     "output_type": "execute_result"
    }
   ],
   "source": [
    "func = {'Typ':6, 'Mod':5, 'Maj1':4, 'Min1':3,'Min2':2 ,'Sev':1 ,'Maj2':0}\n",
    "\n",
    "data['Functional'] = data['Functional'].map(func).astype('int')\n",
    "\n",
    "data['Functional'].value_counts()"
   ]
  },
  {
   "cell_type": "markdown",
   "id": "8d0f63b0",
   "metadata": {
    "papermill": {
     "duration": 0.378785,
     "end_time": "2021-11-13T13:44:47.432378",
     "exception": false,
     "start_time": "2021-11-13T13:44:47.053593",
     "status": "completed"
    },
    "tags": []
   },
   "source": [
    "- Bazı kategorik değişkenlerimizin değerleri kendi aralarında belli bir derecelendirme halindedir.\n",
    "- Bizde bunları ifade ettiği dereceye göre **Ordinal** hale getireceğiz."
   ]
  },
  {
   "cell_type": "markdown",
   "id": "b4a2ef56",
   "metadata": {
    "papermill": {
     "duration": 0.222333,
     "end_time": "2021-11-13T13:44:47.999305",
     "exception": false,
     "start_time": "2021-11-13T13:44:47.776972",
     "status": "completed"
    },
    "tags": []
   },
   "source": [
    "- **MSZoning** Değişkeni, Genel **İmar Sınıflandırılması** olan değerlerden oluşur.\n"
   ]
  },
  {
   "cell_type": "code",
   "execution_count": 56,
   "id": "d362547e",
   "metadata": {
    "execution": {
     "iopub.execute_input": "2021-11-13T13:44:48.465098Z",
     "iopub.status.busy": "2021-11-13T13:44:48.464365Z",
     "iopub.status.idle": "2021-11-13T13:44:48.467511Z",
     "shell.execute_reply": "2021-11-13T13:44:48.468006Z",
     "shell.execute_reply.started": "2021-11-13T13:41:26.705743Z"
    },
    "papermill": {
     "duration": 0.233071,
     "end_time": "2021-11-13T13:44:48.468157",
     "exception": false,
     "start_time": "2021-11-13T13:44:48.235086",
     "status": "completed"
    },
    "tags": []
   },
   "outputs": [
    {
     "data": {
      "text/plain": [
       "RL         2269\n",
       "RM          460\n",
       "FV          139\n",
       "RH           26\n",
       "C (all)      25\n",
       "Name: MSZoning, dtype: int64"
      ]
     },
     "execution_count": 56,
     "metadata": {},
     "output_type": "execute_result"
    }
   ],
   "source": [
    "data['MSZoning'].value_counts()"
   ]
  },
  {
   "cell_type": "markdown",
   "id": "849e4781",
   "metadata": {
    "papermill": {
     "duration": 0.223578,
     "end_time": "2021-11-13T13:44:48.914100",
     "exception": false,
     "start_time": "2021-11-13T13:44:48.690522",
     "status": "completed"
    },
    "tags": []
   },
   "source": [
    "- **MSZoning** değişkeninde ki değerlerin, **Hedef Değişkeni** miz üzerinde ki etkisine bakalım."
   ]
  },
  {
   "cell_type": "code",
   "execution_count": 57,
   "id": "fc07cbf3",
   "metadata": {
    "execution": {
     "iopub.execute_input": "2021-11-13T13:44:49.370727Z",
     "iopub.status.busy": "2021-11-13T13:44:49.369976Z",
     "iopub.status.idle": "2021-11-13T13:44:49.373073Z",
     "shell.execute_reply": "2021-11-13T13:44:49.373514Z",
     "shell.execute_reply.started": "2021-11-13T13:41:26.716685Z"
    },
    "papermill": {
     "duration": 0.236244,
     "end_time": "2021-11-13T13:44:49.373656",
     "exception": false,
     "start_time": "2021-11-13T13:44:49.137412",
     "status": "completed"
    },
    "tags": []
   },
   "outputs": [
    {
     "data": {
      "text/html": [
       "<div>\n",
       "<style scoped>\n",
       "    .dataframe tbody tr th:only-of-type {\n",
       "        vertical-align: middle;\n",
       "    }\n",
       "\n",
       "    .dataframe tbody tr th {\n",
       "        vertical-align: top;\n",
       "    }\n",
       "\n",
       "    .dataframe thead th {\n",
       "        text-align: right;\n",
       "    }\n",
       "</style>\n",
       "<table border=\"1\" class=\"dataframe\">\n",
       "  <thead>\n",
       "    <tr style=\"text-align: right;\">\n",
       "      <th></th>\n",
       "      <th>SalePrice</th>\n",
       "    </tr>\n",
       "    <tr>\n",
       "      <th>MSZoning</th>\n",
       "      <th></th>\n",
       "    </tr>\n",
       "  </thead>\n",
       "  <tbody>\n",
       "    <tr>\n",
       "      <th>FV</th>\n",
       "      <td>161091.618705</td>\n",
       "    </tr>\n",
       "    <tr>\n",
       "      <th>RL</th>\n",
       "      <td>152293.855884</td>\n",
       "    </tr>\n",
       "    <tr>\n",
       "      <th>RH</th>\n",
       "      <td>134709.000000</td>\n",
       "    </tr>\n",
       "    <tr>\n",
       "      <th>RM</th>\n",
       "      <td>131427.804348</td>\n",
       "    </tr>\n",
       "    <tr>\n",
       "      <th>C (all)</th>\n",
       "      <td>113811.200000</td>\n",
       "    </tr>\n",
       "  </tbody>\n",
       "</table>\n",
       "</div>"
      ],
      "text/plain": [
       "              SalePrice\n",
       "MSZoning               \n",
       "FV        161091.618705\n",
       "RL        152293.855884\n",
       "RH        134709.000000\n",
       "RM        131427.804348\n",
       "C (all)   113811.200000"
      ]
     },
     "execution_count": 57,
     "metadata": {},
     "output_type": "execute_result"
    }
   ],
   "source": [
    "data.groupby('MSZoning').agg({'SalePrice':'mean'}).sort_values('SalePrice', ascending = False)"
   ]
  },
  {
   "cell_type": "code",
   "execution_count": 58,
   "id": "7abf3a0c",
   "metadata": {
    "execution": {
     "iopub.execute_input": "2021-11-13T13:44:49.991247Z",
     "iopub.status.busy": "2021-11-13T13:44:49.990393Z",
     "iopub.status.idle": "2021-11-13T13:44:50.010482Z",
     "shell.execute_reply": "2021-11-13T13:44:50.011183Z",
     "shell.execute_reply.started": "2021-11-13T13:41:26.730858Z"
    },
    "papermill": {
     "duration": 0.399784,
     "end_time": "2021-11-13T13:44:50.011416",
     "exception": false,
     "start_time": "2021-11-13T13:44:49.611632",
     "status": "completed"
    },
    "tags": []
   },
   "outputs": [
    {
     "data": {
      "text/plain": [
       "3    2269\n",
       "1     460\n",
       "4     139\n",
       "2      26\n",
       "0      25\n",
       "Name: MSZoning, dtype: int64"
      ]
     },
     "execution_count": 58,
     "metadata": {},
     "output_type": "execute_result"
    }
   ],
   "source": [
    "data = data.replace({'MSZoning': {'FV':4, 'RL':3, 'RH':2, 'RM':1, 'C (all)':0}})\n",
    "\n",
    "data['MSZoning'].value_counts()"
   ]
  },
  {
   "cell_type": "markdown",
   "id": "a76dbce2",
   "metadata": {
    "papermill": {
     "duration": 0.346006,
     "end_time": "2021-11-13T13:44:50.707677",
     "exception": false,
     "start_time": "2021-11-13T13:44:50.361671",
     "status": "completed"
    },
    "tags": []
   },
   "source": [
    "- **LotShape** Değişkeni, Mülkün Genel şeklini ifade eden değerleri bize verir.\n",
    "\n",
    "- **LotShape** Değişkeninde ki değerlerin, **Hedef Değişkenimiz** üzerindeki etkisine bakalım"
   ]
  },
  {
   "cell_type": "code",
   "execution_count": 59,
   "id": "4d63ff08",
   "metadata": {
    "execution": {
     "iopub.execute_input": "2021-11-13T13:44:51.186125Z",
     "iopub.status.busy": "2021-11-13T13:44:51.185387Z",
     "iopub.status.idle": "2021-11-13T13:44:51.188495Z",
     "shell.execute_reply": "2021-11-13T13:44:51.188945Z",
     "shell.execute_reply.started": "2021-11-13T13:41:26.748585Z"
    },
    "papermill": {
     "duration": 0.244385,
     "end_time": "2021-11-13T13:44:51.189089",
     "exception": false,
     "start_time": "2021-11-13T13:44:50.944704",
     "status": "completed"
    },
    "tags": []
   },
   "outputs": [
    {
     "data": {
      "text/html": [
       "<div>\n",
       "<style scoped>\n",
       "    .dataframe tbody tr th:only-of-type {\n",
       "        vertical-align: middle;\n",
       "    }\n",
       "\n",
       "    .dataframe tbody tr th {\n",
       "        vertical-align: top;\n",
       "    }\n",
       "\n",
       "    .dataframe thead th {\n",
       "        text-align: right;\n",
       "    }\n",
       "</style>\n",
       "<table border=\"1\" class=\"dataframe\">\n",
       "  <thead>\n",
       "    <tr style=\"text-align: right;\">\n",
       "      <th></th>\n",
       "      <th>SalePrice</th>\n",
       "    </tr>\n",
       "    <tr>\n",
       "      <th>LotShape</th>\n",
       "      <th></th>\n",
       "    </tr>\n",
       "  </thead>\n",
       "  <tbody>\n",
       "    <tr>\n",
       "      <th>IR2</th>\n",
       "      <td>163714.921053</td>\n",
       "    </tr>\n",
       "    <tr>\n",
       "      <th>IR3</th>\n",
       "      <td>162321.250000</td>\n",
       "    </tr>\n",
       "    <tr>\n",
       "      <th>IR1</th>\n",
       "      <td>156144.115702</td>\n",
       "    </tr>\n",
       "    <tr>\n",
       "      <th>Reg</th>\n",
       "      <td>144466.928456</td>\n",
       "    </tr>\n",
       "  </tbody>\n",
       "</table>\n",
       "</div>"
      ],
      "text/plain": [
       "              SalePrice\n",
       "LotShape               \n",
       "IR2       163714.921053\n",
       "IR3       162321.250000\n",
       "IR1       156144.115702\n",
       "Reg       144466.928456"
      ]
     },
     "execution_count": 59,
     "metadata": {},
     "output_type": "execute_result"
    }
   ],
   "source": [
    "data.groupby('LotShape').agg({'SalePrice':'mean'}).sort_values('SalePrice',ascending=False)"
   ]
  },
  {
   "cell_type": "code",
   "execution_count": 60,
   "id": "f8c5b7b0",
   "metadata": {
    "execution": {
     "iopub.execute_input": "2021-11-13T13:44:51.608160Z",
     "iopub.status.busy": "2021-11-13T13:44:51.607375Z",
     "iopub.status.idle": "2021-11-13T13:44:51.618436Z",
     "shell.execute_reply": "2021-11-13T13:44:51.617986Z",
     "shell.execute_reply.started": "2021-11-13T13:41:26.764832Z"
    },
    "papermill": {
     "duration": 0.219598,
     "end_time": "2021-11-13T13:44:51.618557",
     "exception": false,
     "start_time": "2021-11-13T13:44:51.398959",
     "status": "completed"
    },
    "tags": []
   },
   "outputs": [
    {
     "data": {
      "text/plain": [
       "1    1859\n",
       "2     968\n",
       "4      76\n",
       "3      16\n",
       "Name: LotShape, dtype: int64"
      ]
     },
     "execution_count": 60,
     "metadata": {},
     "output_type": "execute_result"
    }
   ],
   "source": [
    "data = data.replace({'LotShape': {'IR2':4, 'IR3':3, 'IR1':2, 'Reg':1}})\n",
    "\n",
    "data['LotShape'].value_counts()"
   ]
  },
  {
   "cell_type": "code",
   "execution_count": null,
   "id": "f6edb91f",
   "metadata": {
    "papermill": {
     "duration": 0.207981,
     "end_time": "2021-11-13T13:44:52.030738",
     "exception": false,
     "start_time": "2021-11-13T13:44:51.822757",
     "status": "completed"
    },
    "tags": []
   },
   "outputs": [],
   "source": []
  },
  {
   "cell_type": "markdown",
   "id": "ddd67903",
   "metadata": {
    "papermill": {
     "duration": 0.204877,
     "end_time": "2021-11-13T13:44:52.442742",
     "exception": false,
     "start_time": "2021-11-13T13:44:52.237865",
     "status": "completed"
    },
    "tags": []
   },
   "source": [
    "- **LandContour** Değişkeni, Mülkün Düzlüğünü ifade eden sınıfları içerir.\n",
    "\n",
    "- Bu Sınıfların, **Hedef Değişken** üzerinde ki etkilerine bakalım."
   ]
  },
  {
   "cell_type": "code",
   "execution_count": 61,
   "id": "668afd86",
   "metadata": {
    "execution": {
     "iopub.execute_input": "2021-11-13T13:44:52.861987Z",
     "iopub.status.busy": "2021-11-13T13:44:52.861179Z",
     "iopub.status.idle": "2021-11-13T13:44:52.864241Z",
     "shell.execute_reply": "2021-11-13T13:44:52.864664Z",
     "shell.execute_reply.started": "2021-11-13T13:41:26.780857Z"
    },
    "papermill": {
     "duration": 0.218653,
     "end_time": "2021-11-13T13:44:52.864798",
     "exception": false,
     "start_time": "2021-11-13T13:44:52.646145",
     "status": "completed"
    },
    "tags": []
   },
   "outputs": [
    {
     "data": {
      "text/html": [
       "<div>\n",
       "<style scoped>\n",
       "    .dataframe tbody tr th:only-of-type {\n",
       "        vertical-align: middle;\n",
       "    }\n",
       "\n",
       "    .dataframe tbody tr th {\n",
       "        vertical-align: top;\n",
       "    }\n",
       "\n",
       "    .dataframe thead th {\n",
       "        text-align: right;\n",
       "    }\n",
       "</style>\n",
       "<table border=\"1\" class=\"dataframe\">\n",
       "  <thead>\n",
       "    <tr style=\"text-align: right;\">\n",
       "      <th></th>\n",
       "      <th>SalePrice</th>\n",
       "    </tr>\n",
       "    <tr>\n",
       "      <th>LandContour</th>\n",
       "      <th></th>\n",
       "    </tr>\n",
       "  </thead>\n",
       "  <tbody>\n",
       "    <tr>\n",
       "      <th>Low</th>\n",
       "      <td>155503.333333</td>\n",
       "    </tr>\n",
       "    <tr>\n",
       "      <th>HLS</th>\n",
       "      <td>154183.133333</td>\n",
       "    </tr>\n",
       "    <tr>\n",
       "      <th>Lvl</th>\n",
       "      <td>148975.882914</td>\n",
       "    </tr>\n",
       "    <tr>\n",
       "      <th>Bnk</th>\n",
       "      <td>139350.914530</td>\n",
       "    </tr>\n",
       "  </tbody>\n",
       "</table>\n",
       "</div>"
      ],
      "text/plain": [
       "                 SalePrice\n",
       "LandContour               \n",
       "Low          155503.333333\n",
       "HLS          154183.133333\n",
       "Lvl          148975.882914\n",
       "Bnk          139350.914530"
      ]
     },
     "execution_count": 61,
     "metadata": {},
     "output_type": "execute_result"
    }
   ],
   "source": [
    "data.groupby('LandContour').agg({'SalePrice':'mean'}).sort_values('SalePrice',ascending = False)"
   ]
  },
  {
   "cell_type": "code",
   "execution_count": 62,
   "id": "57d43a1a",
   "metadata": {
    "execution": {
     "iopub.execute_input": "2021-11-13T13:44:53.292802Z",
     "iopub.status.busy": "2021-11-13T13:44:53.291984Z",
     "iopub.status.idle": "2021-11-13T13:44:53.294959Z",
     "shell.execute_reply": "2021-11-13T13:44:53.295369Z",
     "shell.execute_reply.started": "2021-11-13T13:41:26.798202Z"
    },
    "papermill": {
     "duration": 0.217441,
     "end_time": "2021-11-13T13:44:53.295514",
     "exception": false,
     "start_time": "2021-11-13T13:44:53.078073",
     "status": "completed"
    },
    "tags": []
   },
   "outputs": [
    {
     "data": {
      "text/plain": [
       "Lvl    2622\n",
       "HLS     120\n",
       "Bnk     117\n",
       "Low      60\n",
       "Name: LandContour, dtype: int64"
      ]
     },
     "execution_count": 62,
     "metadata": {},
     "output_type": "execute_result"
    }
   ],
   "source": [
    "data['LandContour'].value_counts()"
   ]
  },
  {
   "cell_type": "code",
   "execution_count": 63,
   "id": "fce4dcd4",
   "metadata": {
    "execution": {
     "iopub.execute_input": "2021-11-13T13:44:53.709278Z",
     "iopub.status.busy": "2021-11-13T13:44:53.708500Z",
     "iopub.status.idle": "2021-11-13T13:44:53.719423Z",
     "shell.execute_reply": "2021-11-13T13:44:53.718976Z",
     "shell.execute_reply.started": "2021-11-13T13:41:26.807503Z"
    },
    "papermill": {
     "duration": 0.220312,
     "end_time": "2021-11-13T13:44:53.719542",
     "exception": false,
     "start_time": "2021-11-13T13:44:53.499230",
     "status": "completed"
    },
    "tags": []
   },
   "outputs": [
    {
     "data": {
      "text/plain": [
       "2    2622\n",
       "4     120\n",
       "1     117\n",
       "3      60\n",
       "Name: LandContour, dtype: int64"
      ]
     },
     "execution_count": 63,
     "metadata": {},
     "output_type": "execute_result"
    }
   ],
   "source": [
    "data = data.replace({'LandContour':{'HLS':4, 'Low':3, 'Lvl':2, 'Bnk':1}})\n",
    "\n",
    "data['LandContour'].value_counts()"
   ]
  },
  {
   "cell_type": "markdown",
   "id": "aec20818",
   "metadata": {
    "papermill": {
     "duration": 0.206205,
     "end_time": "2021-11-13T13:44:54.130027",
     "exception": false,
     "start_time": "2021-11-13T13:44:53.923822",
     "status": "completed"
    },
    "tags": []
   },
   "source": [
    "- **LotConfig** Değişkeni, Arazi Yapılandırmasını ifade eden sınıfları içerir.\n",
    "\n",
    "- Bu sınıların, **Hedef Değişken** üzerinde ki etkilerine bakalım"
   ]
  },
  {
   "cell_type": "code",
   "execution_count": 64,
   "id": "875a088c",
   "metadata": {
    "execution": {
     "iopub.execute_input": "2021-11-13T13:44:54.553354Z",
     "iopub.status.busy": "2021-11-13T13:44:54.546838Z",
     "iopub.status.idle": "2021-11-13T13:44:54.557208Z",
     "shell.execute_reply": "2021-11-13T13:44:54.556762Z",
     "shell.execute_reply.started": "2021-11-13T13:41:26.824092Z"
    },
    "papermill": {
     "duration": 0.221735,
     "end_time": "2021-11-13T13:44:54.557347",
     "exception": false,
     "start_time": "2021-11-13T13:44:54.335612",
     "status": "completed"
    },
    "tags": []
   },
   "outputs": [
    {
     "data": {
      "text/html": [
       "<div>\n",
       "<style scoped>\n",
       "    .dataframe tbody tr th:only-of-type {\n",
       "        vertical-align: middle;\n",
       "    }\n",
       "\n",
       "    .dataframe tbody tr th {\n",
       "        vertical-align: top;\n",
       "    }\n",
       "\n",
       "    .dataframe thead th {\n",
       "        text-align: right;\n",
       "    }\n",
       "</style>\n",
       "<table border=\"1\" class=\"dataframe\">\n",
       "  <thead>\n",
       "    <tr style=\"text-align: right;\">\n",
       "      <th></th>\n",
       "      <th>SalePrice</th>\n",
       "    </tr>\n",
       "    <tr>\n",
       "      <th>LotConfig</th>\n",
       "      <th></th>\n",
       "    </tr>\n",
       "  </thead>\n",
       "  <tbody>\n",
       "    <tr>\n",
       "      <th>CulDSac</th>\n",
       "      <td>160671.022727</td>\n",
       "    </tr>\n",
       "    <tr>\n",
       "      <th>FR2</th>\n",
       "      <td>152088.235294</td>\n",
       "    </tr>\n",
       "    <tr>\n",
       "      <th>FR3</th>\n",
       "      <td>150492.857143</td>\n",
       "    </tr>\n",
       "    <tr>\n",
       "      <th>Corner</th>\n",
       "      <td>149240.636008</td>\n",
       "    </tr>\n",
       "    <tr>\n",
       "      <th>Inside</th>\n",
       "      <td>147762.087670</td>\n",
       "    </tr>\n",
       "  </tbody>\n",
       "</table>\n",
       "</div>"
      ],
      "text/plain": [
       "               SalePrice\n",
       "LotConfig               \n",
       "CulDSac    160671.022727\n",
       "FR2        152088.235294\n",
       "FR3        150492.857143\n",
       "Corner     149240.636008\n",
       "Inside     147762.087670"
      ]
     },
     "execution_count": 64,
     "metadata": {},
     "output_type": "execute_result"
    }
   ],
   "source": [
    "data.groupby('LotConfig').agg({'SalePrice':'mean'}).sort_values('SalePrice',ascending = False)"
   ]
  },
  {
   "cell_type": "markdown",
   "id": "c5bc410f",
   "metadata": {
    "papermill": {
     "duration": 0.207788,
     "end_time": "2021-11-13T13:44:54.979851",
     "exception": false,
     "start_time": "2021-11-13T13:44:54.772063",
     "status": "completed"
    },
    "tags": []
   },
   "source": [
    "- Yuakrıda gördüğümüz gibi **Hedef Değişken** üzerinde ki etkileri birbirlerine çok yakın değerler olduğu için **Ordinal** değer yaparken sadece 2 sınıf haline getireceğiz.\n",
    "- 17... olanlar --> **1**\n",
    "- 21 ve 20 olanlar --> **2** yapacağız."
   ]
  },
  {
   "cell_type": "code",
   "execution_count": 65,
   "id": "06e93291",
   "metadata": {
    "execution": {
     "iopub.execute_input": "2021-11-13T13:44:55.406370Z",
     "iopub.status.busy": "2021-11-13T13:44:55.405652Z",
     "iopub.status.idle": "2021-11-13T13:44:55.408615Z",
     "shell.execute_reply": "2021-11-13T13:44:55.409089Z",
     "shell.execute_reply.started": "2021-11-13T13:41:26.838628Z"
    },
    "papermill": {
     "duration": 0.218727,
     "end_time": "2021-11-13T13:44:55.409220",
     "exception": false,
     "start_time": "2021-11-13T13:44:55.190493",
     "status": "completed"
    },
    "tags": []
   },
   "outputs": [
    {
     "data": {
      "text/plain": [
       "Inside     2133\n",
       "Corner      511\n",
       "CulDSac     176\n",
       "FR2          85\n",
       "FR3          14\n",
       "Name: LotConfig, dtype: int64"
      ]
     },
     "execution_count": 65,
     "metadata": {},
     "output_type": "execute_result"
    }
   ],
   "source": [
    "data['LotConfig'].value_counts()"
   ]
  },
  {
   "cell_type": "code",
   "execution_count": 66,
   "id": "3b094b01",
   "metadata": {
    "execution": {
     "iopub.execute_input": "2021-11-13T13:44:55.827753Z",
     "iopub.status.busy": "2021-11-13T13:44:55.826919Z",
     "iopub.status.idle": "2021-11-13T13:44:55.837640Z",
     "shell.execute_reply": "2021-11-13T13:44:55.838012Z",
     "shell.execute_reply.started": "2021-11-13T13:41:26.850413Z"
    },
    "papermill": {
     "duration": 0.224213,
     "end_time": "2021-11-13T13:44:55.838153",
     "exception": false,
     "start_time": "2021-11-13T13:44:55.613940",
     "status": "completed"
    },
    "tags": []
   },
   "outputs": [
    {
     "data": {
      "text/plain": [
       "1    2729\n",
       "2     190\n",
       "Name: LotConfig, dtype: int64"
      ]
     },
     "execution_count": 66,
     "metadata": {},
     "output_type": "execute_result"
    }
   ],
   "source": [
    "data = data.replace({'LotConfig':{'Inside':1, 'FR2':1, 'Corner':1, 'FR3':2,'CulDSac':2}})\n",
    "\n",
    "data['LotConfig'].value_counts()"
   ]
  },
  {
   "cell_type": "markdown",
   "id": "c058a229",
   "metadata": {
    "papermill": {
     "duration": 0.20591,
     "end_time": "2021-11-13T13:44:56.263608",
     "exception": false,
     "start_time": "2021-11-13T13:44:56.057698",
     "status": "completed"
    },
    "tags": []
   },
   "source": [
    "- **Condition1** Değişkeni, AnaYola ve demiryoluna Yakınlığı ifade eden sınıfları barındırır.\n",
    "- Bu sınıfların, **Hedef Değişken** üzerinde ki etkilerine bakalım"
   ]
  },
  {
   "cell_type": "code",
   "execution_count": 67,
   "id": "246cc246",
   "metadata": {
    "execution": {
     "iopub.execute_input": "2021-11-13T13:44:56.684170Z",
     "iopub.status.busy": "2021-11-13T13:44:56.683374Z",
     "iopub.status.idle": "2021-11-13T13:44:56.686652Z",
     "shell.execute_reply": "2021-11-13T13:44:56.687099Z",
     "shell.execute_reply.started": "2021-11-13T13:41:26.867003Z"
    },
    "papermill": {
     "duration": 0.220008,
     "end_time": "2021-11-13T13:44:56.687236",
     "exception": false,
     "start_time": "2021-11-13T13:44:56.467228",
     "status": "completed"
    },
    "tags": []
   },
   "outputs": [
    {
     "data": {
      "text/html": [
       "<div>\n",
       "<style scoped>\n",
       "    .dataframe tbody tr th:only-of-type {\n",
       "        vertical-align: middle;\n",
       "    }\n",
       "\n",
       "    .dataframe tbody tr th {\n",
       "        vertical-align: top;\n",
       "    }\n",
       "\n",
       "    .dataframe thead th {\n",
       "        text-align: right;\n",
       "    }\n",
       "</style>\n",
       "<table border=\"1\" class=\"dataframe\">\n",
       "  <thead>\n",
       "    <tr style=\"text-align: right;\">\n",
       "      <th></th>\n",
       "      <th>SalePrice</th>\n",
       "    </tr>\n",
       "    <tr>\n",
       "      <th>Condition1</th>\n",
       "      <th></th>\n",
       "    </tr>\n",
       "  </thead>\n",
       "  <tbody>\n",
       "    <tr>\n",
       "      <th>PosA</th>\n",
       "      <td>160750.000000</td>\n",
       "    </tr>\n",
       "    <tr>\n",
       "      <th>PosN</th>\n",
       "      <td>160525.641026</td>\n",
       "    </tr>\n",
       "    <tr>\n",
       "      <th>RRNe</th>\n",
       "      <td>156916.666667</td>\n",
       "    </tr>\n",
       "    <tr>\n",
       "      <th>RRNn</th>\n",
       "      <td>154500.000000</td>\n",
       "    </tr>\n",
       "    <tr>\n",
       "      <th>RRAn</th>\n",
       "      <td>153494.100000</td>\n",
       "    </tr>\n",
       "    <tr>\n",
       "      <th>Norm</th>\n",
       "      <td>149830.428913</td>\n",
       "    </tr>\n",
       "    <tr>\n",
       "      <th>Feedr</th>\n",
       "      <td>139895.036585</td>\n",
       "    </tr>\n",
       "    <tr>\n",
       "      <th>RRAe</th>\n",
       "      <td>139371.428571</td>\n",
       "    </tr>\n",
       "    <tr>\n",
       "      <th>Artery</th>\n",
       "      <td>132602.173913</td>\n",
       "    </tr>\n",
       "  </tbody>\n",
       "</table>\n",
       "</div>"
      ],
      "text/plain": [
       "                SalePrice\n",
       "Condition1               \n",
       "PosA        160750.000000\n",
       "PosN        160525.641026\n",
       "RRNe        156916.666667\n",
       "RRNn        154500.000000\n",
       "RRAn        153494.100000\n",
       "Norm        149830.428913\n",
       "Feedr       139895.036585\n",
       "RRAe        139371.428571\n",
       "Artery      132602.173913"
      ]
     },
     "execution_count": 67,
     "metadata": {},
     "output_type": "execute_result"
    }
   ],
   "source": [
    "data.groupby('Condition1').agg({'SalePrice':'mean'}).sort_values('SalePrice', ascending = False)"
   ]
  },
  {
   "cell_type": "markdown",
   "id": "8d65bfc5",
   "metadata": {
    "papermill": {
     "duration": 0.209454,
     "end_time": "2021-11-13T13:44:57.114742",
     "exception": false,
     "start_time": "2021-11-13T13:44:56.905288",
     "status": "completed"
    },
    "tags": []
   },
   "source": [
    "- **Hedef Değişken** etkileri, birbirine yakın olan sınıfları **Aynı Ordinal** değer yapacağız"
   ]
  },
  {
   "cell_type": "code",
   "execution_count": 68,
   "id": "d24add7e",
   "metadata": {
    "execution": {
     "iopub.execute_input": "2021-11-13T13:44:57.531391Z",
     "iopub.status.busy": "2021-11-13T13:44:57.530631Z",
     "iopub.status.idle": "2021-11-13T13:44:57.533819Z",
     "shell.execute_reply": "2021-11-13T13:44:57.534218Z",
     "shell.execute_reply.started": "2021-11-13T13:41:26.882230Z"
    },
    "papermill": {
     "duration": 0.21472,
     "end_time": "2021-11-13T13:44:57.534366",
     "exception": false,
     "start_time": "2021-11-13T13:44:57.319646",
     "status": "completed"
    },
    "tags": []
   },
   "outputs": [
    {
     "data": {
      "text/plain": [
       "Norm      2511\n",
       "Feedr      164\n",
       "Artery      92\n",
       "RRAn        50\n",
       "PosN        39\n",
       "RRAe        28\n",
       "PosA        20\n",
       "RRNn         9\n",
       "RRNe         6\n",
       "Name: Condition1, dtype: int64"
      ]
     },
     "execution_count": 68,
     "metadata": {},
     "output_type": "execute_result"
    }
   ],
   "source": [
    "data['Condition1'].value_counts()"
   ]
  },
  {
   "cell_type": "code",
   "execution_count": 69,
   "id": "449d1667",
   "metadata": {
    "execution": {
     "iopub.execute_input": "2021-11-13T13:44:57.952889Z",
     "iopub.status.busy": "2021-11-13T13:44:57.952114Z",
     "iopub.status.idle": "2021-11-13T13:44:57.965403Z",
     "shell.execute_reply": "2021-11-13T13:44:57.964960Z",
     "shell.execute_reply.started": "2021-11-13T13:41:26.893073Z"
    },
    "papermill": {
     "duration": 0.22548,
     "end_time": "2021-11-13T13:44:57.965527",
     "exception": false,
     "start_time": "2021-11-13T13:44:57.740047",
     "status": "completed"
    },
    "tags": []
   },
   "outputs": [
    {
     "data": {
      "text/plain": [
       "3    2511\n",
       "2     164\n",
       "1     120\n",
       "4      50\n",
       "6      48\n",
       "7      20\n",
       "5       6\n",
       "Name: Condition1, dtype: int64"
      ]
     },
     "execution_count": 69,
     "metadata": {},
     "output_type": "execute_result"
    }
   ],
   "source": [
    "data = data.replace({'Condition1':{'Artery':1,'RRAe':1,'Feedr':2,'Norm':3,'RRAn':4,'RRNe':5,\n",
    "                                  'RRNn':6,'PosN':6,'PosA':7}})\n",
    "\n",
    "data['Condition1'].value_counts()"
   ]
  },
  {
   "cell_type": "markdown",
   "id": "857ed4db",
   "metadata": {
    "papermill": {
     "duration": 0.365275,
     "end_time": "2021-11-13T13:44:58.607259",
     "exception": false,
     "start_time": "2021-11-13T13:44:58.241984",
     "status": "completed"
    },
    "tags": []
   },
   "source": [
    "- **BldgType** Değişkeni, Konut Tipini ifade eden sınıflardan oluşur.\n",
    "- Bu sınıfların, Hedef Değişken üzerinde ki etkilerine bakalım."
   ]
  },
  {
   "cell_type": "code",
   "execution_count": 70,
   "id": "f6e7d66d",
   "metadata": {
    "execution": {
     "iopub.execute_input": "2021-11-13T13:44:59.094313Z",
     "iopub.status.busy": "2021-11-13T13:44:59.093495Z",
     "iopub.status.idle": "2021-11-13T13:44:59.103518Z",
     "shell.execute_reply": "2021-11-13T13:44:59.102934Z",
     "shell.execute_reply.started": "2021-11-13T13:41:26.910786Z"
    },
    "papermill": {
     "duration": 0.222363,
     "end_time": "2021-11-13T13:44:59.103632",
     "exception": false,
     "start_time": "2021-11-13T13:44:58.881269",
     "status": "completed"
    },
    "tags": []
   },
   "outputs": [
    {
     "data": {
      "text/html": [
       "<div>\n",
       "<style scoped>\n",
       "    .dataframe tbody tr th:only-of-type {\n",
       "        vertical-align: middle;\n",
       "    }\n",
       "\n",
       "    .dataframe tbody tr th {\n",
       "        vertical-align: top;\n",
       "    }\n",
       "\n",
       "    .dataframe thead th {\n",
       "        text-align: right;\n",
       "    }\n",
       "</style>\n",
       "<table border=\"1\" class=\"dataframe\">\n",
       "  <thead>\n",
       "    <tr style=\"text-align: right;\">\n",
       "      <th></th>\n",
       "      <th>SalePrice</th>\n",
       "    </tr>\n",
       "    <tr>\n",
       "      <th>BldgType</th>\n",
       "      <th></th>\n",
       "    </tr>\n",
       "  </thead>\n",
       "  <tbody>\n",
       "    <tr>\n",
       "      <th>TwnhsE</th>\n",
       "      <td>152361.744493</td>\n",
       "    </tr>\n",
       "    <tr>\n",
       "      <th>1Fam</th>\n",
       "      <td>150002.018969</td>\n",
       "    </tr>\n",
       "    <tr>\n",
       "      <th>Twnhs</th>\n",
       "      <td>137601.041667</td>\n",
       "    </tr>\n",
       "    <tr>\n",
       "      <th>Duplex</th>\n",
       "      <td>136815.009174</td>\n",
       "    </tr>\n",
       "    <tr>\n",
       "      <th>2fmCon</th>\n",
       "      <td>133668.548387</td>\n",
       "    </tr>\n",
       "  </tbody>\n",
       "</table>\n",
       "</div>"
      ],
      "text/plain": [
       "              SalePrice\n",
       "BldgType               \n",
       "TwnhsE    152361.744493\n",
       "1Fam      150002.018969\n",
       "Twnhs     137601.041667\n",
       "Duplex    136815.009174\n",
       "2fmCon    133668.548387"
      ]
     },
     "execution_count": 70,
     "metadata": {},
     "output_type": "execute_result"
    }
   ],
   "source": [
    "data.groupby('BldgType').agg({'SalePrice':'mean'}).sort_values('SalePrice', ascending = False)"
   ]
  },
  {
   "cell_type": "code",
   "execution_count": 71,
   "id": "fd38068e",
   "metadata": {
    "execution": {
     "iopub.execute_input": "2021-11-13T13:44:59.534014Z",
     "iopub.status.busy": "2021-11-13T13:44:59.533310Z",
     "iopub.status.idle": "2021-11-13T13:44:59.536359Z",
     "shell.execute_reply": "2021-11-13T13:44:59.536775Z",
     "shell.execute_reply.started": "2021-11-13T13:41:26.924767Z"
    },
    "papermill": {
     "duration": 0.215129,
     "end_time": "2021-11-13T13:44:59.536906",
     "exception": false,
     "start_time": "2021-11-13T13:44:59.321777",
     "status": "completed"
    },
    "tags": []
   },
   "outputs": [
    {
     "data": {
      "text/plain": [
       "1Fam      2425\n",
       "TwnhsE     227\n",
       "Duplex     109\n",
       "Twnhs       96\n",
       "2fmCon      62\n",
       "Name: BldgType, dtype: int64"
      ]
     },
     "execution_count": 71,
     "metadata": {},
     "output_type": "execute_result"
    }
   ],
   "source": [
    "data['BldgType'].value_counts()"
   ]
  },
  {
   "cell_type": "markdown",
   "id": "53a39d01",
   "metadata": {
    "papermill": {
     "duration": 0.209237,
     "end_time": "2021-11-13T13:44:59.954680",
     "exception": false,
     "start_time": "2021-11-13T13:44:59.745443",
     "status": "completed"
    },
    "tags": []
   },
   "source": [
    "- Hedef Değişken etkileri, birbirine yakın olan sınıfları Aynı değer yapacağız"
   ]
  },
  {
   "cell_type": "code",
   "execution_count": 72,
   "id": "68251240",
   "metadata": {
    "execution": {
     "iopub.execute_input": "2021-11-13T13:45:00.383748Z",
     "iopub.status.busy": "2021-11-13T13:45:00.382939Z",
     "iopub.status.idle": "2021-11-13T13:45:00.394155Z",
     "shell.execute_reply": "2021-11-13T13:45:00.393748Z",
     "shell.execute_reply.started": "2021-11-13T13:41:26.937766Z"
    },
    "papermill": {
     "duration": 0.224103,
     "end_time": "2021-11-13T13:45:00.394271",
     "exception": false,
     "start_time": "2021-11-13T13:45:00.170168",
     "status": "completed"
    },
    "tags": []
   },
   "outputs": [
    {
     "data": {
      "text/plain": [
       "3    2652\n",
       "2     205\n",
       "1      62\n",
       "Name: BldgType, dtype: int64"
      ]
     },
     "execution_count": 72,
     "metadata": {},
     "output_type": "execute_result"
    }
   ],
   "source": [
    "data = data.replace({'BldgType': {'2fmCon':1,'Duplex':2,'Twnhs':2,'TwnhsE':3,'1Fam':3}})\n",
    "\n",
    "data['BldgType'].value_counts()"
   ]
  },
  {
   "cell_type": "markdown",
   "id": "71bf4d0c",
   "metadata": {
    "papermill": {
     "duration": 0.206896,
     "end_time": "2021-11-13T13:45:00.807627",
     "exception": false,
     "start_time": "2021-11-13T13:45:00.600731",
     "status": "completed"
    },
    "tags": []
   },
   "source": [
    "- **RoofStyle** Değişkeni, Çatı Stilini ifade eden sınıfların bulunduğu değişkendir.\n",
    "- Bu sınıfların, Hedef Değişken üzerinde ki etkilerine bakalım."
   ]
  },
  {
   "cell_type": "code",
   "execution_count": 73,
   "id": "d93bd956",
   "metadata": {
    "execution": {
     "iopub.execute_input": "2021-11-13T13:45:01.245277Z",
     "iopub.status.busy": "2021-11-13T13:45:01.238894Z",
     "iopub.status.idle": "2021-11-13T13:45:01.249168Z",
     "shell.execute_reply": "2021-11-13T13:45:01.248704Z",
     "shell.execute_reply.started": "2021-11-13T13:41:26.953421Z"
    },
    "papermill": {
     "duration": 0.234344,
     "end_time": "2021-11-13T13:45:01.249315",
     "exception": false,
     "start_time": "2021-11-13T13:45:01.014971",
     "status": "completed"
    },
    "tags": []
   },
   "outputs": [
    {
     "data": {
      "text/html": [
       "<div>\n",
       "<style scoped>\n",
       "    .dataframe tbody tr th:only-of-type {\n",
       "        vertical-align: middle;\n",
       "    }\n",
       "\n",
       "    .dataframe tbody tr th {\n",
       "        vertical-align: top;\n",
       "    }\n",
       "\n",
       "    .dataframe thead th {\n",
       "        text-align: right;\n",
       "    }\n",
       "</style>\n",
       "<table border=\"1\" class=\"dataframe\">\n",
       "  <thead>\n",
       "    <tr style=\"text-align: right;\">\n",
       "      <th></th>\n",
       "      <th>SalePrice</th>\n",
       "    </tr>\n",
       "    <tr>\n",
       "      <th>RoofStyle</th>\n",
       "      <th></th>\n",
       "    </tr>\n",
       "  </thead>\n",
       "  <tbody>\n",
       "    <tr>\n",
       "      <th>Shed</th>\n",
       "      <td>161500.000000</td>\n",
       "    </tr>\n",
       "    <tr>\n",
       "      <th>Flat</th>\n",
       "      <td>158925.000000</td>\n",
       "    </tr>\n",
       "    <tr>\n",
       "      <th>Mansard</th>\n",
       "      <td>155545.454545</td>\n",
       "    </tr>\n",
       "    <tr>\n",
       "      <th>Hip</th>\n",
       "      <td>153415.475499</td>\n",
       "    </tr>\n",
       "    <tr>\n",
       "      <th>Gable</th>\n",
       "      <td>147814.749351</td>\n",
       "    </tr>\n",
       "    <tr>\n",
       "      <th>Gambrel</th>\n",
       "      <td>139545.454545</td>\n",
       "    </tr>\n",
       "  </tbody>\n",
       "</table>\n",
       "</div>"
      ],
      "text/plain": [
       "               SalePrice\n",
       "RoofStyle               \n",
       "Shed       161500.000000\n",
       "Flat       158925.000000\n",
       "Mansard    155545.454545\n",
       "Hip        153415.475499\n",
       "Gable      147814.749351\n",
       "Gambrel    139545.454545"
      ]
     },
     "execution_count": 73,
     "metadata": {},
     "output_type": "execute_result"
    }
   ],
   "source": [
    "data.groupby('RoofStyle').agg({'SalePrice':'mean'}).sort_values('SalePrice', ascending = False)"
   ]
  },
  {
   "cell_type": "code",
   "execution_count": 74,
   "id": "94864e81",
   "metadata": {
    "execution": {
     "iopub.execute_input": "2021-11-13T13:45:01.696167Z",
     "iopub.status.busy": "2021-11-13T13:45:01.695373Z",
     "iopub.status.idle": "2021-11-13T13:45:01.698557Z",
     "shell.execute_reply": "2021-11-13T13:45:01.699072Z",
     "shell.execute_reply.started": "2021-11-13T13:41:26.968417Z"
    },
    "papermill": {
     "duration": 0.225228,
     "end_time": "2021-11-13T13:45:01.699218",
     "exception": false,
     "start_time": "2021-11-13T13:45:01.473990",
     "status": "completed"
    },
    "tags": []
   },
   "outputs": [
    {
     "data": {
      "text/plain": [
       "Gable      2310\n",
       "Hip         551\n",
       "Gambrel      22\n",
       "Flat         20\n",
       "Mansard      11\n",
       "Shed          5\n",
       "Name: RoofStyle, dtype: int64"
      ]
     },
     "execution_count": 74,
     "metadata": {},
     "output_type": "execute_result"
    }
   ],
   "source": [
    "data['RoofStyle'].value_counts()"
   ]
  },
  {
   "cell_type": "code",
   "execution_count": 75,
   "id": "323ee39e",
   "metadata": {
    "execution": {
     "iopub.execute_input": "2021-11-13T13:45:02.126187Z",
     "iopub.status.busy": "2021-11-13T13:45:02.125375Z",
     "iopub.status.idle": "2021-11-13T13:45:02.136434Z",
     "shell.execute_reply": "2021-11-13T13:45:02.136916Z",
     "shell.execute_reply.started": "2021-11-13T13:41:26.979732Z"
    },
    "papermill": {
     "duration": 0.227023,
     "end_time": "2021-11-13T13:45:02.137056",
     "exception": false,
     "start_time": "2021-11-13T13:45:01.910033",
     "status": "completed"
    },
    "tags": []
   },
   "outputs": [
    {
     "data": {
      "text/plain": [
       "2    2310\n",
       "5     551\n",
       "1      22\n",
       "4      20\n",
       "3      11\n",
       "6       5\n",
       "Name: RoofStyle, dtype: int64"
      ]
     },
     "execution_count": 75,
     "metadata": {},
     "output_type": "execute_result"
    }
   ],
   "source": [
    "data = data.replace({'RoofStyle': {'Gambrel':1, 'Gable':2, 'Mansard':3, 'Flat':4, 'Hip':5, 'Shed':6}})\n",
    "\n",
    "data['RoofStyle'].value_counts()"
   ]
  },
  {
   "cell_type": "markdown",
   "id": "8e96c813",
   "metadata": {
    "papermill": {
     "duration": 0.209299,
     "end_time": "2021-11-13T13:45:02.558596",
     "exception": false,
     "start_time": "2021-11-13T13:45:02.349297",
     "status": "completed"
    },
    "tags": []
   },
   "source": [
    "- **RoofMatl** Değişkeni, Çatı Malzemesini ifade eden sınıflardan oluşur"
   ]
  },
  {
   "cell_type": "code",
   "execution_count": 76,
   "id": "753fdfed",
   "metadata": {
    "execution": {
     "iopub.execute_input": "2021-11-13T13:45:02.996514Z",
     "iopub.status.busy": "2021-11-13T13:45:02.995459Z",
     "iopub.status.idle": "2021-11-13T13:45:02.999652Z",
     "shell.execute_reply": "2021-11-13T13:45:02.999183Z",
     "shell.execute_reply.started": "2021-11-13T13:41:26.998126Z"
    },
    "papermill": {
     "duration": 0.226625,
     "end_time": "2021-11-13T13:45:02.999775",
     "exception": false,
     "start_time": "2021-11-13T13:45:02.773150",
     "status": "completed"
    },
    "tags": []
   },
   "outputs": [
    {
     "data": {
      "text/html": [
       "<div>\n",
       "<style scoped>\n",
       "    .dataframe tbody tr th:only-of-type {\n",
       "        vertical-align: middle;\n",
       "    }\n",
       "\n",
       "    .dataframe tbody tr th {\n",
       "        vertical-align: top;\n",
       "    }\n",
       "\n",
       "    .dataframe thead th {\n",
       "        text-align: right;\n",
       "    }\n",
       "</style>\n",
       "<table border=\"1\" class=\"dataframe\">\n",
       "  <thead>\n",
       "    <tr style=\"text-align: right;\">\n",
       "      <th></th>\n",
       "      <th>SalePrice</th>\n",
       "    </tr>\n",
       "    <tr>\n",
       "      <th>RoofMatl</th>\n",
       "      <th></th>\n",
       "    </tr>\n",
       "  </thead>\n",
       "  <tbody>\n",
       "    <tr>\n",
       "      <th>Membran</th>\n",
       "      <td>197500.000000</td>\n",
       "    </tr>\n",
       "    <tr>\n",
       "      <th>WdShngl</th>\n",
       "      <td>185142.857143</td>\n",
       "    </tr>\n",
       "    <tr>\n",
       "      <th>Metal</th>\n",
       "      <td>180000.000000</td>\n",
       "    </tr>\n",
       "    <tr>\n",
       "      <th>WdShake</th>\n",
       "      <td>171111.111111</td>\n",
       "    </tr>\n",
       "    <tr>\n",
       "      <th>ClyTile</th>\n",
       "      <td>160000.000000</td>\n",
       "    </tr>\n",
       "    <tr>\n",
       "      <th>Tar&amp;Grv</th>\n",
       "      <td>150804.347826</td>\n",
       "    </tr>\n",
       "    <tr>\n",
       "      <th>CompShg</th>\n",
       "      <td>148738.525035</td>\n",
       "    </tr>\n",
       "    <tr>\n",
       "      <th>Roll</th>\n",
       "      <td>137000.000000</td>\n",
       "    </tr>\n",
       "  </tbody>\n",
       "</table>\n",
       "</div>"
      ],
      "text/plain": [
       "              SalePrice\n",
       "RoofMatl               \n",
       "Membran   197500.000000\n",
       "WdShngl   185142.857143\n",
       "Metal     180000.000000\n",
       "WdShake   171111.111111\n",
       "ClyTile   160000.000000\n",
       "Tar&Grv   150804.347826\n",
       "CompShg   148738.525035\n",
       "Roll      137000.000000"
      ]
     },
     "execution_count": 76,
     "metadata": {},
     "output_type": "execute_result"
    }
   ],
   "source": [
    "data.groupby('RoofMatl').agg({'SalePrice':'mean'}).sort_values('SalePrice', ascending = False)"
   ]
  },
  {
   "cell_type": "code",
   "execution_count": 77,
   "id": "cea78014",
   "metadata": {
    "execution": {
     "iopub.execute_input": "2021-11-13T13:45:03.425421Z",
     "iopub.status.busy": "2021-11-13T13:45:03.424626Z",
     "iopub.status.idle": "2021-11-13T13:45:03.436181Z",
     "shell.execute_reply": "2021-11-13T13:45:03.435769Z",
     "shell.execute_reply.started": "2021-11-13T13:41:27.014366Z"
    },
    "papermill": {
     "duration": 0.224146,
     "end_time": "2021-11-13T13:45:03.436297",
     "exception": false,
     "start_time": "2021-11-13T13:45:03.212151",
     "status": "completed"
    },
    "tags": []
   },
   "outputs": [
    {
     "data": {
      "text/plain": [
       "3    2900\n",
       "4      10\n",
       "5       7\n",
       "2       1\n",
       "1       1\n",
       "Name: RoofMatl, dtype: int64"
      ]
     },
     "execution_count": 77,
     "metadata": {},
     "output_type": "execute_result"
    }
   ],
   "source": [
    "data = data.replace({'RoofMatl': {'Roll':1, 'ClyTile':2, 'CompShg':3, 'Metal':3, 'Tar&Grv':3, 'WdShake':4, 'Membran':4, 'WdShngl':5}})\n",
    "\n",
    "data['RoofMatl'].value_counts()"
   ]
  },
  {
   "cell_type": "markdown",
   "id": "691d88e3",
   "metadata": {
    "papermill": {
     "duration": 0.209516,
     "end_time": "2021-11-13T13:45:03.853226",
     "exception": false,
     "start_time": "2021-11-13T13:45:03.643710",
     "status": "completed"
    },
    "tags": []
   },
   "source": [
    "- **ExterQual** Değişkeni, Dış Malzeme kalitesini ifade eden sınıfları barındırır."
   ]
  },
  {
   "cell_type": "code",
   "execution_count": 78,
   "id": "719935c3",
   "metadata": {
    "execution": {
     "iopub.execute_input": "2021-11-13T13:45:04.278810Z",
     "iopub.status.busy": "2021-11-13T13:45:04.277968Z",
     "iopub.status.idle": "2021-11-13T13:45:04.287835Z",
     "shell.execute_reply": "2021-11-13T13:45:04.288606Z",
     "shell.execute_reply.started": "2021-11-13T13:41:27.033330Z"
    },
    "papermill": {
     "duration": 0.224496,
     "end_time": "2021-11-13T13:45:04.288768",
     "exception": false,
     "start_time": "2021-11-13T13:45:04.064272",
     "status": "completed"
    },
    "tags": []
   },
   "outputs": [
    {
     "data": {
      "text/html": [
       "<div>\n",
       "<style scoped>\n",
       "    .dataframe tbody tr th:only-of-type {\n",
       "        vertical-align: middle;\n",
       "    }\n",
       "\n",
       "    .dataframe tbody tr th {\n",
       "        vertical-align: top;\n",
       "    }\n",
       "\n",
       "    .dataframe thead th {\n",
       "        text-align: right;\n",
       "    }\n",
       "</style>\n",
       "<table border=\"1\" class=\"dataframe\">\n",
       "  <thead>\n",
       "    <tr style=\"text-align: right;\">\n",
       "      <th></th>\n",
       "      <th>SalePrice</th>\n",
       "    </tr>\n",
       "    <tr>\n",
       "      <th>ExterQual</th>\n",
       "      <th></th>\n",
       "    </tr>\n",
       "  </thead>\n",
       "  <tbody>\n",
       "    <tr>\n",
       "      <th>Ex</th>\n",
       "      <td>166982.710280</td>\n",
       "    </tr>\n",
       "    <tr>\n",
       "      <th>Gd</th>\n",
       "      <td>163634.449438</td>\n",
       "    </tr>\n",
       "    <tr>\n",
       "      <th>TA</th>\n",
       "      <td>140442.952725</td>\n",
       "    </tr>\n",
       "    <tr>\n",
       "      <th>Fa</th>\n",
       "      <td>119122.657143</td>\n",
       "    </tr>\n",
       "  </tbody>\n",
       "</table>\n",
       "</div>"
      ],
      "text/plain": [
       "               SalePrice\n",
       "ExterQual               \n",
       "Ex         166982.710280\n",
       "Gd         163634.449438\n",
       "TA         140442.952725\n",
       "Fa         119122.657143"
      ]
     },
     "execution_count": 78,
     "metadata": {},
     "output_type": "execute_result"
    }
   ],
   "source": [
    "data.groupby('ExterQual').agg({'SalePrice':'mean'}).sort_values('SalePrice', ascending = False)"
   ]
  },
  {
   "cell_type": "code",
   "execution_count": 79,
   "id": "48a43d91",
   "metadata": {
    "execution": {
     "iopub.execute_input": "2021-11-13T13:45:04.732293Z",
     "iopub.status.busy": "2021-11-13T13:45:04.731605Z",
     "iopub.status.idle": "2021-11-13T13:45:04.734630Z",
     "shell.execute_reply": "2021-11-13T13:45:04.735196Z",
     "shell.execute_reply.started": "2021-11-13T13:41:27.048267Z"
    },
    "papermill": {
     "duration": 0.218287,
     "end_time": "2021-11-13T13:45:04.735362",
     "exception": false,
     "start_time": "2021-11-13T13:45:04.517075",
     "status": "completed"
    },
    "tags": []
   },
   "outputs": [
    {
     "data": {
      "text/plain": [
       "TA    1798\n",
       "Gd     979\n",
       "Ex     107\n",
       "Fa      35\n",
       "Name: ExterQual, dtype: int64"
      ]
     },
     "execution_count": 79,
     "metadata": {},
     "output_type": "execute_result"
    }
   ],
   "source": [
    "data['ExterQual'].value_counts()"
   ]
  },
  {
   "cell_type": "code",
   "execution_count": 80,
   "id": "64c41d87",
   "metadata": {
    "execution": {
     "iopub.execute_input": "2021-11-13T13:45:05.161793Z",
     "iopub.status.busy": "2021-11-13T13:45:05.161012Z",
     "iopub.status.idle": "2021-11-13T13:45:05.172655Z",
     "shell.execute_reply": "2021-11-13T13:45:05.172205Z",
     "shell.execute_reply.started": "2021-11-13T13:41:27.061124Z"
    },
    "papermill": {
     "duration": 0.228686,
     "end_time": "2021-11-13T13:45:05.172779",
     "exception": false,
     "start_time": "2021-11-13T13:45:04.944093",
     "status": "completed"
    },
    "tags": []
   },
   "outputs": [
    {
     "data": {
      "text/plain": [
       "2    1798\n",
       "3     979\n",
       "4     107\n",
       "1      35\n",
       "Name: ExterQual, dtype: int64"
      ]
     },
     "execution_count": 80,
     "metadata": {},
     "output_type": "execute_result"
    }
   ],
   "source": [
    "data = data.replace({'ExterQual': {'Fa':1, 'TA':2, 'Gd':3, 'Ex':4}})\n",
    "\n",
    "data['ExterQual'].value_counts()"
   ]
  },
  {
   "cell_type": "markdown",
   "id": "45943a41",
   "metadata": {
    "papermill": {
     "duration": 0.219789,
     "end_time": "2021-11-13T13:45:05.603367",
     "exception": false,
     "start_time": "2021-11-13T13:45:05.383578",
     "status": "completed"
    },
    "tags": []
   },
   "source": [
    "- **ExterCond** Değişkeni,Malzemenin dış cephedeki mevcut durumunu ifade eden sınıfları barındırır."
   ]
  },
  {
   "cell_type": "code",
   "execution_count": 81,
   "id": "87eac842",
   "metadata": {
    "execution": {
     "iopub.execute_input": "2021-11-13T13:45:06.038594Z",
     "iopub.status.busy": "2021-11-13T13:45:06.037794Z",
     "iopub.status.idle": "2021-11-13T13:45:06.040828Z",
     "shell.execute_reply": "2021-11-13T13:45:06.041291Z",
     "shell.execute_reply.started": "2021-11-13T13:41:27.078569Z"
    },
    "papermill": {
     "duration": 0.226391,
     "end_time": "2021-11-13T13:45:06.041441",
     "exception": false,
     "start_time": "2021-11-13T13:45:05.815050",
     "status": "completed"
    },
    "tags": []
   },
   "outputs": [
    {
     "data": {
      "text/html": [
       "<div>\n",
       "<style scoped>\n",
       "    .dataframe tbody tr th:only-of-type {\n",
       "        vertical-align: middle;\n",
       "    }\n",
       "\n",
       "    .dataframe tbody tr th {\n",
       "        vertical-align: top;\n",
       "    }\n",
       "\n",
       "    .dataframe thead th {\n",
       "        text-align: right;\n",
       "    }\n",
       "</style>\n",
       "<table border=\"1\" class=\"dataframe\">\n",
       "  <thead>\n",
       "    <tr style=\"text-align: right;\">\n",
       "      <th></th>\n",
       "      <th>SalePrice</th>\n",
       "    </tr>\n",
       "    <tr>\n",
       "      <th>ExterCond</th>\n",
       "      <th></th>\n",
       "    </tr>\n",
       "  </thead>\n",
       "  <tbody>\n",
       "    <tr>\n",
       "      <th>TA</th>\n",
       "      <td>149971.831757</td>\n",
       "    </tr>\n",
       "    <tr>\n",
       "      <th>Gd</th>\n",
       "      <td>146143.227425</td>\n",
       "    </tr>\n",
       "    <tr>\n",
       "      <th>Ex</th>\n",
       "      <td>144708.333333</td>\n",
       "    </tr>\n",
       "    <tr>\n",
       "      <th>Fa</th>\n",
       "      <td>124368.119403</td>\n",
       "    </tr>\n",
       "    <tr>\n",
       "      <th>Po</th>\n",
       "      <td>118833.333333</td>\n",
       "    </tr>\n",
       "  </tbody>\n",
       "</table>\n",
       "</div>"
      ],
      "text/plain": [
       "               SalePrice\n",
       "ExterCond               \n",
       "TA         149971.831757\n",
       "Gd         146143.227425\n",
       "Ex         144708.333333\n",
       "Fa         124368.119403\n",
       "Po         118833.333333"
      ]
     },
     "execution_count": 81,
     "metadata": {},
     "output_type": "execute_result"
    }
   ],
   "source": [
    "data.groupby('ExterCond').agg({'SalePrice':'mean'}).sort_values('SalePrice', ascending = False)"
   ]
  },
  {
   "cell_type": "code",
   "execution_count": 82,
   "id": "a5bff911",
   "metadata": {
    "execution": {
     "iopub.execute_input": "2021-11-13T13:45:06.483744Z",
     "iopub.status.busy": "2021-11-13T13:45:06.483009Z",
     "iopub.status.idle": "2021-11-13T13:45:06.486213Z",
     "shell.execute_reply": "2021-11-13T13:45:06.486612Z",
     "shell.execute_reply.started": "2021-11-13T13:41:27.093826Z"
    },
    "papermill": {
     "duration": 0.221444,
     "end_time": "2021-11-13T13:45:06.486751",
     "exception": false,
     "start_time": "2021-11-13T13:45:06.265307",
     "status": "completed"
    },
    "tags": []
   },
   "outputs": [
    {
     "data": {
      "text/plain": [
       "TA    2538\n",
       "Gd     299\n",
       "Fa      67\n",
       "Ex      12\n",
       "Po       3\n",
       "Name: ExterCond, dtype: int64"
      ]
     },
     "execution_count": 82,
     "metadata": {},
     "output_type": "execute_result"
    }
   ],
   "source": [
    "data['ExterCond'].value_counts()"
   ]
  },
  {
   "cell_type": "code",
   "execution_count": 83,
   "id": "e7ab4402",
   "metadata": {
    "execution": {
     "iopub.execute_input": "2021-11-13T13:45:06.911095Z",
     "iopub.status.busy": "2021-11-13T13:45:06.910238Z",
     "iopub.status.idle": "2021-11-13T13:45:06.921588Z",
     "shell.execute_reply": "2021-11-13T13:45:06.921112Z",
     "shell.execute_reply.started": "2021-11-13T13:41:27.104936Z"
    },
    "papermill": {
     "duration": 0.226177,
     "end_time": "2021-11-13T13:45:06.921797",
     "exception": false,
     "start_time": "2021-11-13T13:45:06.695620",
     "status": "completed"
    },
    "tags": []
   },
   "outputs": [
    {
     "data": {
      "text/plain": [
       "4    2538\n",
       "3     299\n",
       "2      67\n",
       "5      12\n",
       "1       3\n",
       "Name: ExterCond, dtype: int64"
      ]
     },
     "execution_count": 83,
     "metadata": {},
     "output_type": "execute_result"
    }
   ],
   "source": [
    "data = data.replace({'ExterCond': {'Po':1, 'Fa':2, 'Gd':3, 'TA':4, 'Ex':5}})\n",
    "\n",
    "data['ExterCond'].value_counts()"
   ]
  },
  {
   "cell_type": "markdown",
   "id": "43ddcd48",
   "metadata": {
    "papermill": {
     "duration": 0.209381,
     "end_time": "2021-11-13T13:45:07.342030",
     "exception": false,
     "start_time": "2021-11-13T13:45:07.132649",
     "status": "completed"
    },
    "tags": []
   },
   "source": [
    "- **BsmtQual** Değişkeni, Bodrum Yükseliğini ifade eden sınıfları barındırır"
   ]
  },
  {
   "cell_type": "code",
   "execution_count": 84,
   "id": "d49d6bfc",
   "metadata": {
    "execution": {
     "iopub.execute_input": "2021-11-13T13:45:07.778543Z",
     "iopub.status.busy": "2021-11-13T13:45:07.777610Z",
     "iopub.status.idle": "2021-11-13T13:45:07.786921Z",
     "shell.execute_reply": "2021-11-13T13:45:07.787431Z",
     "shell.execute_reply.started": "2021-11-13T13:41:27.120700Z"
    },
    "papermill": {
     "duration": 0.235418,
     "end_time": "2021-11-13T13:45:07.787598",
     "exception": false,
     "start_time": "2021-11-13T13:45:07.552180",
     "status": "completed"
    },
    "tags": []
   },
   "outputs": [
    {
     "data": {
      "text/html": [
       "<div>\n",
       "<style scoped>\n",
       "    .dataframe tbody tr th:only-of-type {\n",
       "        vertical-align: middle;\n",
       "    }\n",
       "\n",
       "    .dataframe tbody tr th {\n",
       "        vertical-align: top;\n",
       "    }\n",
       "\n",
       "    .dataframe thead th {\n",
       "        text-align: right;\n",
       "    }\n",
       "</style>\n",
       "<table border=\"1\" class=\"dataframe\">\n",
       "  <thead>\n",
       "    <tr style=\"text-align: right;\">\n",
       "      <th></th>\n",
       "      <th>SalePrice</th>\n",
       "    </tr>\n",
       "    <tr>\n",
       "      <th>BsmtQual</th>\n",
       "      <th></th>\n",
       "    </tr>\n",
       "  </thead>\n",
       "  <tbody>\n",
       "    <tr>\n",
       "      <th>Ex</th>\n",
       "      <td>165251.360465</td>\n",
       "    </tr>\n",
       "    <tr>\n",
       "      <th>Gd</th>\n",
       "      <td>159524.152192</td>\n",
       "    </tr>\n",
       "    <tr>\n",
       "      <th>TA</th>\n",
       "      <td>137679.051320</td>\n",
       "    </tr>\n",
       "    <tr>\n",
       "      <th>Fa</th>\n",
       "      <td>130195.693182</td>\n",
       "    </tr>\n",
       "  </tbody>\n",
       "</table>\n",
       "</div>"
      ],
      "text/plain": [
       "              SalePrice\n",
       "BsmtQual               \n",
       "Ex        165251.360465\n",
       "Gd        159524.152192\n",
       "TA        137679.051320\n",
       "Fa        130195.693182"
      ]
     },
     "execution_count": 84,
     "metadata": {},
     "output_type": "execute_result"
    }
   ],
   "source": [
    "data.groupby('BsmtQual').agg({'SalePrice':'mean'}).sort_values('SalePrice', ascending = False)"
   ]
  },
  {
   "cell_type": "code",
   "execution_count": 85,
   "id": "0a8b4b40",
   "metadata": {
    "execution": {
     "iopub.execute_input": "2021-11-13T13:45:08.231670Z",
     "iopub.status.busy": "2021-11-13T13:45:08.230938Z",
     "iopub.status.idle": "2021-11-13T13:45:08.234382Z",
     "shell.execute_reply": "2021-11-13T13:45:08.233958Z",
     "shell.execute_reply.started": "2021-11-13T13:41:27.136492Z"
    },
    "papermill": {
     "duration": 0.228767,
     "end_time": "2021-11-13T13:45:08.234498",
     "exception": false,
     "start_time": "2021-11-13T13:45:08.005731",
     "status": "completed"
    },
    "tags": []
   },
   "outputs": [
    {
     "data": {
      "text/plain": [
       "TA    1364\n",
       "Gd    1209\n",
       "Ex     258\n",
       "Fa      88\n",
       "Name: BsmtQual, dtype: int64"
      ]
     },
     "execution_count": 85,
     "metadata": {},
     "output_type": "execute_result"
    }
   ],
   "source": [
    "data['BsmtQual'].value_counts()"
   ]
  },
  {
   "cell_type": "code",
   "execution_count": 86,
   "id": "adf90a57",
   "metadata": {
    "execution": {
     "iopub.execute_input": "2021-11-13T13:45:08.662313Z",
     "iopub.status.busy": "2021-11-13T13:45:08.661545Z",
     "iopub.status.idle": "2021-11-13T13:45:08.672080Z",
     "shell.execute_reply": "2021-11-13T13:45:08.671661Z",
     "shell.execute_reply.started": "2021-11-13T13:41:27.146026Z"
    },
    "papermill": {
     "duration": 0.224735,
     "end_time": "2021-11-13T13:45:08.672194",
     "exception": false,
     "start_time": "2021-11-13T13:45:08.447459",
     "status": "completed"
    },
    "tags": []
   },
   "outputs": [
    {
     "data": {
      "text/plain": [
       "2    1364\n",
       "3    1209\n",
       "4     258\n",
       "1      88\n",
       "Name: BsmtQual, dtype: int64"
      ]
     },
     "execution_count": 86,
     "metadata": {},
     "output_type": "execute_result"
    }
   ],
   "source": [
    "data = data.replace({'BsmtQual': {'Fa':1, 'TA':2, 'Gd':3, 'Ex':4}})\n",
    "\n",
    "data['BsmtQual'].value_counts()"
   ]
  },
  {
   "cell_type": "markdown",
   "id": "e81af18d",
   "metadata": {
    "papermill": {
     "duration": 0.275378,
     "end_time": "2021-11-13T13:45:09.158820",
     "exception": false,
     "start_time": "2021-11-13T13:45:08.883442",
     "status": "completed"
    },
    "tags": []
   },
   "source": [
    "- **BsmtCond** Değişkeni,"
   ]
  },
  {
   "cell_type": "code",
   "execution_count": 87,
   "id": "ad61dc43",
   "metadata": {
    "execution": {
     "iopub.execute_input": "2021-11-13T13:45:09.825635Z",
     "iopub.status.busy": "2021-11-13T13:45:09.824781Z",
     "iopub.status.idle": "2021-11-13T13:45:09.835013Z",
     "shell.execute_reply": "2021-11-13T13:45:09.834557Z",
     "shell.execute_reply.started": "2021-11-13T13:41:27.168469Z"
    },
    "papermill": {
     "duration": 0.281459,
     "end_time": "2021-11-13T13:45:09.835130",
     "exception": false,
     "start_time": "2021-11-13T13:45:09.553671",
     "status": "completed"
    },
    "tags": []
   },
   "outputs": [
    {
     "data": {
      "text/html": [
       "<div>\n",
       "<style scoped>\n",
       "    .dataframe tbody tr th:only-of-type {\n",
       "        vertical-align: middle;\n",
       "    }\n",
       "\n",
       "    .dataframe tbody tr th {\n",
       "        vertical-align: top;\n",
       "    }\n",
       "\n",
       "    .dataframe thead th {\n",
       "        text-align: right;\n",
       "    }\n",
       "</style>\n",
       "<table border=\"1\" class=\"dataframe\">\n",
       "  <thead>\n",
       "    <tr style=\"text-align: right;\">\n",
       "      <th></th>\n",
       "      <th>SalePrice</th>\n",
       "    </tr>\n",
       "    <tr>\n",
       "      <th>BsmtCond</th>\n",
       "      <th></th>\n",
       "    </tr>\n",
       "  </thead>\n",
       "  <tbody>\n",
       "    <tr>\n",
       "      <th>Gd</th>\n",
       "      <td>160102.737705</td>\n",
       "    </tr>\n",
       "    <tr>\n",
       "      <th>TA</th>\n",
       "      <td>149181.552827</td>\n",
       "    </tr>\n",
       "    <tr>\n",
       "      <th>Fa</th>\n",
       "      <td>131446.634615</td>\n",
       "    </tr>\n",
       "    <tr>\n",
       "      <th>Po</th>\n",
       "      <td>109600.000000</td>\n",
       "    </tr>\n",
       "  </tbody>\n",
       "</table>\n",
       "</div>"
      ],
      "text/plain": [
       "              SalePrice\n",
       "BsmtCond               \n",
       "Gd        160102.737705\n",
       "TA        149181.552827\n",
       "Fa        131446.634615\n",
       "Po        109600.000000"
      ]
     },
     "execution_count": 87,
     "metadata": {},
     "output_type": "execute_result"
    }
   ],
   "source": [
    "data.groupby('BsmtCond').agg({'SalePrice':'mean'}).sort_values('SalePrice', ascending = False)"
   ]
  },
  {
   "cell_type": "code",
   "execution_count": 88,
   "id": "9df681df",
   "metadata": {
    "execution": {
     "iopub.execute_input": "2021-11-13T13:45:10.267807Z",
     "iopub.status.busy": "2021-11-13T13:45:10.266929Z",
     "iopub.status.idle": "2021-11-13T13:45:10.270212Z",
     "shell.execute_reply": "2021-11-13T13:45:10.270805Z",
     "shell.execute_reply.started": "2021-11-13T13:41:27.184288Z"
    },
    "papermill": {
     "duration": 0.222579,
     "end_time": "2021-11-13T13:45:10.270951",
     "exception": false,
     "start_time": "2021-11-13T13:45:10.048372",
     "status": "completed"
    },
    "tags": []
   },
   "outputs": [
    {
     "data": {
      "text/plain": [
       "TA    2688\n",
       "Gd     122\n",
       "Fa     104\n",
       "Po       5\n",
       "Name: BsmtCond, dtype: int64"
      ]
     },
     "execution_count": 88,
     "metadata": {},
     "output_type": "execute_result"
    }
   ],
   "source": [
    "data['BsmtCond'].value_counts()"
   ]
  },
  {
   "cell_type": "code",
   "execution_count": 89,
   "id": "622d3665",
   "metadata": {
    "execution": {
     "iopub.execute_input": "2021-11-13T13:45:10.707537Z",
     "iopub.status.busy": "2021-11-13T13:45:10.706670Z",
     "iopub.status.idle": "2021-11-13T13:45:10.717512Z",
     "shell.execute_reply": "2021-11-13T13:45:10.717057Z",
     "shell.execute_reply.started": "2021-11-13T13:41:27.194882Z"
    },
    "papermill": {
     "duration": 0.234447,
     "end_time": "2021-11-13T13:45:10.717635",
     "exception": false,
     "start_time": "2021-11-13T13:45:10.483188",
     "status": "completed"
    },
    "tags": []
   },
   "outputs": [
    {
     "data": {
      "text/plain": [
       "3    2688\n",
       "4     122\n",
       "2     104\n",
       "1       5\n",
       "Name: BsmtCond, dtype: int64"
      ]
     },
     "execution_count": 89,
     "metadata": {},
     "output_type": "execute_result"
    }
   ],
   "source": [
    "data = data.replace({'BsmtCond': {'Po':1, 'Fa':2, 'TA':3, 'Gd':4}})\n",
    "\n",
    "data['BsmtCond'].value_counts()"
   ]
  },
  {
   "cell_type": "markdown",
   "id": "e2f9da0a",
   "metadata": {
    "papermill": {
     "duration": 0.221767,
     "end_time": "2021-11-13T13:45:11.153591",
     "exception": false,
     "start_time": "2021-11-13T13:45:10.931824",
     "status": "completed"
    },
    "tags": []
   },
   "source": [
    "- **BsmtFinType1** Değişkeni, Bitmiş Bodrum Alanının kalitesini ifade eden sınfları barındırır."
   ]
  },
  {
   "cell_type": "code",
   "execution_count": 90,
   "id": "922a1095",
   "metadata": {
    "execution": {
     "iopub.execute_input": "2021-11-13T13:45:11.585422Z",
     "iopub.status.busy": "2021-11-13T13:45:11.584582Z",
     "iopub.status.idle": "2021-11-13T13:45:11.594487Z",
     "shell.execute_reply": "2021-11-13T13:45:11.594003Z",
     "shell.execute_reply.started": "2021-11-13T13:41:27.211062Z"
    },
    "papermill": {
     "duration": 0.227447,
     "end_time": "2021-11-13T13:45:11.594616",
     "exception": false,
     "start_time": "2021-11-13T13:45:11.367169",
     "status": "completed"
    },
    "tags": []
   },
   "outputs": [
    {
     "data": {
      "text/html": [
       "<div>\n",
       "<style scoped>\n",
       "    .dataframe tbody tr th:only-of-type {\n",
       "        vertical-align: middle;\n",
       "    }\n",
       "\n",
       "    .dataframe tbody tr th {\n",
       "        vertical-align: top;\n",
       "    }\n",
       "\n",
       "    .dataframe thead th {\n",
       "        text-align: right;\n",
       "    }\n",
       "</style>\n",
       "<table border=\"1\" class=\"dataframe\">\n",
       "  <thead>\n",
       "    <tr style=\"text-align: right;\">\n",
       "      <th></th>\n",
       "      <th>SalePrice</th>\n",
       "    </tr>\n",
       "    <tr>\n",
       "      <th>BsmtFinType1</th>\n",
       "      <th></th>\n",
       "    </tr>\n",
       "  </thead>\n",
       "  <tbody>\n",
       "    <tr>\n",
       "      <th>GLQ</th>\n",
       "      <td>160778.698469</td>\n",
       "    </tr>\n",
       "    <tr>\n",
       "      <th>ALQ</th>\n",
       "      <td>147007.284382</td>\n",
       "    </tr>\n",
       "    <tr>\n",
       "      <th>Unf</th>\n",
       "      <td>144644.517204</td>\n",
       "    </tr>\n",
       "    <tr>\n",
       "      <th>LwQ</th>\n",
       "      <td>142167.207792</td>\n",
       "    </tr>\n",
       "    <tr>\n",
       "      <th>BLQ</th>\n",
       "      <td>141826.992565</td>\n",
       "    </tr>\n",
       "    <tr>\n",
       "      <th>Rec</th>\n",
       "      <td>141038.701389</td>\n",
       "    </tr>\n",
       "  </tbody>\n",
       "</table>\n",
       "</div>"
      ],
      "text/plain": [
       "                  SalePrice\n",
       "BsmtFinType1               \n",
       "GLQ           160778.698469\n",
       "ALQ           147007.284382\n",
       "Unf           144644.517204\n",
       "LwQ           142167.207792\n",
       "BLQ           141826.992565\n",
       "Rec           141038.701389"
      ]
     },
     "execution_count": 90,
     "metadata": {},
     "output_type": "execute_result"
    }
   ],
   "source": [
    "data.groupby('BsmtFinType1').agg({'SalePrice':'mean'}).sort_values('SalePrice', ascending = False)"
   ]
  },
  {
   "cell_type": "code",
   "execution_count": 91,
   "id": "6e5b2d13",
   "metadata": {
    "execution": {
     "iopub.execute_input": "2021-11-13T13:45:12.038006Z",
     "iopub.status.busy": "2021-11-13T13:45:12.037266Z",
     "iopub.status.idle": "2021-11-13T13:45:12.041052Z",
     "shell.execute_reply": "2021-11-13T13:45:12.040615Z",
     "shell.execute_reply.started": "2021-11-13T13:41:27.225499Z"
    },
    "papermill": {
     "duration": 0.228099,
     "end_time": "2021-11-13T13:45:12.041162",
     "exception": false,
     "start_time": "2021-11-13T13:45:11.813063",
     "status": "completed"
    },
    "tags": []
   },
   "outputs": [
    {
     "data": {
      "text/plain": [
       "Unf    930\n",
       "GLQ    849\n",
       "ALQ    429\n",
       "Rec    288\n",
       "BLQ    269\n",
       "LwQ    154\n",
       "Name: BsmtFinType1, dtype: int64"
      ]
     },
     "execution_count": 91,
     "metadata": {},
     "output_type": "execute_result"
    }
   ],
   "source": [
    "data['BsmtFinType1'].value_counts()"
   ]
  },
  {
   "cell_type": "markdown",
   "id": "a917793e",
   "metadata": {
    "papermill": {
     "duration": 0.219474,
     "end_time": "2021-11-13T13:45:12.474691",
     "exception": false,
     "start_time": "2021-11-13T13:45:12.255217",
     "status": "completed"
    },
    "tags": []
   },
   "source": [
    "- **BsmtFinType1** değişkenin sınıflarının , **Hedef Değişkene** etkisi yakın değer de olanları **Aynı Ordinal** değer yapıyoruz."
   ]
  },
  {
   "cell_type": "code",
   "execution_count": 92,
   "id": "8f700d1e",
   "metadata": {
    "execution": {
     "iopub.execute_input": "2021-11-13T13:45:12.903439Z",
     "iopub.status.busy": "2021-11-13T13:45:12.902650Z",
     "iopub.status.idle": "2021-11-13T13:45:12.914301Z",
     "shell.execute_reply": "2021-11-13T13:45:12.913900Z",
     "shell.execute_reply.started": "2021-11-13T13:41:27.237212Z"
    },
    "papermill": {
     "duration": 0.228425,
     "end_time": "2021-11-13T13:45:12.914451",
     "exception": false,
     "start_time": "2021-11-13T13:45:12.686026",
     "status": "completed"
    },
    "tags": []
   },
   "outputs": [
    {
     "data": {
      "text/plain": [
       "2    1359\n",
       "3     849\n",
       "1     711\n",
       "Name: BsmtFinType1, dtype: int64"
      ]
     },
     "execution_count": 92,
     "metadata": {},
     "output_type": "execute_result"
    }
   ],
   "source": [
    "data = data.replace({'BsmtFinType1': {'Rec':1, 'BLQ':1, 'LwQ':1, 'ALQ':2, 'Unf':2, 'GLQ':3}})\n",
    "\n",
    "data['BsmtFinType1'].value_counts()"
   ]
  },
  {
   "cell_type": "markdown",
   "id": "73e88600",
   "metadata": {
    "papermill": {
     "duration": 0.211959,
     "end_time": "2021-11-13T13:45:13.339890",
     "exception": false,
     "start_time": "2021-11-13T13:45:13.127931",
     "status": "completed"
    },
    "tags": []
   },
   "source": [
    "- **BsmtFinType2** Değişkeni, Bitmiş İkinci alanın Kalitesini ifade eden sınıfları içerir."
   ]
  },
  {
   "cell_type": "code",
   "execution_count": 93,
   "id": "150d8aa2",
   "metadata": {
    "execution": {
     "iopub.execute_input": "2021-11-13T13:45:13.773695Z",
     "iopub.status.busy": "2021-11-13T13:45:13.773068Z",
     "iopub.status.idle": "2021-11-13T13:45:13.778842Z",
     "shell.execute_reply": "2021-11-13T13:45:13.778280Z",
     "shell.execute_reply.started": "2021-11-13T13:41:27.253945Z"
    },
    "papermill": {
     "duration": 0.227195,
     "end_time": "2021-11-13T13:45:13.778954",
     "exception": false,
     "start_time": "2021-11-13T13:45:13.551759",
     "status": "completed"
    },
    "tags": []
   },
   "outputs": [
    {
     "data": {
      "text/html": [
       "<div>\n",
       "<style scoped>\n",
       "    .dataframe tbody tr th:only-of-type {\n",
       "        vertical-align: middle;\n",
       "    }\n",
       "\n",
       "    .dataframe tbody tr th {\n",
       "        vertical-align: top;\n",
       "    }\n",
       "\n",
       "    .dataframe thead th {\n",
       "        text-align: right;\n",
       "    }\n",
       "</style>\n",
       "<table border=\"1\" class=\"dataframe\">\n",
       "  <thead>\n",
       "    <tr style=\"text-align: right;\">\n",
       "      <th></th>\n",
       "      <th>SalePrice</th>\n",
       "    </tr>\n",
       "    <tr>\n",
       "      <th>BsmtFinType2</th>\n",
       "      <th></th>\n",
       "    </tr>\n",
       "  </thead>\n",
       "  <tbody>\n",
       "    <tr>\n",
       "      <th>ALQ</th>\n",
       "      <td>150088.461538</td>\n",
       "    </tr>\n",
       "    <tr>\n",
       "      <th>Unf</th>\n",
       "      <td>149146.731442</td>\n",
       "    </tr>\n",
       "    <tr>\n",
       "      <th>GLQ</th>\n",
       "      <td>148926.470588</td>\n",
       "    </tr>\n",
       "    <tr>\n",
       "      <th>LwQ</th>\n",
       "      <td>148917.816092</td>\n",
       "    </tr>\n",
       "    <tr>\n",
       "      <th>Rec</th>\n",
       "      <td>146781.190476</td>\n",
       "    </tr>\n",
       "    <tr>\n",
       "      <th>BLQ</th>\n",
       "      <td>143536.514706</td>\n",
       "    </tr>\n",
       "  </tbody>\n",
       "</table>\n",
       "</div>"
      ],
      "text/plain": [
       "                  SalePrice\n",
       "BsmtFinType2               \n",
       "ALQ           150088.461538\n",
       "Unf           149146.731442\n",
       "GLQ           148926.470588\n",
       "LwQ           148917.816092\n",
       "Rec           146781.190476\n",
       "BLQ           143536.514706"
      ]
     },
     "execution_count": 93,
     "metadata": {},
     "output_type": "execute_result"
    }
   ],
   "source": [
    "data.groupby('BsmtFinType2').agg({'SalePrice':'mean'}).sort_values('SalePrice', ascending = False)"
   ]
  },
  {
   "cell_type": "code",
   "execution_count": 94,
   "id": "7b261479",
   "metadata": {
    "execution": {
     "iopub.execute_input": "2021-11-13T13:45:14.214014Z",
     "iopub.status.busy": "2021-11-13T13:45:14.213338Z",
     "iopub.status.idle": "2021-11-13T13:45:14.216737Z",
     "shell.execute_reply": "2021-11-13T13:45:14.216334Z",
     "shell.execute_reply.started": "2021-11-13T13:41:27.269012Z"
    },
    "papermill": {
     "duration": 0.222547,
     "end_time": "2021-11-13T13:45:14.216847",
     "exception": false,
     "start_time": "2021-11-13T13:45:13.994300",
     "status": "completed"
    },
    "tags": []
   },
   "outputs": [
    {
     "data": {
      "text/plain": [
       "Unf    2573\n",
       "Rec     105\n",
       "LwQ      87\n",
       "BLQ      68\n",
       "ALQ      52\n",
       "GLQ      34\n",
       "Name: BsmtFinType2, dtype: int64"
      ]
     },
     "execution_count": 94,
     "metadata": {},
     "output_type": "execute_result"
    }
   ],
   "source": [
    "data['BsmtFinType2'].value_counts()"
   ]
  },
  {
   "cell_type": "code",
   "execution_count": 95,
   "id": "410bc484",
   "metadata": {
    "execution": {
     "iopub.execute_input": "2021-11-13T13:45:14.646583Z",
     "iopub.status.busy": "2021-11-13T13:45:14.645952Z",
     "iopub.status.idle": "2021-11-13T13:45:14.658092Z",
     "shell.execute_reply": "2021-11-13T13:45:14.657683Z",
     "shell.execute_reply.started": "2021-11-13T13:41:27.279070Z"
    },
    "papermill": {
     "duration": 0.228796,
     "end_time": "2021-11-13T13:45:14.658206",
     "exception": false,
     "start_time": "2021-11-13T13:45:14.429410",
     "status": "completed"
    },
    "tags": []
   },
   "outputs": [
    {
     "data": {
      "text/plain": [
       "3    2607\n",
       "2     192\n",
       "1      68\n",
       "4      52\n",
       "Name: BsmtFinType2, dtype: int64"
      ]
     },
     "execution_count": 95,
     "metadata": {},
     "output_type": "execute_result"
    }
   ],
   "source": [
    "data = data.replace({'BsmtFinType2': {'BLQ':1, 'Rec':2, 'LwQ':2, 'Unf':3, 'GLQ':3, 'ALQ':4}})\n",
    "\n",
    "data['BsmtFinType2'].value_counts()"
   ]
  },
  {
   "cell_type": "markdown",
   "id": "76b87422",
   "metadata": {
    "papermill": {
     "duration": 0.214926,
     "end_time": "2021-11-13T13:45:15.085910",
     "exception": false,
     "start_time": "2021-11-13T13:45:14.870984",
     "status": "completed"
    },
    "tags": []
   },
   "source": [
    "- **BsmtExposure** Değişkeni,Grev veya bahçe seviyesi bodrum duvarlarını ifade eden sınıfları içerir."
   ]
  },
  {
   "cell_type": "code",
   "execution_count": 96,
   "id": "f2b95b5d",
   "metadata": {
    "execution": {
     "iopub.execute_input": "2021-11-13T13:45:15.527502Z",
     "iopub.status.busy": "2021-11-13T13:45:15.526638Z",
     "iopub.status.idle": "2021-11-13T13:45:15.529991Z",
     "shell.execute_reply": "2021-11-13T13:45:15.530475Z",
     "shell.execute_reply.started": "2021-11-13T13:41:27.296634Z"
    },
    "papermill": {
     "duration": 0.230602,
     "end_time": "2021-11-13T13:45:15.530700",
     "exception": false,
     "start_time": "2021-11-13T13:45:15.300098",
     "status": "completed"
    },
    "tags": []
   },
   "outputs": [
    {
     "data": {
      "text/html": [
       "<div>\n",
       "<style scoped>\n",
       "    .dataframe tbody tr th:only-of-type {\n",
       "        vertical-align: middle;\n",
       "    }\n",
       "\n",
       "    .dataframe tbody tr th {\n",
       "        vertical-align: top;\n",
       "    }\n",
       "\n",
       "    .dataframe thead th {\n",
       "        text-align: right;\n",
       "    }\n",
       "</style>\n",
       "<table border=\"1\" class=\"dataframe\">\n",
       "  <thead>\n",
       "    <tr style=\"text-align: right;\">\n",
       "      <th></th>\n",
       "      <th>SalePrice</th>\n",
       "    </tr>\n",
       "    <tr>\n",
       "      <th>BsmtExposure</th>\n",
       "      <th></th>\n",
       "    </tr>\n",
       "  </thead>\n",
       "  <tbody>\n",
       "    <tr>\n",
       "      <th>Gd</th>\n",
       "      <td>160055.289855</td>\n",
       "    </tr>\n",
       "    <tr>\n",
       "      <th>Av</th>\n",
       "      <td>156014.239234</td>\n",
       "    </tr>\n",
       "    <tr>\n",
       "      <th>Mn</th>\n",
       "      <td>151826.728033</td>\n",
       "    </tr>\n",
       "    <tr>\n",
       "      <th>No</th>\n",
       "      <td>145556.494461</td>\n",
       "    </tr>\n",
       "  </tbody>\n",
       "</table>\n",
       "</div>"
      ],
      "text/plain": [
       "                  SalePrice\n",
       "BsmtExposure               \n",
       "Gd            160055.289855\n",
       "Av            156014.239234\n",
       "Mn            151826.728033\n",
       "No            145556.494461"
      ]
     },
     "execution_count": 96,
     "metadata": {},
     "output_type": "execute_result"
    }
   ],
   "source": [
    "data.groupby('BsmtExposure').agg({'SalePrice':'mean'}).sort_values('SalePrice', ascending = False)"
   ]
  },
  {
   "cell_type": "code",
   "execution_count": 97,
   "id": "b74e1ff3",
   "metadata": {
    "execution": {
     "iopub.execute_input": "2021-11-13T13:45:15.981920Z",
     "iopub.status.busy": "2021-11-13T13:45:15.980935Z",
     "iopub.status.idle": "2021-11-13T13:45:15.984998Z",
     "shell.execute_reply": "2021-11-13T13:45:15.984555Z",
     "shell.execute_reply.started": "2021-11-13T13:41:27.310609Z"
    },
    "papermill": {
     "duration": 0.22443,
     "end_time": "2021-11-13T13:45:15.985115",
     "exception": false,
     "start_time": "2021-11-13T13:45:15.760685",
     "status": "completed"
    },
    "tags": []
   },
   "outputs": [
    {
     "data": {
      "text/plain": [
       "No    1986\n",
       "Av     418\n",
       "Gd     276\n",
       "Mn     239\n",
       "Name: BsmtExposure, dtype: int64"
      ]
     },
     "execution_count": 97,
     "metadata": {},
     "output_type": "execute_result"
    }
   ],
   "source": [
    "data['BsmtExposure'].value_counts()"
   ]
  },
  {
   "cell_type": "code",
   "execution_count": 98,
   "id": "61a05146",
   "metadata": {
    "execution": {
     "iopub.execute_input": "2021-11-13T13:45:16.421858Z",
     "iopub.status.busy": "2021-11-13T13:45:16.421092Z",
     "iopub.status.idle": "2021-11-13T13:45:16.431452Z",
     "shell.execute_reply": "2021-11-13T13:45:16.430990Z",
     "shell.execute_reply.started": "2021-11-13T13:41:27.322211Z"
    },
    "papermill": {
     "duration": 0.229211,
     "end_time": "2021-11-13T13:45:16.431571",
     "exception": false,
     "start_time": "2021-11-13T13:45:16.202360",
     "status": "completed"
    },
    "tags": []
   },
   "outputs": [
    {
     "data": {
      "text/plain": [
       "1    1986\n",
       "3     418\n",
       "4     276\n",
       "2     239\n",
       "Name: BsmtExposure, dtype: int64"
      ]
     },
     "execution_count": 98,
     "metadata": {},
     "output_type": "execute_result"
    }
   ],
   "source": [
    "data = data.replace({'BsmtExposure': {'No':1, 'Mn':2, 'Av':3, 'Gd':4}})\n",
    "\n",
    "data['BsmtExposure'].value_counts()"
   ]
  },
  {
   "cell_type": "markdown",
   "id": "0d05d6d3",
   "metadata": {
    "papermill": {
     "duration": 0.214939,
     "end_time": "2021-11-13T13:45:16.860378",
     "exception": false,
     "start_time": "2021-11-13T13:45:16.645439",
     "status": "completed"
    },
    "tags": []
   },
   "source": [
    "- **Heating** Değişkeni, Isıtma Türlerini ifade eden sınıfları içerir."
   ]
  },
  {
   "cell_type": "code",
   "execution_count": 99,
   "id": "a3afa496",
   "metadata": {
    "execution": {
     "iopub.execute_input": "2021-11-13T13:45:17.307593Z",
     "iopub.status.busy": "2021-11-13T13:45:17.306762Z",
     "iopub.status.idle": "2021-11-13T13:45:17.309942Z",
     "shell.execute_reply": "2021-11-13T13:45:17.310480Z",
     "shell.execute_reply.started": "2021-11-13T13:41:27.338633Z"
    },
    "papermill": {
     "duration": 0.231351,
     "end_time": "2021-11-13T13:45:17.310625",
     "exception": false,
     "start_time": "2021-11-13T13:45:17.079274",
     "status": "completed"
    },
    "tags": []
   },
   "outputs": [
    {
     "data": {
      "text/html": [
       "<div>\n",
       "<style scoped>\n",
       "    .dataframe tbody tr th:only-of-type {\n",
       "        vertical-align: middle;\n",
       "    }\n",
       "\n",
       "    .dataframe tbody tr th {\n",
       "        vertical-align: top;\n",
       "    }\n",
       "\n",
       "    .dataframe thead th {\n",
       "        text-align: right;\n",
       "    }\n",
       "</style>\n",
       "<table border=\"1\" class=\"dataframe\">\n",
       "  <thead>\n",
       "    <tr style=\"text-align: right;\">\n",
       "      <th></th>\n",
       "      <th>SalePrice</th>\n",
       "    </tr>\n",
       "    <tr>\n",
       "      <th>Heating</th>\n",
       "      <th></th>\n",
       "    </tr>\n",
       "  </thead>\n",
       "  <tbody>\n",
       "    <tr>\n",
       "      <th>GasA</th>\n",
       "      <td>149301.773834</td>\n",
       "    </tr>\n",
       "    <tr>\n",
       "      <th>GasW</th>\n",
       "      <td>143644.444444</td>\n",
       "    </tr>\n",
       "    <tr>\n",
       "      <th>OthW</th>\n",
       "      <td>125750.000000</td>\n",
       "    </tr>\n",
       "    <tr>\n",
       "      <th>Wall</th>\n",
       "      <td>108066.666667</td>\n",
       "    </tr>\n",
       "    <tr>\n",
       "      <th>Grav</th>\n",
       "      <td>89655.555556</td>\n",
       "    </tr>\n",
       "    <tr>\n",
       "      <th>Floor</th>\n",
       "      <td>72500.000000</td>\n",
       "    </tr>\n",
       "  </tbody>\n",
       "</table>\n",
       "</div>"
      ],
      "text/plain": [
       "             SalePrice\n",
       "Heating               \n",
       "GasA     149301.773834\n",
       "GasW     143644.444444\n",
       "OthW     125750.000000\n",
       "Wall     108066.666667\n",
       "Grav      89655.555556\n",
       "Floor     72500.000000"
      ]
     },
     "execution_count": 99,
     "metadata": {},
     "output_type": "execute_result"
    }
   ],
   "source": [
    "data.groupby('Heating').agg({'SalePrice':'mean'}).sort_values('SalePrice', ascending = False)"
   ]
  },
  {
   "cell_type": "code",
   "execution_count": 100,
   "id": "635cfabf",
   "metadata": {
    "execution": {
     "iopub.execute_input": "2021-11-13T13:45:17.758884Z",
     "iopub.status.busy": "2021-11-13T13:45:17.758180Z",
     "iopub.status.idle": "2021-11-13T13:45:17.761709Z",
     "shell.execute_reply": "2021-11-13T13:45:17.761251Z",
     "shell.execute_reply.started": "2021-11-13T13:41:27.352866Z"
    },
    "papermill": {
     "duration": 0.225347,
     "end_time": "2021-11-13T13:45:17.761826",
     "exception": false,
     "start_time": "2021-11-13T13:45:17.536479",
     "status": "completed"
    },
    "tags": []
   },
   "outputs": [
    {
     "data": {
      "text/plain": [
       "GasA     2874\n",
       "GasW       27\n",
       "Grav        9\n",
       "Wall        6\n",
       "OthW        2\n",
       "Floor       1\n",
       "Name: Heating, dtype: int64"
      ]
     },
     "execution_count": 100,
     "metadata": {},
     "output_type": "execute_result"
    }
   ],
   "source": [
    "data['Heating'].value_counts()"
   ]
  },
  {
   "cell_type": "code",
   "execution_count": 101,
   "id": "d6917026",
   "metadata": {
    "execution": {
     "iopub.execute_input": "2021-11-13T13:45:18.203453Z",
     "iopub.status.busy": "2021-11-13T13:45:18.202602Z",
     "iopub.status.idle": "2021-11-13T13:45:18.213936Z",
     "shell.execute_reply": "2021-11-13T13:45:18.213518Z",
     "shell.execute_reply.started": "2021-11-13T13:41:27.363407Z"
    },
    "papermill": {
     "duration": 0.237125,
     "end_time": "2021-11-13T13:45:18.214050",
     "exception": false,
     "start_time": "2021-11-13T13:45:17.976925",
     "status": "completed"
    },
    "tags": []
   },
   "outputs": [
    {
     "data": {
      "text/plain": [
       "5    2874\n",
       "4      27\n",
       "1      10\n",
       "2       6\n",
       "3       2\n",
       "Name: Heating, dtype: int64"
      ]
     },
     "execution_count": 101,
     "metadata": {},
     "output_type": "execute_result"
    }
   ],
   "source": [
    "data = data.replace({'Heating': {'Floor':1, 'Grav':1, 'Wall':2, 'OthW':3, 'GasW':4, 'GasA':5}})\n",
    "\n",
    "data['Heating'].value_counts()"
   ]
  },
  {
   "cell_type": "markdown",
   "id": "eb99bffe",
   "metadata": {
    "papermill": {
     "duration": 0.214155,
     "end_time": "2021-11-13T13:45:18.644775",
     "exception": false,
     "start_time": "2021-11-13T13:45:18.430620",
     "status": "completed"
    },
    "tags": []
   },
   "source": [
    "- **HeatingQC** Değişkeni, Isıtma kalitesi ve durumunu ifade eden sınıfları içerir."
   ]
  },
  {
   "cell_type": "code",
   "execution_count": 102,
   "id": "547702be",
   "metadata": {
    "execution": {
     "iopub.execute_input": "2021-11-13T13:45:19.088057Z",
     "iopub.status.busy": "2021-11-13T13:45:19.087151Z",
     "iopub.status.idle": "2021-11-13T13:45:19.098094Z",
     "shell.execute_reply": "2021-11-13T13:45:19.097655Z",
     "shell.execute_reply.started": "2021-11-13T13:41:27.380172Z"
    },
    "papermill": {
     "duration": 0.237436,
     "end_time": "2021-11-13T13:45:19.098212",
     "exception": false,
     "start_time": "2021-11-13T13:45:18.860776",
     "status": "completed"
    },
    "tags": []
   },
   "outputs": [
    {
     "data": {
      "text/html": [
       "<div>\n",
       "<style scoped>\n",
       "    .dataframe tbody tr th:only-of-type {\n",
       "        vertical-align: middle;\n",
       "    }\n",
       "\n",
       "    .dataframe tbody tr th {\n",
       "        vertical-align: top;\n",
       "    }\n",
       "\n",
       "    .dataframe thead th {\n",
       "        text-align: right;\n",
       "    }\n",
       "</style>\n",
       "<table border=\"1\" class=\"dataframe\">\n",
       "  <thead>\n",
       "    <tr style=\"text-align: right;\">\n",
       "      <th></th>\n",
       "      <th>SalePrice</th>\n",
       "    </tr>\n",
       "    <tr>\n",
       "      <th>HeatingQC</th>\n",
       "      <th></th>\n",
       "    </tr>\n",
       "  </thead>\n",
       "  <tbody>\n",
       "    <tr>\n",
       "      <th>Ex</th>\n",
       "      <td>157412.536504</td>\n",
       "    </tr>\n",
       "    <tr>\n",
       "      <th>Gd</th>\n",
       "      <td>144636.894515</td>\n",
       "    </tr>\n",
       "    <tr>\n",
       "      <th>TA</th>\n",
       "      <td>138628.982497</td>\n",
       "    </tr>\n",
       "    <tr>\n",
       "      <th>Fa</th>\n",
       "      <td>130479.945652</td>\n",
       "    </tr>\n",
       "    <tr>\n",
       "      <th>Po</th>\n",
       "      <td>122333.333333</td>\n",
       "    </tr>\n",
       "  </tbody>\n",
       "</table>\n",
       "</div>"
      ],
      "text/plain": [
       "               SalePrice\n",
       "HeatingQC               \n",
       "Ex         157412.536504\n",
       "Gd         144636.894515\n",
       "TA         138628.982497\n",
       "Fa         130479.945652\n",
       "Po         122333.333333"
      ]
     },
     "execution_count": 102,
     "metadata": {},
     "output_type": "execute_result"
    }
   ],
   "source": [
    "data.groupby('HeatingQC').agg({'SalePrice':'mean'}).sort_values('SalePrice', ascending = False)"
   ]
  },
  {
   "cell_type": "code",
   "execution_count": 103,
   "id": "51613639",
   "metadata": {
    "execution": {
     "iopub.execute_input": "2021-11-13T13:45:19.544525Z",
     "iopub.status.busy": "2021-11-13T13:45:19.543925Z",
     "iopub.status.idle": "2021-11-13T13:45:19.548953Z",
     "shell.execute_reply": "2021-11-13T13:45:19.548538Z",
     "shell.execute_reply.started": "2021-11-13T13:41:27.395500Z"
    },
    "papermill": {
     "duration": 0.229732,
     "end_time": "2021-11-13T13:45:19.549067",
     "exception": false,
     "start_time": "2021-11-13T13:45:19.319335",
     "status": "completed"
    },
    "tags": []
   },
   "outputs": [
    {
     "data": {
      "text/plain": [
       "Ex    1493\n",
       "TA     857\n",
       "Gd     474\n",
       "Fa      92\n",
       "Po       3\n",
       "Name: HeatingQC, dtype: int64"
      ]
     },
     "execution_count": 103,
     "metadata": {},
     "output_type": "execute_result"
    }
   ],
   "source": [
    "data['HeatingQC'].value_counts()"
   ]
  },
  {
   "cell_type": "code",
   "execution_count": 104,
   "id": "eec6e6de",
   "metadata": {
    "execution": {
     "iopub.execute_input": "2021-11-13T13:45:19.994122Z",
     "iopub.status.busy": "2021-11-13T13:45:19.993344Z",
     "iopub.status.idle": "2021-11-13T13:45:20.004092Z",
     "shell.execute_reply": "2021-11-13T13:45:20.003669Z",
     "shell.execute_reply.started": "2021-11-13T13:41:27.406756Z"
    },
    "papermill": {
     "duration": 0.234011,
     "end_time": "2021-11-13T13:45:20.004210",
     "exception": false,
     "start_time": "2021-11-13T13:45:19.770199",
     "status": "completed"
    },
    "tags": []
   },
   "outputs": [
    {
     "data": {
      "text/plain": [
       "5    1493\n",
       "3     857\n",
       "4     474\n",
       "2      92\n",
       "1       3\n",
       "Name: HeatingQC, dtype: int64"
      ]
     },
     "execution_count": 104,
     "metadata": {},
     "output_type": "execute_result"
    }
   ],
   "source": [
    "data = data.replace({'HeatingQC': {'Po':1, 'Fa':2, 'TA':3, 'Gd':4, 'Ex':5}})\n",
    "\n",
    "data['HeatingQC'].value_counts()"
   ]
  },
  {
   "cell_type": "markdown",
   "id": "b1810cb4",
   "metadata": {
    "papermill": {
     "duration": 0.352096,
     "end_time": "2021-11-13T13:45:20.667720",
     "exception": false,
     "start_time": "2021-11-13T13:45:20.315624",
     "status": "completed"
    },
    "tags": []
   },
   "source": [
    "- **KitchenQual** Değişkeni, Mutfak Kalitesini ifade eden sınıfları barındırır"
   ]
  },
  {
   "cell_type": "code",
   "execution_count": 105,
   "id": "b2f4ca0e",
   "metadata": {
    "execution": {
     "iopub.execute_input": "2021-11-13T13:45:21.130292Z",
     "iopub.status.busy": "2021-11-13T13:45:21.129589Z",
     "iopub.status.idle": "2021-11-13T13:45:21.132813Z",
     "shell.execute_reply": "2021-11-13T13:45:21.133202Z",
     "shell.execute_reply.started": "2021-11-13T13:41:27.422157Z"
    },
    "papermill": {
     "duration": 0.24025,
     "end_time": "2021-11-13T13:45:21.133367",
     "exception": false,
     "start_time": "2021-11-13T13:45:20.893117",
     "status": "completed"
    },
    "tags": []
   },
   "outputs": [
    {
     "data": {
      "text/html": [
       "<div>\n",
       "<style scoped>\n",
       "    .dataframe tbody tr th:only-of-type {\n",
       "        vertical-align: middle;\n",
       "    }\n",
       "\n",
       "    .dataframe tbody tr th {\n",
       "        vertical-align: top;\n",
       "    }\n",
       "\n",
       "    .dataframe thead th {\n",
       "        text-align: right;\n",
       "    }\n",
       "</style>\n",
       "<table border=\"1\" class=\"dataframe\">\n",
       "  <thead>\n",
       "    <tr style=\"text-align: right;\">\n",
       "      <th></th>\n",
       "      <th>SalePrice</th>\n",
       "    </tr>\n",
       "    <tr>\n",
       "      <th>KitchenQual</th>\n",
       "      <th></th>\n",
       "    </tr>\n",
       "  </thead>\n",
       "  <tbody>\n",
       "    <tr>\n",
       "      <th>Ex</th>\n",
       "      <td>165283.658537</td>\n",
       "    </tr>\n",
       "    <tr>\n",
       "      <th>Gd</th>\n",
       "      <td>160783.890530</td>\n",
       "    </tr>\n",
       "    <tr>\n",
       "      <th>TA</th>\n",
       "      <td>138882.148024</td>\n",
       "    </tr>\n",
       "    <tr>\n",
       "      <th>Fa</th>\n",
       "      <td>120779.185714</td>\n",
       "    </tr>\n",
       "  </tbody>\n",
       "</table>\n",
       "</div>"
      ],
      "text/plain": [
       "                 SalePrice\n",
       "KitchenQual               \n",
       "Ex           165283.658537\n",
       "Gd           160783.890530\n",
       "TA           138882.148024\n",
       "Fa           120779.185714"
      ]
     },
     "execution_count": 105,
     "metadata": {},
     "output_type": "execute_result"
    }
   ],
   "source": [
    "data.groupby('KitchenQual').agg({'SalePrice':'mean'}).sort_values('SalePrice', ascending = False)"
   ]
  },
  {
   "cell_type": "code",
   "execution_count": 106,
   "id": "8f76caf5",
   "metadata": {
    "execution": {
     "iopub.execute_input": "2021-11-13T13:45:21.594719Z",
     "iopub.status.busy": "2021-11-13T13:45:21.594009Z",
     "iopub.status.idle": "2021-11-13T13:45:21.598902Z",
     "shell.execute_reply": "2021-11-13T13:45:21.598473Z",
     "shell.execute_reply.started": "2021-11-13T13:41:27.436864Z"
    },
    "papermill": {
     "duration": 0.228714,
     "end_time": "2021-11-13T13:45:21.599016",
     "exception": false,
     "start_time": "2021-11-13T13:45:21.370302",
     "status": "completed"
    },
    "tags": []
   },
   "outputs": [
    {
     "data": {
      "text/plain": [
       "TA    1493\n",
       "Gd    1151\n",
       "Ex     205\n",
       "Fa      70\n",
       "Name: KitchenQual, dtype: int64"
      ]
     },
     "execution_count": 106,
     "metadata": {},
     "output_type": "execute_result"
    }
   ],
   "source": [
    "data['KitchenQual'].value_counts()"
   ]
  },
  {
   "cell_type": "markdown",
   "id": "bd4d1518",
   "metadata": {
    "papermill": {
     "duration": 0.219696,
     "end_time": "2021-11-13T13:45:22.035577",
     "exception": false,
     "start_time": "2021-11-13T13:45:21.815881",
     "status": "completed"
    },
    "tags": []
   },
   "source": [
    "- **map()** fonksiyonu kullanarak sınıfları **Ordinal** yapalım"
   ]
  },
  {
   "cell_type": "code",
   "execution_count": 107,
   "id": "d98ecdb1",
   "metadata": {
    "execution": {
     "iopub.execute_input": "2021-11-13T13:45:22.584126Z",
     "iopub.status.busy": "2021-11-13T13:45:22.583229Z",
     "iopub.status.idle": "2021-11-13T13:45:22.592261Z",
     "shell.execute_reply": "2021-11-13T13:45:22.592868Z",
     "shell.execute_reply.started": "2021-11-13T13:41:27.447784Z"
    },
    "papermill": {
     "duration": 0.339059,
     "end_time": "2021-11-13T13:45:22.593055",
     "exception": false,
     "start_time": "2021-11-13T13:45:22.253996",
     "status": "completed"
    },
    "tags": []
   },
   "outputs": [
    {
     "data": {
      "text/plain": [
       "2    1493\n",
       "3    1151\n",
       "4     205\n",
       "1      70\n",
       "Name: KitchenQual, dtype: int64"
      ]
     },
     "execution_count": 107,
     "metadata": {},
     "output_type": "execute_result"
    }
   ],
   "source": [
    "kitqual = {'Fa':1, 'TA':2, 'Gd':3, 'Ex':4}\n",
    "\n",
    "data['KitchenQual'] = data['KitchenQual'].map(kitqual).astype('int')\n",
    "\n",
    "data['KitchenQual'].value_counts()"
   ]
  },
  {
   "cell_type": "markdown",
   "id": "5cca1453",
   "metadata": {
    "papermill": {
     "duration": 0.36468,
     "end_time": "2021-11-13T13:45:23.310922",
     "exception": false,
     "start_time": "2021-11-13T13:45:22.946242",
     "status": "completed"
    },
    "tags": []
   },
   "source": [
    "- **FireplaceQu** Değişkeni, Şömine kalitesini ifade eden sınıfları barındırır."
   ]
  },
  {
   "cell_type": "code",
   "execution_count": 108,
   "id": "1b6c453e",
   "metadata": {
    "execution": {
     "iopub.execute_input": "2021-11-13T13:45:23.849976Z",
     "iopub.status.busy": "2021-11-13T13:45:23.849102Z",
     "iopub.status.idle": "2021-11-13T13:45:23.858989Z",
     "shell.execute_reply": "2021-11-13T13:45:23.858567Z",
     "shell.execute_reply.started": "2021-11-13T13:41:27.463889Z"
    },
    "papermill": {
     "duration": 0.233062,
     "end_time": "2021-11-13T13:45:23.859107",
     "exception": false,
     "start_time": "2021-11-13T13:45:23.626045",
     "status": "completed"
    },
    "tags": []
   },
   "outputs": [
    {
     "data": {
      "text/html": [
       "<div>\n",
       "<style scoped>\n",
       "    .dataframe tbody tr th:only-of-type {\n",
       "        vertical-align: middle;\n",
       "    }\n",
       "\n",
       "    .dataframe tbody tr th {\n",
       "        vertical-align: top;\n",
       "    }\n",
       "\n",
       "    .dataframe thead th {\n",
       "        text-align: right;\n",
       "    }\n",
       "</style>\n",
       "<table border=\"1\" class=\"dataframe\">\n",
       "  <thead>\n",
       "    <tr style=\"text-align: right;\">\n",
       "      <th></th>\n",
       "      <th>SalePrice</th>\n",
       "    </tr>\n",
       "    <tr>\n",
       "      <th>FireplaceQu</th>\n",
       "      <th></th>\n",
       "    </tr>\n",
       "  </thead>\n",
       "  <tbody>\n",
       "    <tr>\n",
       "      <th>Ex</th>\n",
       "      <td>170302.325581</td>\n",
       "    </tr>\n",
       "    <tr>\n",
       "      <th>TA</th>\n",
       "      <td>159769.293919</td>\n",
       "    </tr>\n",
       "    <tr>\n",
       "      <th>Fa</th>\n",
       "      <td>150011.486486</td>\n",
       "    </tr>\n",
       "    <tr>\n",
       "      <th>Gd</th>\n",
       "      <td>145798.725970</td>\n",
       "    </tr>\n",
       "    <tr>\n",
       "      <th>Po</th>\n",
       "      <td>135549.630435</td>\n",
       "    </tr>\n",
       "  </tbody>\n",
       "</table>\n",
       "</div>"
      ],
      "text/plain": [
       "                 SalePrice\n",
       "FireplaceQu               \n",
       "Ex           170302.325581\n",
       "TA           159769.293919\n",
       "Fa           150011.486486\n",
       "Gd           145798.725970\n",
       "Po           135549.630435"
      ]
     },
     "execution_count": 108,
     "metadata": {},
     "output_type": "execute_result"
    }
   ],
   "source": [
    "data.groupby('FireplaceQu').agg({'SalePrice':'mean'}).sort_values('SalePrice', ascending = False)"
   ]
  },
  {
   "cell_type": "code",
   "execution_count": 109,
   "id": "93070ca0",
   "metadata": {
    "execution": {
     "iopub.execute_input": "2021-11-13T13:45:24.361634Z",
     "iopub.status.busy": "2021-11-13T13:45:24.360795Z",
     "iopub.status.idle": "2021-11-13T13:45:24.363968Z",
     "shell.execute_reply": "2021-11-13T13:45:24.364472Z",
     "shell.execute_reply.started": "2021-11-13T13:41:27.478572Z"
    },
    "papermill": {
     "duration": 0.2565,
     "end_time": "2021-11-13T13:45:24.364618",
     "exception": false,
     "start_time": "2021-11-13T13:45:24.108118",
     "status": "completed"
    },
    "tags": []
   },
   "outputs": [
    {
     "data": {
      "text/plain": [
       "Gd    2164\n",
       "TA     592\n",
       "Fa      74\n",
       "Po      46\n",
       "Ex      43\n",
       "Name: FireplaceQu, dtype: int64"
      ]
     },
     "execution_count": 109,
     "metadata": {},
     "output_type": "execute_result"
    }
   ],
   "source": [
    "data['FireplaceQu'].value_counts()"
   ]
  },
  {
   "cell_type": "markdown",
   "id": "0462c673",
   "metadata": {
    "papermill": {
     "duration": 0.216472,
     "end_time": "2021-11-13T13:45:24.813436",
     "exception": false,
     "start_time": "2021-11-13T13:45:24.596964",
     "status": "completed"
    },
    "tags": []
   },
   "source": [
    "- Biz Bazı değişkenlerdeki **Eksik Değerleri**, **None** ile doldurmuştuk.Nu **None** değerleri bilmediğimiz için bunu ordinal yaparken derecesini **0** yaparız."
   ]
  },
  {
   "cell_type": "code",
   "execution_count": 110,
   "id": "bf755c98",
   "metadata": {
    "execution": {
     "iopub.execute_input": "2021-11-13T13:45:25.256830Z",
     "iopub.status.busy": "2021-11-13T13:45:25.255991Z",
     "iopub.status.idle": "2021-11-13T13:45:25.262937Z",
     "shell.execute_reply": "2021-11-13T13:45:25.262516Z",
     "shell.execute_reply.started": "2021-11-13T13:41:27.493137Z"
    },
    "papermill": {
     "duration": 0.231629,
     "end_time": "2021-11-13T13:45:25.263055",
     "exception": false,
     "start_time": "2021-11-13T13:45:25.031426",
     "status": "completed"
    },
    "tags": []
   },
   "outputs": [
    {
     "data": {
      "text/plain": [
       "4    2164\n",
       "3     592\n",
       "2      74\n",
       "1      46\n",
       "5      43\n",
       "Name: FireplaceQu, dtype: int64"
      ]
     },
     "execution_count": 110,
     "metadata": {},
     "output_type": "execute_result"
    }
   ],
   "source": [
    "fire = {'None':0, 'Po':1, 'Fa':2, 'TA':3, 'Gd':4, 'Ex':5}\n",
    "\n",
    "data['FireplaceQu'] = data['FireplaceQu'].map(fire).astype('int')\n",
    "\n",
    "data['FireplaceQu'].value_counts()"
   ]
  },
  {
   "cell_type": "markdown",
   "id": "68b8c369",
   "metadata": {
    "papermill": {
     "duration": 0.217113,
     "end_time": "2021-11-13T13:45:25.698726",
     "exception": false,
     "start_time": "2021-11-13T13:45:25.481613",
     "status": "completed"
    },
    "tags": []
   },
   "source": [
    "- **GarageCond** Değişkeni, Garaj Durumunu ifade eden sınıfarı içerir."
   ]
  },
  {
   "cell_type": "code",
   "execution_count": 111,
   "id": "762dd62f",
   "metadata": {
    "execution": {
     "iopub.execute_input": "2021-11-13T13:45:26.155528Z",
     "iopub.status.busy": "2021-11-13T13:45:26.149722Z",
     "iopub.status.idle": "2021-11-13T13:45:26.159070Z",
     "shell.execute_reply": "2021-11-13T13:45:26.158666Z",
     "shell.execute_reply.started": "2021-11-13T13:41:27.507632Z"
    },
    "papermill": {
     "duration": 0.236228,
     "end_time": "2021-11-13T13:45:26.159182",
     "exception": false,
     "start_time": "2021-11-13T13:45:25.922954",
     "status": "completed"
    },
    "tags": []
   },
   "outputs": [
    {
     "data": {
      "text/html": [
       "<div>\n",
       "<style scoped>\n",
       "    .dataframe tbody tr th:only-of-type {\n",
       "        vertical-align: middle;\n",
       "    }\n",
       "\n",
       "    .dataframe tbody tr th {\n",
       "        vertical-align: top;\n",
       "    }\n",
       "\n",
       "    .dataframe thead th {\n",
       "        text-align: right;\n",
       "    }\n",
       "</style>\n",
       "<table border=\"1\" class=\"dataframe\">\n",
       "  <thead>\n",
       "    <tr style=\"text-align: right;\">\n",
       "      <th></th>\n",
       "      <th>SalePrice</th>\n",
       "    </tr>\n",
       "    <tr>\n",
       "      <th>GarageCond</th>\n",
       "      <th></th>\n",
       "    </tr>\n",
       "  </thead>\n",
       "  <tbody>\n",
       "    <tr>\n",
       "      <th>Gd</th>\n",
       "      <td>151826.666667</td>\n",
       "    </tr>\n",
       "    <tr>\n",
       "      <th>TA</th>\n",
       "      <td>149625.206897</td>\n",
       "    </tr>\n",
       "    <tr>\n",
       "      <th>Ex</th>\n",
       "      <td>129333.333333</td>\n",
       "    </tr>\n",
       "    <tr>\n",
       "      <th>Fa</th>\n",
       "      <td>127707.986486</td>\n",
       "    </tr>\n",
       "    <tr>\n",
       "      <th>Po</th>\n",
       "      <td>124250.000000</td>\n",
       "    </tr>\n",
       "  </tbody>\n",
       "</table>\n",
       "</div>"
      ],
      "text/plain": [
       "                SalePrice\n",
       "GarageCond               \n",
       "Gd          151826.666667\n",
       "TA          149625.206897\n",
       "Ex          129333.333333\n",
       "Fa          127707.986486\n",
       "Po          124250.000000"
      ]
     },
     "execution_count": 111,
     "metadata": {},
     "output_type": "execute_result"
    }
   ],
   "source": [
    "data.groupby('GarageCond').agg({'SalePrice':'mean'}).sort_values('SalePrice', ascending = False)"
   ]
  },
  {
   "cell_type": "code",
   "execution_count": 112,
   "id": "6b9947e9",
   "metadata": {
    "execution": {
     "iopub.execute_input": "2021-11-13T13:45:26.611642Z",
     "iopub.status.busy": "2021-11-13T13:45:26.611031Z",
     "iopub.status.idle": "2021-11-13T13:45:26.616271Z",
     "shell.execute_reply": "2021-11-13T13:45:26.615776Z",
     "shell.execute_reply.started": "2021-11-13T13:41:27.523374Z"
    },
    "papermill": {
     "duration": 0.231258,
     "end_time": "2021-11-13T13:45:26.616411",
     "exception": false,
     "start_time": "2021-11-13T13:45:26.385153",
     "status": "completed"
    },
    "tags": []
   },
   "outputs": [
    {
     "data": {
      "text/plain": [
       "TA    2813\n",
       "Fa      74\n",
       "Gd      15\n",
       "Po      14\n",
       "Ex       3\n",
       "Name: GarageCond, dtype: int64"
      ]
     },
     "execution_count": 112,
     "metadata": {},
     "output_type": "execute_result"
    }
   ],
   "source": [
    "data['GarageCond'].value_counts()"
   ]
  },
  {
   "cell_type": "code",
   "execution_count": 113,
   "id": "54cb8345",
   "metadata": {
    "execution": {
     "iopub.execute_input": "2021-11-13T13:45:27.063306Z",
     "iopub.status.busy": "2021-11-13T13:45:27.062608Z",
     "iopub.status.idle": "2021-11-13T13:45:27.065541Z",
     "shell.execute_reply": "2021-11-13T13:45:27.066150Z",
     "shell.execute_reply.started": "2021-11-13T13:41:27.534245Z"
    },
    "papermill": {
     "duration": 0.23262,
     "end_time": "2021-11-13T13:45:27.066302",
     "exception": false,
     "start_time": "2021-11-13T13:45:26.833682",
     "status": "completed"
    },
    "tags": []
   },
   "outputs": [
    {
     "data": {
      "text/plain": [
       "3    2828\n",
       "1      88\n",
       "2       3\n",
       "Name: GarageCond, dtype: int64"
      ]
     },
     "execution_count": 113,
     "metadata": {},
     "output_type": "execute_result"
    }
   ],
   "source": [
    "garage = {'Po':1, 'Fa':1, 'Ex':2, 'TA':3, 'Gd':3}\n",
    "\n",
    "data['GarageCond'] = data['GarageCond'].map(garage).astype('int')\n",
    "\n",
    "data['GarageCond'].value_counts()"
   ]
  },
  {
   "cell_type": "markdown",
   "id": "08f05ed7",
   "metadata": {
    "papermill": {
     "duration": 0.22011,
     "end_time": "2021-11-13T13:45:27.506384",
     "exception": false,
     "start_time": "2021-11-13T13:45:27.286274",
     "status": "completed"
    },
    "tags": []
   },
   "source": [
    "- **GarageQual** Değişkeni, Garaj Kalitesini ifade eden sınıfları içerir."
   ]
  },
  {
   "cell_type": "code",
   "execution_count": 114,
   "id": "8e59abb3",
   "metadata": {
    "execution": {
     "iopub.execute_input": "2021-11-13T13:45:27.951279Z",
     "iopub.status.busy": "2021-11-13T13:45:27.950212Z",
     "iopub.status.idle": "2021-11-13T13:45:27.961759Z",
     "shell.execute_reply": "2021-11-13T13:45:27.961202Z",
     "shell.execute_reply.started": "2021-11-13T13:41:27.547305Z"
    },
    "papermill": {
     "duration": 0.236881,
     "end_time": "2021-11-13T13:45:27.961886",
     "exception": false,
     "start_time": "2021-11-13T13:45:27.725005",
     "status": "completed"
    },
    "tags": []
   },
   "outputs": [
    {
     "data": {
      "text/html": [
       "<div>\n",
       "<style scoped>\n",
       "    .dataframe tbody tr th:only-of-type {\n",
       "        vertical-align: middle;\n",
       "    }\n",
       "\n",
       "    .dataframe tbody tr th {\n",
       "        vertical-align: top;\n",
       "    }\n",
       "\n",
       "    .dataframe thead th {\n",
       "        text-align: right;\n",
       "    }\n",
       "</style>\n",
       "<table border=\"1\" class=\"dataframe\">\n",
       "  <thead>\n",
       "    <tr style=\"text-align: right;\">\n",
       "      <th></th>\n",
       "      <th>SalePrice</th>\n",
       "    </tr>\n",
       "    <tr>\n",
       "      <th>GarageQual</th>\n",
       "      <th></th>\n",
       "    </tr>\n",
       "  </thead>\n",
       "  <tbody>\n",
       "    <tr>\n",
       "      <th>Gd</th>\n",
       "      <td>160468.750000</td>\n",
       "    </tr>\n",
       "    <tr>\n",
       "      <th>TA</th>\n",
       "      <td>149641.088310</td>\n",
       "    </tr>\n",
       "    <tr>\n",
       "      <th>Ex</th>\n",
       "      <td>148500.000000</td>\n",
       "    </tr>\n",
       "    <tr>\n",
       "      <th>Fa</th>\n",
       "      <td>132382.427419</td>\n",
       "    </tr>\n",
       "    <tr>\n",
       "      <th>Po</th>\n",
       "      <td>116100.000000</td>\n",
       "    </tr>\n",
       "  </tbody>\n",
       "</table>\n",
       "</div>"
      ],
      "text/plain": [
       "                SalePrice\n",
       "GarageQual               \n",
       "Gd          160468.750000\n",
       "TA          149641.088310\n",
       "Ex          148500.000000\n",
       "Fa          132382.427419\n",
       "Po          116100.000000"
      ]
     },
     "execution_count": 114,
     "metadata": {},
     "output_type": "execute_result"
    }
   ],
   "source": [
    "data.groupby('GarageQual').agg({'SalePrice':'mean'}).sort_values('SalePrice', ascending = False)"
   ]
  },
  {
   "cell_type": "code",
   "execution_count": 115,
   "id": "d10cf763",
   "metadata": {
    "execution": {
     "iopub.execute_input": "2021-11-13T13:45:28.420068Z",
     "iopub.status.busy": "2021-11-13T13:45:28.419338Z",
     "iopub.status.idle": "2021-11-13T13:45:28.422800Z",
     "shell.execute_reply": "2021-11-13T13:45:28.422383Z",
     "shell.execute_reply.started": "2021-11-13T13:41:27.562391Z"
    },
    "papermill": {
     "duration": 0.230943,
     "end_time": "2021-11-13T13:45:28.422912",
     "exception": false,
     "start_time": "2021-11-13T13:45:28.191969",
     "status": "completed"
    },
    "tags": []
   },
   "outputs": [
    {
     "data": {
      "text/plain": [
       "TA    2763\n",
       "Fa     124\n",
       "Gd      24\n",
       "Po       5\n",
       "Ex       3\n",
       "Name: GarageQual, dtype: int64"
      ]
     },
     "execution_count": 115,
     "metadata": {},
     "output_type": "execute_result"
    }
   ],
   "source": [
    "data['GarageQual'].value_counts()"
   ]
  },
  {
   "cell_type": "code",
   "execution_count": 116,
   "id": "022d8609",
   "metadata": {
    "execution": {
     "iopub.execute_input": "2021-11-13T13:45:28.871803Z",
     "iopub.status.busy": "2021-11-13T13:45:28.871079Z",
     "iopub.status.idle": "2021-11-13T13:45:28.873965Z",
     "shell.execute_reply": "2021-11-13T13:45:28.874438Z",
     "shell.execute_reply.started": "2021-11-13T13:41:27.572850Z"
    },
    "papermill": {
     "duration": 0.232343,
     "end_time": "2021-11-13T13:45:28.874577",
     "exception": false,
     "start_time": "2021-11-13T13:45:28.642234",
     "status": "completed"
    },
    "tags": []
   },
   "outputs": [
    {
     "data": {
      "text/plain": [
       "3    2763\n",
       "2     124\n",
       "5      24\n",
       "1       5\n",
       "4       3\n",
       "Name: GarageQual, dtype: int64"
      ]
     },
     "execution_count": 116,
     "metadata": {},
     "output_type": "execute_result"
    }
   ],
   "source": [
    "garage_qua = {'Po':1, 'Fa':2, 'TA':3, 'Ex':4, 'Gd':5}\n",
    "\n",
    "data['GarageQual'] = data['GarageQual'].map(garage_qua).astype('int')\n",
    "\n",
    "data['GarageQual'].value_counts()"
   ]
  },
  {
   "cell_type": "markdown",
   "id": "846ce207",
   "metadata": {
    "papermill": {
     "duration": 0.223449,
     "end_time": "2021-11-13T13:45:29.317942",
     "exception": false,
     "start_time": "2021-11-13T13:45:29.094493",
     "status": "completed"
    },
    "tags": []
   },
   "source": [
    "- **PavedDrive** Değişknei, "
   ]
  },
  {
   "cell_type": "code",
   "execution_count": 117,
   "id": "1181d0c1",
   "metadata": {
    "execution": {
     "iopub.execute_input": "2021-11-13T13:45:29.770701Z",
     "iopub.status.busy": "2021-11-13T13:45:29.769994Z",
     "iopub.status.idle": "2021-11-13T13:45:29.773109Z",
     "shell.execute_reply": "2021-11-13T13:45:29.773629Z",
     "shell.execute_reply.started": "2021-11-13T13:41:27.586037Z"
    },
    "papermill": {
     "duration": 0.234257,
     "end_time": "2021-11-13T13:45:29.773788",
     "exception": false,
     "start_time": "2021-11-13T13:45:29.539531",
     "status": "completed"
    },
    "tags": []
   },
   "outputs": [
    {
     "data": {
      "text/html": [
       "<div>\n",
       "<style scoped>\n",
       "    .dataframe tbody tr th:only-of-type {\n",
       "        vertical-align: middle;\n",
       "    }\n",
       "\n",
       "    .dataframe tbody tr th {\n",
       "        vertical-align: top;\n",
       "    }\n",
       "\n",
       "    .dataframe thead th {\n",
       "        text-align: right;\n",
       "    }\n",
       "</style>\n",
       "<table border=\"1\" class=\"dataframe\">\n",
       "  <thead>\n",
       "    <tr style=\"text-align: right;\">\n",
       "      <th></th>\n",
       "      <th>SalePrice</th>\n",
       "    </tr>\n",
       "    <tr>\n",
       "      <th>PavedDrive</th>\n",
       "      <th></th>\n",
       "    </tr>\n",
       "  </thead>\n",
       "  <tbody>\n",
       "    <tr>\n",
       "      <th>Y</th>\n",
       "      <td>150870.714123</td>\n",
       "    </tr>\n",
       "    <tr>\n",
       "      <th>P</th>\n",
       "      <td>136006.451613</td>\n",
       "    </tr>\n",
       "    <tr>\n",
       "      <th>N</th>\n",
       "      <td>129023.342593</td>\n",
       "    </tr>\n",
       "  </tbody>\n",
       "</table>\n",
       "</div>"
      ],
      "text/plain": [
       "                SalePrice\n",
       "PavedDrive               \n",
       "Y           150870.714123\n",
       "P           136006.451613\n",
       "N           129023.342593"
      ]
     },
     "execution_count": 117,
     "metadata": {},
     "output_type": "execute_result"
    }
   ],
   "source": [
    "data.groupby('PavedDrive').agg({'SalePrice':'mean'}).sort_values('SalePrice',ascending = False)"
   ]
  },
  {
   "cell_type": "code",
   "execution_count": 118,
   "id": "9f2e7e85",
   "metadata": {
    "execution": {
     "iopub.execute_input": "2021-11-13T13:45:30.227832Z",
     "iopub.status.busy": "2021-11-13T13:45:30.226950Z",
     "iopub.status.idle": "2021-11-13T13:45:30.230668Z",
     "shell.execute_reply": "2021-11-13T13:45:30.230240Z",
     "shell.execute_reply.started": "2021-11-13T13:41:27.599964Z"
    },
    "papermill": {
     "duration": 0.236212,
     "end_time": "2021-11-13T13:45:30.230783",
     "exception": false,
     "start_time": "2021-11-13T13:45:29.994571",
     "status": "completed"
    },
    "tags": []
   },
   "outputs": [
    {
     "data": {
      "text/plain": [
       "Y    2641\n",
       "N     216\n",
       "P      62\n",
       "Name: PavedDrive, dtype: int64"
      ]
     },
     "execution_count": 118,
     "metadata": {},
     "output_type": "execute_result"
    }
   ],
   "source": [
    "data['PavedDrive'].value_counts()"
   ]
  },
  {
   "cell_type": "code",
   "execution_count": 119,
   "id": "d033bf45",
   "metadata": {
    "execution": {
     "iopub.execute_input": "2021-11-13T13:45:30.699915Z",
     "iopub.status.busy": "2021-11-13T13:45:30.699193Z",
     "iopub.status.idle": "2021-11-13T13:45:30.702331Z",
     "shell.execute_reply": "2021-11-13T13:45:30.702713Z",
     "shell.execute_reply.started": "2021-11-13T13:41:27.611565Z"
    },
    "papermill": {
     "duration": 0.240619,
     "end_time": "2021-11-13T13:45:30.702850",
     "exception": false,
     "start_time": "2021-11-13T13:45:30.462231",
     "status": "completed"
    },
    "tags": []
   },
   "outputs": [
    {
     "data": {
      "text/plain": [
       "3    2641\n",
       "1     216\n",
       "2      62\n",
       "Name: PavedDrive, dtype: int64"
      ]
     },
     "execution_count": 119,
     "metadata": {},
     "output_type": "execute_result"
    }
   ],
   "source": [
    "pave = {'N':1, 'P':2, 'Y':3}\n",
    "\n",
    "data['PavedDrive'] = data['PavedDrive'].map(pave).astype('int')\n",
    "\n",
    "data['PavedDrive'].value_counts()"
   ]
  },
  {
   "cell_type": "markdown",
   "id": "90551dca",
   "metadata": {
    "papermill": {
     "duration": 0.309841,
     "end_time": "2021-11-13T13:45:31.234616",
     "exception": false,
     "start_time": "2021-11-13T13:45:30.924775",
     "status": "completed"
    },
    "tags": []
   },
   "source": [
    "- **CentralAir** Değişkeni, Merkezi klima olup olmadığını ifade eder"
   ]
  },
  {
   "cell_type": "code",
   "execution_count": 120,
   "id": "d938cde6",
   "metadata": {
    "execution": {
     "iopub.execute_input": "2021-11-13T13:45:31.888246Z",
     "iopub.status.busy": "2021-11-13T13:45:31.887453Z",
     "iopub.status.idle": "2021-11-13T13:45:31.891117Z",
     "shell.execute_reply": "2021-11-13T13:45:31.891592Z",
     "shell.execute_reply.started": "2021-11-13T13:41:27.624923Z"
    },
    "papermill": {
     "duration": 0.257142,
     "end_time": "2021-11-13T13:45:31.891744",
     "exception": false,
     "start_time": "2021-11-13T13:45:31.634602",
     "status": "completed"
    },
    "tags": []
   },
   "outputs": [
    {
     "data": {
      "text/html": [
       "<div>\n",
       "<style scoped>\n",
       "    .dataframe tbody tr th:only-of-type {\n",
       "        vertical-align: middle;\n",
       "    }\n",
       "\n",
       "    .dataframe tbody tr th {\n",
       "        vertical-align: top;\n",
       "    }\n",
       "\n",
       "    .dataframe thead th {\n",
       "        text-align: right;\n",
       "    }\n",
       "</style>\n",
       "<table border=\"1\" class=\"dataframe\">\n",
       "  <thead>\n",
       "    <tr style=\"text-align: right;\">\n",
       "      <th></th>\n",
       "      <th>SalePrice</th>\n",
       "    </tr>\n",
       "    <tr>\n",
       "      <th>CentralAir</th>\n",
       "      <th></th>\n",
       "    </tr>\n",
       "  </thead>\n",
       "  <tbody>\n",
       "    <tr>\n",
       "      <th>Y</th>\n",
       "      <td>150842.963643</td>\n",
       "    </tr>\n",
       "    <tr>\n",
       "      <th>N</th>\n",
       "      <td>122477.591837</td>\n",
       "    </tr>\n",
       "  </tbody>\n",
       "</table>\n",
       "</div>"
      ],
      "text/plain": [
       "                SalePrice\n",
       "CentralAir               \n",
       "Y           150842.963643\n",
       "N           122477.591837"
      ]
     },
     "execution_count": 120,
     "metadata": {},
     "output_type": "execute_result"
    }
   ],
   "source": [
    "data.groupby('CentralAir').agg({'SalePrice':'mean'}).sort_values('SalePrice', ascending = False)"
   ]
  },
  {
   "cell_type": "code",
   "execution_count": 121,
   "id": "3f9b57a3",
   "metadata": {
    "execution": {
     "iopub.execute_input": "2021-11-13T13:45:32.365995Z",
     "iopub.status.busy": "2021-11-13T13:45:32.365232Z",
     "iopub.status.idle": "2021-11-13T13:45:32.375006Z",
     "shell.execute_reply": "2021-11-13T13:45:32.374577Z",
     "shell.execute_reply.started": "2021-11-13T13:41:27.640431Z"
    },
    "papermill": {
     "duration": 0.249919,
     "end_time": "2021-11-13T13:45:32.375114",
     "exception": false,
     "start_time": "2021-11-13T13:45:32.125195",
     "status": "completed"
    },
    "tags": []
   },
   "outputs": [
    {
     "data": {
      "text/plain": [
       "1    2723\n",
       "0     196\n",
       "Name: CentralAir, dtype: int64"
      ]
     },
     "execution_count": 121,
     "metadata": {},
     "output_type": "execute_result"
    }
   ],
   "source": [
    "data = data.replace({'CentralAir': {'Y':1, 'N':0}})\n",
    "\n",
    "data['CentralAir'].value_counts()"
   ]
  },
  {
   "cell_type": "markdown",
   "id": "1f1101ac",
   "metadata": {
    "papermill": {
     "duration": 0.221348,
     "end_time": "2021-11-13T13:45:32.820661",
     "exception": false,
     "start_time": "2021-11-13T13:45:32.599313",
     "status": "completed"
    },
    "tags": []
   },
   "source": [
    "- **LandSlope** Değişkeni, Mülkün Eğimini ifade eden sınıfları içerir."
   ]
  },
  {
   "cell_type": "code",
   "execution_count": 122,
   "id": "fdb7a7ed",
   "metadata": {
    "execution": {
     "iopub.execute_input": "2021-11-13T13:45:33.279264Z",
     "iopub.status.busy": "2021-11-13T13:45:33.273853Z",
     "iopub.status.idle": "2021-11-13T13:45:33.284120Z",
     "shell.execute_reply": "2021-11-13T13:45:33.283650Z",
     "shell.execute_reply.started": "2021-11-13T13:41:27.654914Z"
    },
    "papermill": {
     "duration": 0.240018,
     "end_time": "2021-11-13T13:45:33.284241",
     "exception": false,
     "start_time": "2021-11-13T13:45:33.044223",
     "status": "completed"
    },
    "tags": []
   },
   "outputs": [
    {
     "data": {
      "text/html": [
       "<div>\n",
       "<style scoped>\n",
       "    .dataframe tbody tr th:only-of-type {\n",
       "        vertical-align: middle;\n",
       "    }\n",
       "\n",
       "    .dataframe tbody tr th {\n",
       "        vertical-align: top;\n",
       "    }\n",
       "\n",
       "    .dataframe thead th {\n",
       "        text-align: right;\n",
       "    }\n",
       "</style>\n",
       "<table border=\"1\" class=\"dataframe\">\n",
       "  <thead>\n",
       "    <tr style=\"text-align: right;\">\n",
       "      <th></th>\n",
       "      <th>SalePrice</th>\n",
       "    </tr>\n",
       "    <tr>\n",
       "      <th>LandSlope</th>\n",
       "      <th></th>\n",
       "    </tr>\n",
       "  </thead>\n",
       "  <tbody>\n",
       "    <tr>\n",
       "      <th>Sev</th>\n",
       "      <td>161092.500000</td>\n",
       "    </tr>\n",
       "    <tr>\n",
       "      <th>Mod</th>\n",
       "      <td>150968.952000</td>\n",
       "    </tr>\n",
       "    <tr>\n",
       "      <th>Gtl</th>\n",
       "      <td>148776.961483</td>\n",
       "    </tr>\n",
       "  </tbody>\n",
       "</table>\n",
       "</div>"
      ],
      "text/plain": [
       "               SalePrice\n",
       "LandSlope               \n",
       "Sev        161092.500000\n",
       "Mod        150968.952000\n",
       "Gtl        148776.961483"
      ]
     },
     "execution_count": 122,
     "metadata": {},
     "output_type": "execute_result"
    }
   ],
   "source": [
    "data.groupby('LandSlope').agg({'SalePrice':'mean'}).sort_values('SalePrice', ascending = False)"
   ]
  },
  {
   "cell_type": "code",
   "execution_count": 123,
   "id": "63b2addb",
   "metadata": {
    "execution": {
     "iopub.execute_input": "2021-11-13T13:45:33.748933Z",
     "iopub.status.busy": "2021-11-13T13:45:33.745291Z",
     "iopub.status.idle": "2021-11-13T13:45:33.752234Z",
     "shell.execute_reply": "2021-11-13T13:45:33.751763Z",
     "shell.execute_reply.started": "2021-11-13T13:41:27.670376Z"
    },
    "papermill": {
     "duration": 0.235737,
     "end_time": "2021-11-13T13:45:33.752407",
     "exception": false,
     "start_time": "2021-11-13T13:45:33.516670",
     "status": "completed"
    },
    "tags": []
   },
   "outputs": [
    {
     "data": {
      "text/plain": [
       "1    2778\n",
       "2     125\n",
       "3      16\n",
       "Name: LandSlope, dtype: int64"
      ]
     },
     "execution_count": 123,
     "metadata": {},
     "output_type": "execute_result"
    }
   ],
   "source": [
    "land = {'Gtl':1, 'Mod':2, 'Sev':3}\n",
    "\n",
    "data['LandSlope'] = data['LandSlope'].map(land).astype('int')\n",
    "\n",
    "data['LandSlope'].value_counts()"
   ]
  },
  {
   "cell_type": "markdown",
   "id": "96d86baa",
   "metadata": {
    "papermill": {
     "duration": 0.222199,
     "end_time": "2021-11-13T13:45:34.197699",
     "exception": false,
     "start_time": "2021-11-13T13:45:33.975500",
     "status": "completed"
    },
    "tags": []
   },
   "source": [
    "- **PoolArea** Değişkenini, Metrekare cinsinden havuz alanını ifade eder.\n",
    "- **0** Havuz alanı olmadığını, \n",
    "- Diğer Değerler ise de Havuz Alanının kaç metrekare olduğunu ifade eder.\n",
    "- Biz **PoolArea** Değişkenini kullanarak yeni değişken elde edeceğiz.**Bu değişken bize Evin Havuzu var mı yok mu onun sınıfını döndürecek**"
   ]
  },
  {
   "cell_type": "code",
   "execution_count": 124,
   "id": "b32384d1",
   "metadata": {
    "execution": {
     "iopub.execute_input": "2021-11-13T13:45:34.647949Z",
     "iopub.status.busy": "2021-11-13T13:45:34.645474Z",
     "iopub.status.idle": "2021-11-13T13:45:34.653402Z",
     "shell.execute_reply": "2021-11-13T13:45:34.652926Z",
     "shell.execute_reply.started": "2021-11-13T13:41:27.683612Z"
    },
    "papermill": {
     "duration": 0.233645,
     "end_time": "2021-11-13T13:45:34.653532",
     "exception": false,
     "start_time": "2021-11-13T13:45:34.419887",
     "status": "completed"
    },
    "tags": []
   },
   "outputs": [
    {
     "data": {
      "text/plain": [
       "0      2906\n",
       "144       1\n",
       "228       1\n",
       "368       1\n",
       "444       1\n",
       "480       1\n",
       "512       1\n",
       "576       1\n",
       "648       1\n",
       "738       1\n",
       "800       1\n",
       "519       1\n",
       "555       1\n",
       "561       1\n",
       "Name: PoolArea, dtype: int64"
      ]
     },
     "execution_count": 124,
     "metadata": {},
     "output_type": "execute_result"
    }
   ],
   "source": [
    "data['PoolArea'].value_counts()"
   ]
  },
  {
   "cell_type": "code",
   "execution_count": 125,
   "id": "bc9817e1",
   "metadata": {
    "execution": {
     "iopub.execute_input": "2021-11-13T13:45:35.105868Z",
     "iopub.status.busy": "2021-11-13T13:45:35.105263Z",
     "iopub.status.idle": "2021-11-13T13:45:35.110614Z",
     "shell.execute_reply": "2021-11-13T13:45:35.110148Z",
     "shell.execute_reply.started": "2021-11-13T13:41:27.692595Z"
    },
    "papermill": {
     "duration": 0.235814,
     "end_time": "2021-11-13T13:45:35.110735",
     "exception": false,
     "start_time": "2021-11-13T13:45:34.874921",
     "status": "completed"
    },
    "tags": []
   },
   "outputs": [
    {
     "data": {
      "text/plain": [
       "0    2906\n",
       "1      13\n",
       "Name: PoolVr, dtype: int64"
      ]
     },
     "execution_count": 125,
     "metadata": {},
     "output_type": "execute_result"
    }
   ],
   "source": [
    "data['PoolVr'] = data['PoolArea'].apply(lambda i: 1 if i>0 else 0)\n",
    "\n",
    "data['PoolVr'].value_counts()"
   ]
  },
  {
   "cell_type": "markdown",
   "id": "6e4355e2",
   "metadata": {
    "papermill": {
     "duration": 0.224985,
     "end_time": "2021-11-13T13:45:35.558282",
     "exception": false,
     "start_time": "2021-11-13T13:45:35.333297",
     "status": "completed"
    },
    "tags": []
   },
   "source": [
    "- **CentralAir** değişkenini kullanarak yeni değişken elde edeceğiz.\n",
    "- **Merkezi Klima** bulunan evlerde klima vardır.Olmayan evlerde yoktur.Biz Evde klima olup olmadığını bize veren yeni değişken elde edeceğiz"
   ]
  },
  {
   "cell_type": "code",
   "execution_count": 126,
   "id": "49a15715",
   "metadata": {
    "execution": {
     "iopub.execute_input": "2021-11-13T13:45:36.013357Z",
     "iopub.status.busy": "2021-11-13T13:45:36.010741Z",
     "iopub.status.idle": "2021-11-13T13:45:36.018062Z",
     "shell.execute_reply": "2021-11-13T13:45:36.016992Z",
     "shell.execute_reply.started": "2021-11-13T13:41:27.706167Z"
    },
    "papermill": {
     "duration": 0.238133,
     "end_time": "2021-11-13T13:45:36.018208",
     "exception": false,
     "start_time": "2021-11-13T13:45:35.780075",
     "status": "completed"
    },
    "tags": []
   },
   "outputs": [
    {
     "data": {
      "text/plain": [
       "1    2723\n",
       "0     196\n",
       "Name: CentralAir, dtype: int64"
      ]
     },
     "execution_count": 126,
     "metadata": {},
     "output_type": "execute_result"
    }
   ],
   "source": [
    "data['CentralAir'].value_counts()"
   ]
  },
  {
   "cell_type": "code",
   "execution_count": 127,
   "id": "f91192ac",
   "metadata": {
    "execution": {
     "iopub.execute_input": "2021-11-13T13:45:36.486232Z",
     "iopub.status.busy": "2021-11-13T13:45:36.485566Z",
     "iopub.status.idle": "2021-11-13T13:45:36.488639Z",
     "shell.execute_reply": "2021-11-13T13:45:36.489022Z",
     "shell.execute_reply.started": "2021-11-13T13:41:27.716623Z"
    },
    "papermill": {
     "duration": 0.237706,
     "end_time": "2021-11-13T13:45:36.489159",
     "exception": false,
     "start_time": "2021-11-13T13:45:36.251453",
     "status": "completed"
    },
    "tags": []
   },
   "outputs": [
    {
     "data": {
      "text/plain": [
       "1    2723\n",
       "0     196\n",
       "Name: CentralAirVr, dtype: int64"
      ]
     },
     "execution_count": 127,
     "metadata": {},
     "output_type": "execute_result"
    }
   ],
   "source": [
    "data['CentralAirVr'] = data['CentralAir'].apply(lambda i: 1 if i>0 else 0)\n",
    "\n",
    "data['CentralAirVr'].value_counts()"
   ]
  },
  {
   "cell_type": "markdown",
   "id": "3ff9f387",
   "metadata": {
    "papermill": {
     "duration": 0.221469,
     "end_time": "2021-11-13T13:45:36.934739",
     "exception": false,
     "start_time": "2021-11-13T13:45:36.713270",
     "status": "completed"
    },
    "tags": []
   },
   "source": [
    "- **FirePlaces** Değişkenini kullanarak yeni değişken elde edeceğiz.\n",
    "- FirePlaces değişkeniz bizlere şömine sayısını veren değerlerden oluşur.\n",
    "- Bizde bu değerleri kullanarak evin şöminesinin olup olamdığını bize veren değişken elde edeceğiz"
   ]
  },
  {
   "cell_type": "code",
   "execution_count": 128,
   "id": "745436a3",
   "metadata": {
    "execution": {
     "iopub.execute_input": "2021-11-13T13:45:37.392481Z",
     "iopub.status.busy": "2021-11-13T13:45:37.391577Z",
     "iopub.status.idle": "2021-11-13T13:45:37.397665Z",
     "shell.execute_reply": "2021-11-13T13:45:37.398115Z",
     "shell.execute_reply.started": "2021-11-13T13:41:27.730113Z"
    },
    "papermill": {
     "duration": 0.237491,
     "end_time": "2021-11-13T13:45:37.398249",
     "exception": false,
     "start_time": "2021-11-13T13:45:37.160758",
     "status": "completed"
    },
    "tags": []
   },
   "outputs": [
    {
     "data": {
      "text/plain": [
       "1.5    2688\n",
       "2.0     219\n",
       "2.5      12\n",
       "Name: Fireplaces, dtype: int64"
      ]
     },
     "execution_count": 128,
     "metadata": {},
     "output_type": "execute_result"
    }
   ],
   "source": [
    "data['Fireplaces'].value_counts()"
   ]
  },
  {
   "cell_type": "code",
   "execution_count": 129,
   "id": "a8c13065",
   "metadata": {
    "execution": {
     "iopub.execute_input": "2021-11-13T13:45:37.865371Z",
     "iopub.status.busy": "2021-11-13T13:45:37.864603Z",
     "iopub.status.idle": "2021-11-13T13:45:37.867647Z",
     "shell.execute_reply": "2021-11-13T13:45:37.868168Z",
     "shell.execute_reply.started": "2021-11-13T13:41:27.740956Z"
    },
    "papermill": {
     "duration": 0.236683,
     "end_time": "2021-11-13T13:45:37.868300",
     "exception": false,
     "start_time": "2021-11-13T13:45:37.631617",
     "status": "completed"
    },
    "tags": []
   },
   "outputs": [
    {
     "data": {
      "text/plain": [
       "1    2919\n",
       "Name: FireplacesVr, dtype: int64"
      ]
     },
     "execution_count": 129,
     "metadata": {},
     "output_type": "execute_result"
    }
   ],
   "source": [
    "data['FireplacesVr'] = data['Fireplaces'].apply(lambda i: 1 if i>0 else 0)\n",
    "\n",
    "data['FireplacesVr'].value_counts()"
   ]
  },
  {
   "cell_type": "markdown",
   "id": "83000e59",
   "metadata": {
    "papermill": {
     "duration": 0.224356,
     "end_time": "2021-11-13T13:45:38.319584",
     "exception": false,
     "start_time": "2021-11-13T13:45:38.095228",
     "status": "completed"
    },
    "tags": []
   },
   "source": [
    "- **GarageCars** Değişkeni, bizlere Araba kapasitesindeki garajın büyüklüğünü ifade eden değereri verir.\n",
    "- Bizde bu değerleri kullanarak, Evin Garajı olup olmadığını bize veren yeni değişken elde edeceğiz"
   ]
  },
  {
   "cell_type": "code",
   "execution_count": 130,
   "id": "0d25092e",
   "metadata": {
    "execution": {
     "iopub.execute_input": "2021-11-13T13:45:38.779758Z",
     "iopub.status.busy": "2021-11-13T13:45:38.779040Z",
     "iopub.status.idle": "2021-11-13T13:45:38.782893Z",
     "shell.execute_reply": "2021-11-13T13:45:38.782399Z",
     "shell.execute_reply.started": "2021-11-13T13:41:27.753988Z"
    },
    "papermill": {
     "duration": 0.234978,
     "end_time": "2021-11-13T13:45:38.783032",
     "exception": false,
     "start_time": "2021-11-13T13:45:38.548054",
     "status": "completed"
    },
    "tags": []
   },
   "outputs": [
    {
     "data": {
      "text/plain": [
       "2.0    1595\n",
       "1.0     776\n",
       "3.0     374\n",
       "0.5     157\n",
       "3.5      17\n",
       "Name: GarageCars, dtype: int64"
      ]
     },
     "execution_count": 130,
     "metadata": {},
     "output_type": "execute_result"
    }
   ],
   "source": [
    "data['GarageCars'].value_counts()"
   ]
  },
  {
   "cell_type": "code",
   "execution_count": 131,
   "id": "d188d026",
   "metadata": {
    "execution": {
     "iopub.execute_input": "2021-11-13T13:45:39.250470Z",
     "iopub.status.busy": "2021-11-13T13:45:39.249730Z",
     "iopub.status.idle": "2021-11-13T13:45:39.252671Z",
     "shell.execute_reply": "2021-11-13T13:45:39.253125Z",
     "shell.execute_reply.started": "2021-11-13T13:41:27.765010Z"
    },
    "papermill": {
     "duration": 0.238304,
     "end_time": "2021-11-13T13:45:39.253260",
     "exception": false,
     "start_time": "2021-11-13T13:45:39.014956",
     "status": "completed"
    },
    "tags": []
   },
   "outputs": [
    {
     "data": {
      "text/plain": [
       "1    2919\n",
       "Name: GarageVr, dtype: int64"
      ]
     },
     "execution_count": 131,
     "metadata": {},
     "output_type": "execute_result"
    }
   ],
   "source": [
    "data['GarageVr'] = data['GarageCars'].apply(lambda i: 1 if i>0 else 0)\n",
    "\n",
    "data['GarageVr'].value_counts()"
   ]
  },
  {
   "cell_type": "markdown",
   "id": "37b34698",
   "metadata": {
    "papermill": {
     "duration": 0.225081,
     "end_time": "2021-11-13T13:45:39.703496",
     "exception": false,
     "start_time": "2021-11-13T13:45:39.478415",
     "status": "completed"
    },
    "tags": []
   },
   "source": [
    "# Label Encoder"
   ]
  },
  {
   "cell_type": "code",
   "execution_count": 132,
   "id": "c61472a8",
   "metadata": {
    "execution": {
     "iopub.execute_input": "2021-11-13T13:45:40.168300Z",
     "iopub.status.busy": "2021-11-13T13:45:40.167415Z",
     "iopub.status.idle": "2021-11-13T13:45:40.183113Z",
     "shell.execute_reply": "2021-11-13T13:45:40.184042Z",
     "shell.execute_reply.started": "2021-11-13T13:41:27.779634Z"
    },
    "papermill": {
     "duration": 0.256479,
     "end_time": "2021-11-13T13:45:40.184188",
     "exception": false,
     "start_time": "2021-11-13T13:45:39.927709",
     "status": "completed"
    },
    "tags": []
   },
   "outputs": [
    {
     "data": {
      "text/html": [
       "<div>\n",
       "<style scoped>\n",
       "    .dataframe tbody tr th:only-of-type {\n",
       "        vertical-align: middle;\n",
       "    }\n",
       "\n",
       "    .dataframe tbody tr th {\n",
       "        vertical-align: top;\n",
       "    }\n",
       "\n",
       "    .dataframe thead th {\n",
       "        text-align: right;\n",
       "    }\n",
       "</style>\n",
       "<table border=\"1\" class=\"dataframe\">\n",
       "  <thead>\n",
       "    <tr style=\"text-align: right;\">\n",
       "      <th></th>\n",
       "      <th>Id</th>\n",
       "      <th>MSSubClass</th>\n",
       "      <th>MSZoning</th>\n",
       "      <th>LotFrontage</th>\n",
       "      <th>LotArea</th>\n",
       "      <th>Street</th>\n",
       "      <th>LotShape</th>\n",
       "      <th>LandContour</th>\n",
       "      <th>Utilities</th>\n",
       "      <th>LotConfig</th>\n",
       "      <th>...</th>\n",
       "      <th>MiscVal</th>\n",
       "      <th>MoSold</th>\n",
       "      <th>YrSold</th>\n",
       "      <th>SaleType</th>\n",
       "      <th>SaleCondition</th>\n",
       "      <th>SalePrice</th>\n",
       "      <th>PoolVr</th>\n",
       "      <th>CentralAirVr</th>\n",
       "      <th>FireplacesVr</th>\n",
       "      <th>GarageVr</th>\n",
       "    </tr>\n",
       "  </thead>\n",
       "  <tbody>\n",
       "    <tr>\n",
       "      <th>0</th>\n",
       "      <td>1</td>\n",
       "      <td>60</td>\n",
       "      <td>3</td>\n",
       "      <td>65.0</td>\n",
       "      <td>8450</td>\n",
       "      <td>Pave</td>\n",
       "      <td>1</td>\n",
       "      <td>2</td>\n",
       "      <td>AllPub</td>\n",
       "      <td>1</td>\n",
       "      <td>...</td>\n",
       "      <td>0</td>\n",
       "      <td>Feb</td>\n",
       "      <td>2008</td>\n",
       "      <td>WD</td>\n",
       "      <td>Normal</td>\n",
       "      <td>197500.0</td>\n",
       "      <td>0</td>\n",
       "      <td>1</td>\n",
       "      <td>1</td>\n",
       "      <td>1</td>\n",
       "    </tr>\n",
       "    <tr>\n",
       "      <th>1</th>\n",
       "      <td>2</td>\n",
       "      <td>55</td>\n",
       "      <td>3</td>\n",
       "      <td>80.0</td>\n",
       "      <td>9600</td>\n",
       "      <td>Pave</td>\n",
       "      <td>1</td>\n",
       "      <td>2</td>\n",
       "      <td>AllPub</td>\n",
       "      <td>1</td>\n",
       "      <td>...</td>\n",
       "      <td>0</td>\n",
       "      <td>May</td>\n",
       "      <td>2007</td>\n",
       "      <td>WD</td>\n",
       "      <td>Normal</td>\n",
       "      <td>181500.0</td>\n",
       "      <td>0</td>\n",
       "      <td>1</td>\n",
       "      <td>1</td>\n",
       "      <td>1</td>\n",
       "    </tr>\n",
       "    <tr>\n",
       "      <th>2</th>\n",
       "      <td>3</td>\n",
       "      <td>60</td>\n",
       "      <td>3</td>\n",
       "      <td>68.0</td>\n",
       "      <td>11250</td>\n",
       "      <td>Pave</td>\n",
       "      <td>2</td>\n",
       "      <td>2</td>\n",
       "      <td>AllPub</td>\n",
       "      <td>1</td>\n",
       "      <td>...</td>\n",
       "      <td>0</td>\n",
       "      <td>Sep</td>\n",
       "      <td>2008</td>\n",
       "      <td>WD</td>\n",
       "      <td>Normal</td>\n",
       "      <td>197500.0</td>\n",
       "      <td>0</td>\n",
       "      <td>1</td>\n",
       "      <td>1</td>\n",
       "      <td>1</td>\n",
       "    </tr>\n",
       "    <tr>\n",
       "      <th>3</th>\n",
       "      <td>4</td>\n",
       "      <td>70</td>\n",
       "      <td>3</td>\n",
       "      <td>60.0</td>\n",
       "      <td>9550</td>\n",
       "      <td>Pave</td>\n",
       "      <td>2</td>\n",
       "      <td>2</td>\n",
       "      <td>AllPub</td>\n",
       "      <td>1</td>\n",
       "      <td>...</td>\n",
       "      <td>0</td>\n",
       "      <td>Feb</td>\n",
       "      <td>2006</td>\n",
       "      <td>WD</td>\n",
       "      <td>Abnorml</td>\n",
       "      <td>140000.0</td>\n",
       "      <td>0</td>\n",
       "      <td>1</td>\n",
       "      <td>1</td>\n",
       "      <td>1</td>\n",
       "    </tr>\n",
       "    <tr>\n",
       "      <th>4</th>\n",
       "      <td>5</td>\n",
       "      <td>60</td>\n",
       "      <td>3</td>\n",
       "      <td>84.0</td>\n",
       "      <td>14260</td>\n",
       "      <td>Pave</td>\n",
       "      <td>2</td>\n",
       "      <td>2</td>\n",
       "      <td>AllPub</td>\n",
       "      <td>1</td>\n",
       "      <td>...</td>\n",
       "      <td>0</td>\n",
       "      <td>Dec</td>\n",
       "      <td>2008</td>\n",
       "      <td>WD</td>\n",
       "      <td>Normal</td>\n",
       "      <td>197500.0</td>\n",
       "      <td>0</td>\n",
       "      <td>1</td>\n",
       "      <td>1</td>\n",
       "      <td>1</td>\n",
       "    </tr>\n",
       "    <tr>\n",
       "      <th>5</th>\n",
       "      <td>6</td>\n",
       "      <td>55</td>\n",
       "      <td>3</td>\n",
       "      <td>85.0</td>\n",
       "      <td>14115</td>\n",
       "      <td>Pave</td>\n",
       "      <td>2</td>\n",
       "      <td>2</td>\n",
       "      <td>AllPub</td>\n",
       "      <td>1</td>\n",
       "      <td>...</td>\n",
       "      <td>700</td>\n",
       "      <td>Oct</td>\n",
       "      <td>2009</td>\n",
       "      <td>WD</td>\n",
       "      <td>Normal</td>\n",
       "      <td>143000.0</td>\n",
       "      <td>0</td>\n",
       "      <td>1</td>\n",
       "      <td>1</td>\n",
       "      <td>1</td>\n",
       "    </tr>\n",
       "    <tr>\n",
       "      <th>6</th>\n",
       "      <td>7</td>\n",
       "      <td>55</td>\n",
       "      <td>3</td>\n",
       "      <td>75.0</td>\n",
       "      <td>10084</td>\n",
       "      <td>Pave</td>\n",
       "      <td>1</td>\n",
       "      <td>2</td>\n",
       "      <td>AllPub</td>\n",
       "      <td>1</td>\n",
       "      <td>...</td>\n",
       "      <td>0</td>\n",
       "      <td>Aug</td>\n",
       "      <td>2007</td>\n",
       "      <td>WD</td>\n",
       "      <td>Normal</td>\n",
       "      <td>197500.0</td>\n",
       "      <td>0</td>\n",
       "      <td>1</td>\n",
       "      <td>1</td>\n",
       "      <td>1</td>\n",
       "    </tr>\n",
       "    <tr>\n",
       "      <th>7</th>\n",
       "      <td>8</td>\n",
       "      <td>60</td>\n",
       "      <td>3</td>\n",
       "      <td>60.0</td>\n",
       "      <td>10382</td>\n",
       "      <td>Pave</td>\n",
       "      <td>2</td>\n",
       "      <td>2</td>\n",
       "      <td>AllPub</td>\n",
       "      <td>1</td>\n",
       "      <td>...</td>\n",
       "      <td>350</td>\n",
       "      <td>Nov</td>\n",
       "      <td>2009</td>\n",
       "      <td>WD</td>\n",
       "      <td>Normal</td>\n",
       "      <td>197500.0</td>\n",
       "      <td>0</td>\n",
       "      <td>1</td>\n",
       "      <td>1</td>\n",
       "      <td>1</td>\n",
       "    </tr>\n",
       "  </tbody>\n",
       "</table>\n",
       "<p>8 rows × 81 columns</p>\n",
       "</div>"
      ],
      "text/plain": [
       "   Id  MSSubClass  MSZoning  LotFrontage  LotArea Street  LotShape  \\\n",
       "0   1          60         3         65.0     8450   Pave         1   \n",
       "1   2          55         3         80.0     9600   Pave         1   \n",
       "2   3          60         3         68.0    11250   Pave         2   \n",
       "3   4          70         3         60.0     9550   Pave         2   \n",
       "4   5          60         3         84.0    14260   Pave         2   \n",
       "5   6          55         3         85.0    14115   Pave         2   \n",
       "6   7          55         3         75.0    10084   Pave         1   \n",
       "7   8          60         3         60.0    10382   Pave         2   \n",
       "\n",
       "   LandContour Utilities  LotConfig  ...  MiscVal  MoSold  YrSold SaleType  \\\n",
       "0            2    AllPub          1  ...        0     Feb    2008       WD   \n",
       "1            2    AllPub          1  ...        0     May    2007       WD   \n",
       "2            2    AllPub          1  ...        0     Sep    2008       WD   \n",
       "3            2    AllPub          1  ...        0     Feb    2006       WD   \n",
       "4            2    AllPub          1  ...        0     Dec    2008       WD   \n",
       "5            2    AllPub          1  ...      700     Oct    2009       WD   \n",
       "6            2    AllPub          1  ...        0     Aug    2007       WD   \n",
       "7            2    AllPub          1  ...      350     Nov    2009       WD   \n",
       "\n",
       "   SaleCondition SalePrice  PoolVr  CentralAirVr  FireplacesVr  GarageVr  \n",
       "0         Normal  197500.0       0             1             1         1  \n",
       "1         Normal  181500.0       0             1             1         1  \n",
       "2         Normal  197500.0       0             1             1         1  \n",
       "3        Abnorml  140000.0       0             1             1         1  \n",
       "4         Normal  197500.0       0             1             1         1  \n",
       "5         Normal  143000.0       0             1             1         1  \n",
       "6         Normal  197500.0       0             1             1         1  \n",
       "7         Normal  197500.0       0             1             1         1  \n",
       "\n",
       "[8 rows x 81 columns]"
      ]
     },
     "execution_count": 132,
     "metadata": {},
     "output_type": "execute_result"
    }
   ],
   "source": [
    "data.head(n=8)"
   ]
  },
  {
   "cell_type": "markdown",
   "id": "9f132b8c",
   "metadata": {
    "papermill": {
     "duration": 0.224688,
     "end_time": "2021-11-13T13:45:40.644353",
     "exception": false,
     "start_time": "2021-11-13T13:45:40.419665",
     "status": "completed"
    },
    "tags": []
   },
   "source": [
    "- 2 tane **Benzersiz Değeri** olan **Object** değişkenlerimize **Label Encoder** uyguladık."
   ]
  },
  {
   "cell_type": "code",
   "execution_count": 133,
   "id": "e2b7fa80",
   "metadata": {
    "execution": {
     "iopub.execute_input": "2021-11-13T13:45:41.119973Z",
     "iopub.status.busy": "2021-11-13T13:45:41.118954Z",
     "iopub.status.idle": "2021-11-13T13:45:41.254631Z",
     "shell.execute_reply": "2021-11-13T13:45:41.253722Z",
     "shell.execute_reply.started": "2021-11-13T13:41:27.812694Z"
    },
    "papermill": {
     "duration": 0.38232,
     "end_time": "2021-11-13T13:45:41.254780",
     "exception": false,
     "start_time": "2021-11-13T13:45:40.872460",
     "status": "completed"
    },
    "tags": []
   },
   "outputs": [],
   "source": [
    "from sklearn.preprocessing import LabelEncoder\n",
    "\n",
    "label_enc = LabelEncoder()\n",
    "\n",
    "def Label(df):\n",
    "    \n",
    "    cat_cols = [cols for cols in df.columns if df[cols].nunique() == 2\n",
    "               and df[cols].dtypes == 'object']\n",
    "    \n",
    "    for cols in cat_cols:\n",
    "        \n",
    "        df[cols] = label_enc.fit_transform(df[cols])\n",
    "        \n",
    "Label(data)"
   ]
  },
  {
   "cell_type": "code",
   "execution_count": 134,
   "id": "2c769dec",
   "metadata": {
    "execution": {
     "iopub.execute_input": "2021-11-13T13:45:41.714003Z",
     "iopub.status.busy": "2021-11-13T13:45:41.713367Z",
     "iopub.status.idle": "2021-11-13T13:45:41.716129Z",
     "shell.execute_reply": "2021-11-13T13:45:41.716651Z",
     "shell.execute_reply.started": "2021-11-13T13:41:27.850129Z"
    },
    "papermill": {
     "duration": 0.235701,
     "end_time": "2021-11-13T13:45:41.716794",
     "exception": false,
     "start_time": "2021-11-13T13:45:41.481093",
     "status": "completed"
    },
    "tags": []
   },
   "outputs": [
    {
     "data": {
      "text/plain": [
       "0    2918\n",
       "1       1\n",
       "Name: Utilities, dtype: int64"
      ]
     },
     "execution_count": 134,
     "metadata": {},
     "output_type": "execute_result"
    }
   ],
   "source": [
    "data['Utilities'].value_counts()"
   ]
  },
  {
   "cell_type": "code",
   "execution_count": 135,
   "id": "c2419c94",
   "metadata": {
    "execution": {
     "iopub.execute_input": "2021-11-13T13:45:42.231283Z",
     "iopub.status.busy": "2021-11-13T13:45:42.230293Z",
     "iopub.status.idle": "2021-11-13T13:45:42.237444Z",
     "shell.execute_reply": "2021-11-13T13:45:42.238112Z",
     "shell.execute_reply.started": "2021-11-13T13:41:27.860388Z"
    },
    "papermill": {
     "duration": 0.295049,
     "end_time": "2021-11-13T13:45:42.238329",
     "exception": false,
     "start_time": "2021-11-13T13:45:41.943280",
     "status": "completed"
    },
    "tags": []
   },
   "outputs": [
    {
     "data": {
      "text/plain": [
       "1    2907\n",
       "0      12\n",
       "Name: Street, dtype: int64"
      ]
     },
     "execution_count": 135,
     "metadata": {},
     "output_type": "execute_result"
    }
   ],
   "source": [
    "data['Street'].value_counts()"
   ]
  },
  {
   "cell_type": "markdown",
   "id": "2b8aa744",
   "metadata": {
    "papermill": {
     "duration": 0.249927,
     "end_time": "2021-11-13T13:45:42.894163",
     "exception": false,
     "start_time": "2021-11-13T13:45:42.644236",
     "status": "completed"
    },
    "tags": []
   },
   "source": [
    "# One Hot Encoder"
   ]
  },
  {
   "cell_type": "markdown",
   "id": "840573e1",
   "metadata": {
    "papermill": {
     "duration": 0.229574,
     "end_time": "2021-11-13T13:45:43.350759",
     "exception": false,
     "start_time": "2021-11-13T13:45:43.121185",
     "status": "completed"
    },
    "tags": []
   },
   "source": [
    "- **10 Benzersiz Değeri olan** Değişkenlere Bakalım"
   ]
  },
  {
   "cell_type": "code",
   "execution_count": 136,
   "id": "9e2c8330",
   "metadata": {
    "execution": {
     "iopub.execute_input": "2021-11-13T13:45:43.815282Z",
     "iopub.status.busy": "2021-11-13T13:45:43.814725Z",
     "iopub.status.idle": "2021-11-13T13:45:43.829929Z",
     "shell.execute_reply": "2021-11-13T13:45:43.830395Z",
     "shell.execute_reply.started": "2021-11-13T13:41:27.870536Z"
    },
    "papermill": {
     "duration": 0.249671,
     "end_time": "2021-11-13T13:45:43.830573",
     "exception": false,
     "start_time": "2021-11-13T13:45:43.580902",
     "status": "completed"
    },
    "tags": []
   },
   "outputs": [
    {
     "data": {
      "text/plain": [
       "['Condition2',\n",
       " 'HouseStyle',\n",
       " 'MasVnrType',\n",
       " 'Foundation',\n",
       " 'Electrical',\n",
       " 'GarageType',\n",
       " 'GarageFinish',\n",
       " 'SaleType',\n",
       " 'SaleCondition']"
      ]
     },
     "execution_count": 136,
     "metadata": {},
     "output_type": "execute_result"
    }
   ],
   "source": [
    "cat_cols = [cols for cols in data.columns if data[cols].dtypes == 'object'\n",
    "and data[cols].nunique() < 10]\n",
    "\n",
    "cat_cols"
   ]
  },
  {
   "cell_type": "markdown",
   "id": "0ec236e5",
   "metadata": {
    "papermill": {
     "duration": 0.227371,
     "end_time": "2021-11-13T13:45:44.286264",
     "exception": false,
     "start_time": "2021-11-13T13:45:44.058893",
     "status": "completed"
    },
    "tags": []
   },
   "source": [
    "- **10 Benzsersiz Değerden Fazla Değeri olan** Değişkenlere bakalım"
   ]
  },
  {
   "cell_type": "code",
   "execution_count": 137,
   "id": "426d9513",
   "metadata": {
    "execution": {
     "iopub.execute_input": "2021-11-13T13:45:44.744433Z",
     "iopub.status.busy": "2021-11-13T13:45:44.743633Z",
     "iopub.status.idle": "2021-11-13T13:45:44.746765Z",
     "shell.execute_reply": "2021-11-13T13:45:44.747141Z",
     "shell.execute_reply.started": "2021-11-13T13:41:28.019688Z"
    },
    "papermill": {
     "duration": 0.234713,
     "end_time": "2021-11-13T13:45:44.747279",
     "exception": false,
     "start_time": "2021-11-13T13:45:44.512566",
     "status": "completed"
    },
    "tags": []
   },
   "outputs": [
    {
     "data": {
      "text/plain": [
       "['Exterior1st', 'Exterior2nd', 'MoSold']"
      ]
     },
     "execution_count": 137,
     "metadata": {},
     "output_type": "execute_result"
    }
   ],
   "source": [
    "cat_but = [cols for cols in data.columns if data[cols].dtypes == 'object'\n",
    "and cols not in cat_cols]\n",
    "\n",
    "cat_but"
   ]
  },
  {
   "cell_type": "markdown",
   "id": "21adbd66",
   "metadata": {
    "papermill": {
     "duration": 0.226824,
     "end_time": "2021-11-13T13:45:45.201919",
     "exception": false,
     "start_time": "2021-11-13T13:45:44.975095",
     "status": "completed"
    },
    "tags": []
   },
   "source": [
    "- 10 tane Benzersiz Değerden fazla değeri olan değişkenlerin **Benzersiz Değer** Sayısını veren fonksiyon yazalım."
   ]
  },
  {
   "cell_type": "code",
   "execution_count": 138,
   "id": "72f6b927",
   "metadata": {
    "execution": {
     "iopub.execute_input": "2021-11-13T13:45:45.664233Z",
     "iopub.status.busy": "2021-11-13T13:45:45.663382Z",
     "iopub.status.idle": "2021-11-13T13:45:45.668998Z",
     "shell.execute_reply": "2021-11-13T13:45:45.668573Z",
     "shell.execute_reply.started": "2021-11-13T13:41:28.028801Z"
    },
    "papermill": {
     "duration": 0.239339,
     "end_time": "2021-11-13T13:45:45.669113",
     "exception": false,
     "start_time": "2021-11-13T13:45:45.429774",
     "status": "completed"
    },
    "tags": []
   },
   "outputs": [
    {
     "name": "stdout",
     "output_type": "stream",
     "text": [
      "'Exterior1st' Değişkenin Benzersiz Değer Sayısı : 15 \n",
      "\n",
      "'Exterior2nd' Değişkenin Benzersiz Değer Sayısı : 16 \n",
      "\n",
      "'MoSold' Değişkenin Benzersiz Değer Sayısı : 11 \n",
      "\n"
     ]
    }
   ],
   "source": [
    "def cat_on(df):\n",
    "    \n",
    "    for cols in cat_but:\n",
    "        \n",
    "        print(f\"'{cols}' Değişkenin Benzersiz Değer Sayısı : {df[cols].nunique()} \", end=\"\\n\\n\")\n",
    "\n",
    "cat_on(data)"
   ]
  },
  {
   "cell_type": "markdown",
   "id": "5c03c63a",
   "metadata": {
    "papermill": {
     "duration": 0.227671,
     "end_time": "2021-11-13T13:45:46.124637",
     "exception": false,
     "start_time": "2021-11-13T13:45:45.896966",
     "status": "completed"
    },
    "tags": []
   },
   "source": [
    "- Benzersiz değer sayısı en fazla **16** olduğunu gördük.\n",
    "- O yüzden **object** değişkenlerimizi **nunique()** kullanarak alırken hepsini alabilmek için **<= 16** demeliyiz."
   ]
  },
  {
   "cell_type": "code",
   "execution_count": 139,
   "id": "0e3948f8",
   "metadata": {
    "execution": {
     "iopub.execute_input": "2021-11-13T13:45:46.598337Z",
     "iopub.status.busy": "2021-11-13T13:45:46.597525Z",
     "iopub.status.idle": "2021-11-13T13:45:46.609494Z",
     "shell.execute_reply": "2021-11-13T13:45:46.609048Z",
     "shell.execute_reply.started": "2021-11-13T13:41:28.041512Z"
    },
    "papermill": {
     "duration": 0.245414,
     "end_time": "2021-11-13T13:45:46.609614",
     "exception": false,
     "start_time": "2021-11-13T13:45:46.364200",
     "status": "completed"
    },
    "tags": []
   },
   "outputs": [
    {
     "data": {
      "text/plain": [
       "['Condition2',\n",
       " 'HouseStyle',\n",
       " 'Exterior1st',\n",
       " 'Exterior2nd',\n",
       " 'MasVnrType',\n",
       " 'Foundation',\n",
       " 'Electrical',\n",
       " 'GarageType',\n",
       " 'GarageFinish',\n",
       " 'MoSold',\n",
       " 'SaleType',\n",
       " 'SaleCondition']"
      ]
     },
     "execution_count": 139,
     "metadata": {},
     "output_type": "execute_result"
    }
   ],
   "source": [
    "[cols for cols in data.columns if data[cols].dtypes == 'object'\n",
    "and data[cols].nunique() <= 16 ]"
   ]
  },
  {
   "cell_type": "markdown",
   "id": "d57c1deb",
   "metadata": {
    "papermill": {
     "duration": 0.22929,
     "end_time": "2021-11-13T13:45:47.069664",
     "exception": false,
     "start_time": "2021-11-13T13:45:46.840374",
     "status": "completed"
    },
    "tags": []
   },
   "source": [
    "- Bu **Object** değişkenlerimize One Hot Encoder Uygulayacağımız fonskiyon yazalım"
   ]
  },
  {
   "cell_type": "code",
   "execution_count": 140,
   "id": "31ca3e1f",
   "metadata": {
    "execution": {
     "iopub.execute_input": "2021-11-13T13:45:47.533312Z",
     "iopub.status.busy": "2021-11-13T13:45:47.532564Z",
     "iopub.status.idle": "2021-11-13T13:45:47.579631Z",
     "shell.execute_reply": "2021-11-13T13:45:47.580033Z",
     "shell.execute_reply.started": "2021-11-13T13:41:28.060313Z"
    },
    "papermill": {
     "duration": 0.280804,
     "end_time": "2021-11-13T13:45:47.580169",
     "exception": false,
     "start_time": "2021-11-13T13:45:47.299365",
     "status": "completed"
    },
    "tags": []
   },
   "outputs": [
    {
     "data": {
      "text/html": [
       "<div>\n",
       "<style scoped>\n",
       "    .dataframe tbody tr th:only-of-type {\n",
       "        vertical-align: middle;\n",
       "    }\n",
       "\n",
       "    .dataframe tbody tr th {\n",
       "        vertical-align: top;\n",
       "    }\n",
       "\n",
       "    .dataframe thead th {\n",
       "        text-align: right;\n",
       "    }\n",
       "</style>\n",
       "<table border=\"1\" class=\"dataframe\">\n",
       "  <thead>\n",
       "    <tr style=\"text-align: right;\">\n",
       "      <th></th>\n",
       "      <th>Id</th>\n",
       "      <th>MSSubClass</th>\n",
       "      <th>MSZoning</th>\n",
       "      <th>LotFrontage</th>\n",
       "      <th>LotArea</th>\n",
       "      <th>Street</th>\n",
       "      <th>LotShape</th>\n",
       "      <th>LandContour</th>\n",
       "      <th>Utilities</th>\n",
       "      <th>LotConfig</th>\n",
       "      <th>...</th>\n",
       "      <th>SaleType_ConLI</th>\n",
       "      <th>SaleType_ConLw</th>\n",
       "      <th>SaleType_New</th>\n",
       "      <th>SaleType_Oth</th>\n",
       "      <th>SaleType_WD</th>\n",
       "      <th>SaleCondition_AdjLand</th>\n",
       "      <th>SaleCondition_Alloca</th>\n",
       "      <th>SaleCondition_Family</th>\n",
       "      <th>SaleCondition_Normal</th>\n",
       "      <th>SaleCondition_Partial</th>\n",
       "    </tr>\n",
       "  </thead>\n",
       "  <tbody>\n",
       "    <tr>\n",
       "      <th>0</th>\n",
       "      <td>1</td>\n",
       "      <td>60</td>\n",
       "      <td>3</td>\n",
       "      <td>65.0</td>\n",
       "      <td>8450</td>\n",
       "      <td>1</td>\n",
       "      <td>1</td>\n",
       "      <td>2</td>\n",
       "      <td>0</td>\n",
       "      <td>1</td>\n",
       "      <td>...</td>\n",
       "      <td>0</td>\n",
       "      <td>0</td>\n",
       "      <td>0</td>\n",
       "      <td>0</td>\n",
       "      <td>1</td>\n",
       "      <td>0</td>\n",
       "      <td>0</td>\n",
       "      <td>0</td>\n",
       "      <td>1</td>\n",
       "      <td>0</td>\n",
       "    </tr>\n",
       "    <tr>\n",
       "      <th>1</th>\n",
       "      <td>2</td>\n",
       "      <td>55</td>\n",
       "      <td>3</td>\n",
       "      <td>80.0</td>\n",
       "      <td>9600</td>\n",
       "      <td>1</td>\n",
       "      <td>1</td>\n",
       "      <td>2</td>\n",
       "      <td>0</td>\n",
       "      <td>1</td>\n",
       "      <td>...</td>\n",
       "      <td>0</td>\n",
       "      <td>0</td>\n",
       "      <td>0</td>\n",
       "      <td>0</td>\n",
       "      <td>1</td>\n",
       "      <td>0</td>\n",
       "      <td>0</td>\n",
       "      <td>0</td>\n",
       "      <td>1</td>\n",
       "      <td>0</td>\n",
       "    </tr>\n",
       "    <tr>\n",
       "      <th>2</th>\n",
       "      <td>3</td>\n",
       "      <td>60</td>\n",
       "      <td>3</td>\n",
       "      <td>68.0</td>\n",
       "      <td>11250</td>\n",
       "      <td>1</td>\n",
       "      <td>2</td>\n",
       "      <td>2</td>\n",
       "      <td>0</td>\n",
       "      <td>1</td>\n",
       "      <td>...</td>\n",
       "      <td>0</td>\n",
       "      <td>0</td>\n",
       "      <td>0</td>\n",
       "      <td>0</td>\n",
       "      <td>1</td>\n",
       "      <td>0</td>\n",
       "      <td>0</td>\n",
       "      <td>0</td>\n",
       "      <td>1</td>\n",
       "      <td>0</td>\n",
       "    </tr>\n",
       "    <tr>\n",
       "      <th>3</th>\n",
       "      <td>4</td>\n",
       "      <td>70</td>\n",
       "      <td>3</td>\n",
       "      <td>60.0</td>\n",
       "      <td>9550</td>\n",
       "      <td>1</td>\n",
       "      <td>2</td>\n",
       "      <td>2</td>\n",
       "      <td>0</td>\n",
       "      <td>1</td>\n",
       "      <td>...</td>\n",
       "      <td>0</td>\n",
       "      <td>0</td>\n",
       "      <td>0</td>\n",
       "      <td>0</td>\n",
       "      <td>1</td>\n",
       "      <td>0</td>\n",
       "      <td>0</td>\n",
       "      <td>0</td>\n",
       "      <td>0</td>\n",
       "      <td>0</td>\n",
       "    </tr>\n",
       "    <tr>\n",
       "      <th>4</th>\n",
       "      <td>5</td>\n",
       "      <td>60</td>\n",
       "      <td>3</td>\n",
       "      <td>84.0</td>\n",
       "      <td>14260</td>\n",
       "      <td>1</td>\n",
       "      <td>2</td>\n",
       "      <td>2</td>\n",
       "      <td>0</td>\n",
       "      <td>1</td>\n",
       "      <td>...</td>\n",
       "      <td>0</td>\n",
       "      <td>0</td>\n",
       "      <td>0</td>\n",
       "      <td>0</td>\n",
       "      <td>1</td>\n",
       "      <td>0</td>\n",
       "      <td>0</td>\n",
       "      <td>0</td>\n",
       "      <td>1</td>\n",
       "      <td>0</td>\n",
       "    </tr>\n",
       "    <tr>\n",
       "      <th>...</th>\n",
       "      <td>...</td>\n",
       "      <td>...</td>\n",
       "      <td>...</td>\n",
       "      <td>...</td>\n",
       "      <td>...</td>\n",
       "      <td>...</td>\n",
       "      <td>...</td>\n",
       "      <td>...</td>\n",
       "      <td>...</td>\n",
       "      <td>...</td>\n",
       "      <td>...</td>\n",
       "      <td>...</td>\n",
       "      <td>...</td>\n",
       "      <td>...</td>\n",
       "      <td>...</td>\n",
       "      <td>...</td>\n",
       "      <td>...</td>\n",
       "      <td>...</td>\n",
       "      <td>...</td>\n",
       "      <td>...</td>\n",
       "      <td>...</td>\n",
       "    </tr>\n",
       "    <tr>\n",
       "      <th>1454</th>\n",
       "      <td>2915</td>\n",
       "      <td>145</td>\n",
       "      <td>1</td>\n",
       "      <td>21.0</td>\n",
       "      <td>1936</td>\n",
       "      <td>1</td>\n",
       "      <td>1</td>\n",
       "      <td>2</td>\n",
       "      <td>0</td>\n",
       "      <td>1</td>\n",
       "      <td>...</td>\n",
       "      <td>0</td>\n",
       "      <td>0</td>\n",
       "      <td>0</td>\n",
       "      <td>0</td>\n",
       "      <td>1</td>\n",
       "      <td>0</td>\n",
       "      <td>0</td>\n",
       "      <td>0</td>\n",
       "      <td>1</td>\n",
       "      <td>0</td>\n",
       "    </tr>\n",
       "    <tr>\n",
       "      <th>1455</th>\n",
       "      <td>2916</td>\n",
       "      <td>145</td>\n",
       "      <td>1</td>\n",
       "      <td>21.0</td>\n",
       "      <td>1894</td>\n",
       "      <td>1</td>\n",
       "      <td>1</td>\n",
       "      <td>2</td>\n",
       "      <td>0</td>\n",
       "      <td>1</td>\n",
       "      <td>...</td>\n",
       "      <td>0</td>\n",
       "      <td>0</td>\n",
       "      <td>0</td>\n",
       "      <td>0</td>\n",
       "      <td>1</td>\n",
       "      <td>0</td>\n",
       "      <td>0</td>\n",
       "      <td>0</td>\n",
       "      <td>0</td>\n",
       "      <td>0</td>\n",
       "    </tr>\n",
       "    <tr>\n",
       "      <th>1456</th>\n",
       "      <td>2917</td>\n",
       "      <td>55</td>\n",
       "      <td>3</td>\n",
       "      <td>105.0</td>\n",
       "      <td>17708</td>\n",
       "      <td>1</td>\n",
       "      <td>1</td>\n",
       "      <td>2</td>\n",
       "      <td>0</td>\n",
       "      <td>1</td>\n",
       "      <td>...</td>\n",
       "      <td>0</td>\n",
       "      <td>0</td>\n",
       "      <td>0</td>\n",
       "      <td>0</td>\n",
       "      <td>1</td>\n",
       "      <td>0</td>\n",
       "      <td>0</td>\n",
       "      <td>0</td>\n",
       "      <td>0</td>\n",
       "      <td>0</td>\n",
       "    </tr>\n",
       "    <tr>\n",
       "      <th>1457</th>\n",
       "      <td>2918</td>\n",
       "      <td>85</td>\n",
       "      <td>3</td>\n",
       "      <td>62.0</td>\n",
       "      <td>10441</td>\n",
       "      <td>1</td>\n",
       "      <td>1</td>\n",
       "      <td>2</td>\n",
       "      <td>0</td>\n",
       "      <td>1</td>\n",
       "      <td>...</td>\n",
       "      <td>0</td>\n",
       "      <td>0</td>\n",
       "      <td>0</td>\n",
       "      <td>0</td>\n",
       "      <td>1</td>\n",
       "      <td>0</td>\n",
       "      <td>0</td>\n",
       "      <td>0</td>\n",
       "      <td>1</td>\n",
       "      <td>0</td>\n",
       "    </tr>\n",
       "    <tr>\n",
       "      <th>1458</th>\n",
       "      <td>2919</td>\n",
       "      <td>60</td>\n",
       "      <td>3</td>\n",
       "      <td>74.0</td>\n",
       "      <td>9627</td>\n",
       "      <td>1</td>\n",
       "      <td>1</td>\n",
       "      <td>2</td>\n",
       "      <td>0</td>\n",
       "      <td>1</td>\n",
       "      <td>...</td>\n",
       "      <td>0</td>\n",
       "      <td>0</td>\n",
       "      <td>0</td>\n",
       "      <td>0</td>\n",
       "      <td>1</td>\n",
       "      <td>0</td>\n",
       "      <td>0</td>\n",
       "      <td>0</td>\n",
       "      <td>1</td>\n",
       "      <td>0</td>\n",
       "    </tr>\n",
       "  </tbody>\n",
       "</table>\n",
       "<p>2919 rows × 154 columns</p>\n",
       "</div>"
      ],
      "text/plain": [
       "        Id  MSSubClass  MSZoning  LotFrontage  LotArea  Street  LotShape  \\\n",
       "0        1          60         3         65.0     8450       1         1   \n",
       "1        2          55         3         80.0     9600       1         1   \n",
       "2        3          60         3         68.0    11250       1         2   \n",
       "3        4          70         3         60.0     9550       1         2   \n",
       "4        5          60         3         84.0    14260       1         2   \n",
       "...    ...         ...       ...          ...      ...     ...       ...   \n",
       "1454  2915         145         1         21.0     1936       1         1   \n",
       "1455  2916         145         1         21.0     1894       1         1   \n",
       "1456  2917          55         3        105.0    17708       1         1   \n",
       "1457  2918          85         3         62.0    10441       1         1   \n",
       "1458  2919          60         3         74.0     9627       1         1   \n",
       "\n",
       "      LandContour  Utilities  LotConfig  ...  SaleType_ConLI  SaleType_ConLw  \\\n",
       "0               2          0          1  ...               0               0   \n",
       "1               2          0          1  ...               0               0   \n",
       "2               2          0          1  ...               0               0   \n",
       "3               2          0          1  ...               0               0   \n",
       "4               2          0          1  ...               0               0   \n",
       "...           ...        ...        ...  ...             ...             ...   \n",
       "1454            2          0          1  ...               0               0   \n",
       "1455            2          0          1  ...               0               0   \n",
       "1456            2          0          1  ...               0               0   \n",
       "1457            2          0          1  ...               0               0   \n",
       "1458            2          0          1  ...               0               0   \n",
       "\n",
       "      SaleType_New  SaleType_Oth  SaleType_WD  SaleCondition_AdjLand  \\\n",
       "0                0             0            1                      0   \n",
       "1                0             0            1                      0   \n",
       "2                0             0            1                      0   \n",
       "3                0             0            1                      0   \n",
       "4                0             0            1                      0   \n",
       "...            ...           ...          ...                    ...   \n",
       "1454             0             0            1                      0   \n",
       "1455             0             0            1                      0   \n",
       "1456             0             0            1                      0   \n",
       "1457             0             0            1                      0   \n",
       "1458             0             0            1                      0   \n",
       "\n",
       "      SaleCondition_Alloca  SaleCondition_Family  SaleCondition_Normal  \\\n",
       "0                        0                     0                     1   \n",
       "1                        0                     0                     1   \n",
       "2                        0                     0                     1   \n",
       "3                        0                     0                     0   \n",
       "4                        0                     0                     1   \n",
       "...                    ...                   ...                   ...   \n",
       "1454                     0                     0                     1   \n",
       "1455                     0                     0                     0   \n",
       "1456                     0                     0                     0   \n",
       "1457                     0                     0                     1   \n",
       "1458                     0                     0                     1   \n",
       "\n",
       "      SaleCondition_Partial  \n",
       "0                         0  \n",
       "1                         0  \n",
       "2                         0  \n",
       "3                         0  \n",
       "4                         0  \n",
       "...                     ...  \n",
       "1454                      0  \n",
       "1455                      0  \n",
       "1456                      0  \n",
       "1457                      0  \n",
       "1458                      0  \n",
       "\n",
       "[2919 rows x 154 columns]"
      ]
     },
     "execution_count": 140,
     "metadata": {},
     "output_type": "execute_result"
    }
   ],
   "source": [
    "def OneHot(df, number = 16):\n",
    "    \n",
    "    cat_cols = [cols for cols in df.columns if df[cols].dtypes == 'object'\n",
    "               and df[cols].nunique() <= int(number)]\n",
    "    \n",
    "    df = pd.get_dummies(df, columns = cat_cols, drop_first = True)\n",
    "    \n",
    "    return df \n",
    "\n",
    "OneHot(data, number = 16)"
   ]
  },
  {
   "cell_type": "code",
   "execution_count": 141,
   "id": "60d9e005",
   "metadata": {
    "execution": {
     "iopub.execute_input": "2021-11-13T13:45:48.049254Z",
     "iopub.status.busy": "2021-11-13T13:45:48.048438Z",
     "iopub.status.idle": "2021-11-13T13:45:48.096191Z",
     "shell.execute_reply": "2021-11-13T13:45:48.096657Z",
     "shell.execute_reply.started": "2021-11-13T13:41:28.117399Z"
    },
    "papermill": {
     "duration": 0.282633,
     "end_time": "2021-11-13T13:45:48.096809",
     "exception": false,
     "start_time": "2021-11-13T13:45:47.814176",
     "status": "completed"
    },
    "tags": []
   },
   "outputs": [
    {
     "data": {
      "text/html": [
       "<div>\n",
       "<style scoped>\n",
       "    .dataframe tbody tr th:only-of-type {\n",
       "        vertical-align: middle;\n",
       "    }\n",
       "\n",
       "    .dataframe tbody tr th {\n",
       "        vertical-align: top;\n",
       "    }\n",
       "\n",
       "    .dataframe thead th {\n",
       "        text-align: right;\n",
       "    }\n",
       "</style>\n",
       "<table border=\"1\" class=\"dataframe\">\n",
       "  <thead>\n",
       "    <tr style=\"text-align: right;\">\n",
       "      <th></th>\n",
       "      <th>Id</th>\n",
       "      <th>MSSubClass</th>\n",
       "      <th>MSZoning</th>\n",
       "      <th>LotFrontage</th>\n",
       "      <th>LotArea</th>\n",
       "      <th>Street</th>\n",
       "      <th>LotShape</th>\n",
       "      <th>LandContour</th>\n",
       "      <th>Utilities</th>\n",
       "      <th>LotConfig</th>\n",
       "      <th>...</th>\n",
       "      <th>SaleType_ConLI</th>\n",
       "      <th>SaleType_ConLw</th>\n",
       "      <th>SaleType_New</th>\n",
       "      <th>SaleType_Oth</th>\n",
       "      <th>SaleType_WD</th>\n",
       "      <th>SaleCondition_AdjLand</th>\n",
       "      <th>SaleCondition_Alloca</th>\n",
       "      <th>SaleCondition_Family</th>\n",
       "      <th>SaleCondition_Normal</th>\n",
       "      <th>SaleCondition_Partial</th>\n",
       "    </tr>\n",
       "  </thead>\n",
       "  <tbody>\n",
       "    <tr>\n",
       "      <th>0</th>\n",
       "      <td>1</td>\n",
       "      <td>60</td>\n",
       "      <td>3</td>\n",
       "      <td>65.0</td>\n",
       "      <td>8450</td>\n",
       "      <td>1</td>\n",
       "      <td>1</td>\n",
       "      <td>2</td>\n",
       "      <td>0</td>\n",
       "      <td>1</td>\n",
       "      <td>...</td>\n",
       "      <td>0</td>\n",
       "      <td>0</td>\n",
       "      <td>0</td>\n",
       "      <td>0</td>\n",
       "      <td>1</td>\n",
       "      <td>0</td>\n",
       "      <td>0</td>\n",
       "      <td>0</td>\n",
       "      <td>1</td>\n",
       "      <td>0</td>\n",
       "    </tr>\n",
       "    <tr>\n",
       "      <th>1</th>\n",
       "      <td>2</td>\n",
       "      <td>55</td>\n",
       "      <td>3</td>\n",
       "      <td>80.0</td>\n",
       "      <td>9600</td>\n",
       "      <td>1</td>\n",
       "      <td>1</td>\n",
       "      <td>2</td>\n",
       "      <td>0</td>\n",
       "      <td>1</td>\n",
       "      <td>...</td>\n",
       "      <td>0</td>\n",
       "      <td>0</td>\n",
       "      <td>0</td>\n",
       "      <td>0</td>\n",
       "      <td>1</td>\n",
       "      <td>0</td>\n",
       "      <td>0</td>\n",
       "      <td>0</td>\n",
       "      <td>1</td>\n",
       "      <td>0</td>\n",
       "    </tr>\n",
       "    <tr>\n",
       "      <th>2</th>\n",
       "      <td>3</td>\n",
       "      <td>60</td>\n",
       "      <td>3</td>\n",
       "      <td>68.0</td>\n",
       "      <td>11250</td>\n",
       "      <td>1</td>\n",
       "      <td>2</td>\n",
       "      <td>2</td>\n",
       "      <td>0</td>\n",
       "      <td>1</td>\n",
       "      <td>...</td>\n",
       "      <td>0</td>\n",
       "      <td>0</td>\n",
       "      <td>0</td>\n",
       "      <td>0</td>\n",
       "      <td>1</td>\n",
       "      <td>0</td>\n",
       "      <td>0</td>\n",
       "      <td>0</td>\n",
       "      <td>1</td>\n",
       "      <td>0</td>\n",
       "    </tr>\n",
       "    <tr>\n",
       "      <th>3</th>\n",
       "      <td>4</td>\n",
       "      <td>70</td>\n",
       "      <td>3</td>\n",
       "      <td>60.0</td>\n",
       "      <td>9550</td>\n",
       "      <td>1</td>\n",
       "      <td>2</td>\n",
       "      <td>2</td>\n",
       "      <td>0</td>\n",
       "      <td>1</td>\n",
       "      <td>...</td>\n",
       "      <td>0</td>\n",
       "      <td>0</td>\n",
       "      <td>0</td>\n",
       "      <td>0</td>\n",
       "      <td>1</td>\n",
       "      <td>0</td>\n",
       "      <td>0</td>\n",
       "      <td>0</td>\n",
       "      <td>0</td>\n",
       "      <td>0</td>\n",
       "    </tr>\n",
       "    <tr>\n",
       "      <th>4</th>\n",
       "      <td>5</td>\n",
       "      <td>60</td>\n",
       "      <td>3</td>\n",
       "      <td>84.0</td>\n",
       "      <td>14260</td>\n",
       "      <td>1</td>\n",
       "      <td>2</td>\n",
       "      <td>2</td>\n",
       "      <td>0</td>\n",
       "      <td>1</td>\n",
       "      <td>...</td>\n",
       "      <td>0</td>\n",
       "      <td>0</td>\n",
       "      <td>0</td>\n",
       "      <td>0</td>\n",
       "      <td>1</td>\n",
       "      <td>0</td>\n",
       "      <td>0</td>\n",
       "      <td>0</td>\n",
       "      <td>1</td>\n",
       "      <td>0</td>\n",
       "    </tr>\n",
       "    <tr>\n",
       "      <th>...</th>\n",
       "      <td>...</td>\n",
       "      <td>...</td>\n",
       "      <td>...</td>\n",
       "      <td>...</td>\n",
       "      <td>...</td>\n",
       "      <td>...</td>\n",
       "      <td>...</td>\n",
       "      <td>...</td>\n",
       "      <td>...</td>\n",
       "      <td>...</td>\n",
       "      <td>...</td>\n",
       "      <td>...</td>\n",
       "      <td>...</td>\n",
       "      <td>...</td>\n",
       "      <td>...</td>\n",
       "      <td>...</td>\n",
       "      <td>...</td>\n",
       "      <td>...</td>\n",
       "      <td>...</td>\n",
       "      <td>...</td>\n",
       "      <td>...</td>\n",
       "    </tr>\n",
       "    <tr>\n",
       "      <th>1454</th>\n",
       "      <td>2915</td>\n",
       "      <td>145</td>\n",
       "      <td>1</td>\n",
       "      <td>21.0</td>\n",
       "      <td>1936</td>\n",
       "      <td>1</td>\n",
       "      <td>1</td>\n",
       "      <td>2</td>\n",
       "      <td>0</td>\n",
       "      <td>1</td>\n",
       "      <td>...</td>\n",
       "      <td>0</td>\n",
       "      <td>0</td>\n",
       "      <td>0</td>\n",
       "      <td>0</td>\n",
       "      <td>1</td>\n",
       "      <td>0</td>\n",
       "      <td>0</td>\n",
       "      <td>0</td>\n",
       "      <td>1</td>\n",
       "      <td>0</td>\n",
       "    </tr>\n",
       "    <tr>\n",
       "      <th>1455</th>\n",
       "      <td>2916</td>\n",
       "      <td>145</td>\n",
       "      <td>1</td>\n",
       "      <td>21.0</td>\n",
       "      <td>1894</td>\n",
       "      <td>1</td>\n",
       "      <td>1</td>\n",
       "      <td>2</td>\n",
       "      <td>0</td>\n",
       "      <td>1</td>\n",
       "      <td>...</td>\n",
       "      <td>0</td>\n",
       "      <td>0</td>\n",
       "      <td>0</td>\n",
       "      <td>0</td>\n",
       "      <td>1</td>\n",
       "      <td>0</td>\n",
       "      <td>0</td>\n",
       "      <td>0</td>\n",
       "      <td>0</td>\n",
       "      <td>0</td>\n",
       "    </tr>\n",
       "    <tr>\n",
       "      <th>1456</th>\n",
       "      <td>2917</td>\n",
       "      <td>55</td>\n",
       "      <td>3</td>\n",
       "      <td>105.0</td>\n",
       "      <td>17708</td>\n",
       "      <td>1</td>\n",
       "      <td>1</td>\n",
       "      <td>2</td>\n",
       "      <td>0</td>\n",
       "      <td>1</td>\n",
       "      <td>...</td>\n",
       "      <td>0</td>\n",
       "      <td>0</td>\n",
       "      <td>0</td>\n",
       "      <td>0</td>\n",
       "      <td>1</td>\n",
       "      <td>0</td>\n",
       "      <td>0</td>\n",
       "      <td>0</td>\n",
       "      <td>0</td>\n",
       "      <td>0</td>\n",
       "    </tr>\n",
       "    <tr>\n",
       "      <th>1457</th>\n",
       "      <td>2918</td>\n",
       "      <td>85</td>\n",
       "      <td>3</td>\n",
       "      <td>62.0</td>\n",
       "      <td>10441</td>\n",
       "      <td>1</td>\n",
       "      <td>1</td>\n",
       "      <td>2</td>\n",
       "      <td>0</td>\n",
       "      <td>1</td>\n",
       "      <td>...</td>\n",
       "      <td>0</td>\n",
       "      <td>0</td>\n",
       "      <td>0</td>\n",
       "      <td>0</td>\n",
       "      <td>1</td>\n",
       "      <td>0</td>\n",
       "      <td>0</td>\n",
       "      <td>0</td>\n",
       "      <td>1</td>\n",
       "      <td>0</td>\n",
       "    </tr>\n",
       "    <tr>\n",
       "      <th>1458</th>\n",
       "      <td>2919</td>\n",
       "      <td>60</td>\n",
       "      <td>3</td>\n",
       "      <td>74.0</td>\n",
       "      <td>9627</td>\n",
       "      <td>1</td>\n",
       "      <td>1</td>\n",
       "      <td>2</td>\n",
       "      <td>0</td>\n",
       "      <td>1</td>\n",
       "      <td>...</td>\n",
       "      <td>0</td>\n",
       "      <td>0</td>\n",
       "      <td>0</td>\n",
       "      <td>0</td>\n",
       "      <td>1</td>\n",
       "      <td>0</td>\n",
       "      <td>0</td>\n",
       "      <td>0</td>\n",
       "      <td>1</td>\n",
       "      <td>0</td>\n",
       "    </tr>\n",
       "  </tbody>\n",
       "</table>\n",
       "<p>2919 rows × 154 columns</p>\n",
       "</div>"
      ],
      "text/plain": [
       "        Id  MSSubClass  MSZoning  LotFrontage  LotArea  Street  LotShape  \\\n",
       "0        1          60         3         65.0     8450       1         1   \n",
       "1        2          55         3         80.0     9600       1         1   \n",
       "2        3          60         3         68.0    11250       1         2   \n",
       "3        4          70         3         60.0     9550       1         2   \n",
       "4        5          60         3         84.0    14260       1         2   \n",
       "...    ...         ...       ...          ...      ...     ...       ...   \n",
       "1454  2915         145         1         21.0     1936       1         1   \n",
       "1455  2916         145         1         21.0     1894       1         1   \n",
       "1456  2917          55         3        105.0    17708       1         1   \n",
       "1457  2918          85         3         62.0    10441       1         1   \n",
       "1458  2919          60         3         74.0     9627       1         1   \n",
       "\n",
       "      LandContour  Utilities  LotConfig  ...  SaleType_ConLI  SaleType_ConLw  \\\n",
       "0               2          0          1  ...               0               0   \n",
       "1               2          0          1  ...               0               0   \n",
       "2               2          0          1  ...               0               0   \n",
       "3               2          0          1  ...               0               0   \n",
       "4               2          0          1  ...               0               0   \n",
       "...           ...        ...        ...  ...             ...             ...   \n",
       "1454            2          0          1  ...               0               0   \n",
       "1455            2          0          1  ...               0               0   \n",
       "1456            2          0          1  ...               0               0   \n",
       "1457            2          0          1  ...               0               0   \n",
       "1458            2          0          1  ...               0               0   \n",
       "\n",
       "      SaleType_New  SaleType_Oth  SaleType_WD  SaleCondition_AdjLand  \\\n",
       "0                0             0            1                      0   \n",
       "1                0             0            1                      0   \n",
       "2                0             0            1                      0   \n",
       "3                0             0            1                      0   \n",
       "4                0             0            1                      0   \n",
       "...            ...           ...          ...                    ...   \n",
       "1454             0             0            1                      0   \n",
       "1455             0             0            1                      0   \n",
       "1456             0             0            1                      0   \n",
       "1457             0             0            1                      0   \n",
       "1458             0             0            1                      0   \n",
       "\n",
       "      SaleCondition_Alloca  SaleCondition_Family  SaleCondition_Normal  \\\n",
       "0                        0                     0                     1   \n",
       "1                        0                     0                     1   \n",
       "2                        0                     0                     1   \n",
       "3                        0                     0                     0   \n",
       "4                        0                     0                     1   \n",
       "...                    ...                   ...                   ...   \n",
       "1454                     0                     0                     1   \n",
       "1455                     0                     0                     0   \n",
       "1456                     0                     0                     0   \n",
       "1457                     0                     0                     1   \n",
       "1458                     0                     0                     1   \n",
       "\n",
       "      SaleCondition_Partial  \n",
       "0                         0  \n",
       "1                         0  \n",
       "2                         0  \n",
       "3                         0  \n",
       "4                         0  \n",
       "...                     ...  \n",
       "1454                      0  \n",
       "1455                      0  \n",
       "1456                      0  \n",
       "1457                      0  \n",
       "1458                      0  \n",
       "\n",
       "[2919 rows x 154 columns]"
      ]
     },
     "execution_count": 141,
     "metadata": {},
     "output_type": "execute_result"
    }
   ],
   "source": [
    "data = OneHot(data, number = 16)\n",
    "\n",
    "data"
   ]
  },
  {
   "cell_type": "code",
   "execution_count": 142,
   "id": "0d604312",
   "metadata": {
    "execution": {
     "iopub.execute_input": "2021-11-13T13:45:48.565583Z",
     "iopub.status.busy": "2021-11-13T13:45:48.564751Z",
     "iopub.status.idle": "2021-11-13T13:45:48.582859Z",
     "shell.execute_reply": "2021-11-13T13:45:48.582390Z",
     "shell.execute_reply.started": "2021-11-13T13:41:28.174035Z"
    },
    "papermill": {
     "duration": 0.250545,
     "end_time": "2021-11-13T13:45:48.582968",
     "exception": false,
     "start_time": "2021-11-13T13:45:48.332423",
     "status": "completed"
    },
    "tags": []
   },
   "outputs": [
    {
     "data": {
      "text/html": [
       "<div>\n",
       "<style scoped>\n",
       "    .dataframe tbody tr th:only-of-type {\n",
       "        vertical-align: middle;\n",
       "    }\n",
       "\n",
       "    .dataframe tbody tr th {\n",
       "        vertical-align: top;\n",
       "    }\n",
       "\n",
       "    .dataframe thead th {\n",
       "        text-align: right;\n",
       "    }\n",
       "</style>\n",
       "<table border=\"1\" class=\"dataframe\">\n",
       "  <thead>\n",
       "    <tr style=\"text-align: right;\">\n",
       "      <th></th>\n",
       "      <th>Id</th>\n",
       "      <th>MSSubClass</th>\n",
       "      <th>MSZoning</th>\n",
       "      <th>LotFrontage</th>\n",
       "      <th>LotArea</th>\n",
       "      <th>Street</th>\n",
       "      <th>LotShape</th>\n",
       "      <th>LandContour</th>\n",
       "      <th>Utilities</th>\n",
       "      <th>LotConfig</th>\n",
       "      <th>...</th>\n",
       "      <th>SaleType_ConLI</th>\n",
       "      <th>SaleType_ConLw</th>\n",
       "      <th>SaleType_New</th>\n",
       "      <th>SaleType_Oth</th>\n",
       "      <th>SaleType_WD</th>\n",
       "      <th>SaleCondition_AdjLand</th>\n",
       "      <th>SaleCondition_Alloca</th>\n",
       "      <th>SaleCondition_Family</th>\n",
       "      <th>SaleCondition_Normal</th>\n",
       "      <th>SaleCondition_Partial</th>\n",
       "    </tr>\n",
       "  </thead>\n",
       "  <tbody>\n",
       "    <tr>\n",
       "      <th>0</th>\n",
       "      <td>1</td>\n",
       "      <td>60</td>\n",
       "      <td>3</td>\n",
       "      <td>65.0</td>\n",
       "      <td>8450</td>\n",
       "      <td>1</td>\n",
       "      <td>1</td>\n",
       "      <td>2</td>\n",
       "      <td>0</td>\n",
       "      <td>1</td>\n",
       "      <td>...</td>\n",
       "      <td>0</td>\n",
       "      <td>0</td>\n",
       "      <td>0</td>\n",
       "      <td>0</td>\n",
       "      <td>1</td>\n",
       "      <td>0</td>\n",
       "      <td>0</td>\n",
       "      <td>0</td>\n",
       "      <td>1</td>\n",
       "      <td>0</td>\n",
       "    </tr>\n",
       "    <tr>\n",
       "      <th>1</th>\n",
       "      <td>2</td>\n",
       "      <td>55</td>\n",
       "      <td>3</td>\n",
       "      <td>80.0</td>\n",
       "      <td>9600</td>\n",
       "      <td>1</td>\n",
       "      <td>1</td>\n",
       "      <td>2</td>\n",
       "      <td>0</td>\n",
       "      <td>1</td>\n",
       "      <td>...</td>\n",
       "      <td>0</td>\n",
       "      <td>0</td>\n",
       "      <td>0</td>\n",
       "      <td>0</td>\n",
       "      <td>1</td>\n",
       "      <td>0</td>\n",
       "      <td>0</td>\n",
       "      <td>0</td>\n",
       "      <td>1</td>\n",
       "      <td>0</td>\n",
       "    </tr>\n",
       "    <tr>\n",
       "      <th>2</th>\n",
       "      <td>3</td>\n",
       "      <td>60</td>\n",
       "      <td>3</td>\n",
       "      <td>68.0</td>\n",
       "      <td>11250</td>\n",
       "      <td>1</td>\n",
       "      <td>2</td>\n",
       "      <td>2</td>\n",
       "      <td>0</td>\n",
       "      <td>1</td>\n",
       "      <td>...</td>\n",
       "      <td>0</td>\n",
       "      <td>0</td>\n",
       "      <td>0</td>\n",
       "      <td>0</td>\n",
       "      <td>1</td>\n",
       "      <td>0</td>\n",
       "      <td>0</td>\n",
       "      <td>0</td>\n",
       "      <td>1</td>\n",
       "      <td>0</td>\n",
       "    </tr>\n",
       "    <tr>\n",
       "      <th>3</th>\n",
       "      <td>4</td>\n",
       "      <td>70</td>\n",
       "      <td>3</td>\n",
       "      <td>60.0</td>\n",
       "      <td>9550</td>\n",
       "      <td>1</td>\n",
       "      <td>2</td>\n",
       "      <td>2</td>\n",
       "      <td>0</td>\n",
       "      <td>1</td>\n",
       "      <td>...</td>\n",
       "      <td>0</td>\n",
       "      <td>0</td>\n",
       "      <td>0</td>\n",
       "      <td>0</td>\n",
       "      <td>1</td>\n",
       "      <td>0</td>\n",
       "      <td>0</td>\n",
       "      <td>0</td>\n",
       "      <td>0</td>\n",
       "      <td>0</td>\n",
       "    </tr>\n",
       "    <tr>\n",
       "      <th>4</th>\n",
       "      <td>5</td>\n",
       "      <td>60</td>\n",
       "      <td>3</td>\n",
       "      <td>84.0</td>\n",
       "      <td>14260</td>\n",
       "      <td>1</td>\n",
       "      <td>2</td>\n",
       "      <td>2</td>\n",
       "      <td>0</td>\n",
       "      <td>1</td>\n",
       "      <td>...</td>\n",
       "      <td>0</td>\n",
       "      <td>0</td>\n",
       "      <td>0</td>\n",
       "      <td>0</td>\n",
       "      <td>1</td>\n",
       "      <td>0</td>\n",
       "      <td>0</td>\n",
       "      <td>0</td>\n",
       "      <td>1</td>\n",
       "      <td>0</td>\n",
       "    </tr>\n",
       "  </tbody>\n",
       "</table>\n",
       "<p>5 rows × 154 columns</p>\n",
       "</div>"
      ],
      "text/plain": [
       "   Id  MSSubClass  MSZoning  LotFrontage  LotArea  Street  LotShape  \\\n",
       "0   1          60         3         65.0     8450       1         1   \n",
       "1   2          55         3         80.0     9600       1         1   \n",
       "2   3          60         3         68.0    11250       1         2   \n",
       "3   4          70         3         60.0     9550       1         2   \n",
       "4   5          60         3         84.0    14260       1         2   \n",
       "\n",
       "   LandContour  Utilities  LotConfig  ...  SaleType_ConLI  SaleType_ConLw  \\\n",
       "0            2          0          1  ...               0               0   \n",
       "1            2          0          1  ...               0               0   \n",
       "2            2          0          1  ...               0               0   \n",
       "3            2          0          1  ...               0               0   \n",
       "4            2          0          1  ...               0               0   \n",
       "\n",
       "   SaleType_New  SaleType_Oth  SaleType_WD  SaleCondition_AdjLand  \\\n",
       "0             0             0            1                      0   \n",
       "1             0             0            1                      0   \n",
       "2             0             0            1                      0   \n",
       "3             0             0            1                      0   \n",
       "4             0             0            1                      0   \n",
       "\n",
       "   SaleCondition_Alloca  SaleCondition_Family  SaleCondition_Normal  \\\n",
       "0                     0                     0                     1   \n",
       "1                     0                     0                     1   \n",
       "2                     0                     0                     1   \n",
       "3                     0                     0                     0   \n",
       "4                     0                     0                     1   \n",
       "\n",
       "   SaleCondition_Partial  \n",
       "0                      0  \n",
       "1                      0  \n",
       "2                      0  \n",
       "3                      0  \n",
       "4                      0  \n",
       "\n",
       "[5 rows x 154 columns]"
      ]
     },
     "execution_count": 142,
     "metadata": {},
     "output_type": "execute_result"
    }
   ],
   "source": [
    "data.head()"
   ]
  },
  {
   "cell_type": "markdown",
   "id": "ea8170fa",
   "metadata": {
    "papermill": {
     "duration": 0.229603,
     "end_time": "2021-11-13T13:45:49.046913",
     "exception": false,
     "start_time": "2021-11-13T13:45:48.817310",
     "status": "completed"
    },
    "tags": []
   },
   "source": [
    "# Data Preprocessing"
   ]
  },
  {
   "cell_type": "code",
   "execution_count": 143,
   "id": "cca85830",
   "metadata": {
    "execution": {
     "iopub.execute_input": "2021-11-13T13:45:49.511081Z",
     "iopub.status.busy": "2021-11-13T13:45:49.510374Z",
     "iopub.status.idle": "2021-11-13T13:45:49.578303Z",
     "shell.execute_reply": "2021-11-13T13:45:49.577228Z",
     "shell.execute_reply.started": "2021-11-13T13:41:28.199634Z"
    },
    "papermill": {
     "duration": 0.303159,
     "end_time": "2021-11-13T13:45:49.578460",
     "exception": false,
     "start_time": "2021-11-13T13:45:49.275301",
     "status": "completed"
    },
    "tags": []
   },
   "outputs": [],
   "source": [
    "from sklearn.model_selection import train_test_split\n",
    "from sklearn.preprocessing import MinMaxScaler\n",
    "\n",
    "def Preprocessing(df, hedef = 'SalePrice', drops = ['Id','SalePrice']):\n",
    "    \n",
    "    y = df[hedef].values\n",
    "    x = df.drop(drops, axis=1)\n",
    "    x_train, x_test, y_train, y_test = train_test_split(x, y, test_size = 0.33, random_state = 18)\n",
    "    \n",
    "    min_max = MinMaxScaler()\n",
    "    \n",
    "    x_train = min_max.fit_transform(x_train)\n",
    "    x_test = min_max.fit_transform(x_test)\n",
    "    \n",
    "    return x_train, x_test, y_train, y_test\n",
    "\n",
    "x_train, x_test, y_train, y_test = Preprocessing(data, hedef = 'SalePrice', drops = ['Id','SalePrice'])"
   ]
  },
  {
   "cell_type": "code",
   "execution_count": 144,
   "id": "a8224106",
   "metadata": {
    "execution": {
     "iopub.execute_input": "2021-11-13T13:45:50.044944Z",
     "iopub.status.busy": "2021-11-13T13:45:50.044377Z",
     "iopub.status.idle": "2021-11-13T13:45:50.047451Z",
     "shell.execute_reply": "2021-11-13T13:45:50.048025Z",
     "shell.execute_reply.started": "2021-11-13T13:41:28.231267Z"
    },
    "papermill": {
     "duration": 0.23967,
     "end_time": "2021-11-13T13:45:50.048205",
     "exception": false,
     "start_time": "2021-11-13T13:45:49.808535",
     "status": "completed"
    },
    "tags": []
   },
   "outputs": [
    {
     "name": "stdout",
     "output_type": "stream",
     "text": [
      "X_train : (1955, 152)\n",
      "X_test : (964, 152)\n",
      "Y_train : (1955,)\n",
      "Y_test : (964,)\n"
     ]
    }
   ],
   "source": [
    "print(f\"X_train : {x_train.shape}\\nX_test : {x_test.shape}\\nY_train : {y_train.shape}\\nY_test : {y_test.shape}\")"
   ]
  },
  {
   "cell_type": "markdown",
   "id": "1b18917a",
   "metadata": {
    "papermill": {
     "duration": 0.232986,
     "end_time": "2021-11-13T13:45:50.511625",
     "exception": false,
     "start_time": "2021-11-13T13:45:50.278639",
     "status": "completed"
    },
    "tags": []
   },
   "source": [
    "# Model"
   ]
  },
  {
   "cell_type": "code",
   "execution_count": 145,
   "id": "6cc200d1",
   "metadata": {
    "execution": {
     "iopub.execute_input": "2021-11-13T13:45:50.978788Z",
     "iopub.status.busy": "2021-11-13T13:45:50.978079Z",
     "iopub.status.idle": "2021-11-13T13:45:54.800180Z",
     "shell.execute_reply": "2021-11-13T13:45:54.799652Z",
     "shell.execute_reply.started": "2021-11-13T13:41:28.239022Z"
    },
    "papermill": {
     "duration": 4.059108,
     "end_time": "2021-11-13T13:45:54.800353",
     "exception": false,
     "start_time": "2021-11-13T13:45:50.741245",
     "status": "completed"
    },
    "tags": []
   },
   "outputs": [
    {
     "data": {
      "text/plain": [
       "['Linear Regression:196710208358.198',\n",
       " 'Lasso:35661.00808541302',\n",
       " 'Ridge:29834.290333037046',\n",
       " 'Easticnet:23719.168609499684',\n",
       " 'RF:22110.97734863933',\n",
       " 'DT:31337.672792003432']"
      ]
     },
     "execution_count": 145,
     "metadata": {},
     "output_type": "execute_result"
    }
   ],
   "source": [
    "from sklearn.linear_model import LinearRegression, Ridge, Lasso, ElasticNet\n",
    "from sklearn.ensemble import RandomForestRegressor\n",
    "from sklearn.tree import DecisionTreeRegressor\n",
    "from sklearn.metrics import mean_squared_error\n",
    "\n",
    "\n",
    "models = [('Linear Regression', LinearRegression()),\n",
    "          ('Lasso', Lasso()),\n",
    "          ('Ridge', Ridge()),\n",
    "          ('Easticnet', ElasticNet()),\n",
    "          ('RF',RandomForestRegressor()),\n",
    "          ('DT',DecisionTreeRegressor())]\n",
    "\n",
    "def Model(data_train,data_test,data_x_test, data_y_test):\n",
    "    \n",
    "    score = []\n",
    "    \n",
    "    for name,model in models:\n",
    "        \n",
    "        data_model = model # Model == linearRegressin() olduğu için direk eşittir model dedik.\n",
    "        \n",
    "        data_model.fit(data_train, data_test)\n",
    "        \n",
    "        y_pred = data_model.predict(data_x_test)\n",
    "        \n",
    "        mse = mean_squared_error(y_pred, data_y_test)\n",
    "        \n",
    "        rmse = np.sqrt(mse)\n",
    "        \n",
    "        score.append((name + \":\" + str(rmse)))        \n",
    "        \n",
    "    return score\n",
    "\n",
    "Model(x_train,y_train,x_test,y_test)"
   ]
  },
  {
   "cell_type": "markdown",
   "id": "c4382bde",
   "metadata": {
    "papermill": {
     "duration": 0.376188,
     "end_time": "2021-11-13T13:45:55.416612",
     "exception": false,
     "start_time": "2021-11-13T13:45:55.040424",
     "status": "completed"
    },
    "tags": []
   },
   "source": [
    "# RF Model"
   ]
  },
  {
   "cell_type": "code",
   "execution_count": 146,
   "id": "49391b05",
   "metadata": {
    "execution": {
     "iopub.execute_input": "2021-11-13T13:45:56.195490Z",
     "iopub.status.busy": "2021-11-13T13:45:56.193652Z",
     "iopub.status.idle": "2021-11-13T13:45:56.196885Z",
     "shell.execute_reply": "2021-11-13T13:45:56.196248Z",
     "shell.execute_reply.started": "2021-11-13T13:41:31.751730Z"
    },
    "papermill": {
     "duration": 0.395839,
     "end_time": "2021-11-13T13:45:56.197054",
     "exception": false,
     "start_time": "2021-11-13T13:45:55.801215",
     "status": "completed"
    },
    "tags": []
   },
   "outputs": [],
   "source": [
    "from sklearn.ensemble import RandomForestRegressor\n",
    "from sklearn.model_selection import GridSearchCV"
   ]
  },
  {
   "cell_type": "code",
   "execution_count": 147,
   "id": "82a652ff",
   "metadata": {
    "execution": {
     "iopub.execute_input": "2021-11-13T13:45:56.714768Z",
     "iopub.status.busy": "2021-11-13T13:45:56.713948Z",
     "iopub.status.idle": "2021-11-13T13:45:59.614876Z",
     "shell.execute_reply": "2021-11-13T13:45:59.614443Z",
     "shell.execute_reply.started": "2021-11-13T13:41:31.757983Z"
    },
    "papermill": {
     "duration": 3.137907,
     "end_time": "2021-11-13T13:45:59.614998",
     "exception": false,
     "start_time": "2021-11-13T13:45:56.477091",
     "status": "completed"
    },
    "tags": []
   },
   "outputs": [
    {
     "data": {
      "text/plain": [
       "RandomForestRegressor()"
      ]
     },
     "execution_count": 147,
     "metadata": {},
     "output_type": "execute_result"
    }
   ],
   "source": [
    "rf_model= RandomForestRegressor()\n",
    "\n",
    "rf_model.fit(x_train,y_train)"
   ]
  },
  {
   "cell_type": "code",
   "execution_count": 148,
   "id": "faf86263",
   "metadata": {
    "execution": {
     "iopub.execute_input": "2021-11-13T13:46:00.092806Z",
     "iopub.status.busy": "2021-11-13T13:46:00.092022Z",
     "iopub.status.idle": "2021-11-13T13:46:00.097162Z",
     "shell.execute_reply": "2021-11-13T13:46:00.097660Z",
     "shell.execute_reply.started": "2021-11-13T13:41:34.667788Z"
    },
    "papermill": {
     "duration": 0.24906,
     "end_time": "2021-11-13T13:46:00.097862",
     "exception": false,
     "start_time": "2021-11-13T13:45:59.848802",
     "status": "completed"
    },
    "tags": []
   },
   "outputs": [],
   "source": [
    "def Model_Tuning(df,x,y,params,cv):\n",
    "    \n",
    "    grid_cv = GridSearchCV(estimator = rf_model, param_grid = params, cv=cv)\n",
    "    \n",
    "    grid_cv.fit(x,y)\n",
    "    \n",
    "    return grid_cv.best_params_\n",
    "\n",
    "rf_params = {'max_depth':np.arange(0,10),\n",
    "            'max_features':np.arange(0.10,5),\n",
    "            'n_estimators':[100,200,500,1000,2000]}\n",
    "\n",
    "\n",
    "#Model_Tuning(data, x = x_train, y = y_train, params = rf_params, cv=10)"
   ]
  },
  {
   "cell_type": "code",
   "execution_count": 149,
   "id": "82eaeaa3",
   "metadata": {
    "execution": {
     "iopub.execute_input": "2021-11-13T13:46:00.575313Z",
     "iopub.status.busy": "2021-11-13T13:46:00.574482Z",
     "iopub.status.idle": "2021-11-13T13:46:04.112019Z",
     "shell.execute_reply": "2021-11-13T13:46:04.112838Z",
     "shell.execute_reply.started": "2021-11-13T13:41:34.675373Z"
    },
    "papermill": {
     "duration": 3.78043,
     "end_time": "2021-11-13T13:46:04.113090",
     "exception": false,
     "start_time": "2021-11-13T13:46:00.332660",
     "status": "completed"
    },
    "tags": []
   },
   "outputs": [
    {
     "name": "stdout",
     "output_type": "stream",
     "text": [
      "21910.423723831154\n"
     ]
    }
   ],
   "source": [
    "def RfTuned(df,max_depth, max_features,n_estimators):\n",
    "    \n",
    "    rf_tuned = RandomForestRegressor(max_depth = max_depth, max_features = max_features, n_estimators = n_estimators)\n",
    "    \n",
    "    rf_tuned.fit(x_train,y_train)\n",
    "    \n",
    "    y_pred = rf_tuned.predict(x_test)\n",
    "    \n",
    "    mean_score = mean_squared_error(y_test,y_pred)\n",
    "    \n",
    "    print(np.sqrt(mean_score))\n",
    "    \n",
    "    return rf_tuned\n",
    "\n",
    "rf_tuned = RfTuned(data, max_depth = 9, max_features = 0.1, n_estimators = 1000)"
   ]
  },
  {
   "cell_type": "code",
   "execution_count": 150,
   "id": "4f3e1857",
   "metadata": {
    "execution": {
     "iopub.execute_input": "2021-11-13T13:46:04.877442Z",
     "iopub.status.busy": "2021-11-13T13:46:04.876558Z",
     "iopub.status.idle": "2021-11-13T13:46:05.088147Z",
     "shell.execute_reply": "2021-11-13T13:46:05.088587Z",
     "shell.execute_reply.started": "2021-11-13T13:41:38.176921Z"
    },
    "papermill": {
     "duration": 0.559784,
     "end_time": "2021-11-13T13:46:05.088748",
     "exception": false,
     "start_time": "2021-11-13T13:46:04.528964",
     "status": "completed"
    },
    "tags": []
   },
   "outputs": [],
   "source": [
    "submission = pd.DataFrame({'Id':test['Id'],'SalePrice':rf_tuned.predict(x_train[0:1459])})"
   ]
  },
  {
   "cell_type": "code",
   "execution_count": 151,
   "id": "1f5abcb7",
   "metadata": {
    "execution": {
     "iopub.execute_input": "2021-11-13T13:46:05.621245Z",
     "iopub.status.busy": "2021-11-13T13:46:05.620465Z",
     "iopub.status.idle": "2021-11-13T13:46:05.623596Z",
     "shell.execute_reply": "2021-11-13T13:46:05.624193Z",
     "shell.execute_reply.started": "2021-11-13T13:41:38.359755Z"
    },
    "papermill": {
     "duration": 0.277804,
     "end_time": "2021-11-13T13:46:05.624381",
     "exception": false,
     "start_time": "2021-11-13T13:46:05.346577",
     "status": "completed"
    },
    "tags": []
   },
   "outputs": [
    {
     "data": {
      "text/html": [
       "<div>\n",
       "<style scoped>\n",
       "    .dataframe tbody tr th:only-of-type {\n",
       "        vertical-align: middle;\n",
       "    }\n",
       "\n",
       "    .dataframe tbody tr th {\n",
       "        vertical-align: top;\n",
       "    }\n",
       "\n",
       "    .dataframe thead th {\n",
       "        text-align: right;\n",
       "    }\n",
       "</style>\n",
       "<table border=\"1\" class=\"dataframe\">\n",
       "  <thead>\n",
       "    <tr style=\"text-align: right;\">\n",
       "      <th></th>\n",
       "      <th>Id</th>\n",
       "      <th>SalePrice</th>\n",
       "    </tr>\n",
       "  </thead>\n",
       "  <tbody>\n",
       "    <tr>\n",
       "      <th>0</th>\n",
       "      <td>1461</td>\n",
       "      <td>172266.011173</td>\n",
       "    </tr>\n",
       "    <tr>\n",
       "      <th>1</th>\n",
       "      <td>1462</td>\n",
       "      <td>139657.939414</td>\n",
       "    </tr>\n",
       "    <tr>\n",
       "      <th>2</th>\n",
       "      <td>1463</td>\n",
       "      <td>160036.835991</td>\n",
       "    </tr>\n",
       "    <tr>\n",
       "      <th>3</th>\n",
       "      <td>1464</td>\n",
       "      <td>161253.056377</td>\n",
       "    </tr>\n",
       "    <tr>\n",
       "      <th>4</th>\n",
       "      <td>1465</td>\n",
       "      <td>110315.391005</td>\n",
       "    </tr>\n",
       "    <tr>\n",
       "      <th>...</th>\n",
       "      <td>...</td>\n",
       "      <td>...</td>\n",
       "    </tr>\n",
       "    <tr>\n",
       "      <th>1454</th>\n",
       "      <td>2915</td>\n",
       "      <td>122407.044870</td>\n",
       "    </tr>\n",
       "    <tr>\n",
       "      <th>1455</th>\n",
       "      <td>2916</td>\n",
       "      <td>162193.411974</td>\n",
       "    </tr>\n",
       "    <tr>\n",
       "      <th>1456</th>\n",
       "      <td>2917</td>\n",
       "      <td>141047.679737</td>\n",
       "    </tr>\n",
       "    <tr>\n",
       "      <th>1457</th>\n",
       "      <td>2918</td>\n",
       "      <td>120315.039028</td>\n",
       "    </tr>\n",
       "    <tr>\n",
       "      <th>1458</th>\n",
       "      <td>2919</td>\n",
       "      <td>171298.143951</td>\n",
       "    </tr>\n",
       "  </tbody>\n",
       "</table>\n",
       "<p>1459 rows × 2 columns</p>\n",
       "</div>"
      ],
      "text/plain": [
       "        Id      SalePrice\n",
       "0     1461  172266.011173\n",
       "1     1462  139657.939414\n",
       "2     1463  160036.835991\n",
       "3     1464  161253.056377\n",
       "4     1465  110315.391005\n",
       "...    ...            ...\n",
       "1454  2915  122407.044870\n",
       "1455  2916  162193.411974\n",
       "1456  2917  141047.679737\n",
       "1457  2918  120315.039028\n",
       "1458  2919  171298.143951\n",
       "\n",
       "[1459 rows x 2 columns]"
      ]
     },
     "execution_count": 151,
     "metadata": {},
     "output_type": "execute_result"
    }
   ],
   "source": [
    "submission"
   ]
  },
  {
   "cell_type": "code",
   "execution_count": 152,
   "id": "f37dc321",
   "metadata": {
    "execution": {
     "iopub.execute_input": "2021-11-13T13:46:06.148450Z",
     "iopub.status.busy": "2021-11-13T13:46:06.147572Z",
     "iopub.status.idle": "2021-11-13T13:46:06.151940Z",
     "shell.execute_reply": "2021-11-13T13:46:06.151312Z",
     "shell.execute_reply.started": "2021-11-13T13:41:38.390176Z"
    },
    "papermill": {
     "duration": 0.265297,
     "end_time": "2021-11-13T13:46:06.152065",
     "exception": false,
     "start_time": "2021-11-13T13:46:05.886768",
     "status": "completed"
    },
    "tags": []
   },
   "outputs": [
    {
     "data": {
      "text/html": [
       "Path (<tt>submission.csv</tt>) doesn't exist. It may still be in the process of being generated, or you may have the incorrect path."
      ],
      "text/plain": [
       "/kaggle/working/submission.csv"
      ]
     },
     "execution_count": 152,
     "metadata": {},
     "output_type": "execute_result"
    }
   ],
   "source": [
    "from IPython.display import FileLink\n",
    "\n",
    "FileLink('submission.csv')"
   ]
  }
 ],
 "metadata": {
  "kernelspec": {
   "display_name": "Python 3",
   "language": "python",
   "name": "python3"
  },
  "language_info": {
   "codemirror_mode": {
    "name": "ipython",
    "version": 3
   },
   "file_extension": ".py",
   "mimetype": "text/x-python",
   "name": "python",
   "nbconvert_exporter": "python",
   "pygments_lexer": "ipython3",
   "version": "3.7.10"
  },
  "papermill": {
   "default_parameters": {},
   "duration": 133.316742,
   "end_time": "2021-11-13T13:46:06.999313",
   "environment_variables": {},
   "exception": null,
   "input_path": "__notebook__.ipynb",
   "output_path": "__notebook__.ipynb",
   "parameters": {},
   "start_time": "2021-11-13T13:43:53.682571",
   "version": "2.3.3"
  }
 },
 "nbformat": 4,
 "nbformat_minor": 5
}
